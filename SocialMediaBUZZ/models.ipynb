{
  "nbformat": 4,
  "nbformat_minor": 0,
  "metadata": {
    "colab": {
      "name": "models.ipynb",
      "version": "0.3.2",
      "provenance": [],
      "collapsed_sections": [
        "RvTcd_E1HdFj",
        "q_4gpavVHicr",
        "QN6SyHQ8FBXl",
        "623SMRfKDw9l",
        "wqT9AHn4EEgi",
        "eDHI2rAdEJnx",
        "SAKxiApNFJZl",
        "v-5srReCFdpp",
        "mU_Tz4kZFF28",
        "MXbqlSTxeu1O",
        "IvNhwSA6sCmW",
        "0NIvfOtVWmfN",
        "63Qtnys6HHWK",
        "VcHWrShBGyJm",
        "qritQrBHNpY_",
        "IbW95n6SNtSn",
        "cx1H9gMUKetB"
      ],
      "include_colab_link": true
    },
    "kernelspec": {
      "name": "python3",
      "display_name": "Python 3"
    },
    "accelerator": "GPU"
  },
  "cells": [
    {
      "cell_type": "markdown",
      "metadata": {
        "id": "view-in-github",
        "colab_type": "text"
      },
      "source": [
        "<a href=\"https://colab.research.google.com/github/Dianna22/ML/blob/master/SocialMediaBUZZ/models.ipynb\" target=\"_parent\"><img src=\"https://colab.research.google.com/assets/colab-badge.svg\" alt=\"Open In Colab\"/></a>"
      ]
    },
    {
      "metadata": {
        "id": "tngY5_bxIhPY",
        "colab_type": "code",
        "outputId": "04dfdb51-402a-47db-b376-39937ce69ffc",
        "colab": {
          "base_uri": "https://localhost:8080/",
          "height": 377
        }
      },
      "cell_type": "code",
      "source": [
        "# !pip install parfit"
      ],
      "execution_count": 0,
      "outputs": [
        {
          "output_type": "stream",
          "text": [
            "Collecting parfit\n",
            "  Downloading https://files.pythonhosted.org/packages/08/60/8090b25f914c91914e8bb5c87819bfe52cead06b6d1a557f20afbe62c1ec/parfit-0.220.tar.gz\n",
            "Requirement already satisfied: joblib in /usr/local/lib/python3.6/dist-packages (from parfit) (0.12.5)\n",
            "Requirement already satisfied: matplotlib in /usr/local/lib/python3.6/dist-packages (from parfit) (3.0.3)\n",
            "Requirement already satisfied: sklearn in /usr/local/lib/python3.6/dist-packages (from parfit) (0.0)\n",
            "Requirement already satisfied: numpy in /usr/local/lib/python3.6/dist-packages (from parfit) (1.14.6)\n",
            "Requirement already satisfied: kiwisolver>=1.0.1 in /usr/local/lib/python3.6/dist-packages (from matplotlib->parfit) (1.0.1)\n",
            "Requirement already satisfied: cycler>=0.10 in /usr/local/lib/python3.6/dist-packages (from matplotlib->parfit) (0.10.0)\n",
            "Requirement already satisfied: python-dateutil>=2.1 in /usr/local/lib/python3.6/dist-packages (from matplotlib->parfit) (2.5.3)\n",
            "Requirement already satisfied: pyparsing!=2.0.4,!=2.1.2,!=2.1.6,>=2.0.1 in /usr/local/lib/python3.6/dist-packages (from matplotlib->parfit) (2.4.0)\n",
            "Requirement already satisfied: scikit-learn in /usr/local/lib/python3.6/dist-packages (from sklearn->parfit) (0.20.3)\n",
            "Requirement already satisfied: setuptools in /usr/local/lib/python3.6/dist-packages (from kiwisolver>=1.0.1->matplotlib->parfit) (40.9.0)\n",
            "Requirement already satisfied: six in /usr/local/lib/python3.6/dist-packages (from cycler>=0.10->matplotlib->parfit) (1.11.0)\n",
            "Requirement already satisfied: scipy>=0.13.3 in /usr/local/lib/python3.6/dist-packages (from scikit-learn->sklearn->parfit) (1.1.0)\n",
            "Building wheels for collected packages: parfit\n",
            "  Building wheel for parfit (setup.py) ... \u001b[?25ldone\n",
            "\u001b[?25h  Stored in directory: /root/.cache/pip/wheels/d9/8a/c9/ed86e85ad0cb41ce2fdcb6bc215902dc475bd3fb1fef7c742d\n",
            "Successfully built parfit\n",
            "Installing collected packages: parfit\n",
            "Successfully installed parfit-0.220\n"
          ],
          "name": "stdout"
        }
      ]
    },
    {
      "metadata": {
        "id": "KxoGyvhx3x33",
        "colab_type": "code",
        "colab": {}
      },
      "cell_type": "code",
      "source": [
        "import pandas as pd\n",
        "import numpy as np\n",
        "from sklearn.preprocessing import normalize\n",
        "from sklearn.metrics import f1_score, auc, accuracy_score, confusion_matrix, precision_score, balanced_accuracy_score, recall_score, roc_auc_score, roc_curve\n",
        "from sklearn import tree, metrics\n",
        "from sklearn.model_selection import KFold\n",
        "from sklearn.model_selection import train_test_split\n",
        "\n",
        "import matplotlib.pyplot as plt\n",
        "\n",
        "\n",
        "from sklearn.svm import *\n",
        "from sklearn.model_selection import GridSearchCV\n",
        "from sklearn.preprocessing import MinMaxScaler, StandardScaler, RobustScaler"
      ],
      "execution_count": 0,
      "outputs": []
    },
    {
      "metadata": {
        "id": "sOdwARku4G65",
        "colab_type": "code",
        "outputId": "8c20a8e1-efad-41d9-ce42-ff5fb183ae02",
        "colab": {
          "base_uri": "https://localhost:8080/",
          "height": 122
        }
      },
      "cell_type": "code",
      "source": [
        "from google.colab import drive\n",
        "drive.mount('/content/gdrive')"
      ],
      "execution_count": 3,
      "outputs": [
        {
          "output_type": "stream",
          "text": [
            "Go to this URL in a browser: https://accounts.google.com/o/oauth2/auth?client_id=947318989803-6bn6qk8qdgf4n4g3pfee6491hc0brc4i.apps.googleusercontent.com&redirect_uri=urn%3Aietf%3Awg%3Aoauth%3A2.0%3Aoob&scope=email%20https%3A%2F%2Fwww.googleapis.com%2Fauth%2Fdocs.test%20https%3A%2F%2Fwww.googleapis.com%2Fauth%2Fdrive%20https%3A%2F%2Fwww.googleapis.com%2Fauth%2Fdrive.photos.readonly%20https%3A%2F%2Fwww.googleapis.com%2Fauth%2Fpeopleapi.readonly&response_type=code\n",
            "\n",
            "Enter your authorization code:\n",
            "··········\n",
            "Mounted at /content/gdrive\n"
          ],
          "name": "stdout"
        }
      ]
    },
    {
      "metadata": {
        "id": "RvTcd_E1HdFj",
        "colab_type": "text"
      },
      "cell_type": "markdown",
      "source": [
        "##### Load datasets"
      ]
    },
    {
      "metadata": {
        "id": "NK1_rUue4HFF",
        "colab_type": "code",
        "colab": {}
      },
      "cell_type": "code",
      "source": [
        "PATH_PREFIX = '/content/gdrive/My Drive/ML/'"
      ],
      "execution_count": 0,
      "outputs": []
    },
    {
      "metadata": {
        "id": "ABQnKUUm8FEf",
        "colab_type": "code",
        "colab": {}
      },
      "cell_type": "code",
      "source": [
        "TWITTER_RELATIVE_500 = PATH_PREFIX + \"data/Twitter-Relative-Sigma-500.data\""
      ],
      "execution_count": 0,
      "outputs": []
    },
    {
      "metadata": {
        "id": "JTbSn-Qu3xzH",
        "colab_type": "code",
        "colab": {}
      },
      "cell_type": "code",
      "source": [
        "def load_dataset(path):\n",
        "\tdata = pd.read_csv(path)\n",
        "\treturn data[data.columns[:-1]], data[data.columns[-1]]"
      ],
      "execution_count": 0,
      "outputs": []
    },
    {
      "metadata": {
        "id": "CiQIJkim8FyX",
        "colab_type": "code",
        "colab": {}
      },
      "cell_type": "code",
      "source": [
        "data_X, data_Y = load_dataset(TWITTER_RELATIVE_500)"
      ],
      "execution_count": 0,
      "outputs": []
    },
    {
      "metadata": {
        "id": "iOJal6zlrLLi",
        "colab_type": "code",
        "colab": {}
      },
      "cell_type": "code",
      "source": [
        "data_X = data_X.astype(float)"
      ],
      "execution_count": 0,
      "outputs": []
    },
    {
      "metadata": {
        "id": "a3p2noUDj-DD",
        "colab_type": "code",
        "colab": {}
      },
      "cell_type": "code",
      "source": [
        "X_train, X_test, Y_train, Y_test = train_test_split(data_X, data_Y, test_size=0.2, random_state=1)\n",
        "# X_train, X_val, Y_train, Y_val = train_test_split(X_train, Y_train, test_size=0.2, random_state=1)"
      ],
      "execution_count": 0,
      "outputs": []
    },
    {
      "metadata": {
        "id": "689x4lMqkkGY",
        "colab_type": "code",
        "colab": {}
      },
      "cell_type": "code",
      "source": [
        ""
      ],
      "execution_count": 0,
      "outputs": []
    },
    {
      "metadata": {
        "id": "gvIylfCYkgQf",
        "colab_type": "code",
        "colab": {}
      },
      "cell_type": "code",
      "source": [
        ""
      ],
      "execution_count": 0,
      "outputs": []
    },
    {
      "metadata": {
        "id": "HfzAQnjb3x1f",
        "colab_type": "code",
        "colab": {}
      },
      "cell_type": "code",
      "source": [
        "TWITTER_TRAIN = PATH_PREFIX + \"data/train_500\"\n",
        "TWITTER_TEST = PATH_PREFIX + \"data/test_500\"\n",
        "TWITTER_VAL = PATH_PREFIX + \"data/val_500\""
      ],
      "execution_count": 0,
      "outputs": []
    },
    {
      "metadata": {
        "id": "p2o1AZ-9RfZz",
        "colab_type": "code",
        "outputId": "59f7f426-a683-4024-b50f-fe06f8df081d",
        "colab": {
          "base_uri": "https://localhost:8080/",
          "height": 34
        }
      },
      "cell_type": "code",
      "source": [
        "print(np.shape(data_X))"
      ],
      "execution_count": 0,
      "outputs": [
        {
          "output_type": "stream",
          "text": [
            "(140707, 77)\n"
          ],
          "name": "stdout"
        }
      ]
    },
    {
      "metadata": {
        "id": "uTfiex223xwz",
        "colab_type": "code",
        "colab": {}
      },
      "cell_type": "code",
      "source": [
        "X_train, Y_train = load_dataset(TWITTER_TRAIN)\n",
        "X_val, Y_val = load_dataset(TWITTER_VAL)\n",
        "X_test, Y_test = load_dataset(TWITTER_TEST)"
      ],
      "execution_count": 0,
      "outputs": []
    },
    {
      "metadata": {
        "id": "3Zl6Yb_L3xua",
        "colab_type": "code",
        "outputId": "cc68fc2c-99bb-4afb-fddb-047e76a7a5ca",
        "colab": {
          "base_uri": "https://localhost:8080/",
          "height": 72
        }
      },
      "cell_type": "code",
      "source": [
        "print(Y_train.value_counts()[0]/Y_train.value_counts()[1])\n",
        "print(Y_val.value_counts()[0]/Y_val.value_counts()[1])\n",
        "print(Y_test.value_counts()[0]/Y_test.value_counts()[1])"
      ],
      "execution_count": 0,
      "outputs": [
        {
          "output_type": "stream",
          "text": [
            "37.076955602537\n",
            "38.15304347826087\n",
            "40.38529411764706\n"
          ],
          "name": "stdout"
        }
      ]
    },
    {
      "metadata": {
        "id": "q_4gpavVHicr",
        "colab_type": "text"
      },
      "cell_type": "markdown",
      "source": [
        "#### Normalization"
      ]
    },
    {
      "metadata": {
        "id": "_krL2XGxJG0O",
        "colab_type": "text"
      },
      "cell_type": "markdown",
      "source": [
        "##### Min-max normalization"
      ]
    },
    {
      "metadata": {
        "id": "P54bFCWqM7Kn",
        "colab_type": "text"
      },
      "cell_type": "markdown",
      "source": [
        "\n",
        "\n",
        "```\n",
        "# TODO normalization per feature vector (11)\n",
        "```\n"
      ]
    },
    {
      "metadata": {
        "id": "Gd5WGRCJ3pxi",
        "colab_type": "code",
        "colab": {}
      },
      "cell_type": "code",
      "source": [
        "norm_X_train = normalize(X_train, axis=0, norm='max')\n",
        "norm_X_val = normalize(X_val, axis=0, norm='max')\n",
        "norm_X_test = normalize(X_test, axis=0, norm='max')"
      ],
      "execution_count": 0,
      "outputs": []
    },
    {
      "metadata": {
        "id": "FA5-P5rHKEGy",
        "colab_type": "code",
        "outputId": "25dc85c5-bffb-463c-ace5-b18f383ca8c2",
        "colab": {
          "base_uri": "https://localhost:8080/",
          "height": 346
        }
      },
      "cell_type": "code",
      "source": [
        "pd.DataFrame(X_train).describe()"
      ],
      "execution_count": 0,
      "outputs": [
        {
          "output_type": "execute_result",
          "data": {
            "text/html": [
              "<div>\n",
              "<style scoped>\n",
              "    .dataframe tbody tr th:only-of-type {\n",
              "        vertical-align: middle;\n",
              "    }\n",
              "\n",
              "    .dataframe tbody tr th {\n",
              "        vertical-align: top;\n",
              "    }\n",
              "\n",
              "    .dataframe thead th {\n",
              "        text-align: right;\n",
              "    }\n",
              "</style>\n",
              "<table border=\"1\" class=\"dataframe\">\n",
              "  <thead>\n",
              "    <tr style=\"text-align: right;\">\n",
              "      <th></th>\n",
              "      <th>Unnamed: 0</th>\n",
              "      <th>NCD_0</th>\n",
              "      <th>NCD_1</th>\n",
              "      <th>NCD_2</th>\n",
              "      <th>NCD_3</th>\n",
              "      <th>NCD_4</th>\n",
              "      <th>NCD_5</th>\n",
              "      <th>NCD_6</th>\n",
              "      <th>AI_0</th>\n",
              "      <th>AI_1</th>\n",
              "      <th>...</th>\n",
              "      <th>ADL_4</th>\n",
              "      <th>ADL_5</th>\n",
              "      <th>ADL_6</th>\n",
              "      <th>NAD_0</th>\n",
              "      <th>NAD_1</th>\n",
              "      <th>NAD_2</th>\n",
              "      <th>NAD_3</th>\n",
              "      <th>NAD_4</th>\n",
              "      <th>NAD_5</th>\n",
              "      <th>NAD_6</th>\n",
              "    </tr>\n",
              "  </thead>\n",
              "  <tbody>\n",
              "    <tr>\n",
              "      <th>count</th>\n",
              "      <td>90052.000000</td>\n",
              "      <td>90052.000000</td>\n",
              "      <td>90052.000000</td>\n",
              "      <td>90052.000000</td>\n",
              "      <td>90052.000000</td>\n",
              "      <td>90052.000000</td>\n",
              "      <td>90052.00000</td>\n",
              "      <td>90052.000000</td>\n",
              "      <td>90052.000000</td>\n",
              "      <td>90052.000000</td>\n",
              "      <td>...</td>\n",
              "      <td>90052.000000</td>\n",
              "      <td>90052.000000</td>\n",
              "      <td>90052.000000</td>\n",
              "      <td>90052.000000</td>\n",
              "      <td>90052.000000</td>\n",
              "      <td>90052.000000</td>\n",
              "      <td>90052.000000</td>\n",
              "      <td>90052.000000</td>\n",
              "      <td>90052.000000</td>\n",
              "      <td>90052.000000</td>\n",
              "    </tr>\n",
              "    <tr>\n",
              "      <th>mean</th>\n",
              "      <td>70314.643695</td>\n",
              "      <td>171.771998</td>\n",
              "      <td>154.786135</td>\n",
              "      <td>164.797495</td>\n",
              "      <td>176.272021</td>\n",
              "      <td>186.467341</td>\n",
              "      <td>215.67742</td>\n",
              "      <td>243.088116</td>\n",
              "      <td>87.067872</td>\n",
              "      <td>78.694277</td>\n",
              "      <td>...</td>\n",
              "      <td>1.038297</td>\n",
              "      <td>1.110372</td>\n",
              "      <td>1.193454</td>\n",
              "      <td>172.330409</td>\n",
              "      <td>155.265746</td>\n",
              "      <td>165.268811</td>\n",
              "      <td>176.761749</td>\n",
              "      <td>186.993370</td>\n",
              "      <td>216.244992</td>\n",
              "      <td>243.701006</td>\n",
              "    </tr>\n",
              "    <tr>\n",
              "      <th>std</th>\n",
              "      <td>40590.715924</td>\n",
              "      <td>506.384320</td>\n",
              "      <td>468.363139</td>\n",
              "      <td>488.062360</td>\n",
              "      <td>522.865411</td>\n",
              "      <td>552.952547</td>\n",
              "      <td>626.37990</td>\n",
              "      <td>693.477620</td>\n",
              "      <td>235.195493</td>\n",
              "      <td>217.696152</td>\n",
              "      <td>...</td>\n",
              "      <td>1.314246</td>\n",
              "      <td>1.302927</td>\n",
              "      <td>1.583025</td>\n",
              "      <td>507.476487</td>\n",
              "      <td>469.249856</td>\n",
              "      <td>488.921779</td>\n",
              "      <td>523.796168</td>\n",
              "      <td>553.953944</td>\n",
              "      <td>627.412913</td>\n",
              "      <td>694.531571</td>\n",
              "    </tr>\n",
              "    <tr>\n",
              "      <th>min</th>\n",
              "      <td>3.000000</td>\n",
              "      <td>0.000000</td>\n",
              "      <td>0.000000</td>\n",
              "      <td>0.000000</td>\n",
              "      <td>0.000000</td>\n",
              "      <td>0.000000</td>\n",
              "      <td>0.00000</td>\n",
              "      <td>0.000000</td>\n",
              "      <td>0.000000</td>\n",
              "      <td>0.000000</td>\n",
              "      <td>...</td>\n",
              "      <td>0.000000</td>\n",
              "      <td>0.000000</td>\n",
              "      <td>0.000000</td>\n",
              "      <td>0.000000</td>\n",
              "      <td>0.000000</td>\n",
              "      <td>0.000000</td>\n",
              "      <td>0.000000</td>\n",
              "      <td>0.000000</td>\n",
              "      <td>0.000000</td>\n",
              "      <td>0.000000</td>\n",
              "    </tr>\n",
              "    <tr>\n",
              "      <th>25%</th>\n",
              "      <td>35112.750000</td>\n",
              "      <td>3.000000</td>\n",
              "      <td>2.000000</td>\n",
              "      <td>3.000000</td>\n",
              "      <td>3.000000</td>\n",
              "      <td>3.000000</td>\n",
              "      <td>4.00000</td>\n",
              "      <td>6.000000</td>\n",
              "      <td>2.000000</td>\n",
              "      <td>2.000000</td>\n",
              "      <td>...</td>\n",
              "      <td>1.000000</td>\n",
              "      <td>1.000000</td>\n",
              "      <td>1.000000</td>\n",
              "      <td>3.000000</td>\n",
              "      <td>2.000000</td>\n",
              "      <td>3.000000</td>\n",
              "      <td>3.000000</td>\n",
              "      <td>3.000000</td>\n",
              "      <td>4.000000</td>\n",
              "      <td>6.000000</td>\n",
              "    </tr>\n",
              "    <tr>\n",
              "      <th>50%</th>\n",
              "      <td>70403.500000</td>\n",
              "      <td>22.000000</td>\n",
              "      <td>19.000000</td>\n",
              "      <td>21.000000</td>\n",
              "      <td>22.000000</td>\n",
              "      <td>23.000000</td>\n",
              "      <td>28.00000</td>\n",
              "      <td>33.000000</td>\n",
              "      <td>13.000000</td>\n",
              "      <td>11.000000</td>\n",
              "      <td>...</td>\n",
              "      <td>1.000000</td>\n",
              "      <td>1.000000</td>\n",
              "      <td>1.000000</td>\n",
              "      <td>22.000000</td>\n",
              "      <td>19.000000</td>\n",
              "      <td>21.000000</td>\n",
              "      <td>22.000000</td>\n",
              "      <td>23.000000</td>\n",
              "      <td>29.000000</td>\n",
              "      <td>33.000000</td>\n",
              "    </tr>\n",
              "    <tr>\n",
              "      <th>75%</th>\n",
              "      <td>105457.250000</td>\n",
              "      <td>125.000000</td>\n",
              "      <td>112.000000</td>\n",
              "      <td>119.000000</td>\n",
              "      <td>126.000000</td>\n",
              "      <td>133.000000</td>\n",
              "      <td>161.00000</td>\n",
              "      <td>186.000000</td>\n",
              "      <td>70.000000</td>\n",
              "      <td>64.000000</td>\n",
              "      <td>...</td>\n",
              "      <td>1.083333</td>\n",
              "      <td>1.100021</td>\n",
              "      <td>1.118081</td>\n",
              "      <td>125.000000</td>\n",
              "      <td>113.000000</td>\n",
              "      <td>120.000000</td>\n",
              "      <td>126.000000</td>\n",
              "      <td>133.000000</td>\n",
              "      <td>162.000000</td>\n",
              "      <td>187.000000</td>\n",
              "    </tr>\n",
              "    <tr>\n",
              "      <th>max</th>\n",
              "      <td>140706.000000</td>\n",
              "      <td>24210.000000</td>\n",
              "      <td>22899.000000</td>\n",
              "      <td>20015.000000</td>\n",
              "      <td>27007.000000</td>\n",
              "      <td>30957.000000</td>\n",
              "      <td>28603.00000</td>\n",
              "      <td>27449.000000</td>\n",
              "      <td>10170.000000</td>\n",
              "      <td>10036.000000</td>\n",
              "      <td>...</td>\n",
              "      <td>273.000000</td>\n",
              "      <td>181.000000</td>\n",
              "      <td>239.000000</td>\n",
              "      <td>24301.000000</td>\n",
              "      <td>22980.000000</td>\n",
              "      <td>20083.000000</td>\n",
              "      <td>27071.000000</td>\n",
              "      <td>31028.000000</td>\n",
              "      <td>28697.000000</td>\n",
              "      <td>27557.000000</td>\n",
              "    </tr>\n",
              "  </tbody>\n",
              "</table>\n",
              "<p>8 rows × 78 columns</p>\n",
              "</div>"
            ],
            "text/plain": [
              "          Unnamed: 0         NCD_0         NCD_1         NCD_2         NCD_3  \\\n",
              "count   90052.000000  90052.000000  90052.000000  90052.000000  90052.000000   \n",
              "mean    70314.643695    171.771998    154.786135    164.797495    176.272021   \n",
              "std     40590.715924    506.384320    468.363139    488.062360    522.865411   \n",
              "min         3.000000      0.000000      0.000000      0.000000      0.000000   \n",
              "25%     35112.750000      3.000000      2.000000      3.000000      3.000000   \n",
              "50%     70403.500000     22.000000     19.000000     21.000000     22.000000   \n",
              "75%    105457.250000    125.000000    112.000000    119.000000    126.000000   \n",
              "max    140706.000000  24210.000000  22899.000000  20015.000000  27007.000000   \n",
              "\n",
              "              NCD_4        NCD_5         NCD_6          AI_0          AI_1  \\\n",
              "count  90052.000000  90052.00000  90052.000000  90052.000000  90052.000000   \n",
              "mean     186.467341    215.67742    243.088116     87.067872     78.694277   \n",
              "std      552.952547    626.37990    693.477620    235.195493    217.696152   \n",
              "min        0.000000      0.00000      0.000000      0.000000      0.000000   \n",
              "25%        3.000000      4.00000      6.000000      2.000000      2.000000   \n",
              "50%       23.000000     28.00000     33.000000     13.000000     11.000000   \n",
              "75%      133.000000    161.00000    186.000000     70.000000     64.000000   \n",
              "max    30957.000000  28603.00000  27449.000000  10170.000000  10036.000000   \n",
              "\n",
              "           ...              ADL_4         ADL_5         ADL_6         NAD_0  \\\n",
              "count      ...       90052.000000  90052.000000  90052.000000  90052.000000   \n",
              "mean       ...           1.038297      1.110372      1.193454    172.330409   \n",
              "std        ...           1.314246      1.302927      1.583025    507.476487   \n",
              "min        ...           0.000000      0.000000      0.000000      0.000000   \n",
              "25%        ...           1.000000      1.000000      1.000000      3.000000   \n",
              "50%        ...           1.000000      1.000000      1.000000     22.000000   \n",
              "75%        ...           1.083333      1.100021      1.118081    125.000000   \n",
              "max        ...         273.000000    181.000000    239.000000  24301.000000   \n",
              "\n",
              "              NAD_1         NAD_2         NAD_3         NAD_4         NAD_5  \\\n",
              "count  90052.000000  90052.000000  90052.000000  90052.000000  90052.000000   \n",
              "mean     155.265746    165.268811    176.761749    186.993370    216.244992   \n",
              "std      469.249856    488.921779    523.796168    553.953944    627.412913   \n",
              "min        0.000000      0.000000      0.000000      0.000000      0.000000   \n",
              "25%        2.000000      3.000000      3.000000      3.000000      4.000000   \n",
              "50%       19.000000     21.000000     22.000000     23.000000     29.000000   \n",
              "75%      113.000000    120.000000    126.000000    133.000000    162.000000   \n",
              "max    22980.000000  20083.000000  27071.000000  31028.000000  28697.000000   \n",
              "\n",
              "              NAD_6  \n",
              "count  90052.000000  \n",
              "mean     243.701006  \n",
              "std      694.531571  \n",
              "min        0.000000  \n",
              "25%        6.000000  \n",
              "50%       33.000000  \n",
              "75%      187.000000  \n",
              "max    27557.000000  \n",
              "\n",
              "[8 rows x 78 columns]"
            ]
          },
          "metadata": {
            "tags": []
          },
          "execution_count": 19
        }
      ]
    },
    {
      "metadata": {
        "id": "oJgTV9KVKioF",
        "colab_type": "code",
        "outputId": "9f07cf32-86f2-4a50-ff13-0e1a521b93b2",
        "colab": {
          "base_uri": "https://localhost:8080/",
          "height": 346
        }
      },
      "cell_type": "code",
      "source": [
        "pd.DataFrame(norm_X_train).describe()"
      ],
      "execution_count": 0,
      "outputs": [
        {
          "output_type": "execute_result",
          "data": {
            "text/html": [
              "<div>\n",
              "<style scoped>\n",
              "    .dataframe tbody tr th:only-of-type {\n",
              "        vertical-align: middle;\n",
              "    }\n",
              "\n",
              "    .dataframe tbody tr th {\n",
              "        vertical-align: top;\n",
              "    }\n",
              "\n",
              "    .dataframe thead th {\n",
              "        text-align: right;\n",
              "    }\n",
              "</style>\n",
              "<table border=\"1\" class=\"dataframe\">\n",
              "  <thead>\n",
              "    <tr style=\"text-align: right;\">\n",
              "      <th></th>\n",
              "      <th>0</th>\n",
              "      <th>1</th>\n",
              "      <th>2</th>\n",
              "      <th>3</th>\n",
              "      <th>4</th>\n",
              "      <th>5</th>\n",
              "      <th>6</th>\n",
              "      <th>7</th>\n",
              "      <th>8</th>\n",
              "      <th>9</th>\n",
              "      <th>...</th>\n",
              "      <th>68</th>\n",
              "      <th>69</th>\n",
              "      <th>70</th>\n",
              "      <th>71</th>\n",
              "      <th>72</th>\n",
              "      <th>73</th>\n",
              "      <th>74</th>\n",
              "      <th>75</th>\n",
              "      <th>76</th>\n",
              "      <th>77</th>\n",
              "    </tr>\n",
              "  </thead>\n",
              "  <tbody>\n",
              "    <tr>\n",
              "      <th>count</th>\n",
              "      <td>90052.000000</td>\n",
              "      <td>90052.000000</td>\n",
              "      <td>90052.000000</td>\n",
              "      <td>90052.000000</td>\n",
              "      <td>90052.000000</td>\n",
              "      <td>90052.000000</td>\n",
              "      <td>90052.000000</td>\n",
              "      <td>90052.000000</td>\n",
              "      <td>90052.000000</td>\n",
              "      <td>90052.000000</td>\n",
              "      <td>...</td>\n",
              "      <td>90052.000000</td>\n",
              "      <td>90052.000000</td>\n",
              "      <td>90052.000000</td>\n",
              "      <td>90052.000000</td>\n",
              "      <td>90052.000000</td>\n",
              "      <td>90052.000000</td>\n",
              "      <td>90052.000000</td>\n",
              "      <td>90052.000000</td>\n",
              "      <td>90052.000000</td>\n",
              "      <td>90052.000000</td>\n",
              "    </tr>\n",
              "    <tr>\n",
              "      <th>mean</th>\n",
              "      <td>0.499727</td>\n",
              "      <td>0.007095</td>\n",
              "      <td>0.006760</td>\n",
              "      <td>0.008234</td>\n",
              "      <td>0.006527</td>\n",
              "      <td>0.006023</td>\n",
              "      <td>0.007540</td>\n",
              "      <td>0.008856</td>\n",
              "      <td>0.008561</td>\n",
              "      <td>0.007841</td>\n",
              "      <td>...</td>\n",
              "      <td>0.003803</td>\n",
              "      <td>0.006135</td>\n",
              "      <td>0.004994</td>\n",
              "      <td>0.007091</td>\n",
              "      <td>0.006757</td>\n",
              "      <td>0.008229</td>\n",
              "      <td>0.006530</td>\n",
              "      <td>0.006027</td>\n",
              "      <td>0.007535</td>\n",
              "      <td>0.008844</td>\n",
              "    </tr>\n",
              "    <tr>\n",
              "      <th>std</th>\n",
              "      <td>0.288479</td>\n",
              "      <td>0.020916</td>\n",
              "      <td>0.020453</td>\n",
              "      <td>0.024385</td>\n",
              "      <td>0.019360</td>\n",
              "      <td>0.017862</td>\n",
              "      <td>0.021899</td>\n",
              "      <td>0.025264</td>\n",
              "      <td>0.023126</td>\n",
              "      <td>0.021692</td>\n",
              "      <td>...</td>\n",
              "      <td>0.004814</td>\n",
              "      <td>0.007198</td>\n",
              "      <td>0.006624</td>\n",
              "      <td>0.020883</td>\n",
              "      <td>0.020420</td>\n",
              "      <td>0.024345</td>\n",
              "      <td>0.019349</td>\n",
              "      <td>0.017853</td>\n",
              "      <td>0.021863</td>\n",
              "      <td>0.025203</td>\n",
              "    </tr>\n",
              "    <tr>\n",
              "      <th>min</th>\n",
              "      <td>0.000021</td>\n",
              "      <td>0.000000</td>\n",
              "      <td>0.000000</td>\n",
              "      <td>0.000000</td>\n",
              "      <td>0.000000</td>\n",
              "      <td>0.000000</td>\n",
              "      <td>0.000000</td>\n",
              "      <td>0.000000</td>\n",
              "      <td>0.000000</td>\n",
              "      <td>0.000000</td>\n",
              "      <td>...</td>\n",
              "      <td>0.000000</td>\n",
              "      <td>0.000000</td>\n",
              "      <td>0.000000</td>\n",
              "      <td>0.000000</td>\n",
              "      <td>0.000000</td>\n",
              "      <td>0.000000</td>\n",
              "      <td>0.000000</td>\n",
              "      <td>0.000000</td>\n",
              "      <td>0.000000</td>\n",
              "      <td>0.000000</td>\n",
              "    </tr>\n",
              "    <tr>\n",
              "      <th>25%</th>\n",
              "      <td>0.249547</td>\n",
              "      <td>0.000124</td>\n",
              "      <td>0.000087</td>\n",
              "      <td>0.000150</td>\n",
              "      <td>0.000111</td>\n",
              "      <td>0.000097</td>\n",
              "      <td>0.000140</td>\n",
              "      <td>0.000219</td>\n",
              "      <td>0.000197</td>\n",
              "      <td>0.000199</td>\n",
              "      <td>...</td>\n",
              "      <td>0.003663</td>\n",
              "      <td>0.005525</td>\n",
              "      <td>0.004184</td>\n",
              "      <td>0.000123</td>\n",
              "      <td>0.000087</td>\n",
              "      <td>0.000149</td>\n",
              "      <td>0.000111</td>\n",
              "      <td>0.000097</td>\n",
              "      <td>0.000139</td>\n",
              "      <td>0.000218</td>\n",
              "    </tr>\n",
              "    <tr>\n",
              "      <th>50%</th>\n",
              "      <td>0.500359</td>\n",
              "      <td>0.000909</td>\n",
              "      <td>0.000830</td>\n",
              "      <td>0.001049</td>\n",
              "      <td>0.000815</td>\n",
              "      <td>0.000743</td>\n",
              "      <td>0.000979</td>\n",
              "      <td>0.001202</td>\n",
              "      <td>0.001278</td>\n",
              "      <td>0.001096</td>\n",
              "      <td>...</td>\n",
              "      <td>0.003663</td>\n",
              "      <td>0.005525</td>\n",
              "      <td>0.004184</td>\n",
              "      <td>0.000905</td>\n",
              "      <td>0.000827</td>\n",
              "      <td>0.001046</td>\n",
              "      <td>0.000813</td>\n",
              "      <td>0.000741</td>\n",
              "      <td>0.001011</td>\n",
              "      <td>0.001198</td>\n",
              "    </tr>\n",
              "    <tr>\n",
              "      <th>75%</th>\n",
              "      <td>0.749487</td>\n",
              "      <td>0.005163</td>\n",
              "      <td>0.004891</td>\n",
              "      <td>0.005946</td>\n",
              "      <td>0.004665</td>\n",
              "      <td>0.004296</td>\n",
              "      <td>0.005629</td>\n",
              "      <td>0.006776</td>\n",
              "      <td>0.006883</td>\n",
              "      <td>0.006377</td>\n",
              "      <td>...</td>\n",
              "      <td>0.003968</td>\n",
              "      <td>0.006077</td>\n",
              "      <td>0.004678</td>\n",
              "      <td>0.005144</td>\n",
              "      <td>0.004917</td>\n",
              "      <td>0.005975</td>\n",
              "      <td>0.004654</td>\n",
              "      <td>0.004286</td>\n",
              "      <td>0.005645</td>\n",
              "      <td>0.006786</td>\n",
              "    </tr>\n",
              "    <tr>\n",
              "      <th>max</th>\n",
              "      <td>1.000000</td>\n",
              "      <td>1.000000</td>\n",
              "      <td>1.000000</td>\n",
              "      <td>1.000000</td>\n",
              "      <td>1.000000</td>\n",
              "      <td>1.000000</td>\n",
              "      <td>1.000000</td>\n",
              "      <td>1.000000</td>\n",
              "      <td>1.000000</td>\n",
              "      <td>1.000000</td>\n",
              "      <td>...</td>\n",
              "      <td>1.000000</td>\n",
              "      <td>1.000000</td>\n",
              "      <td>1.000000</td>\n",
              "      <td>1.000000</td>\n",
              "      <td>1.000000</td>\n",
              "      <td>1.000000</td>\n",
              "      <td>1.000000</td>\n",
              "      <td>1.000000</td>\n",
              "      <td>1.000000</td>\n",
              "      <td>1.000000</td>\n",
              "    </tr>\n",
              "  </tbody>\n",
              "</table>\n",
              "<p>8 rows × 78 columns</p>\n",
              "</div>"
            ],
            "text/plain": [
              "                 0             1             2             3             4   \\\n",
              "count  90052.000000  90052.000000  90052.000000  90052.000000  90052.000000   \n",
              "mean       0.499727      0.007095      0.006760      0.008234      0.006527   \n",
              "std        0.288479      0.020916      0.020453      0.024385      0.019360   \n",
              "min        0.000021      0.000000      0.000000      0.000000      0.000000   \n",
              "25%        0.249547      0.000124      0.000087      0.000150      0.000111   \n",
              "50%        0.500359      0.000909      0.000830      0.001049      0.000815   \n",
              "75%        0.749487      0.005163      0.004891      0.005946      0.004665   \n",
              "max        1.000000      1.000000      1.000000      1.000000      1.000000   \n",
              "\n",
              "                 5             6             7             8             9   \\\n",
              "count  90052.000000  90052.000000  90052.000000  90052.000000  90052.000000   \n",
              "mean       0.006023      0.007540      0.008856      0.008561      0.007841   \n",
              "std        0.017862      0.021899      0.025264      0.023126      0.021692   \n",
              "min        0.000000      0.000000      0.000000      0.000000      0.000000   \n",
              "25%        0.000097      0.000140      0.000219      0.000197      0.000199   \n",
              "50%        0.000743      0.000979      0.001202      0.001278      0.001096   \n",
              "75%        0.004296      0.005629      0.006776      0.006883      0.006377   \n",
              "max        1.000000      1.000000      1.000000      1.000000      1.000000   \n",
              "\n",
              "           ...                 68            69            70            71  \\\n",
              "count      ...       90052.000000  90052.000000  90052.000000  90052.000000   \n",
              "mean       ...           0.003803      0.006135      0.004994      0.007091   \n",
              "std        ...           0.004814      0.007198      0.006624      0.020883   \n",
              "min        ...           0.000000      0.000000      0.000000      0.000000   \n",
              "25%        ...           0.003663      0.005525      0.004184      0.000123   \n",
              "50%        ...           0.003663      0.005525      0.004184      0.000905   \n",
              "75%        ...           0.003968      0.006077      0.004678      0.005144   \n",
              "max        ...           1.000000      1.000000      1.000000      1.000000   \n",
              "\n",
              "                 72            73            74            75            76  \\\n",
              "count  90052.000000  90052.000000  90052.000000  90052.000000  90052.000000   \n",
              "mean       0.006757      0.008229      0.006530      0.006027      0.007535   \n",
              "std        0.020420      0.024345      0.019349      0.017853      0.021863   \n",
              "min        0.000000      0.000000      0.000000      0.000000      0.000000   \n",
              "25%        0.000087      0.000149      0.000111      0.000097      0.000139   \n",
              "50%        0.000827      0.001046      0.000813      0.000741      0.001011   \n",
              "75%        0.004917      0.005975      0.004654      0.004286      0.005645   \n",
              "max        1.000000      1.000000      1.000000      1.000000      1.000000   \n",
              "\n",
              "                 77  \n",
              "count  90052.000000  \n",
              "mean       0.008844  \n",
              "std        0.025203  \n",
              "min        0.000000  \n",
              "25%        0.000218  \n",
              "50%        0.001198  \n",
              "75%        0.006786  \n",
              "max        1.000000  \n",
              "\n",
              "[8 rows x 78 columns]"
            ]
          },
          "metadata": {
            "tags": []
          },
          "execution_count": 22
        }
      ]
    },
    {
      "metadata": {
        "id": "cgrfdCMslkHW",
        "colab_type": "text"
      },
      "cell_type": "markdown",
      "source": [
        "#### ROC curve\n"
      ]
    },
    {
      "metadata": {
        "id": "dEfNCMVklgWZ",
        "colab_type": "code",
        "colab": {}
      },
      "cell_type": "code",
      "source": [
        "def plot_roc_curve(true_Y, scores, title = \"ROC curve\"):\n",
        "  plt.figure()\n",
        "  for i in range(np.shape(true_Y)[0]):\n",
        "    Y = true_Y[i]\n",
        "    pred = scores[i]\n",
        "    fpr, tpr, _ = roc_curve(Y, pred)\n",
        "    roc_auc = auc(fpr, tpr)\n",
        "    plt.plot(fpr, tpr,\n",
        "               lw=2, label='ROC curve (area = %0.2f)' % roc_auc)\n",
        "  plt.plot([0, 1], [0, 1], color='navy', lw=2, linestyle='--')\n",
        "  plt.xlim([0.0, 1.0])\n",
        "  plt.ylim([0.0, 1.05])\n",
        "  plt.xlabel('False Positive Rate')\n",
        "  plt.ylabel('True Positive Rate')\n",
        "  plt.title(title)\n",
        "  plt.legend()\n",
        "  plt.show()"
      ],
      "execution_count": 0,
      "outputs": []
    },
    {
      "metadata": {
        "id": "GJDzQb-vr44v",
        "colab_type": "text"
      },
      "cell_type": "markdown",
      "source": [
        "# Model construction"
      ]
    },
    {
      "metadata": {
        "id": "0N8nuFz_M9l8",
        "colab_type": "code",
        "colab": {}
      },
      "cell_type": "code",
      "source": [
        "stratified_kfold = KFold(10, False, 1)\n",
        "# kfold = "
      ],
      "execution_count": 0,
      "outputs": []
    },
    {
      "metadata": {
        "id": "u09mxwKsNCw6",
        "colab_type": "code",
        "colab": {}
      },
      "cell_type": "code",
      "source": [
        "def test_results(model_builder_fct, scaler, data_X, data_Y, model_name):\n",
        "  results = pd.DataFrame(index=range(10))\n",
        "  col_name = f\"{model_name}_stratified_kfold_%s\"\n",
        "  predictions, Y = [], []\n",
        "  f1s, w_aucs, bacc, tpr, tnr, prec = [], [], [], [], [], []\n",
        "  for train_idx, test_idx in stratified_kfold.split(data_X):\n",
        "    print(\"Fold %s\" % str(len(f1s)))\n",
        "    train_X = data_X.iloc[train_idx]\n",
        "    test_X = data_X.iloc[test_idx]\n",
        "    train_Y, test_Y = data_Y.iloc[train_idx], data_Y.iloc[test_idx]\n",
        "    \n",
        "    train_X, test_X = scaler(train_X, test_X)\n",
        "       \n",
        "    model = model_builder_fct(train_X, train_Y)\n",
        "    pred = model.predict(test_X)\n",
        "    predictions.append(pred)\n",
        "    Y.append(test_Y)\n",
        "#     pred_Y = np.asarray(np.clip(pred,0,1)).round()\n",
        "    pred_Y = model.predict(test_X)\n",
        "#     print(sum(pred_Y))\n",
        "\n",
        "#     pred_Y = np.vectorize(lambda x: 0 if x < 0.5 else 1)(pred_Y)\n",
        "    f1s.append(f1_score(test_Y, pred_Y))\n",
        "    w_aucs.append(roc_auc_score(test_Y, pred_Y, average=\"weighted\"))\n",
        "    tn, fp, fn, tp = confusion_matrix(test_Y, pred_Y).ravel()\n",
        "    bacc.append(balanced_accuracy_score(test_Y, pred_Y))\n",
        "    tpr.append(tp/(tp+fn))\n",
        "    tnr.append(tn/(fp+tn))\n",
        "#     assert tpr == recall_score(test_Y, pred_Y)\n",
        "    prec.append(precision_score(test_Y, pred_Y))\n",
        "    \n",
        "  f1_df = pd.DataFrame({col_name % (\"F1\"): f1s})\n",
        "  auc_df = pd.DataFrame({col_name % (\"AUC\"): w_aucs})\n",
        "  bacc_df = pd.DataFrame({col_name % (\"BACC\"): bacc})\n",
        "  tpr_df = pd.DataFrame({col_name % (\"TPR(recall)\"): tpr})\n",
        "  tnr_df = pd.DataFrame({col_name % (\"TNR\"): tnr})\n",
        "  prec = pd.DataFrame({col_name % (\"Precision\"): prec})\n",
        "  results = pd.concat([results, f1_df, auc_df, bacc_df, tpr_df, tnr_df, prec], axis=1)\n",
        "  return results, (Y, predictions)"
      ],
      "execution_count": 0,
      "outputs": []
    },
    {
      "metadata": {
        "id": "DGSFx6e7r8Tm",
        "colab_type": "text"
      },
      "cell_type": "markdown",
      "source": [
        "## Linear classifier"
      ]
    },
    {
      "metadata": {
        "id": "AVqIrTqUKb2P",
        "colab_type": "code",
        "colab": {}
      },
      "cell_type": "code",
      "source": [
        "from sklearn import linear_model"
      ],
      "execution_count": 0,
      "outputs": []
    },
    {
      "metadata": {
        "id": "NbVgeyF5sTML",
        "colab_type": "code",
        "outputId": "b2e7d2d2-c2a9-4f25-ff96-d34ebbe166ca",
        "colab": {
          "base_uri": "https://localhost:8080/",
          "height": 34
        }
      },
      "cell_type": "code",
      "source": [
        "# X_train[:3]\n",
        "sum(Y_test)"
      ],
      "execution_count": 0,
      "outputs": [
        {
          "output_type": "execute_result",
          "data": {
            "text/plain": [
              "680.0"
            ]
          },
          "metadata": {
            "tags": []
          },
          "execution_count": 108
        }
      ]
    },
    {
      "metadata": {
        "id": "a8Cnxa_nuZoT",
        "colab_type": "code",
        "colab": {}
      },
      "cell_type": "code",
      "source": [
        "pd.DataFrame(normalize(X_train[:3], axis=0, norm='l2'))"
      ],
      "execution_count": 0,
      "outputs": []
    },
    {
      "metadata": {
        "id": "QN6SyHQ8FBXl",
        "colab_type": "text"
      },
      "cell_type": "markdown",
      "source": [
        "#### Logistic regression"
      ]
    },
    {
      "metadata": {
        "id": "7FEtuhLjJ0dU",
        "colab_type": "code",
        "outputId": "76de3c4b-7ba6-4556-bd9c-fee3828ef8b4",
        "colab": {
          "base_uri": "https://localhost:8080/",
          "height": 889
        }
      },
      "cell_type": "code",
      "source": [
        "results = test_results(model_builder_logistic_reg, linear_model.LogisticRegression, data_X, data_Y, \"logisticreg_denorm_opt\")\n",
        "results"
      ],
      "execution_count": 0,
      "outputs": [
        {
          "output_type": "stream",
          "text": [
            "/usr/local/lib/python3.6/dist-packages/sklearn/linear_model/logistic.py:433: FutureWarning: Default solver will be changed to 'lbfgs' in 0.22. Specify a solver to silence this warning.\n",
            "  FutureWarning)\n"
          ],
          "name": "stderr"
        },
        {
          "output_type": "stream",
          "text": [
            "196.0\n"
          ],
          "name": "stdout"
        },
        {
          "output_type": "stream",
          "text": [
            "/usr/local/lib/python3.6/dist-packages/sklearn/linear_model/logistic.py:433: FutureWarning: Default solver will be changed to 'lbfgs' in 0.22. Specify a solver to silence this warning.\n",
            "  FutureWarning)\n"
          ],
          "name": "stderr"
        },
        {
          "output_type": "stream",
          "text": [
            "80.0\n"
          ],
          "name": "stdout"
        },
        {
          "output_type": "stream",
          "text": [
            "/usr/local/lib/python3.6/dist-packages/sklearn/linear_model/logistic.py:433: FutureWarning: Default solver will be changed to 'lbfgs' in 0.22. Specify a solver to silence this warning.\n",
            "  FutureWarning)\n"
          ],
          "name": "stderr"
        },
        {
          "output_type": "stream",
          "text": [
            "73.0\n"
          ],
          "name": "stdout"
        },
        {
          "output_type": "stream",
          "text": [
            "/usr/local/lib/python3.6/dist-packages/sklearn/linear_model/logistic.py:433: FutureWarning: Default solver will be changed to 'lbfgs' in 0.22. Specify a solver to silence this warning.\n",
            "  FutureWarning)\n"
          ],
          "name": "stderr"
        },
        {
          "output_type": "stream",
          "text": [
            "73.0\n"
          ],
          "name": "stdout"
        },
        {
          "output_type": "stream",
          "text": [
            "/usr/local/lib/python3.6/dist-packages/sklearn/linear_model/logistic.py:433: FutureWarning: Default solver will be changed to 'lbfgs' in 0.22. Specify a solver to silence this warning.\n",
            "  FutureWarning)\n"
          ],
          "name": "stderr"
        },
        {
          "output_type": "stream",
          "text": [
            "77.0\n"
          ],
          "name": "stdout"
        },
        {
          "output_type": "stream",
          "text": [
            "/usr/local/lib/python3.6/dist-packages/sklearn/linear_model/logistic.py:433: FutureWarning: Default solver will be changed to 'lbfgs' in 0.22. Specify a solver to silence this warning.\n",
            "  FutureWarning)\n"
          ],
          "name": "stderr"
        },
        {
          "output_type": "stream",
          "text": [
            "66.0\n"
          ],
          "name": "stdout"
        },
        {
          "output_type": "stream",
          "text": [
            "/usr/local/lib/python3.6/dist-packages/sklearn/linear_model/logistic.py:433: FutureWarning: Default solver will be changed to 'lbfgs' in 0.22. Specify a solver to silence this warning.\n",
            "  FutureWarning)\n"
          ],
          "name": "stderr"
        },
        {
          "output_type": "stream",
          "text": [
            "84.0\n"
          ],
          "name": "stdout"
        },
        {
          "output_type": "stream",
          "text": [
            "/usr/local/lib/python3.6/dist-packages/sklearn/linear_model/logistic.py:433: FutureWarning: Default solver will be changed to 'lbfgs' in 0.22. Specify a solver to silence this warning.\n",
            "  FutureWarning)\n"
          ],
          "name": "stderr"
        },
        {
          "output_type": "stream",
          "text": [
            "114.0\n"
          ],
          "name": "stdout"
        },
        {
          "output_type": "stream",
          "text": [
            "/usr/local/lib/python3.6/dist-packages/sklearn/linear_model/logistic.py:433: FutureWarning: Default solver will be changed to 'lbfgs' in 0.22. Specify a solver to silence this warning.\n",
            "  FutureWarning)\n"
          ],
          "name": "stderr"
        },
        {
          "output_type": "stream",
          "text": [
            "98.0\n"
          ],
          "name": "stdout"
        },
        {
          "output_type": "stream",
          "text": [
            "/usr/local/lib/python3.6/dist-packages/sklearn/linear_model/logistic.py:433: FutureWarning: Default solver will be changed to 'lbfgs' in 0.22. Specify a solver to silence this warning.\n",
            "  FutureWarning)\n"
          ],
          "name": "stderr"
        },
        {
          "output_type": "stream",
          "text": [
            "59.0\n"
          ],
          "name": "stdout"
        },
        {
          "output_type": "execute_result",
          "data": {
            "text/html": [
              "<div>\n",
              "<style scoped>\n",
              "    .dataframe tbody tr th:only-of-type {\n",
              "        vertical-align: middle;\n",
              "    }\n",
              "\n",
              "    .dataframe tbody tr th {\n",
              "        vertical-align: top;\n",
              "    }\n",
              "\n",
              "    .dataframe thead th {\n",
              "        text-align: right;\n",
              "    }\n",
              "</style>\n",
              "<table border=\"1\" class=\"dataframe\">\n",
              "  <thead>\n",
              "    <tr style=\"text-align: right;\">\n",
              "      <th></th>\n",
              "      <th>logisticreg_denorm_opt_stratified_kfold_F1</th>\n",
              "      <th>logisticreg_denorm_opt_stratified_kfold_AUC</th>\n",
              "      <th>logisticreg_denorm_opt_stratified_kfold_BACC</th>\n",
              "      <th>logisticreg_denorm_opt_stratified_kfold_TPR</th>\n",
              "      <th>logisticreg_denorm_opt_stratified_kfold_TNR</th>\n",
              "    </tr>\n",
              "  </thead>\n",
              "  <tbody>\n",
              "    <tr>\n",
              "      <th>0</th>\n",
              "      <td>0.479245</td>\n",
              "      <td>0.687608</td>\n",
              "      <td>0.687608</td>\n",
              "      <td>0.380240</td>\n",
              "      <td>0.994977</td>\n",
              "    </tr>\n",
              "    <tr>\n",
              "      <th>1</th>\n",
              "      <td>0.342723</td>\n",
              "      <td>0.605236</td>\n",
              "      <td>0.605236</td>\n",
              "      <td>0.210983</td>\n",
              "      <td>0.999490</td>\n",
              "    </tr>\n",
              "    <tr>\n",
              "      <th>2</th>\n",
              "      <td>0.282051</td>\n",
              "      <td>0.586096</td>\n",
              "      <td>0.586096</td>\n",
              "      <td>0.173502</td>\n",
              "      <td>0.998691</td>\n",
              "    </tr>\n",
              "    <tr>\n",
              "      <th>3</th>\n",
              "      <td>0.247664</td>\n",
              "      <td>0.573919</td>\n",
              "      <td>0.573919</td>\n",
              "      <td>0.149296</td>\n",
              "      <td>0.998542</td>\n",
              "    </tr>\n",
              "    <tr>\n",
              "      <th>4</th>\n",
              "      <td>0.311927</td>\n",
              "      <td>0.594379</td>\n",
              "      <td>0.594379</td>\n",
              "      <td>0.189415</td>\n",
              "      <td>0.999344</td>\n",
              "    </tr>\n",
              "    <tr>\n",
              "      <th>5</th>\n",
              "      <td>0.283582</td>\n",
              "      <td>0.584494</td>\n",
              "      <td>0.584494</td>\n",
              "      <td>0.169643</td>\n",
              "      <td>0.999345</td>\n",
              "    </tr>\n",
              "    <tr>\n",
              "      <th>6</th>\n",
              "      <td>0.281124</td>\n",
              "      <td>0.584029</td>\n",
              "      <td>0.584029</td>\n",
              "      <td>0.169082</td>\n",
              "      <td>0.998975</td>\n",
              "    </tr>\n",
              "    <tr>\n",
              "      <th>7</th>\n",
              "      <td>0.387879</td>\n",
              "      <td>0.625327</td>\n",
              "      <td>0.625327</td>\n",
              "      <td>0.251969</td>\n",
              "      <td>0.998685</td>\n",
              "    </tr>\n",
              "    <tr>\n",
              "      <th>8</th>\n",
              "      <td>0.296748</td>\n",
              "      <td>0.591726</td>\n",
              "      <td>0.591726</td>\n",
              "      <td>0.185279</td>\n",
              "      <td>0.998172</td>\n",
              "    </tr>\n",
              "    <tr>\n",
              "      <th>9</th>\n",
              "      <td>0.216704</td>\n",
              "      <td>0.562098</td>\n",
              "      <td>0.562098</td>\n",
              "      <td>0.125000</td>\n",
              "      <td>0.999196</td>\n",
              "    </tr>\n",
              "  </tbody>\n",
              "</table>\n",
              "</div>"
            ],
            "text/plain": [
              "   logisticreg_denorm_opt_stratified_kfold_F1  \\\n",
              "0                                    0.479245   \n",
              "1                                    0.342723   \n",
              "2                                    0.282051   \n",
              "3                                    0.247664   \n",
              "4                                    0.311927   \n",
              "5                                    0.283582   \n",
              "6                                    0.281124   \n",
              "7                                    0.387879   \n",
              "8                                    0.296748   \n",
              "9                                    0.216704   \n",
              "\n",
              "   logisticreg_denorm_opt_stratified_kfold_AUC  \\\n",
              "0                                     0.687608   \n",
              "1                                     0.605236   \n",
              "2                                     0.586096   \n",
              "3                                     0.573919   \n",
              "4                                     0.594379   \n",
              "5                                     0.584494   \n",
              "6                                     0.584029   \n",
              "7                                     0.625327   \n",
              "8                                     0.591726   \n",
              "9                                     0.562098   \n",
              "\n",
              "   logisticreg_denorm_opt_stratified_kfold_BACC  \\\n",
              "0                                      0.687608   \n",
              "1                                      0.605236   \n",
              "2                                      0.586096   \n",
              "3                                      0.573919   \n",
              "4                                      0.594379   \n",
              "5                                      0.584494   \n",
              "6                                      0.584029   \n",
              "7                                      0.625327   \n",
              "8                                      0.591726   \n",
              "9                                      0.562098   \n",
              "\n",
              "   logisticreg_denorm_opt_stratified_kfold_TPR  \\\n",
              "0                                     0.380240   \n",
              "1                                     0.210983   \n",
              "2                                     0.173502   \n",
              "3                                     0.149296   \n",
              "4                                     0.189415   \n",
              "5                                     0.169643   \n",
              "6                                     0.169082   \n",
              "7                                     0.251969   \n",
              "8                                     0.185279   \n",
              "9                                     0.125000   \n",
              "\n",
              "   logisticreg_denorm_opt_stratified_kfold_TNR  \n",
              "0                                     0.994977  \n",
              "1                                     0.999490  \n",
              "2                                     0.998691  \n",
              "3                                     0.998542  \n",
              "4                                     0.999344  \n",
              "5                                     0.999345  \n",
              "6                                     0.998975  \n",
              "7                                     0.998685  \n",
              "8                                     0.998172  \n",
              "9                                     0.999196  "
            ]
          },
          "metadata": {
            "tags": []
          },
          "execution_count": 158
        }
      ]
    },
    {
      "metadata": {
        "id": "XGmUvmdxKcKP",
        "colab_type": "text"
      },
      "cell_type": "markdown",
      "source": [
        "##### Logistic regression denorm"
      ]
    },
    {
      "metadata": {
        "id": "LABtDSddGeog",
        "colab_type": "code",
        "outputId": "60af2a80-f29b-4382-c1f1-0edcca1e3875",
        "colab": {
          "base_uri": "https://localhost:8080/",
          "height": 630
        }
      },
      "cell_type": "code",
      "source": [
        "from sklearn.linear_model import LogisticRegression\n",
        "from sklearn.metrics import roc_auc_score\n",
        "from sklearn.model_selection import ParameterGrid\n",
        "import parfit.parfit as pf\n",
        "grid = {\n",
        "    'C': [1e-7, 1e-6, 1e-5, 1e-4, 1e-3, 1e-2, 1e-1, 1e0],\n",
        "    'penalty': ['l2'],\n",
        "    'n_jobs': [-1]\n",
        "}\n",
        "paramGrid = ParameterGrid(grid)\n",
        "bestModel, bestScore, allModels, allScores = pf.bestFit(LogisticRegression, paramGrid,\n",
        "           X_train, Y_train, X_val, Y_val, \n",
        "           metric = roc_auc_score,\n",
        "           greater_is_better=True,\n",
        "           scoreLabel = \"AUC\")\n",
        "print(bestModel, bestScore)"
      ],
      "execution_count": 0,
      "outputs": [
        {
          "output_type": "stream",
          "text": [
            "-------------FITTING MODELS-------------\n"
          ],
          "name": "stdout"
        },
        {
          "output_type": "stream",
          "text": [
            "[Parallel(n_jobs=-1)]: Using backend LokyBackend with 2 concurrent workers.\n",
            "[Parallel(n_jobs=-1)]: Done   1 tasks      | elapsed:   10.6s\n",
            "[Parallel(n_jobs=-1)]: Done   4 tasks      | elapsed:  1.2min\n",
            "[Parallel(n_jobs=-1)]: Done   6 out of   8 | elapsed:  2.2min remaining:   43.1s\n",
            "[Parallel(n_jobs=-1)]: Done   8 out of   8 | elapsed:  2.8min remaining:    0.0s\n",
            "[Parallel(n_jobs=-1)]: Done   8 out of   8 | elapsed:  2.8min finished\n",
            "[Parallel(n_jobs=-1)]: Using backend LokyBackend with 2 concurrent workers.\n"
          ],
          "name": "stderr"
        },
        {
          "output_type": "stream",
          "text": [
            "-------------SCORING MODELS-------------\n"
          ],
          "name": "stdout"
        },
        {
          "output_type": "stream",
          "text": [
            "[Parallel(n_jobs=-1)]: Done   8 out of   8 | elapsed:    0.2s finished\n"
          ],
          "name": "stderr"
        },
        {
          "output_type": "display_data",
          "data": {
            "image/png": "[encoded data removed]",
            "text/plain": [
              "<Figure size 432x432 with 1 Axes>"
            ]
          },
          "metadata": {
            "tags": []
          }
        },
        {
          "output_type": "stream",
          "text": [
            "LogisticRegression(C=0.01, class_weight=None, dual=False, fit_intercept=True,\n",
            "          intercept_scaling=1, max_iter=100, multi_class='warn', n_jobs=-1,\n",
            "          penalty='l2', random_state=None, solver='warn', tol=0.0001,\n",
            "          verbose=0, warm_start=False) 0.9067495352515191\n"
          ],
          "name": "stdout"
        }
      ]
    },
    {
      "metadata": {
        "id": "BVGrv8vZ_Oo6",
        "colab_type": "code",
        "outputId": "f6230b0c-1c72-4878-891f-5e2f07500bd9",
        "colab": {
          "base_uri": "https://localhost:8080/",
          "height": 887
        }
      },
      "cell_type": "code",
      "source": [
        "results = test_results(model_builder, linear_model.LogisticRegression, data_X, data_Y, \"logisticreg_denorm\")"
      ],
      "execution_count": 0,
      "outputs": [
        {
          "output_type": "stream",
          "text": [
            "/usr/local/lib/python3.6/dist-packages/sklearn/linear_model/logistic.py:433: FutureWarning: Default solver will be changed to 'lbfgs' in 0.22. Specify a solver to silence this warning.\n",
            "  FutureWarning)\n",
            "/usr/local/lib/python3.6/dist-packages/sklearn/svm/base.py:931: ConvergenceWarning: Liblinear failed to converge, increase the number of iterations.\n",
            "  \"the number of iterations.\", ConvergenceWarning)\n",
            "/usr/local/lib/python3.6/dist-packages/sklearn/linear_model/logistic.py:433: FutureWarning: Default solver will be changed to 'lbfgs' in 0.22. Specify a solver to silence this warning.\n",
            "  FutureWarning)\n"
          ],
          "name": "stderr"
        },
        {
          "output_type": "stream",
          "text": [
            "54.0\n"
          ],
          "name": "stdout"
        },
        {
          "output_type": "stream",
          "text": [
            "/usr/local/lib/python3.6/dist-packages/sklearn/svm/base.py:931: ConvergenceWarning: Liblinear failed to converge, increase the number of iterations.\n",
            "  \"the number of iterations.\", ConvergenceWarning)\n",
            "/usr/local/lib/python3.6/dist-packages/sklearn/linear_model/logistic.py:433: FutureWarning: Default solver will be changed to 'lbfgs' in 0.22. Specify a solver to silence this warning.\n",
            "  FutureWarning)\n"
          ],
          "name": "stderr"
        },
        {
          "output_type": "stream",
          "text": [
            "173.0\n"
          ],
          "name": "stdout"
        },
        {
          "output_type": "stream",
          "text": [
            "/usr/local/lib/python3.6/dist-packages/sklearn/svm/base.py:931: ConvergenceWarning: Liblinear failed to converge, increase the number of iterations.\n",
            "  \"the number of iterations.\", ConvergenceWarning)\n",
            "/usr/local/lib/python3.6/dist-packages/sklearn/linear_model/logistic.py:433: FutureWarning: Default solver will be changed to 'lbfgs' in 0.22. Specify a solver to silence this warning.\n",
            "  FutureWarning)\n"
          ],
          "name": "stderr"
        },
        {
          "output_type": "stream",
          "text": [
            "75.0\n"
          ],
          "name": "stdout"
        },
        {
          "output_type": "stream",
          "text": [
            "/usr/local/lib/python3.6/dist-packages/sklearn/svm/base.py:931: ConvergenceWarning: Liblinear failed to converge, increase the number of iterations.\n",
            "  \"the number of iterations.\", ConvergenceWarning)\n",
            "/usr/local/lib/python3.6/dist-packages/sklearn/linear_model/logistic.py:433: FutureWarning: Default solver will be changed to 'lbfgs' in 0.22. Specify a solver to silence this warning.\n",
            "  FutureWarning)\n"
          ],
          "name": "stderr"
        },
        {
          "output_type": "stream",
          "text": [
            "79.0\n"
          ],
          "name": "stdout"
        },
        {
          "output_type": "stream",
          "text": [
            "/usr/local/lib/python3.6/dist-packages/sklearn/svm/base.py:931: ConvergenceWarning: Liblinear failed to converge, increase the number of iterations.\n",
            "  \"the number of iterations.\", ConvergenceWarning)\n",
            "/usr/local/lib/python3.6/dist-packages/sklearn/linear_model/logistic.py:433: FutureWarning: Default solver will be changed to 'lbfgs' in 0.22. Specify a solver to silence this warning.\n",
            "  FutureWarning)\n"
          ],
          "name": "stderr"
        },
        {
          "output_type": "stream",
          "text": [
            "89.0\n"
          ],
          "name": "stdout"
        },
        {
          "output_type": "stream",
          "text": [
            "/usr/local/lib/python3.6/dist-packages/sklearn/svm/base.py:931: ConvergenceWarning: Liblinear failed to converge, increase the number of iterations.\n",
            "  \"the number of iterations.\", ConvergenceWarning)\n",
            "/usr/local/lib/python3.6/dist-packages/sklearn/linear_model/logistic.py:433: FutureWarning: Default solver will be changed to 'lbfgs' in 0.22. Specify a solver to silence this warning.\n",
            "  FutureWarning)\n"
          ],
          "name": "stderr"
        },
        {
          "output_type": "stream",
          "text": [
            "74.0\n"
          ],
          "name": "stdout"
        },
        {
          "output_type": "stream",
          "text": [
            "/usr/local/lib/python3.6/dist-packages/sklearn/svm/base.py:931: ConvergenceWarning: Liblinear failed to converge, increase the number of iterations.\n",
            "  \"the number of iterations.\", ConvergenceWarning)\n",
            "/usr/local/lib/python3.6/dist-packages/sklearn/linear_model/logistic.py:433: FutureWarning: Default solver will be changed to 'lbfgs' in 0.22. Specify a solver to silence this warning.\n",
            "  FutureWarning)\n"
          ],
          "name": "stderr"
        },
        {
          "output_type": "stream",
          "text": [
            "95.0\n"
          ],
          "name": "stdout"
        },
        {
          "output_type": "stream",
          "text": [
            "/usr/local/lib/python3.6/dist-packages/sklearn/svm/base.py:931: ConvergenceWarning: Liblinear failed to converge, increase the number of iterations.\n",
            "  \"the number of iterations.\", ConvergenceWarning)\n",
            "/usr/local/lib/python3.6/dist-packages/sklearn/linear_model/logistic.py:433: FutureWarning: Default solver will be changed to 'lbfgs' in 0.22. Specify a solver to silence this warning.\n",
            "  FutureWarning)\n"
          ],
          "name": "stderr"
        },
        {
          "output_type": "stream",
          "text": [
            "128.0\n"
          ],
          "name": "stdout"
        },
        {
          "output_type": "stream",
          "text": [
            "/usr/local/lib/python3.6/dist-packages/sklearn/svm/base.py:931: ConvergenceWarning: Liblinear failed to converge, increase the number of iterations.\n",
            "  \"the number of iterations.\", ConvergenceWarning)\n",
            "/usr/local/lib/python3.6/dist-packages/sklearn/linear_model/logistic.py:433: FutureWarning: Default solver will be changed to 'lbfgs' in 0.22. Specify a solver to silence this warning.\n",
            "  FutureWarning)\n"
          ],
          "name": "stderr"
        },
        {
          "output_type": "stream",
          "text": [
            "72.0\n",
            "70.0\n"
          ],
          "name": "stdout"
        },
        {
          "output_type": "stream",
          "text": [
            "/usr/local/lib/python3.6/dist-packages/sklearn/svm/base.py:931: ConvergenceWarning: Liblinear failed to converge, increase the number of iterations.\n",
            "  \"the number of iterations.\", ConvergenceWarning)\n"
          ],
          "name": "stderr"
        }
      ]
    },
    {
      "metadata": {
        "id": "ANvHaC-DBm5K",
        "colab_type": "code",
        "outputId": "706eb738-af45-4566-c321-0d7ec767489e",
        "colab": {
          "base_uri": "https://localhost:8080/",
          "height": 379
        }
      },
      "cell_type": "code",
      "source": [
        "results"
      ],
      "execution_count": 0,
      "outputs": [
        {
          "output_type": "execute_result",
          "data": {
            "text/html": [
              "<div>\n",
              "<style scoped>\n",
              "    .dataframe tbody tr th:only-of-type {\n",
              "        vertical-align: middle;\n",
              "    }\n",
              "\n",
              "    .dataframe tbody tr th {\n",
              "        vertical-align: top;\n",
              "    }\n",
              "\n",
              "    .dataframe thead th {\n",
              "        text-align: right;\n",
              "    }\n",
              "</style>\n",
              "<table border=\"1\" class=\"dataframe\">\n",
              "  <thead>\n",
              "    <tr style=\"text-align: right;\">\n",
              "      <th></th>\n",
              "      <th>linreg_norm_max_stratified_kfold_F1</th>\n",
              "      <th>linreg_norm_max_stratified_kfold_AUC</th>\n",
              "      <th>linreg_norm_max_stratified_kfold_BACC</th>\n",
              "      <th>linreg_norm_max_stratified_kfold_TPR</th>\n",
              "      <th>linreg_norm_max_stratified_kfold_TNR</th>\n",
              "    </tr>\n",
              "  </thead>\n",
              "  <tbody>\n",
              "    <tr>\n",
              "      <th>0</th>\n",
              "      <td>0.231959</td>\n",
              "      <td>0.567038</td>\n",
              "      <td>0.567038</td>\n",
              "      <td>0.134731</td>\n",
              "      <td>0.999345</td>\n",
              "    </tr>\n",
              "    <tr>\n",
              "      <th>1</th>\n",
              "      <td>0.466281</td>\n",
              "      <td>0.672961</td>\n",
              "      <td>0.672961</td>\n",
              "      <td>0.349711</td>\n",
              "      <td>0.996211</td>\n",
              "    </tr>\n",
              "    <tr>\n",
              "      <th>2</th>\n",
              "      <td>0.290816</td>\n",
              "      <td>0.589251</td>\n",
              "      <td>0.589251</td>\n",
              "      <td>0.179811</td>\n",
              "      <td>0.998691</td>\n",
              "    </tr>\n",
              "    <tr>\n",
              "      <th>3</th>\n",
              "      <td>0.267281</td>\n",
              "      <td>0.580925</td>\n",
              "      <td>0.580925</td>\n",
              "      <td>0.163380</td>\n",
              "      <td>0.998469</td>\n",
              "    </tr>\n",
              "    <tr>\n",
              "      <th>4</th>\n",
              "      <td>0.330357</td>\n",
              "      <td>0.602517</td>\n",
              "      <td>0.602517</td>\n",
              "      <td>0.206128</td>\n",
              "      <td>0.998906</td>\n",
              "    </tr>\n",
              "    <tr>\n",
              "      <th>5</th>\n",
              "      <td>0.287805</td>\n",
              "      <td>0.587252</td>\n",
              "      <td>0.587252</td>\n",
              "      <td>0.175595</td>\n",
              "      <td>0.998908</td>\n",
              "    </tr>\n",
              "    <tr>\n",
              "      <th>6</th>\n",
              "      <td>0.290766</td>\n",
              "      <td>0.588603</td>\n",
              "      <td>0.588603</td>\n",
              "      <td>0.178744</td>\n",
              "      <td>0.998462</td>\n",
              "    </tr>\n",
              "    <tr>\n",
              "      <th>7</th>\n",
              "      <td>0.381139</td>\n",
              "      <td>0.626164</td>\n",
              "      <td>0.626164</td>\n",
              "      <td>0.254593</td>\n",
              "      <td>0.997735</td>\n",
              "    </tr>\n",
              "    <tr>\n",
              "      <th>8</th>\n",
              "      <td>0.244635</td>\n",
              "      <td>0.571787</td>\n",
              "      <td>0.571787</td>\n",
              "      <td>0.144670</td>\n",
              "      <td>0.998903</td>\n",
              "    </tr>\n",
              "    <tr>\n",
              "      <th>9</th>\n",
              "      <td>0.229075</td>\n",
              "      <td>0.567051</td>\n",
              "      <td>0.567051</td>\n",
              "      <td>0.135417</td>\n",
              "      <td>0.998685</td>\n",
              "    </tr>\n",
              "  </tbody>\n",
              "</table>\n",
              "</div>"
            ],
            "text/plain": [
              "   linreg_norm_max_stratified_kfold_F1  linreg_norm_max_stratified_kfold_AUC  \\\n",
              "0                             0.231959                              0.567038   \n",
              "1                             0.466281                              0.672961   \n",
              "2                             0.290816                              0.589251   \n",
              "3                             0.267281                              0.580925   \n",
              "4                             0.330357                              0.602517   \n",
              "5                             0.287805                              0.587252   \n",
              "6                             0.290766                              0.588603   \n",
              "7                             0.381139                              0.626164   \n",
              "8                             0.244635                              0.571787   \n",
              "9                             0.229075                              0.567051   \n",
              "\n",
              "   linreg_norm_max_stratified_kfold_BACC  \\\n",
              "0                               0.567038   \n",
              "1                               0.672961   \n",
              "2                               0.589251   \n",
              "3                               0.580925   \n",
              "4                               0.602517   \n",
              "5                               0.587252   \n",
              "6                               0.588603   \n",
              "7                               0.626164   \n",
              "8                               0.571787   \n",
              "9                               0.567051   \n",
              "\n",
              "   linreg_norm_max_stratified_kfold_TPR  linreg_norm_max_stratified_kfold_TNR  \n",
              "0                              0.134731                              0.999345  \n",
              "1                              0.349711                              0.996211  \n",
              "2                              0.179811                              0.998691  \n",
              "3                              0.163380                              0.998469  \n",
              "4                              0.206128                              0.998906  \n",
              "5                              0.175595                              0.998908  \n",
              "6                              0.178744                              0.998462  \n",
              "7                              0.254593                              0.997735  \n",
              "8                              0.144670                              0.998903  \n",
              "9                              0.135417                              0.998685  "
            ]
          },
          "metadata": {
            "tags": []
          },
          "execution_count": 107
        }
      ]
    },
    {
      "metadata": {
        "id": "623SMRfKDw9l",
        "colab_type": "text"
      },
      "cell_type": "markdown",
      "source": [
        "##### Logistic regression - max norm"
      ]
    },
    {
      "metadata": {
        "id": "S-o0ihFwDrh4",
        "colab_type": "code",
        "outputId": "c5b1a186-3d13-40b1-d403-09bc6f3776b3",
        "colab": {
          "base_uri": "https://localhost:8080/",
          "height": 527
        }
      },
      "cell_type": "code",
      "source": [
        "results = test_results(model_builder, linear_model.LogisticRegression, pd.DataFrame(normalize(data_X, axis=0, norm='max')), data_Y, \"logisticreg_norm_max\")"
      ],
      "execution_count": 0,
      "outputs": [
        {
          "output_type": "stream",
          "text": [
            "/usr/local/lib/python3.6/dist-packages/sklearn/linear_model/logistic.py:433: FutureWarning: Default solver will be changed to 'lbfgs' in 0.22. Specify a solver to silence this warning.\n",
            "  FutureWarning)\n"
          ],
          "name": "stderr"
        },
        {
          "output_type": "stream",
          "text": [
            "116.0\n"
          ],
          "name": "stdout"
        },
        {
          "output_type": "stream",
          "text": [
            "/usr/local/lib/python3.6/dist-packages/sklearn/linear_model/logistic.py:433: FutureWarning: Default solver will be changed to 'lbfgs' in 0.22. Specify a solver to silence this warning.\n",
            "  FutureWarning)\n"
          ],
          "name": "stderr"
        },
        {
          "output_type": "stream",
          "text": [
            "123.0\n"
          ],
          "name": "stdout"
        },
        {
          "output_type": "stream",
          "text": [
            "/usr/local/lib/python3.6/dist-packages/sklearn/linear_model/logistic.py:433: FutureWarning: Default solver will be changed to 'lbfgs' in 0.22. Specify a solver to silence this warning.\n",
            "  FutureWarning)\n"
          ],
          "name": "stderr"
        },
        {
          "output_type": "stream",
          "text": [
            "88.0\n"
          ],
          "name": "stdout"
        },
        {
          "output_type": "stream",
          "text": [
            "/usr/local/lib/python3.6/dist-packages/sklearn/linear_model/logistic.py:433: FutureWarning: Default solver will be changed to 'lbfgs' in 0.22. Specify a solver to silence this warning.\n",
            "  FutureWarning)\n"
          ],
          "name": "stderr"
        },
        {
          "output_type": "stream",
          "text": [
            "138.0\n"
          ],
          "name": "stdout"
        },
        {
          "output_type": "stream",
          "text": [
            "/usr/local/lib/python3.6/dist-packages/sklearn/linear_model/logistic.py:433: FutureWarning: Default solver will be changed to 'lbfgs' in 0.22. Specify a solver to silence this warning.\n",
            "  FutureWarning)\n"
          ],
          "name": "stderr"
        },
        {
          "output_type": "stream",
          "text": [
            "119.0\n"
          ],
          "name": "stdout"
        },
        {
          "output_type": "stream",
          "text": [
            "/usr/local/lib/python3.6/dist-packages/sklearn/linear_model/logistic.py:433: FutureWarning: Default solver will be changed to 'lbfgs' in 0.22. Specify a solver to silence this warning.\n",
            "  FutureWarning)\n"
          ],
          "name": "stderr"
        },
        {
          "output_type": "stream",
          "text": [
            "118.0\n"
          ],
          "name": "stdout"
        },
        {
          "output_type": "stream",
          "text": [
            "/usr/local/lib/python3.6/dist-packages/sklearn/linear_model/logistic.py:433: FutureWarning: Default solver will be changed to 'lbfgs' in 0.22. Specify a solver to silence this warning.\n",
            "  FutureWarning)\n"
          ],
          "name": "stderr"
        },
        {
          "output_type": "stream",
          "text": [
            "119.0\n"
          ],
          "name": "stdout"
        },
        {
          "output_type": "stream",
          "text": [
            "/usr/local/lib/python3.6/dist-packages/sklearn/linear_model/logistic.py:433: FutureWarning: Default solver will be changed to 'lbfgs' in 0.22. Specify a solver to silence this warning.\n",
            "  FutureWarning)\n"
          ],
          "name": "stderr"
        },
        {
          "output_type": "stream",
          "text": [
            "121.0\n"
          ],
          "name": "stdout"
        },
        {
          "output_type": "stream",
          "text": [
            "/usr/local/lib/python3.6/dist-packages/sklearn/linear_model/logistic.py:433: FutureWarning: Default solver will be changed to 'lbfgs' in 0.22. Specify a solver to silence this warning.\n",
            "  FutureWarning)\n"
          ],
          "name": "stderr"
        },
        {
          "output_type": "stream",
          "text": [
            "120.0\n"
          ],
          "name": "stdout"
        },
        {
          "output_type": "stream",
          "text": [
            "/usr/local/lib/python3.6/dist-packages/sklearn/linear_model/logistic.py:433: FutureWarning: Default solver will be changed to 'lbfgs' in 0.22. Specify a solver to silence this warning.\n",
            "  FutureWarning)\n"
          ],
          "name": "stderr"
        },
        {
          "output_type": "stream",
          "text": [
            "106.0\n"
          ],
          "name": "stdout"
        }
      ]
    },
    {
      "metadata": {
        "id": "bJpIHSzVDrWf",
        "colab_type": "code",
        "outputId": "f0c0929e-eb27-4206-df90-0e0283eca8ae",
        "colab": {
          "base_uri": "https://localhost:8080/",
          "height": 359
        }
      },
      "cell_type": "code",
      "source": [
        "results"
      ],
      "execution_count": 0,
      "outputs": [
        {
          "output_type": "execute_result",
          "data": {
            "text/html": [
              "<div>\n",
              "<style scoped>\n",
              "    .dataframe tbody tr th:only-of-type {\n",
              "        vertical-align: middle;\n",
              "    }\n",
              "\n",
              "    .dataframe tbody tr th {\n",
              "        vertical-align: top;\n",
              "    }\n",
              "\n",
              "    .dataframe thead th {\n",
              "        text-align: right;\n",
              "    }\n",
              "</style>\n",
              "<table border=\"1\" class=\"dataframe\">\n",
              "  <thead>\n",
              "    <tr style=\"text-align: right;\">\n",
              "      <th></th>\n",
              "      <th>logisticreg_norm_max_stratified_kfold_F1</th>\n",
              "      <th>logisticreg_norm_max_stratified_kfold_AUC</th>\n",
              "      <th>logisticreg_norm_max_stratified_kfold_BACC</th>\n",
              "      <th>logisticreg_norm_max_stratified_kfold_TPR</th>\n",
              "      <th>logisticreg_norm_max_stratified_kfold_TNR</th>\n",
              "    </tr>\n",
              "  </thead>\n",
              "  <tbody>\n",
              "    <tr>\n",
              "      <th>0</th>\n",
              "      <td>0.351111</td>\n",
              "      <td>0.616917</td>\n",
              "      <td>0.616917</td>\n",
              "      <td>0.236527</td>\n",
              "      <td>0.997307</td>\n",
              "    </tr>\n",
              "    <tr>\n",
              "      <th>1</th>\n",
              "      <td>0.358209</td>\n",
              "      <td>0.619967</td>\n",
              "      <td>0.619967</td>\n",
              "      <td>0.242775</td>\n",
              "      <td>0.997158</td>\n",
              "    </tr>\n",
              "    <tr>\n",
              "      <th>2</th>\n",
              "      <td>0.281481</td>\n",
              "      <td>0.588778</td>\n",
              "      <td>0.588778</td>\n",
              "      <td>0.179811</td>\n",
              "      <td>0.997746</td>\n",
              "    </tr>\n",
              "    <tr>\n",
              "      <th>3</th>\n",
              "      <td>0.332657</td>\n",
              "      <td>0.613452</td>\n",
              "      <td>0.613452</td>\n",
              "      <td>0.230986</td>\n",
              "      <td>0.995917</td>\n",
              "    </tr>\n",
              "    <tr>\n",
              "      <th>4</th>\n",
              "      <td>0.347280</td>\n",
              "      <td>0.614286</td>\n",
              "      <td>0.614286</td>\n",
              "      <td>0.231198</td>\n",
              "      <td>0.997375</td>\n",
              "    </tr>\n",
              "    <tr>\n",
              "      <th>5</th>\n",
              "      <td>0.343612</td>\n",
              "      <td>0.614615</td>\n",
              "      <td>0.614615</td>\n",
              "      <td>0.232143</td>\n",
              "      <td>0.997088</td>\n",
              "    </tr>\n",
              "    <tr>\n",
              "      <th>6</th>\n",
              "      <td>0.311445</td>\n",
              "      <td>0.598924</td>\n",
              "      <td>0.598924</td>\n",
              "      <td>0.200483</td>\n",
              "      <td>0.997364</td>\n",
              "    </tr>\n",
              "    <tr>\n",
              "      <th>7</th>\n",
              "      <td>0.302789</td>\n",
              "      <td>0.598094</td>\n",
              "      <td>0.598094</td>\n",
              "      <td>0.199475</td>\n",
              "      <td>0.996713</td>\n",
              "    </tr>\n",
              "    <tr>\n",
              "      <th>8</th>\n",
              "      <td>0.322957</td>\n",
              "      <td>0.603977</td>\n",
              "      <td>0.603977</td>\n",
              "      <td>0.210660</td>\n",
              "      <td>0.997295</td>\n",
              "    </tr>\n",
              "    <tr>\n",
              "      <th>9</th>\n",
              "      <td>0.240816</td>\n",
              "      <td>0.575106</td>\n",
              "      <td>0.575106</td>\n",
              "      <td>0.153646</td>\n",
              "      <td>0.996566</td>\n",
              "    </tr>\n",
              "  </tbody>\n",
              "</table>\n",
              "</div>"
            ],
            "text/plain": [
              "   logisticreg_norm_max_stratified_kfold_F1  \\\n",
              "0                                  0.351111   \n",
              "1                                  0.358209   \n",
              "2                                  0.281481   \n",
              "3                                  0.332657   \n",
              "4                                  0.347280   \n",
              "5                                  0.343612   \n",
              "6                                  0.311445   \n",
              "7                                  0.302789   \n",
              "8                                  0.322957   \n",
              "9                                  0.240816   \n",
              "\n",
              "   logisticreg_norm_max_stratified_kfold_AUC  \\\n",
              "0                                   0.616917   \n",
              "1                                   0.619967   \n",
              "2                                   0.588778   \n",
              "3                                   0.613452   \n",
              "4                                   0.614286   \n",
              "5                                   0.614615   \n",
              "6                                   0.598924   \n",
              "7                                   0.598094   \n",
              "8                                   0.603977   \n",
              "9                                   0.575106   \n",
              "\n",
              "   logisticreg_norm_max_stratified_kfold_BACC  \\\n",
              "0                                    0.616917   \n",
              "1                                    0.619967   \n",
              "2                                    0.588778   \n",
              "3                                    0.613452   \n",
              "4                                    0.614286   \n",
              "5                                    0.614615   \n",
              "6                                    0.598924   \n",
              "7                                    0.598094   \n",
              "8                                    0.603977   \n",
              "9                                    0.575106   \n",
              "\n",
              "   logisticreg_norm_max_stratified_kfold_TPR  \\\n",
              "0                                   0.236527   \n",
              "1                                   0.242775   \n",
              "2                                   0.179811   \n",
              "3                                   0.230986   \n",
              "4                                   0.231198   \n",
              "5                                   0.232143   \n",
              "6                                   0.200483   \n",
              "7                                   0.199475   \n",
              "8                                   0.210660   \n",
              "9                                   0.153646   \n",
              "\n",
              "   logisticreg_norm_max_stratified_kfold_TNR  \n",
              "0                                   0.997307  \n",
              "1                                   0.997158  \n",
              "2                                   0.997746  \n",
              "3                                   0.995917  \n",
              "4                                   0.997375  \n",
              "5                                   0.997088  \n",
              "6                                   0.997364  \n",
              "7                                   0.996713  \n",
              "8                                   0.997295  \n",
              "9                                   0.996566  "
            ]
          },
          "metadata": {
            "tags": []
          },
          "execution_count": 111
        }
      ]
    },
    {
      "metadata": {
        "id": "wqT9AHn4EEgi",
        "colab_type": "text"
      },
      "cell_type": "markdown",
      "source": [
        "##### Logistic regression - L2 norm"
      ]
    },
    {
      "metadata": {
        "id": "arO4uYyCEQUk",
        "colab_type": "code",
        "outputId": "7640e9f5-481a-42ca-b4d7-e714a613b798",
        "colab": {
          "base_uri": "https://localhost:8080/",
          "height": 527
        }
      },
      "cell_type": "code",
      "source": [
        "results = test_results(model_builder, linear_model.LogisticRegression, pd.DataFrame(normalize(data_X, axis=0, norm='l2')), data_Y, \"logisticreg_norm_l2\")"
      ],
      "execution_count": 0,
      "outputs": [
        {
          "output_type": "stream",
          "text": [
            "/usr/local/lib/python3.6/dist-packages/sklearn/linear_model/logistic.py:433: FutureWarning: Default solver will be changed to 'lbfgs' in 0.22. Specify a solver to silence this warning.\n",
            "  FutureWarning)\n"
          ],
          "name": "stderr"
        },
        {
          "output_type": "stream",
          "text": [
            "46.0\n"
          ],
          "name": "stdout"
        },
        {
          "output_type": "stream",
          "text": [
            "/usr/local/lib/python3.6/dist-packages/sklearn/linear_model/logistic.py:433: FutureWarning: Default solver will be changed to 'lbfgs' in 0.22. Specify a solver to silence this warning.\n",
            "  FutureWarning)\n"
          ],
          "name": "stderr"
        },
        {
          "output_type": "stream",
          "text": [
            "60.0\n"
          ],
          "name": "stdout"
        },
        {
          "output_type": "stream",
          "text": [
            "/usr/local/lib/python3.6/dist-packages/sklearn/linear_model/logistic.py:433: FutureWarning: Default solver will be changed to 'lbfgs' in 0.22. Specify a solver to silence this warning.\n",
            "  FutureWarning)\n"
          ],
          "name": "stderr"
        },
        {
          "output_type": "stream",
          "text": [
            "46.0\n"
          ],
          "name": "stdout"
        },
        {
          "output_type": "stream",
          "text": [
            "/usr/local/lib/python3.6/dist-packages/sklearn/linear_model/logistic.py:433: FutureWarning: Default solver will be changed to 'lbfgs' in 0.22. Specify a solver to silence this warning.\n",
            "  FutureWarning)\n"
          ],
          "name": "stderr"
        },
        {
          "output_type": "stream",
          "text": [
            "70.0\n"
          ],
          "name": "stdout"
        },
        {
          "output_type": "stream",
          "text": [
            "/usr/local/lib/python3.6/dist-packages/sklearn/linear_model/logistic.py:433: FutureWarning: Default solver will be changed to 'lbfgs' in 0.22. Specify a solver to silence this warning.\n",
            "  FutureWarning)\n"
          ],
          "name": "stderr"
        },
        {
          "output_type": "stream",
          "text": [
            "56.0\n"
          ],
          "name": "stdout"
        },
        {
          "output_type": "stream",
          "text": [
            "/usr/local/lib/python3.6/dist-packages/sklearn/linear_model/logistic.py:433: FutureWarning: Default solver will be changed to 'lbfgs' in 0.22. Specify a solver to silence this warning.\n",
            "  FutureWarning)\n"
          ],
          "name": "stderr"
        },
        {
          "output_type": "stream",
          "text": [
            "67.0\n"
          ],
          "name": "stdout"
        },
        {
          "output_type": "stream",
          "text": [
            "/usr/local/lib/python3.6/dist-packages/sklearn/linear_model/logistic.py:433: FutureWarning: Default solver will be changed to 'lbfgs' in 0.22. Specify a solver to silence this warning.\n",
            "  FutureWarning)\n"
          ],
          "name": "stderr"
        },
        {
          "output_type": "stream",
          "text": [
            "54.0\n"
          ],
          "name": "stdout"
        },
        {
          "output_type": "stream",
          "text": [
            "/usr/local/lib/python3.6/dist-packages/sklearn/linear_model/logistic.py:433: FutureWarning: Default solver will be changed to 'lbfgs' in 0.22. Specify a solver to silence this warning.\n",
            "  FutureWarning)\n"
          ],
          "name": "stderr"
        },
        {
          "output_type": "stream",
          "text": [
            "59.0\n"
          ],
          "name": "stdout"
        },
        {
          "output_type": "stream",
          "text": [
            "/usr/local/lib/python3.6/dist-packages/sklearn/linear_model/logistic.py:433: FutureWarning: Default solver will be changed to 'lbfgs' in 0.22. Specify a solver to silence this warning.\n",
            "  FutureWarning)\n"
          ],
          "name": "stderr"
        },
        {
          "output_type": "stream",
          "text": [
            "68.0\n"
          ],
          "name": "stdout"
        },
        {
          "output_type": "stream",
          "text": [
            "/usr/local/lib/python3.6/dist-packages/sklearn/linear_model/logistic.py:433: FutureWarning: Default solver will be changed to 'lbfgs' in 0.22. Specify a solver to silence this warning.\n",
            "  FutureWarning)\n"
          ],
          "name": "stderr"
        },
        {
          "output_type": "stream",
          "text": [
            "55.0\n"
          ],
          "name": "stdout"
        }
      ]
    },
    {
      "metadata": {
        "id": "cnOAd3OTETZh",
        "colab_type": "code",
        "outputId": "8b999a4e-14c4-46ee-de64-be5c5d094e09",
        "colab": {
          "base_uri": "https://localhost:8080/",
          "height": 359
        }
      },
      "cell_type": "code",
      "source": [
        "results"
      ],
      "execution_count": 0,
      "outputs": [
        {
          "output_type": "execute_result",
          "data": {
            "text/html": [
              "<div>\n",
              "<style scoped>\n",
              "    .dataframe tbody tr th:only-of-type {\n",
              "        vertical-align: middle;\n",
              "    }\n",
              "\n",
              "    .dataframe tbody tr th {\n",
              "        vertical-align: top;\n",
              "    }\n",
              "\n",
              "    .dataframe thead th {\n",
              "        text-align: right;\n",
              "    }\n",
              "</style>\n",
              "<table border=\"1\" class=\"dataframe\">\n",
              "  <thead>\n",
              "    <tr style=\"text-align: right;\">\n",
              "      <th></th>\n",
              "      <th>logisticreg_norm_l2_stratified_kfold_F1</th>\n",
              "      <th>logisticreg_norm_l2_stratified_kfold_AUC</th>\n",
              "      <th>logisticreg_norm_l2_stratified_kfold_BACC</th>\n",
              "      <th>logisticreg_norm_l2_stratified_kfold_TPR</th>\n",
              "      <th>logisticreg_norm_l2_stratified_kfold_TNR</th>\n",
              "    </tr>\n",
              "  </thead>\n",
              "  <tbody>\n",
              "    <tr>\n",
              "      <th>0</th>\n",
              "      <td>0.152632</td>\n",
              "      <td>0.542794</td>\n",
              "      <td>0.542794</td>\n",
              "      <td>0.086826</td>\n",
              "      <td>0.998762</td>\n",
              "    </tr>\n",
              "    <tr>\n",
              "      <th>1</th>\n",
              "      <td>0.211823</td>\n",
              "      <td>0.561519</td>\n",
              "      <td>0.561519</td>\n",
              "      <td>0.124277</td>\n",
              "      <td>0.998761</td>\n",
              "    </tr>\n",
              "    <tr>\n",
              "      <th>2</th>\n",
              "      <td>0.187328</td>\n",
              "      <td>0.553192</td>\n",
              "      <td>0.553192</td>\n",
              "      <td>0.107256</td>\n",
              "      <td>0.999128</td>\n",
              "    </tr>\n",
              "    <tr>\n",
              "      <th>3</th>\n",
              "      <td>0.197647</td>\n",
              "      <td>0.558134</td>\n",
              "      <td>0.558134</td>\n",
              "      <td>0.118310</td>\n",
              "      <td>0.997959</td>\n",
              "    </tr>\n",
              "    <tr>\n",
              "      <th>4</th>\n",
              "      <td>0.173494</td>\n",
              "      <td>0.549410</td>\n",
              "      <td>0.549410</td>\n",
              "      <td>0.100279</td>\n",
              "      <td>0.998541</td>\n",
              "    </tr>\n",
              "    <tr>\n",
              "      <th>5</th>\n",
              "      <td>0.233251</td>\n",
              "      <td>0.569212</td>\n",
              "      <td>0.569212</td>\n",
              "      <td>0.139881</td>\n",
              "      <td>0.998544</td>\n",
              "    </tr>\n",
              "    <tr>\n",
              "      <th>6</th>\n",
              "      <td>0.188034</td>\n",
              "      <td>0.552774</td>\n",
              "      <td>0.552774</td>\n",
              "      <td>0.106280</td>\n",
              "      <td>0.999268</td>\n",
              "    </tr>\n",
              "    <tr>\n",
              "      <th>7</th>\n",
              "      <td>0.159091</td>\n",
              "      <td>0.545055</td>\n",
              "      <td>0.545055</td>\n",
              "      <td>0.091864</td>\n",
              "      <td>0.998247</td>\n",
              "    </tr>\n",
              "    <tr>\n",
              "      <th>8</th>\n",
              "      <td>0.207792</td>\n",
              "      <td>0.560182</td>\n",
              "      <td>0.560182</td>\n",
              "      <td>0.121827</td>\n",
              "      <td>0.998538</td>\n",
              "    </tr>\n",
              "    <tr>\n",
              "      <th>9</th>\n",
              "      <td>0.141230</td>\n",
              "      <td>0.539488</td>\n",
              "      <td>0.539488</td>\n",
              "      <td>0.080729</td>\n",
              "      <td>0.998246</td>\n",
              "    </tr>\n",
              "  </tbody>\n",
              "</table>\n",
              "</div>"
            ],
            "text/plain": [
              "   logisticreg_norm_l2_stratified_kfold_F1  \\\n",
              "0                                 0.152632   \n",
              "1                                 0.211823   \n",
              "2                                 0.187328   \n",
              "3                                 0.197647   \n",
              "4                                 0.173494   \n",
              "5                                 0.233251   \n",
              "6                                 0.188034   \n",
              "7                                 0.159091   \n",
              "8                                 0.207792   \n",
              "9                                 0.141230   \n",
              "\n",
              "   logisticreg_norm_l2_stratified_kfold_AUC  \\\n",
              "0                                  0.542794   \n",
              "1                                  0.561519   \n",
              "2                                  0.553192   \n",
              "3                                  0.558134   \n",
              "4                                  0.549410   \n",
              "5                                  0.569212   \n",
              "6                                  0.552774   \n",
              "7                                  0.545055   \n",
              "8                                  0.560182   \n",
              "9                                  0.539488   \n",
              "\n",
              "   logisticreg_norm_l2_stratified_kfold_BACC  \\\n",
              "0                                   0.542794   \n",
              "1                                   0.561519   \n",
              "2                                   0.553192   \n",
              "3                                   0.558134   \n",
              "4                                   0.549410   \n",
              "5                                   0.569212   \n",
              "6                                   0.552774   \n",
              "7                                   0.545055   \n",
              "8                                   0.560182   \n",
              "9                                   0.539488   \n",
              "\n",
              "   logisticreg_norm_l2_stratified_kfold_TPR  \\\n",
              "0                                  0.086826   \n",
              "1                                  0.124277   \n",
              "2                                  0.107256   \n",
              "3                                  0.118310   \n",
              "4                                  0.100279   \n",
              "5                                  0.139881   \n",
              "6                                  0.106280   \n",
              "7                                  0.091864   \n",
              "8                                  0.121827   \n",
              "9                                  0.080729   \n",
              "\n",
              "   logisticreg_norm_l2_stratified_kfold_TNR  \n",
              "0                                  0.998762  \n",
              "1                                  0.998761  \n",
              "2                                  0.999128  \n",
              "3                                  0.997959  \n",
              "4                                  0.998541  \n",
              "5                                  0.998544  \n",
              "6                                  0.999268  \n",
              "7                                  0.998247  \n",
              "8                                  0.998538  \n",
              "9                                  0.998246  "
            ]
          },
          "metadata": {
            "tags": []
          },
          "execution_count": 113
        }
      ]
    },
    {
      "metadata": {
        "id": "gKHzICVNEk8p",
        "colab_type": "code",
        "outputId": "dadf6db7-0537-455c-c668-72bd482bfa51",
        "colab": {
          "base_uri": "https://localhost:8080/",
          "height": 867
        }
      },
      "cell_type": "code",
      "source": [
        "results = test_results(model_builder, linear_model.LogisticRegression, pd.DataFrame(normalize(data_X, axis=1, norm='l2')), data_Y, \"logisticreg_norm_l2\")"
      ],
      "execution_count": 0,
      "outputs": [
        {
          "output_type": "stream",
          "text": [
            "/usr/local/lib/python3.6/dist-packages/sklearn/linear_model/logistic.py:433: FutureWarning: Default solver will be changed to 'lbfgs' in 0.22. Specify a solver to silence this warning.\n",
            "  FutureWarning)\n"
          ],
          "name": "stderr"
        },
        {
          "output_type": "stream",
          "text": [
            "0.0\n"
          ],
          "name": "stdout"
        },
        {
          "output_type": "stream",
          "text": [
            "/usr/local/lib/python3.6/dist-packages/sklearn/metrics/classification.py:1143: UndefinedMetricWarning: F-score is ill-defined and being set to 0.0 due to no predicted samples.\n",
            "  'precision', 'predicted', average, warn_for)\n",
            "/usr/local/lib/python3.6/dist-packages/sklearn/linear_model/logistic.py:433: FutureWarning: Default solver will be changed to 'lbfgs' in 0.22. Specify a solver to silence this warning.\n",
            "  FutureWarning)\n"
          ],
          "name": "stderr"
        },
        {
          "output_type": "stream",
          "text": [
            "0.0\n"
          ],
          "name": "stdout"
        },
        {
          "output_type": "stream",
          "text": [
            "/usr/local/lib/python3.6/dist-packages/sklearn/metrics/classification.py:1143: UndefinedMetricWarning: F-score is ill-defined and being set to 0.0 due to no predicted samples.\n",
            "  'precision', 'predicted', average, warn_for)\n",
            "/usr/local/lib/python3.6/dist-packages/sklearn/linear_model/logistic.py:433: FutureWarning: Default solver will be changed to 'lbfgs' in 0.22. Specify a solver to silence this warning.\n",
            "  FutureWarning)\n"
          ],
          "name": "stderr"
        },
        {
          "output_type": "stream",
          "text": [
            "0.0\n"
          ],
          "name": "stdout"
        },
        {
          "output_type": "stream",
          "text": [
            "/usr/local/lib/python3.6/dist-packages/sklearn/metrics/classification.py:1143: UndefinedMetricWarning: F-score is ill-defined and being set to 0.0 due to no predicted samples.\n",
            "  'precision', 'predicted', average, warn_for)\n",
            "/usr/local/lib/python3.6/dist-packages/sklearn/linear_model/logistic.py:433: FutureWarning: Default solver will be changed to 'lbfgs' in 0.22. Specify a solver to silence this warning.\n",
            "  FutureWarning)\n"
          ],
          "name": "stderr"
        },
        {
          "output_type": "stream",
          "text": [
            "0.0\n"
          ],
          "name": "stdout"
        },
        {
          "output_type": "stream",
          "text": [
            "/usr/local/lib/python3.6/dist-packages/sklearn/metrics/classification.py:1143: UndefinedMetricWarning: F-score is ill-defined and being set to 0.0 due to no predicted samples.\n",
            "  'precision', 'predicted', average, warn_for)\n",
            "/usr/local/lib/python3.6/dist-packages/sklearn/linear_model/logistic.py:433: FutureWarning: Default solver will be changed to 'lbfgs' in 0.22. Specify a solver to silence this warning.\n",
            "  FutureWarning)\n"
          ],
          "name": "stderr"
        },
        {
          "output_type": "stream",
          "text": [
            "0.0\n"
          ],
          "name": "stdout"
        },
        {
          "output_type": "stream",
          "text": [
            "/usr/local/lib/python3.6/dist-packages/sklearn/metrics/classification.py:1143: UndefinedMetricWarning: F-score is ill-defined and being set to 0.0 due to no predicted samples.\n",
            "  'precision', 'predicted', average, warn_for)\n",
            "/usr/local/lib/python3.6/dist-packages/sklearn/linear_model/logistic.py:433: FutureWarning: Default solver will be changed to 'lbfgs' in 0.22. Specify a solver to silence this warning.\n",
            "  FutureWarning)\n"
          ],
          "name": "stderr"
        },
        {
          "output_type": "stream",
          "text": [
            "0.0\n"
          ],
          "name": "stdout"
        },
        {
          "output_type": "stream",
          "text": [
            "/usr/local/lib/python3.6/dist-packages/sklearn/metrics/classification.py:1143: UndefinedMetricWarning: F-score is ill-defined and being set to 0.0 due to no predicted samples.\n",
            "  'precision', 'predicted', average, warn_for)\n",
            "/usr/local/lib/python3.6/dist-packages/sklearn/linear_model/logistic.py:433: FutureWarning: Default solver will be changed to 'lbfgs' in 0.22. Specify a solver to silence this warning.\n",
            "  FutureWarning)\n"
          ],
          "name": "stderr"
        },
        {
          "output_type": "stream",
          "text": [
            "0.0\n"
          ],
          "name": "stdout"
        },
        {
          "output_type": "stream",
          "text": [
            "/usr/local/lib/python3.6/dist-packages/sklearn/metrics/classification.py:1143: UndefinedMetricWarning: F-score is ill-defined and being set to 0.0 due to no predicted samples.\n",
            "  'precision', 'predicted', average, warn_for)\n",
            "/usr/local/lib/python3.6/dist-packages/sklearn/linear_model/logistic.py:433: FutureWarning: Default solver will be changed to 'lbfgs' in 0.22. Specify a solver to silence this warning.\n",
            "  FutureWarning)\n"
          ],
          "name": "stderr"
        },
        {
          "output_type": "stream",
          "text": [
            "0.0\n"
          ],
          "name": "stdout"
        },
        {
          "output_type": "stream",
          "text": [
            "/usr/local/lib/python3.6/dist-packages/sklearn/metrics/classification.py:1143: UndefinedMetricWarning: F-score is ill-defined and being set to 0.0 due to no predicted samples.\n",
            "  'precision', 'predicted', average, warn_for)\n",
            "/usr/local/lib/python3.6/dist-packages/sklearn/linear_model/logistic.py:433: FutureWarning: Default solver will be changed to 'lbfgs' in 0.22. Specify a solver to silence this warning.\n",
            "  FutureWarning)\n"
          ],
          "name": "stderr"
        },
        {
          "output_type": "stream",
          "text": [
            "0.0\n"
          ],
          "name": "stdout"
        },
        {
          "output_type": "stream",
          "text": [
            "/usr/local/lib/python3.6/dist-packages/sklearn/metrics/classification.py:1143: UndefinedMetricWarning: F-score is ill-defined and being set to 0.0 due to no predicted samples.\n",
            "  'precision', 'predicted', average, warn_for)\n",
            "/usr/local/lib/python3.6/dist-packages/sklearn/linear_model/logistic.py:433: FutureWarning: Default solver will be changed to 'lbfgs' in 0.22. Specify a solver to silence this warning.\n",
            "  FutureWarning)\n"
          ],
          "name": "stderr"
        },
        {
          "output_type": "stream",
          "text": [
            "0.0\n"
          ],
          "name": "stdout"
        },
        {
          "output_type": "stream",
          "text": [
            "/usr/local/lib/python3.6/dist-packages/sklearn/metrics/classification.py:1143: UndefinedMetricWarning: F-score is ill-defined and being set to 0.0 due to no predicted samples.\n",
            "  'precision', 'predicted', average, warn_for)\n"
          ],
          "name": "stderr"
        }
      ]
    },
    {
      "metadata": {
        "id": "5NzA1zpQEkzW",
        "colab_type": "code",
        "outputId": "62695b1f-b80f-42c8-abde-3bf29d122a52",
        "colab": {
          "base_uri": "https://localhost:8080/",
          "height": 379
        }
      },
      "cell_type": "code",
      "source": [
        "results"
      ],
      "execution_count": 0,
      "outputs": [
        {
          "output_type": "execute_result",
          "data": {
            "text/html": [
              "<div>\n",
              "<style scoped>\n",
              "    .dataframe tbody tr th:only-of-type {\n",
              "        vertical-align: middle;\n",
              "    }\n",
              "\n",
              "    .dataframe tbody tr th {\n",
              "        vertical-align: top;\n",
              "    }\n",
              "\n",
              "    .dataframe thead th {\n",
              "        text-align: right;\n",
              "    }\n",
              "</style>\n",
              "<table border=\"1\" class=\"dataframe\">\n",
              "  <thead>\n",
              "    <tr style=\"text-align: right;\">\n",
              "      <th></th>\n",
              "      <th>logisticreg_norm_l2_stratified_kfold_F1</th>\n",
              "      <th>logisticreg_norm_l2_stratified_kfold_AUC</th>\n",
              "      <th>logisticreg_norm_l2_stratified_kfold_BACC</th>\n",
              "      <th>logisticreg_norm_l2_stratified_kfold_TPR</th>\n",
              "      <th>logisticreg_norm_l2_stratified_kfold_TNR</th>\n",
              "    </tr>\n",
              "  </thead>\n",
              "  <tbody>\n",
              "    <tr>\n",
              "      <th>0</th>\n",
              "      <td>0.0</td>\n",
              "      <td>0.5</td>\n",
              "      <td>0.5</td>\n",
              "      <td>0.0</td>\n",
              "      <td>1.0</td>\n",
              "    </tr>\n",
              "    <tr>\n",
              "      <th>1</th>\n",
              "      <td>0.0</td>\n",
              "      <td>0.5</td>\n",
              "      <td>0.5</td>\n",
              "      <td>0.0</td>\n",
              "      <td>1.0</td>\n",
              "    </tr>\n",
              "    <tr>\n",
              "      <th>2</th>\n",
              "      <td>0.0</td>\n",
              "      <td>0.5</td>\n",
              "      <td>0.5</td>\n",
              "      <td>0.0</td>\n",
              "      <td>1.0</td>\n",
              "    </tr>\n",
              "    <tr>\n",
              "      <th>3</th>\n",
              "      <td>0.0</td>\n",
              "      <td>0.5</td>\n",
              "      <td>0.5</td>\n",
              "      <td>0.0</td>\n",
              "      <td>1.0</td>\n",
              "    </tr>\n",
              "    <tr>\n",
              "      <th>4</th>\n",
              "      <td>0.0</td>\n",
              "      <td>0.5</td>\n",
              "      <td>0.5</td>\n",
              "      <td>0.0</td>\n",
              "      <td>1.0</td>\n",
              "    </tr>\n",
              "    <tr>\n",
              "      <th>5</th>\n",
              "      <td>0.0</td>\n",
              "      <td>0.5</td>\n",
              "      <td>0.5</td>\n",
              "      <td>0.0</td>\n",
              "      <td>1.0</td>\n",
              "    </tr>\n",
              "    <tr>\n",
              "      <th>6</th>\n",
              "      <td>0.0</td>\n",
              "      <td>0.5</td>\n",
              "      <td>0.5</td>\n",
              "      <td>0.0</td>\n",
              "      <td>1.0</td>\n",
              "    </tr>\n",
              "    <tr>\n",
              "      <th>7</th>\n",
              "      <td>0.0</td>\n",
              "      <td>0.5</td>\n",
              "      <td>0.5</td>\n",
              "      <td>0.0</td>\n",
              "      <td>1.0</td>\n",
              "    </tr>\n",
              "    <tr>\n",
              "      <th>8</th>\n",
              "      <td>0.0</td>\n",
              "      <td>0.5</td>\n",
              "      <td>0.5</td>\n",
              "      <td>0.0</td>\n",
              "      <td>1.0</td>\n",
              "    </tr>\n",
              "    <tr>\n",
              "      <th>9</th>\n",
              "      <td>0.0</td>\n",
              "      <td>0.5</td>\n",
              "      <td>0.5</td>\n",
              "      <td>0.0</td>\n",
              "      <td>1.0</td>\n",
              "    </tr>\n",
              "  </tbody>\n",
              "</table>\n",
              "</div>"
            ],
            "text/plain": [
              "   logisticreg_norm_l2_stratified_kfold_F1  \\\n",
              "0                                      0.0   \n",
              "1                                      0.0   \n",
              "2                                      0.0   \n",
              "3                                      0.0   \n",
              "4                                      0.0   \n",
              "5                                      0.0   \n",
              "6                                      0.0   \n",
              "7                                      0.0   \n",
              "8                                      0.0   \n",
              "9                                      0.0   \n",
              "\n",
              "   logisticreg_norm_l2_stratified_kfold_AUC  \\\n",
              "0                                       0.5   \n",
              "1                                       0.5   \n",
              "2                                       0.5   \n",
              "3                                       0.5   \n",
              "4                                       0.5   \n",
              "5                                       0.5   \n",
              "6                                       0.5   \n",
              "7                                       0.5   \n",
              "8                                       0.5   \n",
              "9                                       0.5   \n",
              "\n",
              "   logisticreg_norm_l2_stratified_kfold_BACC  \\\n",
              "0                                        0.5   \n",
              "1                                        0.5   \n",
              "2                                        0.5   \n",
              "3                                        0.5   \n",
              "4                                        0.5   \n",
              "5                                        0.5   \n",
              "6                                        0.5   \n",
              "7                                        0.5   \n",
              "8                                        0.5   \n",
              "9                                        0.5   \n",
              "\n",
              "   logisticreg_norm_l2_stratified_kfold_TPR  \\\n",
              "0                                       0.0   \n",
              "1                                       0.0   \n",
              "2                                       0.0   \n",
              "3                                       0.0   \n",
              "4                                       0.0   \n",
              "5                                       0.0   \n",
              "6                                       0.0   \n",
              "7                                       0.0   \n",
              "8                                       0.0   \n",
              "9                                       0.0   \n",
              "\n",
              "   logisticreg_norm_l2_stratified_kfold_TNR  \n",
              "0                                       1.0  \n",
              "1                                       1.0  \n",
              "2                                       1.0  \n",
              "3                                       1.0  \n",
              "4                                       1.0  \n",
              "5                                       1.0  \n",
              "6                                       1.0  \n",
              "7                                       1.0  \n",
              "8                                       1.0  \n",
              "9                                       1.0  "
            ]
          },
          "metadata": {
            "tags": []
          },
          "execution_count": 117
        }
      ]
    },
    {
      "metadata": {
        "id": "eDHI2rAdEJnx",
        "colab_type": "text"
      },
      "cell_type": "markdown",
      "source": [
        "##### Logistic regr - l1 norm"
      ]
    },
    {
      "metadata": {
        "id": "aoB7A1FEERAn",
        "colab_type": "code",
        "outputId": "da24b15d-3f18-4c11-bda8-8d4d7fb99a87",
        "colab": {
          "base_uri": "https://localhost:8080/",
          "height": 887
        }
      },
      "cell_type": "code",
      "source": [
        "results = test_results(model_builder, linear_model.LogisticRegression, pd.DataFrame(normalize(data_X, axis=0, norm='l1')), data_Y, \"logisticreg_norm_l1\")"
      ],
      "execution_count": 0,
      "outputs": [
        {
          "output_type": "stream",
          "text": [
            "/usr/local/lib/python3.6/dist-packages/sklearn/linear_model/logistic.py:433: FutureWarning: Default solver will be changed to 'lbfgs' in 0.22. Specify a solver to silence this warning.\n",
            "  FutureWarning)\n"
          ],
          "name": "stderr"
        },
        {
          "output_type": "stream",
          "text": [
            "0.0\n"
          ],
          "name": "stdout"
        },
        {
          "output_type": "stream",
          "text": [
            "/usr/local/lib/python3.6/dist-packages/sklearn/metrics/classification.py:1143: UndefinedMetricWarning: F-score is ill-defined and being set to 0.0 due to no predicted samples.\n",
            "  'precision', 'predicted', average, warn_for)\n",
            "/usr/local/lib/python3.6/dist-packages/sklearn/linear_model/logistic.py:433: FutureWarning: Default solver will be changed to 'lbfgs' in 0.22. Specify a solver to silence this warning.\n",
            "  FutureWarning)\n"
          ],
          "name": "stderr"
        },
        {
          "output_type": "stream",
          "text": [
            "0.0\n"
          ],
          "name": "stdout"
        },
        {
          "output_type": "stream",
          "text": [
            "/usr/local/lib/python3.6/dist-packages/sklearn/metrics/classification.py:1143: UndefinedMetricWarning: F-score is ill-defined and being set to 0.0 due to no predicted samples.\n",
            "  'precision', 'predicted', average, warn_for)\n",
            "/usr/local/lib/python3.6/dist-packages/sklearn/linear_model/logistic.py:433: FutureWarning: Default solver will be changed to 'lbfgs' in 0.22. Specify a solver to silence this warning.\n",
            "  FutureWarning)\n"
          ],
          "name": "stderr"
        },
        {
          "output_type": "stream",
          "text": [
            "0.0\n"
          ],
          "name": "stdout"
        },
        {
          "output_type": "stream",
          "text": [
            "/usr/local/lib/python3.6/dist-packages/sklearn/metrics/classification.py:1143: UndefinedMetricWarning: F-score is ill-defined and being set to 0.0 due to no predicted samples.\n",
            "  'precision', 'predicted', average, warn_for)\n",
            "/usr/local/lib/python3.6/dist-packages/sklearn/linear_model/logistic.py:433: FutureWarning: Default solver will be changed to 'lbfgs' in 0.22. Specify a solver to silence this warning.\n",
            "  FutureWarning)\n"
          ],
          "name": "stderr"
        },
        {
          "output_type": "stream",
          "text": [
            "0.0\n"
          ],
          "name": "stdout"
        },
        {
          "output_type": "stream",
          "text": [
            "/usr/local/lib/python3.6/dist-packages/sklearn/metrics/classification.py:1143: UndefinedMetricWarning: F-score is ill-defined and being set to 0.0 due to no predicted samples.\n",
            "  'precision', 'predicted', average, warn_for)\n",
            "/usr/local/lib/python3.6/dist-packages/sklearn/linear_model/logistic.py:433: FutureWarning: Default solver will be changed to 'lbfgs' in 0.22. Specify a solver to silence this warning.\n",
            "  FutureWarning)\n"
          ],
          "name": "stderr"
        },
        {
          "output_type": "stream",
          "text": [
            "0.0\n"
          ],
          "name": "stdout"
        },
        {
          "output_type": "stream",
          "text": [
            "/usr/local/lib/python3.6/dist-packages/sklearn/metrics/classification.py:1143: UndefinedMetricWarning: F-score is ill-defined and being set to 0.0 due to no predicted samples.\n",
            "  'precision', 'predicted', average, warn_for)\n",
            "/usr/local/lib/python3.6/dist-packages/sklearn/linear_model/logistic.py:433: FutureWarning: Default solver will be changed to 'lbfgs' in 0.22. Specify a solver to silence this warning.\n",
            "  FutureWarning)\n"
          ],
          "name": "stderr"
        },
        {
          "output_type": "stream",
          "text": [
            "0.0\n"
          ],
          "name": "stdout"
        },
        {
          "output_type": "stream",
          "text": [
            "/usr/local/lib/python3.6/dist-packages/sklearn/metrics/classification.py:1143: UndefinedMetricWarning: F-score is ill-defined and being set to 0.0 due to no predicted samples.\n",
            "  'precision', 'predicted', average, warn_for)\n",
            "/usr/local/lib/python3.6/dist-packages/sklearn/linear_model/logistic.py:433: FutureWarning: Default solver will be changed to 'lbfgs' in 0.22. Specify a solver to silence this warning.\n",
            "  FutureWarning)\n"
          ],
          "name": "stderr"
        },
        {
          "output_type": "stream",
          "text": [
            "0.0\n"
          ],
          "name": "stdout"
        },
        {
          "output_type": "stream",
          "text": [
            "/usr/local/lib/python3.6/dist-packages/sklearn/metrics/classification.py:1143: UndefinedMetricWarning: F-score is ill-defined and being set to 0.0 due to no predicted samples.\n",
            "  'precision', 'predicted', average, warn_for)\n",
            "/usr/local/lib/python3.6/dist-packages/sklearn/linear_model/logistic.py:433: FutureWarning: Default solver will be changed to 'lbfgs' in 0.22. Specify a solver to silence this warning.\n",
            "  FutureWarning)\n"
          ],
          "name": "stderr"
        },
        {
          "output_type": "stream",
          "text": [
            "0.0\n"
          ],
          "name": "stdout"
        },
        {
          "output_type": "stream",
          "text": [
            "/usr/local/lib/python3.6/dist-packages/sklearn/metrics/classification.py:1143: UndefinedMetricWarning: F-score is ill-defined and being set to 0.0 due to no predicted samples.\n",
            "  'precision', 'predicted', average, warn_for)\n",
            "/usr/local/lib/python3.6/dist-packages/sklearn/linear_model/logistic.py:433: FutureWarning: Default solver will be changed to 'lbfgs' in 0.22. Specify a solver to silence this warning.\n",
            "  FutureWarning)\n"
          ],
          "name": "stderr"
        },
        {
          "output_type": "stream",
          "text": [
            "0.0\n"
          ],
          "name": "stdout"
        },
        {
          "output_type": "stream",
          "text": [
            "/usr/local/lib/python3.6/dist-packages/sklearn/metrics/classification.py:1143: UndefinedMetricWarning: F-score is ill-defined and being set to 0.0 due to no predicted samples.\n",
            "  'precision', 'predicted', average, warn_for)\n",
            "/usr/local/lib/python3.6/dist-packages/sklearn/linear_model/logistic.py:433: FutureWarning: Default solver will be changed to 'lbfgs' in 0.22. Specify a solver to silence this warning.\n",
            "  FutureWarning)\n"
          ],
          "name": "stderr"
        },
        {
          "output_type": "stream",
          "text": [
            "0.0\n"
          ],
          "name": "stdout"
        },
        {
          "output_type": "stream",
          "text": [
            "/usr/local/lib/python3.6/dist-packages/sklearn/metrics/classification.py:1143: UndefinedMetricWarning: F-score is ill-defined and being set to 0.0 due to no predicted samples.\n",
            "  'precision', 'predicted', average, warn_for)\n"
          ],
          "name": "stderr"
        }
      ]
    },
    {
      "metadata": {
        "id": "lcr39LfjEZ3J",
        "colab_type": "code",
        "outputId": "a21dc052-9bd4-4a99-a18e-eae6cf7c25ec",
        "colab": {
          "base_uri": "https://localhost:8080/",
          "height": 359
        }
      },
      "cell_type": "code",
      "source": [
        "results"
      ],
      "execution_count": 0,
      "outputs": [
        {
          "output_type": "execute_result",
          "data": {
            "text/html": [
              "<div>\n",
              "<style scoped>\n",
              "    .dataframe tbody tr th:only-of-type {\n",
              "        vertical-align: middle;\n",
              "    }\n",
              "\n",
              "    .dataframe tbody tr th {\n",
              "        vertical-align: top;\n",
              "    }\n",
              "\n",
              "    .dataframe thead th {\n",
              "        text-align: right;\n",
              "    }\n",
              "</style>\n",
              "<table border=\"1\" class=\"dataframe\">\n",
              "  <thead>\n",
              "    <tr style=\"text-align: right;\">\n",
              "      <th></th>\n",
              "      <th>logisticreg_norm_l1_stratified_kfold_F1</th>\n",
              "      <th>logisticreg_norm_l1_stratified_kfold_AUC</th>\n",
              "      <th>logisticreg_norm_l1_stratified_kfold_BACC</th>\n",
              "      <th>logisticreg_norm_l1_stratified_kfold_TPR</th>\n",
              "      <th>logisticreg_norm_l1_stratified_kfold_TNR</th>\n",
              "    </tr>\n",
              "  </thead>\n",
              "  <tbody>\n",
              "    <tr>\n",
              "      <th>0</th>\n",
              "      <td>0.0</td>\n",
              "      <td>0.5</td>\n",
              "      <td>0.5</td>\n",
              "      <td>0.0</td>\n",
              "      <td>1.0</td>\n",
              "    </tr>\n",
              "    <tr>\n",
              "      <th>1</th>\n",
              "      <td>0.0</td>\n",
              "      <td>0.5</td>\n",
              "      <td>0.5</td>\n",
              "      <td>0.0</td>\n",
              "      <td>1.0</td>\n",
              "    </tr>\n",
              "    <tr>\n",
              "      <th>2</th>\n",
              "      <td>0.0</td>\n",
              "      <td>0.5</td>\n",
              "      <td>0.5</td>\n",
              "      <td>0.0</td>\n",
              "      <td>1.0</td>\n",
              "    </tr>\n",
              "    <tr>\n",
              "      <th>3</th>\n",
              "      <td>0.0</td>\n",
              "      <td>0.5</td>\n",
              "      <td>0.5</td>\n",
              "      <td>0.0</td>\n",
              "      <td>1.0</td>\n",
              "    </tr>\n",
              "    <tr>\n",
              "      <th>4</th>\n",
              "      <td>0.0</td>\n",
              "      <td>0.5</td>\n",
              "      <td>0.5</td>\n",
              "      <td>0.0</td>\n",
              "      <td>1.0</td>\n",
              "    </tr>\n",
              "    <tr>\n",
              "      <th>5</th>\n",
              "      <td>0.0</td>\n",
              "      <td>0.5</td>\n",
              "      <td>0.5</td>\n",
              "      <td>0.0</td>\n",
              "      <td>1.0</td>\n",
              "    </tr>\n",
              "    <tr>\n",
              "      <th>6</th>\n",
              "      <td>0.0</td>\n",
              "      <td>0.5</td>\n",
              "      <td>0.5</td>\n",
              "      <td>0.0</td>\n",
              "      <td>1.0</td>\n",
              "    </tr>\n",
              "    <tr>\n",
              "      <th>7</th>\n",
              "      <td>0.0</td>\n",
              "      <td>0.5</td>\n",
              "      <td>0.5</td>\n",
              "      <td>0.0</td>\n",
              "      <td>1.0</td>\n",
              "    </tr>\n",
              "    <tr>\n",
              "      <th>8</th>\n",
              "      <td>0.0</td>\n",
              "      <td>0.5</td>\n",
              "      <td>0.5</td>\n",
              "      <td>0.0</td>\n",
              "      <td>1.0</td>\n",
              "    </tr>\n",
              "    <tr>\n",
              "      <th>9</th>\n",
              "      <td>0.0</td>\n",
              "      <td>0.5</td>\n",
              "      <td>0.5</td>\n",
              "      <td>0.0</td>\n",
              "      <td>1.0</td>\n",
              "    </tr>\n",
              "  </tbody>\n",
              "</table>\n",
              "</div>"
            ],
            "text/plain": [
              "   logisticreg_norm_l1_stratified_kfold_F1  \\\n",
              "0                                      0.0   \n",
              "1                                      0.0   \n",
              "2                                      0.0   \n",
              "3                                      0.0   \n",
              "4                                      0.0   \n",
              "5                                      0.0   \n",
              "6                                      0.0   \n",
              "7                                      0.0   \n",
              "8                                      0.0   \n",
              "9                                      0.0   \n",
              "\n",
              "   logisticreg_norm_l1_stratified_kfold_AUC  \\\n",
              "0                                       0.5   \n",
              "1                                       0.5   \n",
              "2                                       0.5   \n",
              "3                                       0.5   \n",
              "4                                       0.5   \n",
              "5                                       0.5   \n",
              "6                                       0.5   \n",
              "7                                       0.5   \n",
              "8                                       0.5   \n",
              "9                                       0.5   \n",
              "\n",
              "   logisticreg_norm_l1_stratified_kfold_BACC  \\\n",
              "0                                        0.5   \n",
              "1                                        0.5   \n",
              "2                                        0.5   \n",
              "3                                        0.5   \n",
              "4                                        0.5   \n",
              "5                                        0.5   \n",
              "6                                        0.5   \n",
              "7                                        0.5   \n",
              "8                                        0.5   \n",
              "9                                        0.5   \n",
              "\n",
              "   logisticreg_norm_l1_stratified_kfold_TPR  \\\n",
              "0                                       0.0   \n",
              "1                                       0.0   \n",
              "2                                       0.0   \n",
              "3                                       0.0   \n",
              "4                                       0.0   \n",
              "5                                       0.0   \n",
              "6                                       0.0   \n",
              "7                                       0.0   \n",
              "8                                       0.0   \n",
              "9                                       0.0   \n",
              "\n",
              "   logisticreg_norm_l1_stratified_kfold_TNR  \n",
              "0                                       1.0  \n",
              "1                                       1.0  \n",
              "2                                       1.0  \n",
              "3                                       1.0  \n",
              "4                                       1.0  \n",
              "5                                       1.0  \n",
              "6                                       1.0  \n",
              "7                                       1.0  \n",
              "8                                       1.0  \n",
              "9                                       1.0  "
            ]
          },
          "metadata": {
            "tags": []
          },
          "execution_count": 115
        }
      ]
    },
    {
      "metadata": {
        "id": "SAKxiApNFJZl",
        "colab_type": "text"
      },
      "cell_type": "markdown",
      "source": [
        "#### SGDClassifier"
      ]
    },
    {
      "metadata": {
        "id": "yGl7d_6fGSMD",
        "colab_type": "code",
        "outputId": "2b3d3401-562d-4e6e-dffd-758540e58f85",
        "colab": {
          "base_uri": "https://localhost:8080/",
          "height": 71
        }
      },
      "cell_type": "code",
      "source": [
        "model = linear_model.SGDClassifier()\n",
        "model = model.fit(train_X, train_Y)\n",
        "predicts = model.predict(test_X)"
      ],
      "execution_count": 0,
      "outputs": [
        {
          "output_type": "stream",
          "text": [
            "/usr/local/lib/python3.6/dist-packages/sklearn/linear_model/stochastic_gradient.py:166: FutureWarning: max_iter and tol parameters have been added in SGDClassifier in 0.19. If both are left unset, they default to max_iter=5 and tol=None. If tol is not None, max_iter defaults to max_iter=1000. From 0.21, default max_iter will be 1000, and default tol will be 1e-3.\n",
            "  FutureWarning)\n"
          ],
          "name": "stderr"
        }
      ]
    },
    {
      "metadata": {
        "id": "2B_UCeDVGtrn",
        "colab_type": "code",
        "outputId": "6f372198-2b2b-4f28-9c5d-4e37150185ab",
        "colab": {
          "base_uri": "https://localhost:8080/",
          "height": 34
        }
      },
      "cell_type": "code",
      "source": [
        ""
      ],
      "execution_count": 0,
      "outputs": [
        {
          "output_type": "execute_result",
          "data": {
            "text/plain": [
              "40.0"
            ]
          },
          "metadata": {
            "tags": []
          },
          "execution_count": 169
        }
      ]
    },
    {
      "metadata": {
        "id": "v-5srReCFdpp",
        "colab_type": "text"
      },
      "cell_type": "markdown",
      "source": [
        "##### denorm"
      ]
    },
    {
      "metadata": {
        "id": "LrxLgqmVFgET",
        "colab_type": "code",
        "outputId": "e12c2ef7-c7de-46e7-8b58-5d564108d9e4",
        "colab": {
          "base_uri": "https://localhost:8080/",
          "height": 581
        }
      },
      "cell_type": "code",
      "source": [
        "results = test_results(model_builder, linear_model.SGDClassifier, data_X, data_Y, \"SGD_denorm\")"
      ],
      "execution_count": 0,
      "outputs": [
        {
          "output_type": "stream",
          "text": [
            "/usr/local/lib/python3.6/dist-packages/sklearn/linear_model/stochastic_gradient.py:166: FutureWarning: max_iter and tol parameters have been added in SGDClassifier in 0.19. If both are left unset, they default to max_iter=5 and tol=None. If tol is not None, max_iter defaults to max_iter=1000. From 0.21, default max_iter will be 1000, and default tol will be 1e-3.\n",
            "  FutureWarning)\n"
          ],
          "name": "stderr"
        },
        {
          "output_type": "stream",
          "text": [
            "932.0\n"
          ],
          "name": "stdout"
        },
        {
          "output_type": "stream",
          "text": [
            "/usr/local/lib/python3.6/dist-packages/sklearn/linear_model/stochastic_gradient.py:166: FutureWarning: max_iter and tol parameters have been added in SGDClassifier in 0.19. If both are left unset, they default to max_iter=5 and tol=None. If tol is not None, max_iter defaults to max_iter=1000. From 0.21, default max_iter will be 1000, and default tol will be 1e-3.\n",
            "  FutureWarning)\n"
          ],
          "name": "stderr"
        },
        {
          "output_type": "stream",
          "text": [
            "14.0\n"
          ],
          "name": "stdout"
        },
        {
          "output_type": "stream",
          "text": [
            "/usr/local/lib/python3.6/dist-packages/sklearn/linear_model/stochastic_gradient.py:166: FutureWarning: max_iter and tol parameters have been added in SGDClassifier in 0.19. If both are left unset, they default to max_iter=5 and tol=None. If tol is not None, max_iter defaults to max_iter=1000. From 0.21, default max_iter will be 1000, and default tol will be 1e-3.\n",
            "  FutureWarning)\n"
          ],
          "name": "stderr"
        },
        {
          "output_type": "stream",
          "text": [
            "202.0\n"
          ],
          "name": "stdout"
        },
        {
          "output_type": "stream",
          "text": [
            "/usr/local/lib/python3.6/dist-packages/sklearn/linear_model/stochastic_gradient.py:166: FutureWarning: max_iter and tol parameters have been added in SGDClassifier in 0.19. If both are left unset, they default to max_iter=5 and tol=None. If tol is not None, max_iter defaults to max_iter=1000. From 0.21, default max_iter will be 1000, and default tol will be 1e-3.\n",
            "  FutureWarning)\n"
          ],
          "name": "stderr"
        },
        {
          "output_type": "stream",
          "text": [
            "482.0\n"
          ],
          "name": "stdout"
        },
        {
          "output_type": "stream",
          "text": [
            "/usr/local/lib/python3.6/dist-packages/sklearn/linear_model/stochastic_gradient.py:166: FutureWarning: max_iter and tol parameters have been added in SGDClassifier in 0.19. If both are left unset, they default to max_iter=5 and tol=None. If tol is not None, max_iter defaults to max_iter=1000. From 0.21, default max_iter will be 1000, and default tol will be 1e-3.\n",
            "  FutureWarning)\n"
          ],
          "name": "stderr"
        },
        {
          "output_type": "stream",
          "text": [
            "684.0\n"
          ],
          "name": "stdout"
        },
        {
          "output_type": "stream",
          "text": [
            "/usr/local/lib/python3.6/dist-packages/sklearn/linear_model/stochastic_gradient.py:166: FutureWarning: max_iter and tol parameters have been added in SGDClassifier in 0.19. If both are left unset, they default to max_iter=5 and tol=None. If tol is not None, max_iter defaults to max_iter=1000. From 0.21, default max_iter will be 1000, and default tol will be 1e-3.\n",
            "  FutureWarning)\n"
          ],
          "name": "stderr"
        },
        {
          "output_type": "stream",
          "text": [
            "0.0\n"
          ],
          "name": "stdout"
        },
        {
          "output_type": "stream",
          "text": [
            "/usr/local/lib/python3.6/dist-packages/sklearn/metrics/classification.py:1143: UndefinedMetricWarning: F-score is ill-defined and being set to 0.0 due to no predicted samples.\n",
            "  'precision', 'predicted', average, warn_for)\n",
            "/usr/local/lib/python3.6/dist-packages/sklearn/linear_model/stochastic_gradient.py:166: FutureWarning: max_iter and tol parameters have been added in SGDClassifier in 0.19. If both are left unset, they default to max_iter=5 and tol=None. If tol is not None, max_iter defaults to max_iter=1000. From 0.21, default max_iter will be 1000, and default tol will be 1e-3.\n",
            "  FutureWarning)\n"
          ],
          "name": "stderr"
        },
        {
          "output_type": "stream",
          "text": [
            "2338.0\n"
          ],
          "name": "stdout"
        },
        {
          "output_type": "stream",
          "text": [
            "/usr/local/lib/python3.6/dist-packages/sklearn/linear_model/stochastic_gradient.py:166: FutureWarning: max_iter and tol parameters have been added in SGDClassifier in 0.19. If both are left unset, they default to max_iter=5 and tol=None. If tol is not None, max_iter defaults to max_iter=1000. From 0.21, default max_iter will be 1000, and default tol will be 1e-3.\n",
            "  FutureWarning)\n"
          ],
          "name": "stderr"
        },
        {
          "output_type": "stream",
          "text": [
            "51.0\n"
          ],
          "name": "stdout"
        },
        {
          "output_type": "stream",
          "text": [
            "/usr/local/lib/python3.6/dist-packages/sklearn/linear_model/stochastic_gradient.py:166: FutureWarning: max_iter and tol parameters have been added in SGDClassifier in 0.19. If both are left unset, they default to max_iter=5 and tol=None. If tol is not None, max_iter defaults to max_iter=1000. From 0.21, default max_iter will be 1000, and default tol will be 1e-3.\n",
            "  FutureWarning)\n"
          ],
          "name": "stderr"
        },
        {
          "output_type": "stream",
          "text": [
            "1028.0\n"
          ],
          "name": "stdout"
        },
        {
          "output_type": "stream",
          "text": [
            "/usr/local/lib/python3.6/dist-packages/sklearn/linear_model/stochastic_gradient.py:166: FutureWarning: max_iter and tol parameters have been added in SGDClassifier in 0.19. If both are left unset, they default to max_iter=5 and tol=None. If tol is not None, max_iter defaults to max_iter=1000. From 0.21, default max_iter will be 1000, and default tol will be 1e-3.\n",
            "  FutureWarning)\n"
          ],
          "name": "stderr"
        },
        {
          "output_type": "stream",
          "text": [
            "392.0\n"
          ],
          "name": "stdout"
        }
      ]
    },
    {
      "metadata": {
        "id": "deLC9JI4FmVC",
        "colab_type": "code",
        "outputId": "b7ac61f9-9f43-4a6b-901b-d54d1d2e147a",
        "colab": {
          "base_uri": "https://localhost:8080/",
          "height": 359
        }
      },
      "cell_type": "code",
      "source": [
        "results"
      ],
      "execution_count": 0,
      "outputs": [
        {
          "output_type": "execute_result",
          "data": {
            "text/html": [
              "<div>\n",
              "<style scoped>\n",
              "    .dataframe tbody tr th:only-of-type {\n",
              "        vertical-align: middle;\n",
              "    }\n",
              "\n",
              "    .dataframe tbody tr th {\n",
              "        vertical-align: top;\n",
              "    }\n",
              "\n",
              "    .dataframe thead th {\n",
              "        text-align: right;\n",
              "    }\n",
              "</style>\n",
              "<table border=\"1\" class=\"dataframe\">\n",
              "  <thead>\n",
              "    <tr style=\"text-align: right;\">\n",
              "      <th></th>\n",
              "      <th>SGD_denorm_stratified_kfold_F1</th>\n",
              "      <th>SGD_denorm_stratified_kfold_AUC</th>\n",
              "      <th>SGD_denorm_stratified_kfold_BACC</th>\n",
              "      <th>SGD_denorm_stratified_kfold_TPR</th>\n",
              "      <th>SGD_denorm_stratified_kfold_TNR</th>\n",
              "    </tr>\n",
              "  </thead>\n",
              "  <tbody>\n",
              "    <tr>\n",
              "      <th>0</th>\n",
              "      <td>0.282780</td>\n",
              "      <td>0.740556</td>\n",
              "      <td>0.740556</td>\n",
              "      <td>0.535928</td>\n",
              "      <td>0.945185</td>\n",
              "    </tr>\n",
              "    <tr>\n",
              "      <th>1</th>\n",
              "      <td>0.016667</td>\n",
              "      <td>0.503935</td>\n",
              "      <td>0.503935</td>\n",
              "      <td>0.008671</td>\n",
              "      <td>0.999199</td>\n",
              "    </tr>\n",
              "    <tr>\n",
              "      <th>2</th>\n",
              "      <td>0.277457</td>\n",
              "      <td>0.608839</td>\n",
              "      <td>0.608839</td>\n",
              "      <td>0.227129</td>\n",
              "      <td>0.990548</td>\n",
              "    </tr>\n",
              "    <tr>\n",
              "      <th>3</th>\n",
              "      <td>0.145759</td>\n",
              "      <td>0.570568</td>\n",
              "      <td>0.570568</td>\n",
              "      <td>0.171831</td>\n",
              "      <td>0.969306</td>\n",
              "    </tr>\n",
              "    <tr>\n",
              "      <th>4</th>\n",
              "      <td>0.306807</td>\n",
              "      <td>0.703734</td>\n",
              "      <td>0.703734</td>\n",
              "      <td>0.445682</td>\n",
              "      <td>0.961785</td>\n",
              "    </tr>\n",
              "    <tr>\n",
              "      <th>5</th>\n",
              "      <td>0.000000</td>\n",
              "      <td>0.500000</td>\n",
              "      <td>0.500000</td>\n",
              "      <td>0.000000</td>\n",
              "      <td>1.000000</td>\n",
              "    </tr>\n",
              "    <tr>\n",
              "      <th>6</th>\n",
              "      <td>0.237645</td>\n",
              "      <td>0.821302</td>\n",
              "      <td>0.821302</td>\n",
              "      <td>0.789855</td>\n",
              "      <td>0.852750</td>\n",
              "    </tr>\n",
              "    <tr>\n",
              "      <th>7</th>\n",
              "      <td>0.064815</td>\n",
              "      <td>0.517021</td>\n",
              "      <td>0.517021</td>\n",
              "      <td>0.036745</td>\n",
              "      <td>0.997297</td>\n",
              "    </tr>\n",
              "    <tr>\n",
              "      <th>8</th>\n",
              "      <td>0.309423</td>\n",
              "      <td>0.749647</td>\n",
              "      <td>0.749647</td>\n",
              "      <td>0.558376</td>\n",
              "      <td>0.940918</td>\n",
              "    </tr>\n",
              "    <tr>\n",
              "      <th>9</th>\n",
              "      <td>0.280928</td>\n",
              "      <td>0.631588</td>\n",
              "      <td>0.631588</td>\n",
              "      <td>0.283854</td>\n",
              "      <td>0.979322</td>\n",
              "    </tr>\n",
              "  </tbody>\n",
              "</table>\n",
              "</div>"
            ],
            "text/plain": [
              "   SGD_denorm_stratified_kfold_F1  SGD_denorm_stratified_kfold_AUC  \\\n",
              "0                        0.282780                         0.740556   \n",
              "1                        0.016667                         0.503935   \n",
              "2                        0.277457                         0.608839   \n",
              "3                        0.145759                         0.570568   \n",
              "4                        0.306807                         0.703734   \n",
              "5                        0.000000                         0.500000   \n",
              "6                        0.237645                         0.821302   \n",
              "7                        0.064815                         0.517021   \n",
              "8                        0.309423                         0.749647   \n",
              "9                        0.280928                         0.631588   \n",
              "\n",
              "   SGD_denorm_stratified_kfold_BACC  SGD_denorm_stratified_kfold_TPR  \\\n",
              "0                          0.740556                         0.535928   \n",
              "1                          0.503935                         0.008671   \n",
              "2                          0.608839                         0.227129   \n",
              "3                          0.570568                         0.171831   \n",
              "4                          0.703734                         0.445682   \n",
              "5                          0.500000                         0.000000   \n",
              "6                          0.821302                         0.789855   \n",
              "7                          0.517021                         0.036745   \n",
              "8                          0.749647                         0.558376   \n",
              "9                          0.631588                         0.283854   \n",
              "\n",
              "   SGD_denorm_stratified_kfold_TNR  \n",
              "0                         0.945185  \n",
              "1                         0.999199  \n",
              "2                         0.990548  \n",
              "3                         0.969306  \n",
              "4                         0.961785  \n",
              "5                         1.000000  \n",
              "6                         0.852750  \n",
              "7                         0.997297  \n",
              "8                         0.940918  \n",
              "9                         0.979322  "
            ]
          },
          "metadata": {
            "tags": []
          },
          "execution_count": 121
        }
      ]
    },
    {
      "metadata": {
        "id": "t0GhW8xLFZz4",
        "colab_type": "text"
      },
      "cell_type": "markdown",
      "source": [
        "##### max norm"
      ]
    },
    {
      "metadata": {
        "id": "eKLygL1LFMgh",
        "colab_type": "code",
        "outputId": "9b624cf6-36cf-4f83-f7c6-c1016842b354",
        "colab": {
          "base_uri": "https://localhost:8080/",
          "height": 547
        }
      },
      "cell_type": "code",
      "source": [
        "results = test_results(model_builder, linear_model.SGDClassifier, pd.DataFrame(normalize(data_X, axis=0, norm='max')), data_Y, \"SGD_norm_max\")"
      ],
      "execution_count": 0,
      "outputs": [
        {
          "output_type": "stream",
          "text": [
            "/usr/local/lib/python3.6/dist-packages/sklearn/linear_model/stochastic_gradient.py:166: FutureWarning: max_iter and tol parameters have been added in SGDClassifier in 0.19. If both are left unset, they default to max_iter=5 and tol=None. If tol is not None, max_iter defaults to max_iter=1000. From 0.21, default max_iter will be 1000, and default tol will be 1e-3.\n",
            "  FutureWarning)\n"
          ],
          "name": "stderr"
        },
        {
          "output_type": "stream",
          "text": [
            "35.0\n"
          ],
          "name": "stdout"
        },
        {
          "output_type": "stream",
          "text": [
            "/usr/local/lib/python3.6/dist-packages/sklearn/linear_model/stochastic_gradient.py:166: FutureWarning: max_iter and tol parameters have been added in SGDClassifier in 0.19. If both are left unset, they default to max_iter=5 and tol=None. If tol is not None, max_iter defaults to max_iter=1000. From 0.21, default max_iter will be 1000, and default tol will be 1e-3.\n",
            "  FutureWarning)\n"
          ],
          "name": "stderr"
        },
        {
          "output_type": "stream",
          "text": [
            "51.0\n"
          ],
          "name": "stdout"
        },
        {
          "output_type": "stream",
          "text": [
            "/usr/local/lib/python3.6/dist-packages/sklearn/linear_model/stochastic_gradient.py:166: FutureWarning: max_iter and tol parameters have been added in SGDClassifier in 0.19. If both are left unset, they default to max_iter=5 and tol=None. If tol is not None, max_iter defaults to max_iter=1000. From 0.21, default max_iter will be 1000, and default tol will be 1e-3.\n",
            "  FutureWarning)\n"
          ],
          "name": "stderr"
        },
        {
          "output_type": "stream",
          "text": [
            "25.0\n"
          ],
          "name": "stdout"
        },
        {
          "output_type": "stream",
          "text": [
            "/usr/local/lib/python3.6/dist-packages/sklearn/linear_model/stochastic_gradient.py:166: FutureWarning: max_iter and tol parameters have been added in SGDClassifier in 0.19. If both are left unset, they default to max_iter=5 and tol=None. If tol is not None, max_iter defaults to max_iter=1000. From 0.21, default max_iter will be 1000, and default tol will be 1e-3.\n",
            "  FutureWarning)\n"
          ],
          "name": "stderr"
        },
        {
          "output_type": "stream",
          "text": [
            "70.0\n"
          ],
          "name": "stdout"
        },
        {
          "output_type": "stream",
          "text": [
            "/usr/local/lib/python3.6/dist-packages/sklearn/linear_model/stochastic_gradient.py:166: FutureWarning: max_iter and tol parameters have been added in SGDClassifier in 0.19. If both are left unset, they default to max_iter=5 and tol=None. If tol is not None, max_iter defaults to max_iter=1000. From 0.21, default max_iter will be 1000, and default tol will be 1e-3.\n",
            "  FutureWarning)\n"
          ],
          "name": "stderr"
        },
        {
          "output_type": "stream",
          "text": [
            "51.0\n"
          ],
          "name": "stdout"
        },
        {
          "output_type": "stream",
          "text": [
            "/usr/local/lib/python3.6/dist-packages/sklearn/linear_model/stochastic_gradient.py:166: FutureWarning: max_iter and tol parameters have been added in SGDClassifier in 0.19. If both are left unset, they default to max_iter=5 and tol=None. If tol is not None, max_iter defaults to max_iter=1000. From 0.21, default max_iter will be 1000, and default tol will be 1e-3.\n",
            "  FutureWarning)\n"
          ],
          "name": "stderr"
        },
        {
          "output_type": "stream",
          "text": [
            "51.0\n"
          ],
          "name": "stdout"
        },
        {
          "output_type": "stream",
          "text": [
            "/usr/local/lib/python3.6/dist-packages/sklearn/linear_model/stochastic_gradient.py:166: FutureWarning: max_iter and tol parameters have been added in SGDClassifier in 0.19. If both are left unset, they default to max_iter=5 and tol=None. If tol is not None, max_iter defaults to max_iter=1000. From 0.21, default max_iter will be 1000, and default tol will be 1e-3.\n",
            "  FutureWarning)\n"
          ],
          "name": "stderr"
        },
        {
          "output_type": "stream",
          "text": [
            "21.0\n"
          ],
          "name": "stdout"
        },
        {
          "output_type": "stream",
          "text": [
            "/usr/local/lib/python3.6/dist-packages/sklearn/linear_model/stochastic_gradient.py:166: FutureWarning: max_iter and tol parameters have been added in SGDClassifier in 0.19. If both are left unset, they default to max_iter=5 and tol=None. If tol is not None, max_iter defaults to max_iter=1000. From 0.21, default max_iter will be 1000, and default tol will be 1e-3.\n",
            "  FutureWarning)\n"
          ],
          "name": "stderr"
        },
        {
          "output_type": "stream",
          "text": [
            "52.0\n"
          ],
          "name": "stdout"
        },
        {
          "output_type": "stream",
          "text": [
            "/usr/local/lib/python3.6/dist-packages/sklearn/linear_model/stochastic_gradient.py:166: FutureWarning: max_iter and tol parameters have been added in SGDClassifier in 0.19. If both are left unset, they default to max_iter=5 and tol=None. If tol is not None, max_iter defaults to max_iter=1000. From 0.21, default max_iter will be 1000, and default tol will be 1e-3.\n",
            "  FutureWarning)\n"
          ],
          "name": "stderr"
        },
        {
          "output_type": "stream",
          "text": [
            "28.0\n"
          ],
          "name": "stdout"
        },
        {
          "output_type": "stream",
          "text": [
            "/usr/local/lib/python3.6/dist-packages/sklearn/linear_model/stochastic_gradient.py:166: FutureWarning: max_iter and tol parameters have been added in SGDClassifier in 0.19. If both are left unset, they default to max_iter=5 and tol=None. If tol is not None, max_iter defaults to max_iter=1000. From 0.21, default max_iter will be 1000, and default tol will be 1e-3.\n",
            "  FutureWarning)\n"
          ],
          "name": "stderr"
        },
        {
          "output_type": "stream",
          "text": [
            "38.0\n"
          ],
          "name": "stdout"
        }
      ]
    },
    {
      "metadata": {
        "id": "jVOxi4NTFXO0",
        "colab_type": "code",
        "outputId": "8e34cce1-4d17-4fa7-c517-c5bb4effc47b",
        "colab": {
          "base_uri": "https://localhost:8080/",
          "height": 359
        }
      },
      "cell_type": "code",
      "source": [
        "results"
      ],
      "execution_count": 0,
      "outputs": [
        {
          "output_type": "execute_result",
          "data": {
            "text/html": [
              "<div>\n",
              "<style scoped>\n",
              "    .dataframe tbody tr th:only-of-type {\n",
              "        vertical-align: middle;\n",
              "    }\n",
              "\n",
              "    .dataframe tbody tr th {\n",
              "        vertical-align: top;\n",
              "    }\n",
              "\n",
              "    .dataframe thead th {\n",
              "        text-align: right;\n",
              "    }\n",
              "</style>\n",
              "<table border=\"1\" class=\"dataframe\">\n",
              "  <thead>\n",
              "    <tr style=\"text-align: right;\">\n",
              "      <th></th>\n",
              "      <th>SGD_norm_max_stratified_kfold_F1</th>\n",
              "      <th>SGD_norm_max_stratified_kfold_AUC</th>\n",
              "      <th>SGD_norm_max_stratified_kfold_BACC</th>\n",
              "      <th>SGD_norm_max_stratified_kfold_TPR</th>\n",
              "      <th>SGD_norm_max_stratified_kfold_TNR</th>\n",
              "    </tr>\n",
              "  </thead>\n",
              "  <tbody>\n",
              "    <tr>\n",
              "      <th>0</th>\n",
              "      <td>0.168022</td>\n",
              "      <td>0.546262</td>\n",
              "      <td>0.546262</td>\n",
              "      <td>0.092814</td>\n",
              "      <td>0.999709</td>\n",
              "    </tr>\n",
              "    <tr>\n",
              "      <th>1</th>\n",
              "      <td>0.206549</td>\n",
              "      <td>0.558884</td>\n",
              "      <td>0.558884</td>\n",
              "      <td>0.118497</td>\n",
              "      <td>0.999271</td>\n",
              "    </tr>\n",
              "    <tr>\n",
              "      <th>2</th>\n",
              "      <td>0.116959</td>\n",
              "      <td>0.531364</td>\n",
              "      <td>0.531364</td>\n",
              "      <td>0.063091</td>\n",
              "      <td>0.999636</td>\n",
              "    </tr>\n",
              "    <tr>\n",
              "      <th>3</th>\n",
              "      <td>0.202353</td>\n",
              "      <td>0.559579</td>\n",
              "      <td>0.559579</td>\n",
              "      <td>0.121127</td>\n",
              "      <td>0.998031</td>\n",
              "    </tr>\n",
              "    <tr>\n",
              "      <th>4</th>\n",
              "      <td>0.170732</td>\n",
              "      <td>0.548163</td>\n",
              "      <td>0.548163</td>\n",
              "      <td>0.097493</td>\n",
              "      <td>0.998833</td>\n",
              "    </tr>\n",
              "    <tr>\n",
              "      <th>5</th>\n",
              "      <td>0.196382</td>\n",
              "      <td>0.556074</td>\n",
              "      <td>0.556074</td>\n",
              "      <td>0.113095</td>\n",
              "      <td>0.999054</td>\n",
              "    </tr>\n",
              "    <tr>\n",
              "      <th>6</th>\n",
              "      <td>0.091954</td>\n",
              "      <td>0.524118</td>\n",
              "      <td>0.524118</td>\n",
              "      <td>0.048309</td>\n",
              "      <td>0.999927</td>\n",
              "    </tr>\n",
              "    <tr>\n",
              "      <th>7</th>\n",
              "      <td>0.175520</td>\n",
              "      <td>0.549357</td>\n",
              "      <td>0.549357</td>\n",
              "      <td>0.099738</td>\n",
              "      <td>0.998977</td>\n",
              "    </tr>\n",
              "    <tr>\n",
              "      <th>8</th>\n",
              "      <td>0.109005</td>\n",
              "      <td>0.529005</td>\n",
              "      <td>0.529005</td>\n",
              "      <td>0.058376</td>\n",
              "      <td>0.999634</td>\n",
              "    </tr>\n",
              "    <tr>\n",
              "      <th>9</th>\n",
              "      <td>0.123223</td>\n",
              "      <td>0.533416</td>\n",
              "      <td>0.533416</td>\n",
              "      <td>0.067708</td>\n",
              "      <td>0.999123</td>\n",
              "    </tr>\n",
              "  </tbody>\n",
              "</table>\n",
              "</div>"
            ],
            "text/plain": [
              "   SGD_norm_max_stratified_kfold_F1  SGD_norm_max_stratified_kfold_AUC  \\\n",
              "0                          0.168022                           0.546262   \n",
              "1                          0.206549                           0.558884   \n",
              "2                          0.116959                           0.531364   \n",
              "3                          0.202353                           0.559579   \n",
              "4                          0.170732                           0.548163   \n",
              "5                          0.196382                           0.556074   \n",
              "6                          0.091954                           0.524118   \n",
              "7                          0.175520                           0.549357   \n",
              "8                          0.109005                           0.529005   \n",
              "9                          0.123223                           0.533416   \n",
              "\n",
              "   SGD_norm_max_stratified_kfold_BACC  SGD_norm_max_stratified_kfold_TPR  \\\n",
              "0                            0.546262                           0.092814   \n",
              "1                            0.558884                           0.118497   \n",
              "2                            0.531364                           0.063091   \n",
              "3                            0.559579                           0.121127   \n",
              "4                            0.548163                           0.097493   \n",
              "5                            0.556074                           0.113095   \n",
              "6                            0.524118                           0.048309   \n",
              "7                            0.549357                           0.099738   \n",
              "8                            0.529005                           0.058376   \n",
              "9                            0.533416                           0.067708   \n",
              "\n",
              "   SGD_norm_max_stratified_kfold_TNR  \n",
              "0                           0.999709  \n",
              "1                           0.999271  \n",
              "2                           0.999636  \n",
              "3                           0.998031  \n",
              "4                           0.998833  \n",
              "5                           0.999054  \n",
              "6                           0.999927  \n",
              "7                           0.998977  \n",
              "8                           0.999634  \n",
              "9                           0.999123  "
            ]
          },
          "metadata": {
            "tags": []
          },
          "execution_count": 119
        }
      ]
    },
    {
      "metadata": {
        "id": "v5iBfrNCF_dk",
        "colab_type": "code",
        "colab": {}
      },
      "cell_type": "code",
      "source": [
        "results = test_results(model_builder, linear_model.SGDClassifier, pd.DataFrame(normalize(data_X, axis=0, norm='max')), data_Y, \"SGD_norm_max\")"
      ],
      "execution_count": 0,
      "outputs": []
    },
    {
      "metadata": {
        "id": "mU_Tz4kZFF28",
        "colab_type": "text"
      },
      "cell_type": "markdown",
      "source": [
        "#### Linear regression"
      ]
    },
    {
      "metadata": {
        "id": "119qulR3ECPC",
        "colab_type": "text"
      },
      "cell_type": "markdown",
      "source": [
        "##### Sth else"
      ]
    },
    {
      "metadata": {
        "id": "apYPvpkhq7jX",
        "colab_type": "code",
        "colab": {}
      },
      "cell_type": "code",
      "source": [
        "linreg = linear_model.LinearRegression()\n",
        "linreg = linreg.fit(pd.DataFrame(normalize(X_train, axis=0, norm='max')),Y_train)"
      ],
      "execution_count": 0,
      "outputs": []
    },
    {
      "metadata": {
        "id": "fJHbPyGR7Mg1",
        "colab_type": "code",
        "colab": {}
      },
      "cell_type": "code",
      "source": [
        ""
      ],
      "execution_count": 0,
      "outputs": []
    },
    {
      "metadata": {
        "id": "HK-ktWjQuEWq",
        "colab_type": "code",
        "outputId": "36ea70e5-fff2-4521-a464-8f0776a13522",
        "colab": {
          "base_uri": "https://localhost:8080/",
          "height": 297
        }
      },
      "cell_type": "code",
      "source": [
        "res_norm_max=test_results(linreg, pd.DataFrame(normalize(X_test, axis=0, norm='max')), Y_test, \"LinReg_norm_max\")\n",
        "res_norm_max.describe()"
      ],
      "execution_count": 0,
      "outputs": [
        {
          "output_type": "execute_result",
          "data": {
            "text/html": [
              "<div>\n",
              "<style scoped>\n",
              "    .dataframe tbody tr th:only-of-type {\n",
              "        vertical-align: middle;\n",
              "    }\n",
              "\n",
              "    .dataframe tbody tr th {\n",
              "        vertical-align: top;\n",
              "    }\n",
              "\n",
              "    .dataframe thead th {\n",
              "        text-align: right;\n",
              "    }\n",
              "</style>\n",
              "<table border=\"1\" class=\"dataframe\">\n",
              "  <thead>\n",
              "    <tr style=\"text-align: right;\">\n",
              "      <th></th>\n",
              "      <th>LinReg_norm_l1_stratified_kfold_F1</th>\n",
              "      <th>LinReg_norm_l1_stratified_kfold_AUC</th>\n",
              "      <th>LinReg_norm_l1_stratified_kfold_BACC</th>\n",
              "      <th>LinReg_norm_l1_stratified_kfold_TPR</th>\n",
              "      <th>LinReg_norm_l1_stratified_kfold_TNR</th>\n",
              "    </tr>\n",
              "  </thead>\n",
              "  <tbody>\n",
              "    <tr>\n",
              "      <th>count</th>\n",
              "      <td>10.000000</td>\n",
              "      <td>10.000000</td>\n",
              "      <td>10.000000</td>\n",
              "      <td>10.000000</td>\n",
              "      <td>10.000000</td>\n",
              "    </tr>\n",
              "    <tr>\n",
              "      <th>mean</th>\n",
              "      <td>0.480670</td>\n",
              "      <td>0.856842</td>\n",
              "      <td>0.856842</td>\n",
              "      <td>0.747221</td>\n",
              "      <td>0.966463</td>\n",
              "    </tr>\n",
              "    <tr>\n",
              "      <th>std</th>\n",
              "      <td>0.040252</td>\n",
              "      <td>0.030014</td>\n",
              "      <td>0.030014</td>\n",
              "      <td>0.060378</td>\n",
              "      <td>0.004174</td>\n",
              "    </tr>\n",
              "    <tr>\n",
              "      <th>min</th>\n",
              "      <td>0.428571</td>\n",
              "      <td>0.810061</td>\n",
              "      <td>0.810061</td>\n",
              "      <td>0.649351</td>\n",
              "      <td>0.958500</td>\n",
              "    </tr>\n",
              "    <tr>\n",
              "      <th>25%</th>\n",
              "      <td>0.444493</td>\n",
              "      <td>0.845157</td>\n",
              "      <td>0.845157</td>\n",
              "      <td>0.722018</td>\n",
              "      <td>0.965314</td>\n",
              "    </tr>\n",
              "    <tr>\n",
              "      <th>50%</th>\n",
              "      <td>0.483304</td>\n",
              "      <td>0.853661</td>\n",
              "      <td>0.853661</td>\n",
              "      <td>0.745086</td>\n",
              "      <td>0.966910</td>\n",
              "    </tr>\n",
              "    <tr>\n",
              "      <th>75%</th>\n",
              "      <td>0.511423</td>\n",
              "      <td>0.878232</td>\n",
              "      <td>0.878232</td>\n",
              "      <td>0.790310</td>\n",
              "      <td>0.968770</td>\n",
              "    </tr>\n",
              "    <tr>\n",
              "      <th>max</th>\n",
              "      <td>0.539823</td>\n",
              "      <td>0.906239</td>\n",
              "      <td>0.906239</td>\n",
              "      <td>0.843750</td>\n",
              "      <td>0.972031</td>\n",
              "    </tr>\n",
              "  </tbody>\n",
              "</table>\n",
              "</div>"
            ],
            "text/plain": [
              "       LinReg_norm_l1_stratified_kfold_F1  \\\n",
              "count                           10.000000   \n",
              "mean                             0.480670   \n",
              "std                              0.040252   \n",
              "min                              0.428571   \n",
              "25%                              0.444493   \n",
              "50%                              0.483304   \n",
              "75%                              0.511423   \n",
              "max                              0.539823   \n",
              "\n",
              "       LinReg_norm_l1_stratified_kfold_AUC  \\\n",
              "count                            10.000000   \n",
              "mean                              0.856842   \n",
              "std                               0.030014   \n",
              "min                               0.810061   \n",
              "25%                               0.845157   \n",
              "50%                               0.853661   \n",
              "75%                               0.878232   \n",
              "max                               0.906239   \n",
              "\n",
              "       LinReg_norm_l1_stratified_kfold_BACC  \\\n",
              "count                             10.000000   \n",
              "mean                               0.856842   \n",
              "std                                0.030014   \n",
              "min                                0.810061   \n",
              "25%                                0.845157   \n",
              "50%                                0.853661   \n",
              "75%                                0.878232   \n",
              "max                                0.906239   \n",
              "\n",
              "       LinReg_norm_l1_stratified_kfold_TPR  \\\n",
              "count                            10.000000   \n",
              "mean                              0.747221   \n",
              "std                               0.060378   \n",
              "min                               0.649351   \n",
              "25%                               0.722018   \n",
              "50%                               0.745086   \n",
              "75%                               0.790310   \n",
              "max                               0.843750   \n",
              "\n",
              "       LinReg_norm_l1_stratified_kfold_TNR  \n",
              "count                            10.000000  \n",
              "mean                              0.966463  \n",
              "std                               0.004174  \n",
              "min                               0.958500  \n",
              "25%                               0.965314  \n",
              "50%                               0.966910  \n",
              "75%                               0.968770  \n",
              "max                               0.972031  "
            ]
          },
          "metadata": {
            "tags": []
          },
          "execution_count": 94
        }
      ]
    },
    {
      "metadata": {
        "id": "2gDcrBL1tyLY",
        "colab_type": "code",
        "outputId": "fe65563d-ed89-40fd-9a91-9cbb1d781c9a",
        "colab": {
          "base_uri": "https://localhost:8080/",
          "height": 297
        }
      },
      "cell_type": "code",
      "source": [
        "res_norm_l2=test_results(linreg, pd.DataFrame(normalize(X_test, axis=0, norm='l2')), Y_test, \"LinReg_norm_l2\")\n",
        "res_norm_l2.describe()"
      ],
      "execution_count": 0,
      "outputs": [
        {
          "output_type": "execute_result",
          "data": {
            "text/html": [
              "<div>\n",
              "<style scoped>\n",
              "    .dataframe tbody tr th:only-of-type {\n",
              "        vertical-align: middle;\n",
              "    }\n",
              "\n",
              "    .dataframe tbody tr th {\n",
              "        vertical-align: top;\n",
              "    }\n",
              "\n",
              "    .dataframe thead th {\n",
              "        text-align: right;\n",
              "    }\n",
              "</style>\n",
              "<table border=\"1\" class=\"dataframe\">\n",
              "  <thead>\n",
              "    <tr style=\"text-align: right;\">\n",
              "      <th></th>\n",
              "      <th>LinReg_norm_l2_stratified_kfold_F1</th>\n",
              "      <th>LinReg_norm_l2_stratified_kfold_AUC</th>\n",
              "      <th>LinReg_norm_l2_stratified_kfold_BACC</th>\n",
              "      <th>LinReg_norm_l2_stratified_kfold_TPR</th>\n",
              "      <th>LinReg_norm_l2_stratified_kfold_TNR</th>\n",
              "    </tr>\n",
              "  </thead>\n",
              "  <tbody>\n",
              "    <tr>\n",
              "      <th>count</th>\n",
              "      <td>10.000000</td>\n",
              "      <td>10.000000</td>\n",
              "      <td>10.000000</td>\n",
              "      <td>10.000000</td>\n",
              "      <td>10.000000</td>\n",
              "    </tr>\n",
              "    <tr>\n",
              "      <th>mean</th>\n",
              "      <td>0.528450</td>\n",
              "      <td>0.713853</td>\n",
              "      <td>0.713853</td>\n",
              "      <td>0.432550</td>\n",
              "      <td>0.995157</td>\n",
              "    </tr>\n",
              "    <tr>\n",
              "      <th>std</th>\n",
              "      <td>0.043086</td>\n",
              "      <td>0.031635</td>\n",
              "      <td>0.031635</td>\n",
              "      <td>0.064281</td>\n",
              "      <td>0.001373</td>\n",
              "    </tr>\n",
              "    <tr>\n",
              "      <th>min</th>\n",
              "      <td>0.457627</td>\n",
              "      <td>0.672767</td>\n",
              "      <td>0.672767</td>\n",
              "      <td>0.350649</td>\n",
              "      <td>0.992740</td>\n",
              "    </tr>\n",
              "    <tr>\n",
              "      <th>25%</th>\n",
              "      <td>0.497905</td>\n",
              "      <td>0.689216</td>\n",
              "      <td>0.689216</td>\n",
              "      <td>0.381885</td>\n",
              "      <td>0.994056</td>\n",
              "    </tr>\n",
              "    <tr>\n",
              "      <th>50%</th>\n",
              "      <td>0.526988</td>\n",
              "      <td>0.706097</td>\n",
              "      <td>0.706097</td>\n",
              "      <td>0.416013</td>\n",
              "      <td>0.995806</td>\n",
              "    </tr>\n",
              "    <tr>\n",
              "      <th>75%</th>\n",
              "      <td>0.569876</td>\n",
              "      <td>0.734115</td>\n",
              "      <td>0.734115</td>\n",
              "      <td>0.473895</td>\n",
              "      <td>0.996003</td>\n",
              "    </tr>\n",
              "    <tr>\n",
              "      <th>max</th>\n",
              "      <td>0.581197</td>\n",
              "      <td>0.763037</td>\n",
              "      <td>0.763037</td>\n",
              "      <td>0.533333</td>\n",
              "      <td>0.996734</td>\n",
              "    </tr>\n",
              "  </tbody>\n",
              "</table>\n",
              "</div>"
            ],
            "text/plain": [
              "       LinReg_norm_l2_stratified_kfold_F1  \\\n",
              "count                           10.000000   \n",
              "mean                             0.528450   \n",
              "std                              0.043086   \n",
              "min                              0.457627   \n",
              "25%                              0.497905   \n",
              "50%                              0.526988   \n",
              "75%                              0.569876   \n",
              "max                              0.581197   \n",
              "\n",
              "       LinReg_norm_l2_stratified_kfold_AUC  \\\n",
              "count                            10.000000   \n",
              "mean                              0.713853   \n",
              "std                               0.031635   \n",
              "min                               0.672767   \n",
              "25%                               0.689216   \n",
              "50%                               0.706097   \n",
              "75%                               0.734115   \n",
              "max                               0.763037   \n",
              "\n",
              "       LinReg_norm_l2_stratified_kfold_BACC  \\\n",
              "count                             10.000000   \n",
              "mean                               0.713853   \n",
              "std                                0.031635   \n",
              "min                                0.672767   \n",
              "25%                                0.689216   \n",
              "50%                                0.706097   \n",
              "75%                                0.734115   \n",
              "max                                0.763037   \n",
              "\n",
              "       LinReg_norm_l2_stratified_kfold_TPR  \\\n",
              "count                            10.000000   \n",
              "mean                              0.432550   \n",
              "std                               0.064281   \n",
              "min                               0.350649   \n",
              "25%                               0.381885   \n",
              "50%                               0.416013   \n",
              "75%                               0.473895   \n",
              "max                               0.533333   \n",
              "\n",
              "       LinReg_norm_l2_stratified_kfold_TNR  \n",
              "count                            10.000000  \n",
              "mean                              0.995157  \n",
              "std                               0.001373  \n",
              "min                               0.992740  \n",
              "25%                               0.994056  \n",
              "50%                               0.995806  \n",
              "75%                               0.996003  \n",
              "max                               0.996734  "
            ]
          },
          "metadata": {
            "tags": []
          },
          "execution_count": 92
        }
      ]
    },
    {
      "metadata": {
        "id": "Sot0GOmWs7-u",
        "colab_type": "code",
        "outputId": "638cabc9-df9f-4a15-a2dc-fff9232d8ab2",
        "colab": {
          "base_uri": "https://localhost:8080/",
          "height": 297
        }
      },
      "cell_type": "code",
      "source": [
        "# res_norm=test_results(linreg, X_test_norm, Y_test, \"LinReg_norm\")\n",
        "res_norm.describe()"
      ],
      "execution_count": 0,
      "outputs": [
        {
          "output_type": "execute_result",
          "data": {
            "text/html": [
              "<div>\n",
              "<style scoped>\n",
              "    .dataframe tbody tr th:only-of-type {\n",
              "        vertical-align: middle;\n",
              "    }\n",
              "\n",
              "    .dataframe tbody tr th {\n",
              "        vertical-align: top;\n",
              "    }\n",
              "\n",
              "    .dataframe thead th {\n",
              "        text-align: right;\n",
              "    }\n",
              "</style>\n",
              "<table border=\"1\" class=\"dataframe\">\n",
              "  <thead>\n",
              "    <tr style=\"text-align: right;\">\n",
              "      <th></th>\n",
              "      <th>LinReg_norm_stratified_kfold_F1</th>\n",
              "      <th>LinReg_norm_stratified_kfold_AUC</th>\n",
              "      <th>LinReg_norm_stratified_kfold_BACC</th>\n",
              "      <th>LinReg_norm_stratified_kfold_TPR</th>\n",
              "      <th>LinReg_norm_stratified_kfold_TNR</th>\n",
              "    </tr>\n",
              "  </thead>\n",
              "  <tbody>\n",
              "    <tr>\n",
              "      <th>count</th>\n",
              "      <td>10.000000</td>\n",
              "      <td>10.000000</td>\n",
              "      <td>10.000000</td>\n",
              "      <td>10.000000</td>\n",
              "      <td>10.000000</td>\n",
              "    </tr>\n",
              "    <tr>\n",
              "      <th>mean</th>\n",
              "      <td>0.270962</td>\n",
              "      <td>0.580359</td>\n",
              "      <td>0.580359</td>\n",
              "      <td>0.161375</td>\n",
              "      <td>0.999344</td>\n",
              "    </tr>\n",
              "    <tr>\n",
              "      <th>std</th>\n",
              "      <td>0.041672</td>\n",
              "      <td>0.014359</td>\n",
              "      <td>0.014359</td>\n",
              "      <td>0.028808</td>\n",
              "      <td>0.000591</td>\n",
              "    </tr>\n",
              "    <tr>\n",
              "      <th>min</th>\n",
              "      <td>0.209302</td>\n",
              "      <td>0.558442</td>\n",
              "      <td>0.558442</td>\n",
              "      <td>0.116883</td>\n",
              "      <td>0.998536</td>\n",
              "    </tr>\n",
              "    <tr>\n",
              "      <th>25%</th>\n",
              "      <td>0.245658</td>\n",
              "      <td>0.572551</td>\n",
              "      <td>0.572551</td>\n",
              "      <td>0.146196</td>\n",
              "      <td>0.998905</td>\n",
              "    </tr>\n",
              "    <tr>\n",
              "      <th>50%</th>\n",
              "      <td>0.260870</td>\n",
              "      <td>0.577058</td>\n",
              "      <td>0.577058</td>\n",
              "      <td>0.154845</td>\n",
              "      <td>0.999455</td>\n",
              "    </tr>\n",
              "    <tr>\n",
              "      <th>75%</th>\n",
              "      <td>0.309033</td>\n",
              "      <td>0.592156</td>\n",
              "      <td>0.592156</td>\n",
              "      <td>0.184585</td>\n",
              "      <td>0.999909</td>\n",
              "    </tr>\n",
              "    <tr>\n",
              "      <th>max</th>\n",
              "      <td>0.330097</td>\n",
              "      <td>0.602927</td>\n",
              "      <td>0.602927</td>\n",
              "      <td>0.207317</td>\n",
              "      <td>1.000000</td>\n",
              "    </tr>\n",
              "  </tbody>\n",
              "</table>\n",
              "</div>"
            ],
            "text/plain": [
              "       LinReg_norm_stratified_kfold_F1  LinReg_norm_stratified_kfold_AUC  \\\n",
              "count                        10.000000                         10.000000   \n",
              "mean                          0.270962                          0.580359   \n",
              "std                           0.041672                          0.014359   \n",
              "min                           0.209302                          0.558442   \n",
              "25%                           0.245658                          0.572551   \n",
              "50%                           0.260870                          0.577058   \n",
              "75%                           0.309033                          0.592156   \n",
              "max                           0.330097                          0.602927   \n",
              "\n",
              "       LinReg_norm_stratified_kfold_BACC  LinReg_norm_stratified_kfold_TPR  \\\n",
              "count                          10.000000                         10.000000   \n",
              "mean                            0.580359                          0.161375   \n",
              "std                             0.014359                          0.028808   \n",
              "min                             0.558442                          0.116883   \n",
              "25%                             0.572551                          0.146196   \n",
              "50%                             0.577058                          0.154845   \n",
              "75%                             0.592156                          0.184585   \n",
              "max                             0.602927                          0.207317   \n",
              "\n",
              "       LinReg_norm_stratified_kfold_TNR  \n",
              "count                         10.000000  \n",
              "mean                           0.999344  \n",
              "std                            0.000591  \n",
              "min                            0.998536  \n",
              "25%                            0.998905  \n",
              "50%                            0.999455  \n",
              "75%                            0.999909  \n",
              "max                            1.000000  "
            ]
          },
          "metadata": {
            "tags": []
          },
          "execution_count": 90
        }
      ]
    },
    {
      "metadata": {
        "id": "Vc417XvirG8W",
        "colab_type": "code",
        "outputId": "2c1d6ff1-abf5-48f7-8b97-e319be39dac2",
        "colab": {
          "base_uri": "https://localhost:8080/",
          "height": 297
        }
      },
      "cell_type": "code",
      "source": [
        "# res=test_results(linreg, X_test, Y_test, \"LinReg_denorm\")\n",
        "res.describe()"
      ],
      "execution_count": 0,
      "outputs": [
        {
          "output_type": "execute_result",
          "data": {
            "text/html": [
              "<div>\n",
              "<style scoped>\n",
              "    .dataframe tbody tr th:only-of-type {\n",
              "        vertical-align: middle;\n",
              "    }\n",
              "\n",
              "    .dataframe tbody tr th {\n",
              "        vertical-align: top;\n",
              "    }\n",
              "\n",
              "    .dataframe thead th {\n",
              "        text-align: right;\n",
              "    }\n",
              "</style>\n",
              "<table border=\"1\" class=\"dataframe\">\n",
              "  <thead>\n",
              "    <tr style=\"text-align: right;\">\n",
              "      <th></th>\n",
              "      <th>LinReg_denorm_stratified_kfold_F1</th>\n",
              "      <th>LinReg_denorm_stratified_kfold_AUC</th>\n",
              "      <th>LinReg_denorm_stratified_kfold_BACC</th>\n",
              "      <th>LinReg_denorm_stratified_kfold_TPR</th>\n",
              "      <th>LinReg_denorm_stratified_kfold_TNR</th>\n",
              "    </tr>\n",
              "  </thead>\n",
              "  <tbody>\n",
              "    <tr>\n",
              "      <th>count</th>\n",
              "      <td>10.000000</td>\n",
              "      <td>10.000000</td>\n",
              "      <td>10.000000</td>\n",
              "      <td>10.000000</td>\n",
              "      <td>10.000000</td>\n",
              "    </tr>\n",
              "    <tr>\n",
              "      <th>mean</th>\n",
              "      <td>0.311492</td>\n",
              "      <td>0.595059</td>\n",
              "      <td>0.595059</td>\n",
              "      <td>0.190810</td>\n",
              "      <td>0.999308</td>\n",
              "    </tr>\n",
              "    <tr>\n",
              "      <th>std</th>\n",
              "      <td>0.059002</td>\n",
              "      <td>0.020347</td>\n",
              "      <td>0.020347</td>\n",
              "      <td>0.040640</td>\n",
              "      <td>0.000401</td>\n",
              "    </tr>\n",
              "    <tr>\n",
              "      <th>min</th>\n",
              "      <td>0.181818</td>\n",
              "      <td>0.551400</td>\n",
              "      <td>0.551400</td>\n",
              "      <td>0.103896</td>\n",
              "      <td>0.998902</td>\n",
              "    </tr>\n",
              "    <tr>\n",
              "      <th>25%</th>\n",
              "      <td>0.302922</td>\n",
              "      <td>0.592214</td>\n",
              "      <td>0.592214</td>\n",
              "      <td>0.185337</td>\n",
              "      <td>0.998909</td>\n",
              "    </tr>\n",
              "    <tr>\n",
              "      <th>50%</th>\n",
              "      <td>0.330213</td>\n",
              "      <td>0.600855</td>\n",
              "      <td>0.600855</td>\n",
              "      <td>0.202257</td>\n",
              "      <td>0.999272</td>\n",
              "    </tr>\n",
              "    <tr>\n",
              "      <th>75%</th>\n",
              "      <td>0.347154</td>\n",
              "      <td>0.608196</td>\n",
              "      <td>0.608196</td>\n",
              "      <td>0.217210</td>\n",
              "      <td>0.999636</td>\n",
              "    </tr>\n",
              "    <tr>\n",
              "      <th>max</th>\n",
              "      <td>0.365854</td>\n",
              "      <td>0.615305</td>\n",
              "      <td>0.615305</td>\n",
              "      <td>0.231707</td>\n",
              "      <td>1.000000</td>\n",
              "    </tr>\n",
              "  </tbody>\n",
              "</table>\n",
              "</div>"
            ],
            "text/plain": [
              "       LinReg_denorm_stratified_kfold_F1  LinReg_denorm_stratified_kfold_AUC  \\\n",
              "count                          10.000000                           10.000000   \n",
              "mean                            0.311492                            0.595059   \n",
              "std                             0.059002                            0.020347   \n",
              "min                             0.181818                            0.551400   \n",
              "25%                             0.302922                            0.592214   \n",
              "50%                             0.330213                            0.600855   \n",
              "75%                             0.347154                            0.608196   \n",
              "max                             0.365854                            0.615305   \n",
              "\n",
              "       LinReg_denorm_stratified_kfold_BACC  \\\n",
              "count                            10.000000   \n",
              "mean                              0.595059   \n",
              "std                               0.020347   \n",
              "min                               0.551400   \n",
              "25%                               0.592214   \n",
              "50%                               0.600855   \n",
              "75%                               0.608196   \n",
              "max                               0.615305   \n",
              "\n",
              "       LinReg_denorm_stratified_kfold_TPR  LinReg_denorm_stratified_kfold_TNR  \n",
              "count                           10.000000                           10.000000  \n",
              "mean                             0.190810                            0.999308  \n",
              "std                              0.040640                            0.000401  \n",
              "min                              0.103896                            0.998902  \n",
              "25%                              0.185337                            0.998909  \n",
              "50%                              0.202257                            0.999272  \n",
              "75%                              0.217210                            0.999636  \n",
              "max                              0.231707                            1.000000  "
            ]
          },
          "metadata": {
            "tags": []
          },
          "execution_count": 89
        }
      ]
    },
    {
      "metadata": {
        "id": "_jvo2me8Kbvr",
        "colab_type": "code",
        "outputId": "aae77490-da6f-4e57-a5e1-37f8925286d9",
        "colab": {
          "base_uri": "https://localhost:8080/",
          "height": 51
        }
      },
      "cell_type": "code",
      "source": [
        "reg = linear_model.LogisticRegression()\n",
        "reg = reg.fit(X_train, Y_train)"
      ],
      "execution_count": 0,
      "outputs": [
        {
          "output_type": "stream",
          "text": [
            "/usr/local/lib/python3.6/dist-packages/sklearn/linear_model/logistic.py:433: FutureWarning: Default solver will be changed to 'lbfgs' in 0.22. Specify a solver to silence this warning.\n",
            "  FutureWarning)\n"
          ],
          "name": "stderr"
        }
      ]
    },
    {
      "metadata": {
        "id": "69jwsbevMaaY",
        "colab_type": "code",
        "outputId": "e3f659ef-ce84-45aa-d4e1-86619cef1960",
        "colab": {
          "base_uri": "https://localhost:8080/",
          "height": 337
        }
      },
      "cell_type": "code",
      "source": [
        "predicts = reg.predict(X_test)\n",
        "np.absolute(np.asarray(predicts).round())\n",
        "print(np.min(predicts))\n",
        "print(np.max(predicts))\n",
        "print(len([i for i in predicts if i >1.5]))\n",
        "fpr, tpr, thresholds = metrics.roc_curve(Y_test, predicts)\n",
        "roc_auc = auc(fpr, tpr)\n",
        "print(roc_auc)\n",
        "plt.plot(fpr, tpr, lw=1, alpha=0.3,\n",
        "             label=\"ROC\")\n",
        "plt.show()"
      ],
      "execution_count": 0,
      "outputs": [
        {
          "output_type": "stream",
          "text": [
            "0.0\n",
            "1.0\n",
            "0\n",
            "0.6830546594866918\n"
          ],
          "name": "stdout"
        },
        {
          "output_type": "display_data",
          "data": {
            "image/png": "[encoded data removed]",
            "text/plain": [
              "<Figure size 432x288 with 1 Axes>"
            ]
          },
          "metadata": {
            "tags": []
          }
        }
      ]
    },
    {
      "metadata": {
        "id": "_N42DXtIM5MI",
        "colab_type": "code",
        "outputId": "279df742-9b9d-4c2f-ab1e-be35ba576a2f",
        "colab": {
          "base_uri": "https://localhost:8080/",
          "height": 529
        }
      },
      "cell_type": "code",
      "source": [
        "res=test_results(reg, X_test, Y_test, \"LogReg_denorm\")\n",
        "res"
      ],
      "execution_count": 0,
      "outputs": [
        {
          "output_type": "stream",
          "text": [
            "1\n",
            "2\n",
            "3\n",
            "4\n",
            "5\n",
            "6\n",
            "7\n",
            "8\n",
            "9\n",
            "10\n"
          ],
          "name": "stdout"
        },
        {
          "output_type": "execute_result",
          "data": {
            "text/html": [
              "<div>\n",
              "<style scoped>\n",
              "    .dataframe tbody tr th:only-of-type {\n",
              "        vertical-align: middle;\n",
              "    }\n",
              "\n",
              "    .dataframe tbody tr th {\n",
              "        vertical-align: top;\n",
              "    }\n",
              "\n",
              "    .dataframe thead th {\n",
              "        text-align: right;\n",
              "    }\n",
              "</style>\n",
              "<table border=\"1\" class=\"dataframe\">\n",
              "  <thead>\n",
              "    <tr style=\"text-align: right;\">\n",
              "      <th></th>\n",
              "      <th>LReg_denorm_stratified_kfold_F1</th>\n",
              "      <th>LReg_denorm_stratified_kfold_AUC</th>\n",
              "      <th>LReg_denorm_stratified_kfold_BACC</th>\n",
              "      <th>LReg_denorm_stratified_kfold_TPR</th>\n",
              "      <th>LReg_denorm_stratified_kfold_TNR</th>\n",
              "    </tr>\n",
              "  </thead>\n",
              "  <tbody>\n",
              "    <tr>\n",
              "      <th>0</th>\n",
              "      <td>0.515625</td>\n",
              "      <td>0.698841</td>\n",
              "      <td>0.698841</td>\n",
              "      <td>0.402439</td>\n",
              "      <td>0.995243</td>\n",
              "    </tr>\n",
              "    <tr>\n",
              "      <th>1</th>\n",
              "      <td>0.533333</td>\n",
              "      <td>0.730248</td>\n",
              "      <td>0.730248</td>\n",
              "      <td>0.466667</td>\n",
              "      <td>0.993829</td>\n",
              "    </tr>\n",
              "    <tr>\n",
              "      <th>2</th>\n",
              "      <td>0.500000</td>\n",
              "      <td>0.694723</td>\n",
              "      <td>0.694723</td>\n",
              "      <td>0.393443</td>\n",
              "      <td>0.996004</td>\n",
              "    </tr>\n",
              "    <tr>\n",
              "      <th>3</th>\n",
              "      <td>0.446602</td>\n",
              "      <td>0.669276</td>\n",
              "      <td>0.669276</td>\n",
              "      <td>0.343284</td>\n",
              "      <td>0.995268</td>\n",
              "    </tr>\n",
              "    <tr>\n",
              "      <th>4</th>\n",
              "      <td>0.500000</td>\n",
              "      <td>0.692430</td>\n",
              "      <td>0.692430</td>\n",
              "      <td>0.389610</td>\n",
              "      <td>0.995250</td>\n",
              "    </tr>\n",
              "    <tr>\n",
              "      <th>5</th>\n",
              "      <td>0.458333</td>\n",
              "      <td>0.670057</td>\n",
              "      <td>0.670057</td>\n",
              "      <td>0.343750</td>\n",
              "      <td>0.996364</td>\n",
              "    </tr>\n",
              "    <tr>\n",
              "      <th>6</th>\n",
              "      <td>0.454545</td>\n",
              "      <td>0.670600</td>\n",
              "      <td>0.670600</td>\n",
              "      <td>0.344828</td>\n",
              "      <td>0.996372</td>\n",
              "    </tr>\n",
              "    <tr>\n",
              "      <th>7</th>\n",
              "      <td>0.509434</td>\n",
              "      <td>0.705146</td>\n",
              "      <td>0.705146</td>\n",
              "      <td>0.415385</td>\n",
              "      <td>0.994907</td>\n",
              "    </tr>\n",
              "    <tr>\n",
              "      <th>8</th>\n",
              "      <td>0.475248</td>\n",
              "      <td>0.672456</td>\n",
              "      <td>0.672456</td>\n",
              "      <td>0.347826</td>\n",
              "      <td>0.997086</td>\n",
              "    </tr>\n",
              "    <tr>\n",
              "      <th>9</th>\n",
              "      <td>0.375000</td>\n",
              "      <td>0.633806</td>\n",
              "      <td>0.633806</td>\n",
              "      <td>0.272727</td>\n",
              "      <td>0.994885</td>\n",
              "    </tr>\n",
              "  </tbody>\n",
              "</table>\n",
              "</div>"
            ],
            "text/plain": [
              "   LReg_denorm_stratified_kfold_F1  LReg_denorm_stratified_kfold_AUC  \\\n",
              "0                         0.515625                          0.698841   \n",
              "1                         0.533333                          0.730248   \n",
              "2                         0.500000                          0.694723   \n",
              "3                         0.446602                          0.669276   \n",
              "4                         0.500000                          0.692430   \n",
              "5                         0.458333                          0.670057   \n",
              "6                         0.454545                          0.670600   \n",
              "7                         0.509434                          0.705146   \n",
              "8                         0.475248                          0.672456   \n",
              "9                         0.375000                          0.633806   \n",
              "\n",
              "   LReg_denorm_stratified_kfold_BACC  LReg_denorm_stratified_kfold_TPR  \\\n",
              "0                           0.698841                          0.402439   \n",
              "1                           0.730248                          0.466667   \n",
              "2                           0.694723                          0.393443   \n",
              "3                           0.669276                          0.343284   \n",
              "4                           0.692430                          0.389610   \n",
              "5                           0.670057                          0.343750   \n",
              "6                           0.670600                          0.344828   \n",
              "7                           0.705146                          0.415385   \n",
              "8                           0.672456                          0.347826   \n",
              "9                           0.633806                          0.272727   \n",
              "\n",
              "   LReg_denorm_stratified_kfold_TNR  \n",
              "0                          0.995243  \n",
              "1                          0.993829  \n",
              "2                          0.996004  \n",
              "3                          0.995268  \n",
              "4                          0.995250  \n",
              "5                          0.996364  \n",
              "6                          0.996372  \n",
              "7                          0.994907  \n",
              "8                          0.997086  \n",
              "9                          0.994885  "
            ]
          },
          "metadata": {
            "tags": []
          },
          "execution_count": 61
        }
      ]
    },
    {
      "metadata": {
        "id": "OhcNHZWrKOG1",
        "colab_type": "text"
      },
      "cell_type": "markdown",
      "source": [
        "### SVM"
      ]
    },
    {
      "metadata": {
        "id": "4IH5fp3NKN38",
        "colab_type": "code",
        "colab": {}
      },
      "cell_type": "code",
      "source": [
        ""
      ],
      "execution_count": 0,
      "outputs": []
    },
    {
      "metadata": {
        "id": "vqzhV0am8Q2B",
        "colab_type": "code",
        "colab": {}
      },
      "cell_type": "code",
      "source": [
        "scaler = MinMaxScaler()\n",
        "scaler.fit(X_train)\n",
        "X_train, X_test = scaler.transform(X_train), scaler.transform(X_test)"
      ],
      "execution_count": 0,
      "outputs": []
    },
    {
      "metadata": {
        "id": "r5ENSY3srngi",
        "colab_type": "code",
        "outputId": "72a4c07d-a3b7-4142-fcce-1d6ced3821fd",
        "colab": {
          "base_uri": "https://localhost:8080/",
          "height": 71
        }
      },
      "cell_type": "code",
      "source": [
        "svc = LinearSVC()\n",
        "# svc = svc.fit(normalize(X_train, axis=0, norm='max'), Y_train)\n",
        "svc = svc.fit(X_train, Y_train)"
      ],
      "execution_count": 0,
      "outputs": [
        {
          "output_type": "stream",
          "text": [
            "/usr/local/lib/python3.6/dist-packages/sklearn/svm/base.py:931: ConvergenceWarning: Liblinear failed to converge, increase the number of iterations.\n",
            "  \"the number of iterations.\", ConvergenceWarning)\n"
          ],
          "name": "stderr"
        }
      ]
    },
    {
      "metadata": {
        "id": "6emMzm6zUAhb",
        "colab_type": "code",
        "colab": {}
      },
      "cell_type": "code",
      "source": [
        "# pred_Y = svc.predict(normalize(X_test, axis=0, norm='max'))\n",
        "pred_Y = svc.predict(X_test)"
      ],
      "execution_count": 0,
      "outputs": []
    },
    {
      "metadata": {
        "id": "IhzhcDsJesxz",
        "colab_type": "code",
        "colab": {}
      },
      "cell_type": "code",
      "source": [
        ""
      ],
      "execution_count": 0,
      "outputs": []
    },
    {
      "metadata": {
        "id": "MXbqlSTxeu1O",
        "colab_type": "text"
      },
      "cell_type": "markdown",
      "source": [
        "##### Model selection"
      ]
    },
    {
      "metadata": {
        "id": "oOwMK_dAEEY7",
        "colab_type": "code",
        "outputId": "bdce68c7-9967-47e1-f272-ea78fe113ce4",
        "colab": {
          "base_uri": "https://localhost:8080/",
          "height": 629
        }
      },
      "cell_type": "code",
      "source": [
        "from sklearn.model_selection import ParameterGrid\n",
        "import parfit.parfit as pf\n",
        "grid = {\n",
        "    'C': [1e-7, 1e-6, 1e-5, 1e-4, 1e-3, 1e-2, 1e-1, 1e0,10],\n",
        "    'penalty': ['l2'],\n",
        "    'class_weight': [None, 'balanced'],\n",
        "    'loss': ['hinge', 'squared_hinge'],\n",
        "    'max_iter': [1000, 5000],\n",
        "    'tol' : [1e-4, 1e-5, 1e-6, 1e-3, 1e-2]\n",
        "}\n",
        "paramGrid = ParameterGrid(grid)\n",
        "bestModel, bestScore, allModels, allScores = pf.bestFit(LinearSVC, paramGrid,\n",
        "           X_train, Y_train, X_val, Y_val, \n",
        "           metric = roc_auc_score,\n",
        "           greater_is_better=True,\n",
        "           scoreLabel = \"F1\")\n",
        "print(bestModel, bestScore)"
      ],
      "execution_count": 0,
      "outputs": [
        {
          "output_type": "stream",
          "text": [
            "-------------FITTING MODELS-------------\n"
          ],
          "name": "stdout"
        },
        {
          "output_type": "stream",
          "text": [
            "[Parallel(n_jobs=-1)]: Using backend LokyBackend with 2 concurrent workers.\n",
            "[Parallel(n_jobs=-1)]: Done   1 tasks      | elapsed:    2.4s\n",
            "[Parallel(n_jobs=-1)]: Done   4 tasks      | elapsed:    3.3s\n",
            "[Parallel(n_jobs=-1)]: Done   9 tasks      | elapsed:    5.1s\n",
            "[Parallel(n_jobs=-1)]: Done  14 tasks      | elapsed:    7.7s\n",
            "[Parallel(n_jobs=-1)]: Done  21 tasks      | elapsed:   11.3s\n",
            "[Parallel(n_jobs=-1)]: Done  28 tasks      | elapsed:   13.8s\n",
            "[Parallel(n_jobs=-1)]: Done  37 tasks      | elapsed:   17.9s\n",
            "[Parallel(n_jobs=-1)]: Done  46 tasks      | elapsed:   21.8s\n",
            "[Parallel(n_jobs=-1)]: Done  57 tasks      | elapsed:   29.8s\n",
            "[Parallel(n_jobs=-1)]: Done  68 tasks      | elapsed:   34.2s\n",
            "[Parallel(n_jobs=-1)]: Done  81 tasks      | elapsed:   41.4s\n",
            "[Parallel(n_jobs=-1)]: Done  94 tasks      | elapsed:   47.0s\n",
            "[Parallel(n_jobs=-1)]: Done 109 tasks      | elapsed:   53.8s\n",
            "[Parallel(n_jobs=-1)]: Done 124 tasks      | elapsed:  1.0min\n",
            "[Parallel(n_jobs=-1)]: Done 141 tasks      | elapsed:  1.3min\n",
            "[Parallel(n_jobs=-1)]: Done 158 tasks      | elapsed:  1.4min\n",
            "[Parallel(n_jobs=-1)]: Done 177 tasks      | elapsed:  1.7min\n",
            "[Parallel(n_jobs=-1)]: Done 196 tasks      | elapsed:  2.1min\n",
            "[Parallel(n_jobs=-1)]: Done 217 tasks      | elapsed:  2.5min\n",
            "[Parallel(n_jobs=-1)]: Done 238 tasks      | elapsed:  3.4min\n",
            "[Parallel(n_jobs=-1)]: Done 261 tasks      | elapsed:  4.3min\n",
            "[Parallel(n_jobs=-1)]: Done 284 tasks      | elapsed: 10.2min\n",
            "[Parallel(n_jobs=-1)]: Done 309 tasks      | elapsed: 17.0min\n",
            "[Parallel(n_jobs=-1)]: Done 334 tasks      | elapsed: 49.0min\n"
          ],
          "name": "stderr"
        },
        {
          "output_type": "stream",
          "text": [
            "-------------SCORING MODELS-------------\n"
          ],
          "name": "stdout"
        },
        {
          "output_type": "stream",
          "text": [
            "[Parallel(n_jobs=-1)]: Done 360 out of 360 | elapsed: 101.3min finished\n",
            "[Parallel(n_jobs=-1)]: Using backend LokyBackend with 2 concurrent workers.\n",
            "[Parallel(n_jobs=-1)]: Done 172 tasks      | elapsed:    4.3s\n"
          ],
          "name": "stderr"
        },
        {
          "output_type": "stream",
          "text": [
            "Too many dimensions to plot.\n",
            "LinearSVC(C=1e-06, class_weight=None, dual=True, fit_intercept=True,\n",
            "     intercept_scaling=1, loss='squared_hinge', max_iter=1000,\n",
            "     multi_class='ovr', penalty='l2', random_state=None, tol=0.0001,\n",
            "     verbose=0) 0.8454824465786982\n"
          ],
          "name": "stdout"
        },
        {
          "output_type": "stream",
          "text": [
            "[Parallel(n_jobs=-1)]: Done 360 out of 360 | elapsed:    7.3s finished\n"
          ],
          "name": "stderr"
        }
      ]
    },
    {
      "metadata": {
        "id": "acPrj-Jm9RnN",
        "colab_type": "code",
        "outputId": "5002a6b0-93e5-411b-edf1-8bf08c8002ed",
        "colab": {
          "base_uri": "https://localhost:8080/",
          "height": 979
        }
      },
      "cell_type": "code",
      "source": [
        "from sklearn.model_selection import ParameterGrid\n",
        "import parfit.parfit as pf\n",
        "grid = {\n",
        "    'C': [1e-7, 1e-6, 1e-5, 1e-4, 1e-3, 1e-2, 1e-1, 1e0,10],\n",
        "    'penalty': ['l2'],\n",
        "    'class_weight': [None, 'balanced'],\n",
        "    'loss': ['hinge', 'squared_hinge']\n",
        "}\n",
        "paramGrid = ParameterGrid(grid)\n",
        "bestModel, bestScore, allModels, allScores = pf.bestFit(LinearSVC, paramGrid,\n",
        "           X_train, Y_train, X_test, Y_test, \n",
        "           metric = roc_auc_score,\n",
        "           greater_is_better=True,\n",
        "           scoreLabel = \"F1\")\n",
        "print(bestModel, bestScore)"
      ],
      "execution_count": 0,
      "outputs": [
        {
          "output_type": "stream",
          "text": [
            "-------------FITTING MODELS-------------\n"
          ],
          "name": "stdout"
        },
        {
          "output_type": "stream",
          "text": [
            "[Parallel(n_jobs=-1)]: Using backend LokyBackend with 2 concurrent workers.\n",
            "[Parallel(n_jobs=-1)]: Done   1 tasks      | elapsed:   14.8s\n",
            "[Parallel(n_jobs=-1)]: Done   4 tasks      | elapsed:  2.3min\n",
            "[Parallel(n_jobs=-1)]: Done   9 tasks      | elapsed:  6.3min\n",
            "[Parallel(n_jobs=-1)]: Done  14 tasks      | elapsed: 10.4min\n",
            "[Parallel(n_jobs=-1)]: Done  21 tasks      | elapsed: 15.0min\n",
            "[Parallel(n_jobs=-1)]: Done  28 tasks      | elapsed: 21.4min\n",
            "[Parallel(n_jobs=-1)]: Done  36 out of  36 | elapsed: 28.0min finished\n",
            "[Parallel(n_jobs=-1)]: Using backend LokyBackend with 2 concurrent workers.\n"
          ],
          "name": "stderr"
        },
        {
          "output_type": "stream",
          "text": [
            "-------------SCORING MODELS-------------\n"
          ],
          "name": "stdout"
        },
        {
          "output_type": "stream",
          "text": [
            "[Parallel(n_jobs=-1)]: Done  36 out of  36 | elapsed:    0.8s finished\n"
          ],
          "name": "stderr"
        },
        {
          "output_type": "display_data",
          "data": {
            "image/png": "[encoded data removed]",
            "text/plain": [
              "<Figure size 360x864 with 3 Axes>"
            ]
          },
          "metadata": {
            "tags": []
          }
        },
        {
          "output_type": "stream",
          "text": [
            "LinearSVC(C=1e-06, class_weight='balanced', dual=True, fit_intercept=True,\n",
            "     intercept_scaling=1, loss='hinge', max_iter=1000, multi_class='ovr',\n",
            "     penalty='l2', random_state=None, tol=0.0001, verbose=0) 0.9064126579187497\n"
          ],
          "name": "stdout"
        }
      ]
    },
    {
      "metadata": {
        "id": "BOBWZ21mrpNX",
        "colab_type": "code",
        "outputId": "07c855ec-3042-4d5f-9b95-ec7884db4e87",
        "colab": {
          "base_uri": "https://localhost:8080/",
          "height": 979
        }
      },
      "cell_type": "code",
      "source": [
        "from sklearn.model_selection import ParameterGrid\n",
        "import parfit.parfit as pf\n",
        "grid = {\n",
        "    'C': [1e-7, 1e-6, 1e-5, 1e-4, 1e-3, 1e-2, 1e-1, 1e0,10],\n",
        "    'penalty': ['l2'],\n",
        "    'class_weight': [None, 'balanced'],\n",
        "    'loss': ['hinge', 'squared_hinge']\n",
        "}\n",
        "grid = {\n",
        "    'C': [1e-7, 1e-6, 1e-5, 1e-4, 1e-3, 1e-2, 1e-1, 1e0,10],\n",
        "    'penalty': ['l2'],\n",
        "    'class_weight': [None, 'balanced'],\n",
        "    'loss': ['hinge', 'squared_hinge']\n",
        "}\n",
        "paramGrid = ParameterGrid(grid)\n",
        "bestModel, bestScore, allModels, allScores = pf.bestFit(LinearSVC, paramGrid,\n",
        "           X_train, Y_train, X_val, Y_val, \n",
        "           metric = roc_auc_score,\n",
        "           greater_is_better=True,\n",
        "           scoreLabel = \"AUC\")\n",
        "print(bestModel, bestScore)"
      ],
      "execution_count": 0,
      "outputs": [
        {
          "output_type": "stream",
          "text": [
            "-------------FITTING MODELS-------------\n"
          ],
          "name": "stdout"
        },
        {
          "output_type": "stream",
          "text": [
            "[Parallel(n_jobs=-1)]: Using backend LokyBackend with 2 concurrent workers.\n",
            "[Parallel(n_jobs=-1)]: Done   1 tasks      | elapsed:   13.6s\n",
            "[Parallel(n_jobs=-1)]: Done   4 tasks      | elapsed:  2.3min\n",
            "[Parallel(n_jobs=-1)]: Done   9 tasks      | elapsed:  6.4min\n",
            "[Parallel(n_jobs=-1)]: Done  14 tasks      | elapsed: 10.6min\n",
            "[Parallel(n_jobs=-1)]: Done  21 tasks      | elapsed: 15.3min\n",
            "[Parallel(n_jobs=-1)]: Done  28 tasks      | elapsed: 21.7min\n",
            "[Parallel(n_jobs=-1)]: Done  36 out of  36 | elapsed: 28.6min finished\n",
            "[Parallel(n_jobs=-1)]: Using backend LokyBackend with 2 concurrent workers.\n"
          ],
          "name": "stderr"
        },
        {
          "output_type": "stream",
          "text": [
            "-------------SCORING MODELS-------------\n"
          ],
          "name": "stdout"
        },
        {
          "output_type": "stream",
          "text": [
            "[Parallel(n_jobs=-1)]: Done  36 out of  36 | elapsed:    0.7s finished\n"
          ],
          "name": "stderr"
        },
        {
          "output_type": "display_data",
          "data": {
            "image/png": "[encoded data removed]",
            "text/plain": [
              "<Figure size 360x864 with 3 Axes>"
            ]
          },
          "metadata": {
            "tags": []
          }
        },
        {
          "output_type": "stream",
          "text": [
            "LinearSVC(C=1e-06, class_weight='balanced', dual=True, fit_intercept=True,\n",
            "     intercept_scaling=1, loss='hinge', max_iter=1000, multi_class='ovr',\n",
            "     penalty='l2', random_state=None, tol=0.0001, verbose=0) 0.8969396362079695\n"
          ],
          "name": "stdout"
        }
      ]
    },
    {
      "metadata": {
        "id": "MSM4jo7Bex83",
        "colab_type": "text"
      },
      "cell_type": "markdown",
      "source": [
        "##### Model evaluation"
      ]
    },
    {
      "metadata": {
        "id": "d5-YKa1frWw5",
        "colab_type": "code",
        "colab": {}
      },
      "cell_type": "code",
      "source": [
        "def build_svm(X,Y):\n",
        "#   model = LinearSVC(C=1e-06, class_weight=None, dual=True, fit_intercept=True,\n",
        "#      intercept_scaling=1, loss='squared_hinge', max_iter=1000,\n",
        "#      multi_class='ovr', penalty='l2', random_state=None, tol=0.0001,\n",
        "#      verbose=0)\n",
        "  model = LinearSVC(C=1e-06, class_weight='balanced', dual=True, fit_intercept=True,\n",
        "     intercept_scaling=1, loss='hinge', max_iter=250000, multi_class='ovr',\n",
        "     penalty='l2', random_state=None, tol=0.0001, verbose=0)\n",
        "  return model.fit(X,Y)"
      ],
      "execution_count": 0,
      "outputs": []
    },
    {
      "metadata": {
        "id": "meSBfvtRJZ2N",
        "colab_type": "code",
        "colab": {
          "base_uri": "https://localhost:8080/",
          "height": 34
        },
        "outputId": "6ef922d5-675c-4ddd-b40f-2de58ece3186"
      },
      "cell_type": "code",
      "source": [
        "min_data = min(data_X.min())\n",
        "max_data = max(data_X.max())\n",
        "max_data"
      ],
      "execution_count": 64,
      "outputs": [
        {
          "output_type": "execute_result",
          "data": {
            "text/plain": [
              "37505.0"
            ]
          },
          "metadata": {
            "tags": []
          },
          "execution_count": 64
        }
      ]
    },
    {
      "metadata": {
        "id": "xaf1Y-8ZCq28",
        "colab_type": "code",
        "colab": {}
      },
      "cell_type": "code",
      "source": [
        "def scale_data(train, test):\n",
        "  scaler = MinMaxScaler((min_data, max_data))\n",
        "  scaler.fit(train)\n",
        "  return scaler.transform(train), scaler.transform(test)"
      ],
      "execution_count": 0,
      "outputs": []
    },
    {
      "metadata": {
        "id": "eqmEe9tLpD7e",
        "colab_type": "code",
        "outputId": "3efbb1ec-1770-4881-a569-85f506219877",
        "colab": {
          "base_uri": "https://localhost:8080/",
          "height": 34
        }
      },
      "cell_type": "code",
      "source": [
        "linscv_results_scaled, (y, pred) = test_results(build_svm, scale_data, data_X, data_Y, \"LinSVC\")"
      ],
      "execution_count": 0,
      "outputs": [
        {
          "output_type": "stream",
          "text": [
            "Fold 0\n"
          ],
          "name": "stdout"
        }
      ]
    },
    {
      "metadata": {
        "id": "mPalPGJq4IQ1",
        "colab_type": "code",
        "colab": {
          "base_uri": "https://localhost:8080/",
          "height": 295
        },
        "outputId": "d4658826-fbb7-4452-e1ed-a32fb354e748"
      },
      "cell_type": "code",
      "source": [
        "plot_roc_curve(y, pred, \"LinSVC - ROC for 10 fold-CV\") "
      ],
      "execution_count": 40,
      "outputs": [
        {
          "output_type": "display_data",
          "data": {
            "image/png": "[encoded data removed]",
            "text/plain": [
              "<Figure size 432x288 with 1 Axes>"
            ]
          },
          "metadata": {
            "tags": []
          }
        }
      ]
    },
    {
      "metadata": {
        "id": "A6JftQ_vJkxM",
        "colab_type": "code",
        "colab": {}
      },
      "cell_type": "code",
      "source": [
        "linscv_results_scaled.describe().iloc[1] # minmax scalling"
      ],
      "execution_count": 0,
      "outputs": []
    },
    {
      "metadata": {
        "id": "iA2SKBDHAa_w",
        "colab_type": "code",
        "colab": {
          "base_uri": "https://localhost:8080/",
          "height": 884
        },
        "outputId": "edec7588-8171-4dad-8353-06d2e9585448"
      },
      "cell_type": "code",
      "source": [
        "scaler = RobustScaler()\n",
        "scaler.fit(X_train)\n",
        "t = scaler.transform(X_test)\n",
        "print(pd.DataFrame(X_test).describe())"
      ],
      "execution_count": 60,
      "outputs": [
        {
          "output_type": "stream",
          "text": [
            "              NCD_0         NCD_1         NCD_2         NCD_3         NCD_4  \\\n",
            "count  28142.000000  28142.000000  28142.000000  28142.000000  28142.000000   \n",
            "mean     171.335833    153.233494    163.667863    175.557992    185.457892   \n",
            "std      501.044901    454.150673    488.723672    511.127411    547.371474   \n",
            "min        0.000000      0.000000      0.000000      0.000000      0.000000   \n",
            "25%        3.000000      2.000000      3.000000      3.000000      3.000000   \n",
            "50%       21.000000     18.000000     20.000000     22.000000     23.000000   \n",
            "75%      125.000000    112.000000    119.000000    128.000000    134.000000   \n",
            "max    20179.000000  14573.000000  15582.000000  15727.000000  16191.000000   \n",
            "\n",
            "              NCD_5         NCD_6          AI_0          AI_1          AI_2  \\\n",
            "count  28142.000000  28142.000000  28142.000000  28142.000000  28142.000000   \n",
            "mean     215.079419    243.365077     85.992147     77.195437     82.603404   \n",
            "std      615.533820    715.133084    216.936461    199.167811    217.422738   \n",
            "min        0.000000      0.000000      0.000000      0.000000      0.000000   \n",
            "25%        4.000000      5.000000      2.000000      2.000000      2.000000   \n",
            "50%       28.000000     33.000000     13.000000     11.000000     12.000000   \n",
            "75%      161.000000    186.000000     71.000000     63.000000     67.000000   \n",
            "max    18949.000000  29574.000000   5216.000000   4593.000000   6431.000000   \n",
            "\n",
            "           ...              ADL_4         ADL_5         ADL_6         NAD_0  \\\n",
            "count      ...       28142.000000  28142.000000  28142.000000  28142.000000   \n",
            "mean       ...           1.065388      1.123420      1.193488    171.880854   \n",
            "std        ...           2.221633      1.664029      2.149637    501.943474   \n",
            "min        ...           0.000000      0.000000      0.000000      0.000000   \n",
            "25%        ...           1.000000      1.000000      1.000000      3.000000   \n",
            "50%        ...           1.000000      1.000000      1.000000     22.000000   \n",
            "75%        ...           1.083333      1.100000      1.120000    126.000000   \n",
            "max        ...         294.000000    185.666672    295.000000  20190.000000   \n",
            "\n",
            "              NAD_1         NAD_2         NAD_3         NAD_4         NAD_5  \\\n",
            "count  28142.000000  28142.000000  28142.000000  28142.000000  28142.000000   \n",
            "mean     153.706986    164.137943    176.046621    185.967913    215.626501   \n",
            "std      454.921080    489.487681    511.938490    548.200427    616.392900   \n",
            "min        0.000000      0.000000      0.000000      0.000000      0.000000   \n",
            "25%        2.000000      3.000000      3.000000      3.000000      4.000000   \n",
            "50%       19.000000     20.000000     22.000000     23.000000     28.000000   \n",
            "75%      112.000000    119.000000    128.000000    135.000000    161.000000   \n",
            "max    14573.000000  15608.000000  15754.000000  16212.000000  18957.000000   \n",
            "\n",
            "              NAD_6  \n",
            "count  28142.000000  \n",
            "mean     243.964999  \n",
            "std      716.008155  \n",
            "min        0.000000  \n",
            "25%        5.250000  \n",
            "50%       33.000000  \n",
            "75%      187.000000  \n",
            "max    29574.000000  \n",
            "\n",
            "[8 rows x 77 columns]\n"
          ],
          "name": "stdout"
        }
      ]
    },
    {
      "metadata": {
        "id": "9iRfFvVq95fw",
        "colab_type": "code",
        "colab": {
          "base_uri": "https://localhost:8080/",
          "height": 136
        },
        "outputId": "63fe7bdf-bd0d-4327-c389-7fc612f556ae"
      },
      "cell_type": "code",
      "source": [
        "linscv_results_scaled.describe().iloc[1] # Robust scaler"
      ],
      "execution_count": 56,
      "outputs": [
        {
          "output_type": "execute_result",
          "data": {
            "text/plain": [
              "LinSVC_stratified_kfold_F1             0.147954\n",
              "LinSVC_stratified_kfold_AUC            0.834968\n",
              "LinSVC_stratified_kfold_BACC           0.834968\n",
              "LinSVC_stratified_kfold_TPR(recall)    0.961238\n",
              "LinSVC_stratified_kfold_TNR            0.708697\n",
              "LinSVC_stratified_kfold_Precision      0.080182\n",
              "Name: mean, dtype: float64"
            ]
          },
          "metadata": {
            "tags": []
          },
          "execution_count": 56
        }
      ]
    },
    {
      "metadata": {
        "id": "5_Rh5SNC9ohX",
        "colab_type": "code",
        "colab": {
          "base_uri": "https://localhost:8080/",
          "height": 136
        },
        "outputId": "a4edfa13-0d7a-4e30-fd92-c68c7cea648a"
      },
      "cell_type": "code",
      "source": [
        "linscv_results_scaled.describe().iloc[1] # Standard scaler"
      ],
      "execution_count": 53,
      "outputs": [
        {
          "output_type": "execute_result",
          "data": {
            "text/plain": [
              "LinSVC_stratified_kfold_F1             0.337404\n",
              "LinSVC_stratified_kfold_AUC            0.898048\n",
              "LinSVC_stratified_kfold_BACC           0.898048\n",
              "LinSVC_stratified_kfold_TPR(recall)    0.884865\n",
              "LinSVC_stratified_kfold_TNR            0.911232\n",
              "LinSVC_stratified_kfold_Precision      0.208517\n",
              "Name: mean, dtype: float64"
            ]
          },
          "metadata": {
            "tags": []
          },
          "execution_count": 53
        }
      ]
    },
    {
      "metadata": {
        "id": "tAurCQwb9bWJ",
        "colab_type": "code",
        "colab": {
          "base_uri": "https://localhost:8080/",
          "height": 136
        },
        "outputId": "a4f01ef6-40e5-4d19-ae67-40dbe08087d0"
      },
      "cell_type": "code",
      "source": [
        "linscv_results_scaled.describe().iloc[1] # norm minmax 0 400"
      ],
      "execution_count": 51,
      "outputs": [
        {
          "output_type": "execute_result",
          "data": {
            "text/plain": [
              "LinSVC_stratified_kfold_F1             0.337491\n",
              "LinSVC_stratified_kfold_AUC            0.898187\n",
              "LinSVC_stratified_kfold_BACC           0.898187\n",
              "LinSVC_stratified_kfold_TPR(recall)    0.885142\n",
              "LinSVC_stratified_kfold_TNR            0.911232\n",
              "LinSVC_stratified_kfold_Precision      0.208568\n",
              "Name: mean, dtype: float64"
            ]
          },
          "metadata": {
            "tags": []
          },
          "execution_count": 51
        }
      ]
    },
    {
      "metadata": {
        "id": "d-VsQOuA8AAe",
        "colab_type": "code",
        "colab": {
          "base_uri": "https://localhost:8080/",
          "height": 136
        },
        "outputId": "31b1af97-b5d0-4314-f223-7a29cc1e0bb8"
      },
      "cell_type": "code",
      "source": [
        "linscv_results_scaled.describe().iloc[1] # norm minmax -200 200"
      ],
      "execution_count": 47,
      "outputs": [
        {
          "output_type": "execute_result",
          "data": {
            "text/plain": [
              "LinSVC_stratified_kfold_F1             0.335334\n",
              "LinSVC_stratified_kfold_AUC            0.899154\n",
              "LinSVC_stratified_kfold_BACC           0.899154\n",
              "LinSVC_stratified_kfold_TPR(recall)    0.888405\n",
              "LinSVC_stratified_kfold_TNR            0.909903\n",
              "LinSVC_stratified_kfold_Precision      0.206739\n",
              "Name: mean, dtype: float64"
            ]
          },
          "metadata": {
            "tags": []
          },
          "execution_count": 47
        }
      ]
    },
    {
      "metadata": {
        "id": "sTzgombZ3otK",
        "colab_type": "code",
        "outputId": "0b022d47-4113-4716-f019-efbdd5d7597c",
        "colab": {
          "base_uri": "https://localhost:8080/",
          "height": 136
        }
      },
      "cell_type": "code",
      "source": [
        "linscv_results_scaled.describe().iloc[1] # norm minmax -100 100"
      ],
      "execution_count": 44,
      "outputs": [
        {
          "output_type": "execute_result",
          "data": {
            "text/plain": [
              "LinSVC_stratified_kfold_F1             0.329144\n",
              "LinSVC_stratified_kfold_AUC            0.894413\n",
              "LinSVC_stratified_kfold_BACC           0.894413\n",
              "LinSVC_stratified_kfold_TPR(recall)    0.880551\n",
              "LinSVC_stratified_kfold_TNR            0.908275\n",
              "LinSVC_stratified_kfold_Precision      0.202474\n",
              "Name: mean, dtype: float64"
            ]
          },
          "metadata": {
            "tags": []
          },
          "execution_count": 44
        }
      ]
    },
    {
      "metadata": {
        "id": "h4PLH0wNfQNU",
        "colab_type": "code",
        "outputId": "829fa8ef-e6c8-4c94-dc8e-bf7a74ed62b4",
        "colab": {
          "base_uri": "https://localhost:8080/",
          "height": 163
        }
      },
      "cell_type": "code",
      "source": [
        "plot_roc_curve([a[0] for a in y], [p[0] for p in pred]) "
      ],
      "execution_count": 0,
      "outputs": [
        {
          "output_type": "error",
          "ename": "NameError",
          "evalue": "ignored",
          "traceback": [
            "\u001b[0;31m---------------------------------------------------------------------------\u001b[0m",
            "\u001b[0;31mNameError\u001b[0m                                 Traceback (most recent call last)",
            "\u001b[0;32m<ipython-input-19-15aee9796ff2>\u001b[0m in \u001b[0;36m<module>\u001b[0;34m()\u001b[0m\n\u001b[0;32m----> 1\u001b[0;31m \u001b[0mplot_roc_curve\u001b[0m\u001b[0;34m(\u001b[0m\u001b[0;34m[\u001b[0m\u001b[0ma\u001b[0m\u001b[0;34m[\u001b[0m\u001b[0;36m0\u001b[0m\u001b[0;34m]\u001b[0m \u001b[0;32mfor\u001b[0m \u001b[0ma\u001b[0m \u001b[0;32min\u001b[0m \u001b[0my\u001b[0m\u001b[0;34m]\u001b[0m\u001b[0;34m,\u001b[0m \u001b[0;34m[\u001b[0m\u001b[0mp\u001b[0m\u001b[0;34m[\u001b[0m\u001b[0;36m0\u001b[0m\u001b[0;34m]\u001b[0m \u001b[0;32mfor\u001b[0m \u001b[0mp\u001b[0m \u001b[0;32min\u001b[0m \u001b[0mpred\u001b[0m\u001b[0;34m]\u001b[0m\u001b[0;34m)\u001b[0m\u001b[0;34m\u001b[0m\u001b[0;34m\u001b[0m\u001b[0m\n\u001b[0m",
            "\u001b[0;31mNameError\u001b[0m: name 'plot_roc_curve' is not defined"
          ]
        }
      ]
    },
    {
      "metadata": {
        "id": "bngElycIjZW8",
        "colab_type": "code",
        "outputId": "ef022087-98eb-4097-8873-69099085fa77",
        "colab": {
          "base_uri": "https://localhost:8080/",
          "height": 349
        }
      },
      "cell_type": "code",
      "source": [
        "xtrain, xtest = scale_data(X_train, X_test)\n",
        "\n",
        "model = LinearSVC(C=1e-06, class_weight='balanced', dual=True, fit_intercept=True,\n",
        "     intercept_scaling=1, loss='hinge', max_iter=1000, multi_class='ovr',\n",
        "     penalty='l2', random_state=None, tol=0.0001, verbose=0)\n",
        "model = model.fit(xtrain, Y_train)\n",
        "pred_Y=model.predict(xtest)\n",
        "sum(pred_Y)\n",
        "plot_roc_curve([Y_test], [pred_Y]) "
      ],
      "execution_count": 0,
      "outputs": [
        {
          "output_type": "stream",
          "text": [
            "/usr/local/lib/python3.6/dist-packages/sklearn/svm/base.py:931: ConvergenceWarning: Liblinear failed to converge, increase the number of iterations.\n",
            "  \"the number of iterations.\", ConvergenceWarning)\n"
          ],
          "name": "stderr"
        },
        {
          "output_type": "display_data",
          "data": {
            "image/png": "[encoded data removed]",
            "text/plain": [
              "<Figure size 432x288 with 1 Axes>"
            ]
          },
          "metadata": {
            "tags": []
          }
        }
      ]
    },
    {
      "metadata": {
        "id": "JEKYVkkMkxQN",
        "colab_type": "code",
        "outputId": "ab810bd1-5db9-4dce-8f9a-539bd8e9d3c5",
        "colab": {
          "base_uri": "https://localhost:8080/",
          "height": 102
        }
      },
      "cell_type": "code",
      "source": [
        "f1 = f1_score(Y_test, pred_Y)\n",
        "auc_score = roc_auc_score(Y_test, pred_Y, average=\"weighted\")\n",
        "tn, fp, fn, tp = confusion_matrix(Y_test, pred_Y).ravel()\n",
        "bacc = balanced_accuracy_score(Y_test, pred_Y)\n",
        "tpr=tp/(tp+fn)\n",
        "tnr=tn/(fp+tn)\n",
        "print(f1)\n",
        "print(auc_score)\n",
        "print(bacc)\n",
        "print(tpr)\n",
        "print(tnr)\n"
      ],
      "execution_count": 0,
      "outputs": [
        {
          "output_type": "stream",
          "text": [
            "0.3153483499214248\n",
            "0.8964741653707583\n",
            "0.8964741653707583\n",
            "0.8852941176470588\n",
            "0.9076542130944578\n"
          ],
          "name": "stdout"
        }
      ]
    },
    {
      "metadata": {
        "id": "G9jFdD5lC4t8",
        "colab_type": "code",
        "colab": {}
      },
      "cell_type": "code",
      "source": [
        "# model = LinearSVC(C=1e-06, class_weight=None, dual=True, fit_intercept=True,\n",
        "#      intercept_scaling=1, loss='squared_hinge', max_iter=1000,\n",
        "#      multi_class='ovr', penalty='l2', random_state=None, tol=0.0001,\n",
        "#      verbose=1)\n",
        "model = LinearSVC(C=1e-06, class_weight='balanced', dual=True, fit_intercept=True,\n",
        "     intercept_scaling=1, loss='hinge', max_iter=1000, multi_class='ovr',\n",
        "     penalty='l2', random_state=None, tol=0.0001, verbose=0)\n",
        "model = model.fit(xtrain, Y_train)"
      ],
      "execution_count": 0,
      "outputs": []
    },
    {
      "metadata": {
        "id": "UbNPWFlPfNoX",
        "colab_type": "code",
        "colab": {}
      },
      "cell_type": "code",
      "source": [
        "pred_Y=model.predict(xtest)"
      ],
      "execution_count": 0,
      "outputs": []
    },
    {
      "metadata": {
        "id": "83uRJQcijFxk",
        "colab_type": "code",
        "outputId": "1b050c43-426b-4405-fea2-9f88d27dd6f2",
        "colab": {
          "base_uri": "https://localhost:8080/",
          "height": 34
        }
      },
      "cell_type": "code",
      "source": [
        "sum(pred_Y)"
      ],
      "execution_count": 0,
      "outputs": [
        {
          "output_type": "execute_result",
          "data": {
            "text/plain": [
              "2870.0"
            ]
          },
          "metadata": {
            "tags": []
          },
          "execution_count": 86
        }
      ]
    },
    {
      "metadata": {
        "id": "B9qOtCsjjl4_",
        "colab_type": "code",
        "outputId": "3ef21195-144e-43db-e801-a6c78272bc18",
        "colab": {
          "base_uri": "https://localhost:8080/",
          "height": 295
        }
      },
      "cell_type": "code",
      "source": [
        "plot_roc_curve([Y_test], [pred_Y]) "
      ],
      "execution_count": 0,
      "outputs": [
        {
          "output_type": "display_data",
          "data": {
            "image/png": "[encoded data removed]",
            "text/plain": [
              "<Figure size 432x288 with 1 Axes>"
            ]
          },
          "metadata": {
            "tags": []
          }
        }
      ]
    },
    {
      "metadata": {
        "id": "d4p1PZHagLA-",
        "colab_type": "code",
        "outputId": "55729fd0-3a48-4a20-c580-0fefadca6a27",
        "colab": {
          "base_uri": "https://localhost:8080/",
          "height": 295
        }
      },
      "cell_type": "code",
      "source": [
        "plot_roc_curve([Y_test], [pred_Y]) # unscaled"
      ],
      "execution_count": 0,
      "outputs": [
        {
          "output_type": "display_data",
          "data": {
            "image/png": "[encoded data removed]",
            "text/plain": [
              "<Figure size 432x288 with 1 Axes>"
            ]
          },
          "metadata": {
            "tags": []
          }
        }
      ]
    },
    {
      "metadata": {
        "id": "8AA_Bz3imK1y",
        "colab_type": "code",
        "outputId": "b68d3110-06b1-4133-c0e1-d8f6ab79f28a",
        "colab": {
          "base_uri": "https://localhost:8080/",
          "height": 295
        }
      },
      "cell_type": "code",
      "source": [
        "plot_roc_curve(Y_test, pred_Y) # norm max"
      ],
      "execution_count": 0,
      "outputs": [
        {
          "output_type": "display_data",
          "data": {
            "image/png": "[encoded data removed]",
            "text/plain": [
              "<Figure size 432x288 with 1 Axes>"
            ]
          },
          "metadata": {
            "tags": []
          }
        }
      ]
    },
    {
      "metadata": {
        "id": "smay0w1yT9pM",
        "colab_type": "code",
        "outputId": "2a014edc-f035-4eed-dc86-cf4b5f4b2e37",
        "colab": {
          "base_uri": "https://localhost:8080/",
          "height": 102
        }
      },
      "cell_type": "code",
      "source": [
        "f1 = f1_score(Y_test, pred_Y)\n",
        "auc = roc_auc_score(Y_test, pred_Y, average=\"weighted\")\n",
        "tn, fp, fn, tp = confusion_matrix(Y_test, pred_Y).ravel()\n",
        "bacc = balanced_accuracy_score(Y_test, pred_Y)\n",
        "tpr=tp/(tp+fn)\n",
        "tnr=tn/(fp+tn)\n",
        "print(f1)\n",
        "print(auc)\n",
        "print(bacc)\n",
        "print(tpr)\n",
        "print(tnr)\n"
      ],
      "execution_count": 0,
      "outputs": [
        {
          "output_type": "stream",
          "text": [
            "0.26823940585408473\n",
            "0.8916788760511851\n",
            "0.8916788760511851\n",
            "0.9029411764705882\n",
            "0.8804165756317821\n"
          ],
          "name": "stdout"
        }
      ]
    },
    {
      "metadata": {
        "id": "zIlpZYpQ_hnL",
        "colab_type": "code",
        "colab": {}
      },
      "cell_type": "code",
      "source": [
        "def model_builder_logistic_reg(model, x, y):\n",
        "  model = LogisticRegression(C=0.01, class_weight=None, dual=False, fit_intercept=True,\n",
        "          intercept_scaling=1, max_iter=100, multi_class='warn', n_jobs=-1,\n",
        "          penalty='l2', random_state=None, solver='warn', tol=0.0001,\n",
        "          verbose=0, warm_start=False)\n",
        "  return model.fit(x,y)"
      ],
      "execution_count": 0,
      "outputs": []
    },
    {
      "metadata": {
        "id": "IvNhwSA6sCmW",
        "colab_type": "text"
      },
      "cell_type": "markdown",
      "source": [
        "## Tree-based"
      ]
    },
    {
      "metadata": {
        "id": "X9kLuPhU6fza",
        "colab_type": "code",
        "colab": {}
      },
      "cell_type": "code",
      "source": [
        "kfold = KFold(10, True, 1)\n",
        "stratified_kfold = KFold(10, True, 1)"
      ],
      "execution_count": 0,
      "outputs": []
    },
    {
      "metadata": {
        "id": "0NIvfOtVWmfN",
        "colab_type": "text"
      },
      "cell_type": "markdown",
      "source": [
        "#### Extra tree classifier"
      ]
    },
    {
      "metadata": {
        "id": "8OruSjxaWl4L",
        "colab_type": "code",
        "colab": {}
      },
      "cell_type": "code",
      "source": [
        "def buildET(X,Y,dt_criterion=\"gini\", dt_class_weight=None):\n",
        "  clf = tree.ExtraTreeClassifier(criterion=dt_criterion, class_weight=dt_class_weight)\n",
        "  return clf.fit(train_X, train_Y)"
      ],
      "execution_count": 0,
      "outputs": []
    },
    {
      "metadata": {
        "id": "jEuyVjAvWfTz",
        "colab_type": "code",
        "outputId": "c59b3541-cd94-42f4-e62e-07b599c16f6b",
        "colab": {
          "base_uri": "https://localhost:8080/",
          "height": 51
        }
      },
      "cell_type": "code",
      "source": [
        "results = pd.DataFrame(index=range(10))\n",
        "criteria = [\"gini\", \"entropy\"]\n",
        "class_weights=[\"balanced\"]\n",
        "col_name = \"%s_stratified_kfold_denorm_%s_%s\"\n",
        "for criterion in criteria:\n",
        "  for class_weight in class_weights:\n",
        "    f1s, w_aucs, bacc, tpr, tnr = [], [], [], [], []\n",
        "    for train_idx, test_idx in stratified_kfold.split(data_X):\n",
        "      train_X = data_X.iloc[train_idx]\n",
        "      test_X = data_X.iloc[test_idx]\n",
        "      train_Y, test_Y = data_Y.iloc[train_idx], data_Y.iloc[test_idx]\n",
        "      clf = buildET(train_X, train_Y, dt_criterion=criterion, dt_class_weight=class_weight)\n",
        "      pred_Y = clf.predict(test_X)\n",
        "      f1s.append(f1_score(test_Y, pred_Y))\n",
        "      w_aucs.append(roc_auc_score(test_Y, pred_Y, average=\"weighted\"))\n",
        "      tn, fp, fn, tp = confusion_matrix(test_Y, pred_Y).ravel()\n",
        "      bacc.append(balanced_accuracy_score(test_Y, pred_Y))\n",
        "      tpr.append(tp/(tp+fn))\n",
        "      tnr.append(tn/(fp+tn))\n",
        "    print(f'{criterion}')\n",
        "    f1_df = pd.DataFrame({col_name % (\"F1\", criterion, str(class_weight)): f1s})\n",
        "    auc_df = pd.DataFrame({col_name % (\"AUC\", criterion, str(class_weight)): w_aucs})\n",
        "    bacc_df = pd.DataFrame({col_name % (\"BACC\", criterion, str(class_weight)): bacc})\n",
        "    tpr_df = pd.DataFrame({col_name % (\"TPR\", criterion, str(class_weight)): tpr})\n",
        "    tnr_df = pd.DataFrame({col_name % (\"TNR\", criterion, str(class_weight)): tnr})\n",
        "    results = pd.concat([results, f1_df, auc_df, bacc_df, tpr_df, tnr_df], axis=1)\n"
      ],
      "execution_count": 0,
      "outputs": [
        {
          "output_type": "stream",
          "text": [
            "gini\n",
            "entropy\n"
          ],
          "name": "stdout"
        }
      ]
    },
    {
      "metadata": {
        "id": "Z18xpSwqZ1VJ",
        "colab_type": "code",
        "outputId": "83c6d33b-e3a1-474c-c94e-77d09bc134f8",
        "colab": {
          "base_uri": "https://localhost:8080/",
          "height": 204
        }
      },
      "cell_type": "code",
      "source": [
        "results.describe().iloc[1]"
      ],
      "execution_count": 0,
      "outputs": [
        {
          "output_type": "execute_result",
          "data": {
            "text/plain": [
              "F1_stratified_kfold_denorm_gini_balanced         0.426125\n",
              "AUC_stratified_kfold_denorm_gini_balanced        0.697188\n",
              "BACC_stratified_kfold_denorm_gini_balanced       0.697188\n",
              "TPR_stratified_kfold_denorm_gini_balanced        0.407639\n",
              "TNR_stratified_kfold_denorm_gini_balanced        0.986737\n",
              "F1_stratified_kfold_denorm_entropy_balanced      0.416215\n",
              "AUC_stratified_kfold_denorm_entropy_balanced     0.698602\n",
              "BACC_stratified_kfold_denorm_entropy_balanced    0.698602\n",
              "TPR_stratified_kfold_denorm_entropy_balanced     0.412114\n",
              "TNR_stratified_kfold_denorm_entropy_balanced     0.985090\n",
              "Name: mean, dtype: float64"
            ]
          },
          "metadata": {
            "tags": []
          },
          "execution_count": 36
        }
      ]
    },
    {
      "metadata": {
        "id": "2tJbtReStTX9",
        "colab_type": "text"
      },
      "cell_type": "markdown",
      "source": [
        "#### Decision tree classifier"
      ]
    },
    {
      "metadata": {
        "id": "63Qtnys6HHWK",
        "colab_type": "text"
      },
      "cell_type": "markdown",
      "source": [
        "##### Normalized data"
      ]
    },
    {
      "metadata": {
        "id": "3uld_7xQ72wH",
        "colab_type": "code",
        "outputId": "c31daf59-974b-4b6f-a648-6e4f7b0906c7",
        "colab": {
          "base_uri": "https://localhost:8080/",
          "height": 187
        }
      },
      "cell_type": "code",
      "source": [
        "f1s = []\n",
        "w_aucs = []\n",
        "for train_idx, test_idx in kfold.split(data_X):\n",
        "  train_X = normalize(data_X.iloc[train_idx], axis=0, norm='max')\n",
        "  test_X = normalize(data_X.iloc[test_idx], axis=0, norm='max')\n",
        "  train_Y, test_Y = data_Y.iloc[train_idx], data_Y.iloc[test_idx]\n",
        "  clf = tree.DecisionTreeClassifier()\n",
        "  clf = clf.fit(train_X, train_Y)\n",
        "  pred_Y = clf.predict(test_X)\n",
        "  f1s.append(f1_score(test_Y, pred_Y))\n",
        "  w_aucs.append(roc_auc_score(test_Y, pred_Y, average=\"weighted\"))\n",
        "  print(f'Fold {len(f1s)}')\n"
      ],
      "execution_count": 0,
      "outputs": [
        {
          "output_type": "stream",
          "text": [
            "Fold 1\n",
            "Fold 2\n",
            "Fold 3\n",
            "Fold 4\n",
            "Fold 5\n",
            "Fold 6\n",
            "Fold 7\n",
            "Fold 8\n",
            "Fold 9\n",
            "Fold 10\n"
          ],
          "name": "stdout"
        }
      ]
    },
    {
      "metadata": {
        "id": "3nHIsoq6EGJL",
        "colab_type": "code",
        "outputId": "a6988f43-85b4-4797-f455-dc8c3eefaacb",
        "colab": {
          "base_uri": "https://localhost:8080/",
          "height": 187
        }
      },
      "cell_type": "code",
      "source": [
        "strat_f1s = []\n",
        "strat_w_aucs = []\n",
        "for train_idx, test_idx in stratified_kfold.split(data_X):\n",
        "  train_X = normalize(data_X.iloc[train_idx], axis=0, norm='max')\n",
        "  test_X = normalize(data_X.iloc[test_idx], axis=0, norm='max')\n",
        "  train_Y, test_Y = data_Y.iloc[train_idx], data_Y.iloc[test_idx]\n",
        "  clf = tree.DecisionTreeClassifier()\n",
        "  clf = clf.fit(train_X, train_Y)\n",
        "  pred_Y = clf.predict(test_X)\n",
        "  strat_f1s.append(f1_score(test_Y, pred_Y))\n",
        "  strat_w_aucs.append(roc_auc_score(test_Y, pred_Y, average=\"weighted\"))\n",
        "  print(f'Fold {len(f1s)}')\n"
      ],
      "execution_count": 0,
      "outputs": [
        {
          "output_type": "stream",
          "text": [
            "Fold 10\n",
            "Fold 10\n",
            "Fold 10\n",
            "Fold 10\n",
            "Fold 10\n",
            "Fold 10\n",
            "Fold 10\n",
            "Fold 10\n",
            "Fold 10\n",
            "Fold 10\n"
          ],
          "name": "stdout"
        }
      ]
    },
    {
      "metadata": {
        "id": "hbzSYt0UDvw_",
        "colab_type": "code",
        "outputId": "d300b2a9-49eb-42de-e042-e891d19eb91c",
        "colab": {
          "base_uri": "https://localhost:8080/",
          "height": 391
        }
      },
      "cell_type": "code",
      "source": [
        "print(pd.DataFrame(pd.concat([pd.DataFrame({\"F1\":f1s}),pd.DataFrame({\"Strat F1\":strat_f1s})], axis=1)))\n",
        "print(pd.DataFrame(pd.concat([pd.DataFrame({\"w_AUC\":w_aucs}),pd.DataFrame({\"Strat w_auc\":strat_w_aucs})], axis=1)))"
      ],
      "execution_count": 0,
      "outputs": [
        {
          "output_type": "stream",
          "text": [
            "         F1  Strat F1\n",
            "0  0.195397  0.184303\n",
            "1  0.212994  0.224354\n",
            "2  0.193211  0.170330\n",
            "3  0.251185  0.249800\n",
            "4  0.212000  0.243012\n",
            "5  0.181729  0.168999\n",
            "6  0.225198  0.207916\n",
            "7  0.225502  0.235702\n",
            "8  0.365874  0.348485\n",
            "9  0.285714  0.303585\n",
            "      w_AUC  Strat w_auc\n",
            "0  0.773348     0.750088\n",
            "1  0.693776     0.688433\n",
            "2  0.740431     0.695476\n",
            "3  0.696530     0.692815\n",
            "4  0.743157     0.753593\n",
            "5  0.720147     0.690503\n",
            "6  0.723814     0.690914\n",
            "7  0.709674     0.725858\n",
            "8  0.760986     0.766432\n",
            "9  0.731688     0.732518\n"
          ],
          "name": "stdout"
        }
      ]
    },
    {
      "metadata": {
        "id": "VcHWrShBGyJm",
        "colab_type": "text"
      },
      "cell_type": "markdown",
      "source": [
        "##### denormalized data"
      ]
    },
    {
      "metadata": {
        "id": "ebqiyydkGn-z",
        "colab_type": "code",
        "outputId": "7e6bb37d-8df8-4e99-86ef-21286ac31bdf",
        "colab": {
          "base_uri": "https://localhost:8080/",
          "height": 187
        }
      },
      "cell_type": "code",
      "source": [
        "f1s = []\n",
        "w_aucs = []\n",
        "for train_idx, test_idx in kfold.split(data_X):\n",
        "  train_X = data_X.iloc[train_idx]\n",
        "  test_X = data_X.iloc[test_idx]\n",
        "  train_Y, test_Y = data_Y.iloc[train_idx], data_Y.iloc[test_idx]\n",
        "  clf = tree.DecisionTreeClassifier(criterion=\"entropy\", class_weight=\"balanced\")\n",
        "  clf = clf.fit(train_X, train_Y)\n",
        "  pred_Y = clf.predict(test_X)\n",
        "  f1s.append(f1_score(test_Y, pred_Y))\n",
        "  w_aucs.append(roc_auc_score(test_Y, pred_Y, average=\"weighted\"))\n",
        "  print(f'Fold {len(f1s)}')\n"
      ],
      "execution_count": 0,
      "outputs": [
        {
          "output_type": "stream",
          "text": [
            "Fold 1\n",
            "Fold 2\n",
            "Fold 3\n",
            "Fold 4\n",
            "Fold 5\n",
            "Fold 6\n",
            "Fold 7\n",
            "Fold 8\n",
            "Fold 9\n",
            "Fold 10\n"
          ],
          "name": "stdout"
        }
      ]
    },
    {
      "metadata": {
        "id": "oSprVQe_G7sV",
        "colab_type": "code",
        "outputId": "91ae70ef-0261-4fe7-8bdf-0e17798d4286",
        "colab": {
          "base_uri": "https://localhost:8080/",
          "height": 187
        }
      },
      "cell_type": "code",
      "source": [
        "strat_f1s = []\n",
        "strat_w_aucs = []\n",
        "for train_idx, test_idx in stratified_kfold.split(data_X):\n",
        "  train_X = data_X.iloc[train_idx]\n",
        "  test_X = data_X.iloc[test_idx]\n",
        "  train_Y, test_Y = data_Y.iloc[train_idx], data_Y.iloc[test_idx]\n",
        "  clf = tree.DecisionTreeClassifier(criterion=\"entropy\", class_weight=\"balanced\")\n",
        "  clf = clf.fit(train_X, train_Y)\n",
        "  pred_Y = clf.predict(test_X)\n",
        "  strat_f1s.append(f1_score(test_Y, pred_Y))\n",
        "  strat_w_aucs.append(roc_auc_score(test_Y, pred_Y, average=\"weighted\"))\n",
        "  print(f'Fold {len(strat_f1s)}')\n"
      ],
      "execution_count": 0,
      "outputs": [
        {
          "output_type": "stream",
          "text": [
            "Fold 1\n",
            "Fold 2\n",
            "Fold 3\n",
            "Fold 4\n",
            "Fold 5\n",
            "Fold 6\n",
            "Fold 7\n",
            "Fold 8\n",
            "Fold 9\n",
            "Fold 10\n"
          ],
          "name": "stdout"
        }
      ]
    },
    {
      "metadata": {
        "id": "CCl3V7oKHCKO",
        "colab_type": "code",
        "outputId": "77c3c14f-bfb0-4449-a044-55d299298dcd",
        "colab": {
          "base_uri": "https://localhost:8080/",
          "height": 391
        }
      },
      "cell_type": "code",
      "source": [
        "print(pd.DataFrame(pd.concat([pd.DataFrame({\"F1\":f1s}),pd.DataFrame({\"Strat F1\":strat_f1s})], axis=1)))\n",
        "print(pd.DataFrame(pd.concat([pd.DataFrame({\"w_AUC\":w_aucs}),pd.DataFrame({\"Strat w_auc\":strat_w_aucs})], axis=1)))"
      ],
      "execution_count": 0,
      "outputs": [
        {
          "output_type": "stream",
          "text": [
            "         F1  Strat F1\n",
            "0  0.423803  0.416787\n",
            "1  0.506849  0.519444\n",
            "2  0.423756  0.414977\n",
            "3  0.469444  0.455307\n",
            "4  0.425287  0.434659\n",
            "5  0.455090  0.447407\n",
            "6  0.468244  0.476904\n",
            "7  0.436997  0.446837\n",
            "8  0.442455  0.458599\n",
            "9  0.478947  0.478203\n",
            "      w_AUC  Strat w_auc\n",
            "0  0.710956     0.707816\n",
            "1  0.760091     0.763419\n",
            "2  0.701876     0.702836\n",
            "3  0.730883     0.722360\n",
            "4  0.699236     0.706091\n",
            "5  0.719638     0.717859\n",
            "6  0.719694     0.723501\n",
            "7  0.706533     0.710689\n",
            "8  0.711683     0.720712\n",
            "9  0.729892     0.728663\n"
          ],
          "name": "stdout"
        }
      ]
    },
    {
      "metadata": {
        "id": "a8RsqtbHKvle",
        "colab_type": "text"
      },
      "cell_type": "markdown",
      "source": [
        "#### Run multiple experiments"
      ]
    },
    {
      "metadata": {
        "id": "V7opB_9IKzwB",
        "colab_type": "code",
        "colab": {}
      },
      "cell_type": "code",
      "source": [
        "def buildDT(X,Y,dt_criterion=\"gini\", dt_class_weight=None):\n",
        "  clf = tree.DecisionTreeClassifier(criterion=dt_criterion, class_weight=dt_class_weight)\n",
        "  return clf.fit(train_X, train_Y)"
      ],
      "execution_count": 0,
      "outputs": []
    },
    {
      "metadata": {
        "id": "eQP5amzmriog",
        "colab_type": "text"
      },
      "cell_type": "markdown",
      "source": [
        "##### roc curve"
      ]
    },
    {
      "metadata": {
        "id": "6KmS7nfKryoo",
        "colab_type": "code",
        "outputId": "170dd692-b9bc-4121-e75c-b8763612966b",
        "colab": {
          "base_uri": "https://localhost:8080/",
          "height": 119
        }
      },
      "cell_type": "code",
      "source": [
        "data_Y.head()"
      ],
      "execution_count": 0,
      "outputs": [
        {
          "output_type": "execute_result",
          "data": {
            "text/plain": [
              "0    0.0\n",
              "1    1.0\n",
              "2    0.0\n",
              "3    0.0\n",
              "4    1.0\n",
              "Name: BUZZ, dtype: float64"
            ]
          },
          "metadata": {
            "tags": []
          },
          "execution_count": 40
        }
      ]
    },
    {
      "metadata": {
        "id": "WXfqMfLZLSsi",
        "colab_type": "code",
        "outputId": "a70a0242-9921-48bd-e3b9-87d2f7479185",
        "colab": {
          "base_uri": "https://localhost:8080/",
          "height": 204
        }
      },
      "cell_type": "code",
      "source": [
        "results = pd.DataFrame(index=range(10))\n",
        "criteria = [\"entropy\"]\n",
        "class_weights=[\"balanced\"]\n",
        "col_name = \"%s_stratified_kfold_denorm_%s_%s\"\n",
        "fpr = dict()\n",
        "tpr = dict()\n",
        "roc_auc = dict()\n",
        "for criterion in criteria:\n",
        "  for class_weight in class_weights:\n",
        "    f1s, w_aucs, bacc, tprr, tnr = [], [], [], [], []\n",
        "    i = 0\n",
        "    for train_idx, test_idx in stratified_kfold.split(data_X):\n",
        "      train_X = data_X.iloc[train_idx]\n",
        "      test_X = data_X.iloc[test_idx]\n",
        "      train_Y, test_Y = data_Y.iloc[train_idx], data_Y.iloc[test_idx]\n",
        "      clf = buildDT(train_X, train_Y, dt_criterion=criterion, dt_class_weight=class_weight)\n",
        "      pred_Y = clf.predict_proba(test_X)\n",
        "      fpr[i], tpr[i], _ = roc_curve(test_Y, pred_Y[:,1])\n",
        "      roc_auc[i] = auc(fpr[i], tpr[i])\n",
        "      i+=1\n",
        "      print(i)\n",
        "      \n",
        "#       f1s.append(f1_score(test_Y, np.asarray(pred_Y).round()))\n",
        "#       w_aucs.append(roc_auc_score(test_Y, pred_Y, average=\"weighted\"))\n",
        "#       tn, fp, fn, tp = confusion_matrix(test_Y, np.asarray(pred_Y).round()).ravel()\n",
        "#       bacc.append(balanced_accuracy_score(test_Y, np.asarray(pred_Y).round()))\n",
        "#       tprr.append(tp/(tp+fn))\n",
        "#       tnr.append(tn/(fp+tn))\n",
        "    print(f'{criterion}')\n",
        "#     f1_df = pd.DataFrame({col_name % (\"F1\", criterion, str(class_weight)): f1s})\n",
        "#     auc_df = pd.DataFrame({col_name % (\"AUC\", criterion, str(class_weight)): w_aucs})\n",
        "#     bacc_df = pd.DataFrame({col_name % (\"BACC\", criterion, str(class_weight)): bacc})\n",
        "#     tpr_df = pd.DataFrame({col_name % (\"TPR\", criterion, str(class_weight)): tprr})\n",
        "#     tnr_df = pd.DataFrame({col_name % (\"TNR\", criterion, str(class_weight)): tnr})\n",
        "#     results = pd.concat([results, f1_df, auc_df, bacc_df, tpr_df, tnr_df], axis=1)"
      ],
      "execution_count": 0,
      "outputs": [
        {
          "output_type": "stream",
          "text": [
            "1\n",
            "2\n",
            "3\n",
            "4\n",
            "5\n",
            "6\n",
            "7\n",
            "8\n",
            "9\n",
            "10\n",
            "entropy\n"
          ],
          "name": "stdout"
        }
      ]
    },
    {
      "metadata": {
        "id": "yAPX5_t2tMac",
        "colab_type": "code",
        "outputId": "9f5cd07a-1bfe-4ddc-be66-220cba6c5f68",
        "colab": {
          "base_uri": "https://localhost:8080/",
          "height": 295
        }
      },
      "cell_type": "code",
      "source": [
        "plt.figure()\n",
        "for i in range(10):\n",
        "  plt.plot(fpr[i], tpr[i],\n",
        "           lw=lw, label='ROC curve (area = %0.2f)' % roc_auc[i])\n",
        "plt.plot([0, 1], [0, 1], color='navy', lw=lw, linestyle='--')\n",
        "plt.xlim([0.0, 1.0])\n",
        "plt.ylim([0.0, 1.05])\n",
        "plt.xlabel('False Positive Rate')\n",
        "plt.ylabel('True Positive Rate')\n",
        "plt.title('Receiver operating characteristic curve - DT - 10 folds')\n",
        "plt.legend()\n",
        "plt.show()"
      ],
      "execution_count": 0,
      "outputs": [
        {
          "output_type": "display_data",
          "data": {
            "image/png": "[encoded data removed]",
            "text/plain": [
              "<Figure size 432x288 with 1 Axes>"
            ]
          },
          "metadata": {
            "tags": []
          }
        }
      ]
    },
    {
      "metadata": {
        "id": "Cl134-_btbKE",
        "colab_type": "code",
        "outputId": "c363c05a-d8c4-4d5c-b479-52f1060510d9",
        "colab": {
          "base_uri": "https://localhost:8080/",
          "height": 295
        }
      },
      "cell_type": "code",
      "source": [
        "plt.figure()\n",
        "lw = 2\n",
        "plt.plot(fpr[2], tpr[2], color='darkorange',\n",
        "         lw=lw, label='ROC curve (area = %0.2f)' % roc_auc[2])\n",
        "plt.plot([0, 1], [0, 1], color='navy', lw=lw, linestyle='--')\n",
        "plt.xlim([0.0, 1.0])\n",
        "plt.ylim([0.0, 1.05])\n",
        "plt.xlabel('False Positive Rate')\n",
        "plt.ylabel('True Positive Rate')\n",
        "plt.title('Receiver operating characteristic example')\n",
        "plt.legend(loc=\"lower right\")\n",
        "plt.show()"
      ],
      "execution_count": 0,
      "outputs": [
        {
          "output_type": "display_data",
          "data": {
            "image/png": "[encoded data removed]",
            "text/plain": [
              "<Figure size 432x288 with 1 Axes>"
            ]
          },
          "metadata": {
            "tags": []
          }
        }
      ]
    },
    {
      "metadata": {
        "id": "56F3f2adl0FA",
        "colab_type": "code",
        "outputId": "45314d94-345f-4c17-81fe-3ce01a914559",
        "colab": {
          "base_uri": "https://localhost:8080/",
          "height": 295
        }
      },
      "cell_type": "code",
      "source": [
        "plt.figure()\n",
        "lw = 2\n",
        "plt.plot(fpr[2], tpr[2], color='darkorange',\n",
        "         lw=lw, label='ROC curve (area = %0.2f)' % roc_auc[2])\n",
        "plt.plot([0, 1], [0, 1], color='navy', lw=lw, linestyle='--')\n",
        "plt.xlim([0.0, 1.0])\n",
        "plt.ylim([0.0, 1.05])\n",
        "plt.xlabel('False Positive Rate')\n",
        "plt.ylabel('True Positive Rate')\n",
        "plt.title('Receiver operating characteristic example')\n",
        "plt.legend(loc=\"lower right\")\n",
        "plt.show()"
      ],
      "execution_count": 0,
      "outputs": [
        {
          "output_type": "display_data",
          "data": {
            "image/png": "[encoded data removed]",
            "text/plain": [
              "<Figure size 432x288 with 1 Axes>"
            ]
          },
          "metadata": {
            "tags": []
          }
        }
      ]
    },
    {
      "metadata": {
        "id": "GFckeEQhXuy9",
        "colab_type": "code",
        "outputId": "2d7796b4-d468-4301-8040-4e2be2c7f484",
        "colab": {
          "base_uri": "https://localhost:8080/",
          "height": 204
        }
      },
      "cell_type": "code",
      "source": [
        "results.describe().iloc[1]"
      ],
      "execution_count": 0,
      "outputs": [
        {
          "output_type": "execute_result",
          "data": {
            "text/plain": [
              "F1_stratified_kfold_denorm_gini_balanced         0.428504\n",
              "AUC_stratified_kfold_denorm_gini_balanced        0.701759\n",
              "BACC_stratified_kfold_denorm_gini_balanced       0.701759\n",
              "TPR_stratified_kfold_denorm_gini_balanced        0.417451\n",
              "TNR_stratified_kfold_denorm_gini_balanced        0.986067\n",
              "F1_stratified_kfold_denorm_entropy_balanced      0.452506\n",
              "AUC_stratified_kfold_denorm_entropy_balanced     0.719067\n",
              "BACC_stratified_kfold_denorm_entropy_balanced    0.719067\n",
              "TPR_stratified_kfold_denorm_entropy_balanced     0.452475\n",
              "TNR_stratified_kfold_denorm_entropy_balanced     0.985658\n",
              "Name: mean, dtype: float64"
            ]
          },
          "metadata": {
            "tags": []
          },
          "execution_count": 31
        }
      ]
    },
    {
      "metadata": {
        "id": "qritQrBHNpY_",
        "colab_type": "text"
      },
      "cell_type": "markdown",
      "source": [
        "##### Denormalized results"
      ]
    },
    {
      "metadata": {
        "id": "0n8M1_9_LOJj",
        "colab_type": "code",
        "outputId": "86006f11-bb76-44a2-ceb9-648857b46024",
        "colab": {
          "base_uri": "https://localhost:8080/",
          "height": 204
        }
      },
      "cell_type": "code",
      "source": [
        "criteria = [\"gini\"]#, \"entropy\"]\n",
        "class_weights=[\"balanced\"]\n",
        "col_name = \"%s_stratified_kfold_denorm_%s_%s\"\n",
        "for criterion in criteria:\n",
        "  for class_weight in class_weights:\n",
        "    f1s, w_aucs, bacc, tpr, tnr = [], [], [], [], []\n",
        "    for train_idx, test_idx in stratified_kfold.split(data_X):\n",
        "      print(len(tnr))\n",
        "      train_X = data_X.iloc[train_idx]\n",
        "      test_X = data_X.iloc[test_idx]\n",
        "      train_Y, test_Y = data_Y.iloc[train_idx], data_Y.iloc[test_idx]\n",
        "      clf = buildDT(train_X, train_Y, dt_criterion=criterion, dt_class_weight=class_weight)\n",
        "      pred_Y = clf.predict(test_X)\n",
        "      f1s.append(f1_score(test_Y, pred_Y))\n",
        "      w_aucs.append(roc_auc_score(test_Y, pred_Y, average=\"weighted\"))\n",
        "      tn, fp, fn, tp = confusion_matrix(test_Y, pred_Y).ravel()\n",
        "      bacc.append(balanced_accuracy_score(test_Y, pred_Y))\n",
        "      tpr.append(tp/(tp+fn))\n",
        "      tnr.append(tn/(fp+tn))\n",
        "    print(f'{criterion}')\n",
        "    f1_df = pd.DataFrame({col_name % (\"F1\", criterion, str(class_weight)): f1s})\n",
        "    auc_df = pd.DataFrame({col_name % (\"AUC\", criterion, str(class_weight)): w_aucs})\n",
        "    bacc_df = pd.DataFrame({col_name % (\"BACC\", criterion, str(class_weight)): bacc})\n",
        "    tpr_df = pd.DataFrame({col_name % (\"TPR\", criterion, str(class_weight)): tpr})\n",
        "    tnr_df = pd.DataFrame({col_name % (\"TNR\", criterion, str(class_weight)): tnr})\n",
        "    results = pd.concat([results, f1_df, auc_df, bacc_df, tpr_df, tnr_df], axis=1)\n"
      ],
      "execution_count": 0,
      "outputs": [
        {
          "output_type": "stream",
          "text": [
            "0\n",
            "1\n",
            "2\n",
            "3\n",
            "4\n",
            "5\n",
            "6\n",
            "7\n",
            "8\n",
            "9\n",
            "gini\n"
          ],
          "name": "stdout"
        }
      ]
    },
    {
      "metadata": {
        "id": "-RMoLNWDNiPL",
        "colab_type": "code",
        "outputId": "70d2a907-2061-481a-d288-ca1ab15d081e",
        "colab": {
          "base_uri": "https://localhost:8080/",
          "height": 379
        }
      },
      "cell_type": "code",
      "source": [
        "results"
      ],
      "execution_count": 0,
      "outputs": [
        {
          "output_type": "execute_result",
          "data": {
            "text/html": [
              "<div>\n",
              "<style scoped>\n",
              "    .dataframe tbody tr th:only-of-type {\n",
              "        vertical-align: middle;\n",
              "    }\n",
              "\n",
              "    .dataframe tbody tr th {\n",
              "        vertical-align: top;\n",
              "    }\n",
              "\n",
              "    .dataframe thead th {\n",
              "        text-align: right;\n",
              "    }\n",
              "</style>\n",
              "<table border=\"1\" class=\"dataframe\">\n",
              "  <thead>\n",
              "    <tr style=\"text-align: right;\">\n",
              "      <th></th>\n",
              "      <th>F1_stratified_kfold_denorm_gini_balanced</th>\n",
              "      <th>AUC_stratified_kfold_denorm_gini_balanced</th>\n",
              "      <th>BACC_stratified_kfold_denorm_gini_balanced</th>\n",
              "      <th>TPR_stratified_kfold_denorm_gini_balanced</th>\n",
              "      <th>TNR_stratified_kfold_denorm_gini_balanced</th>\n",
              "      <th>F1_stratified_kfold_denorm_entropy_balanced</th>\n",
              "      <th>AUC_stratified_kfold_denorm_entropy_balanced</th>\n",
              "      <th>BACC_stratified_kfold_denorm_entropy_balanced</th>\n",
              "      <th>TPR_stratified_kfold_denorm_entropy_balanced</th>\n",
              "      <th>TNR_stratified_kfold_denorm_entropy_balanced</th>\n",
              "    </tr>\n",
              "  </thead>\n",
              "  <tbody>\n",
              "    <tr>\n",
              "      <th>0</th>\n",
              "      <td>0.427935</td>\n",
              "      <td>0.708471</td>\n",
              "      <td>0.708471</td>\n",
              "      <td>0.431138</td>\n",
              "      <td>0.985805</td>\n",
              "      <td>0.418605</td>\n",
              "      <td>0.707925</td>\n",
              "      <td>0.707925</td>\n",
              "      <td>0.431138</td>\n",
              "      <td>0.984713</td>\n",
              "    </tr>\n",
              "    <tr>\n",
              "      <th>1</th>\n",
              "      <td>0.460870</td>\n",
              "      <td>0.723029</td>\n",
              "      <td>0.723029</td>\n",
              "      <td>0.459538</td>\n",
              "      <td>0.986521</td>\n",
              "      <td>0.513966</td>\n",
              "      <td>0.759120</td>\n",
              "      <td>0.759120</td>\n",
              "      <td>0.531792</td>\n",
              "      <td>0.986448</td>\n",
              "    </tr>\n",
              "    <tr>\n",
              "      <th>2</th>\n",
              "      <td>0.389937</td>\n",
              "      <td>0.688495</td>\n",
              "      <td>0.688495</td>\n",
              "      <td>0.391167</td>\n",
              "      <td>0.985822</td>\n",
              "      <td>0.407643</td>\n",
              "      <td>0.695240</td>\n",
              "      <td>0.695240</td>\n",
              "      <td>0.403785</td>\n",
              "      <td>0.986695</td>\n",
              "    </tr>\n",
              "    <tr>\n",
              "      <th>3</th>\n",
              "      <td>0.457300</td>\n",
              "      <td>0.726330</td>\n",
              "      <td>0.726330</td>\n",
              "      <td>0.467606</td>\n",
              "      <td>0.985054</td>\n",
              "      <td>0.472185</td>\n",
              "      <td>0.737488</td>\n",
              "      <td>0.737488</td>\n",
              "      <td>0.490141</td>\n",
              "      <td>0.984835</td>\n",
              "    </tr>\n",
              "    <tr>\n",
              "      <th>4</th>\n",
              "      <td>0.422695</td>\n",
              "      <td>0.700337</td>\n",
              "      <td>0.700337</td>\n",
              "      <td>0.415042</td>\n",
              "      <td>0.985633</td>\n",
              "      <td>0.421203</td>\n",
              "      <td>0.697734</td>\n",
              "      <td>0.697734</td>\n",
              "      <td>0.409471</td>\n",
              "      <td>0.985998</td>\n",
              "    </tr>\n",
              "    <tr>\n",
              "      <th>5</th>\n",
              "      <td>0.400602</td>\n",
              "      <td>0.690818</td>\n",
              "      <td>0.690818</td>\n",
              "      <td>0.395833</td>\n",
              "      <td>0.985803</td>\n",
              "      <td>0.456036</td>\n",
              "      <td>0.721053</td>\n",
              "      <td>0.721053</td>\n",
              "      <td>0.455357</td>\n",
              "      <td>0.986749</td>\n",
              "    </tr>\n",
              "    <tr>\n",
              "      <th>6</th>\n",
              "      <td>0.450633</td>\n",
              "      <td>0.707727</td>\n",
              "      <td>0.707727</td>\n",
              "      <td>0.429952</td>\n",
              "      <td>0.985502</td>\n",
              "      <td>0.462112</td>\n",
              "      <td>0.717132</td>\n",
              "      <td>0.717132</td>\n",
              "      <td>0.449275</td>\n",
              "      <td>0.984989</td>\n",
              "    </tr>\n",
              "    <tr>\n",
              "      <th>7</th>\n",
              "      <td>0.421199</td>\n",
              "      <td>0.691405</td>\n",
              "      <td>0.691405</td>\n",
              "      <td>0.396325</td>\n",
              "      <td>0.986485</td>\n",
              "      <td>0.432935</td>\n",
              "      <td>0.706277</td>\n",
              "      <td>0.706277</td>\n",
              "      <td>0.427822</td>\n",
              "      <td>0.984732</td>\n",
              "    </tr>\n",
              "    <tr>\n",
              "      <th>8</th>\n",
              "      <td>0.435724</td>\n",
              "      <td>0.697588</td>\n",
              "      <td>0.697588</td>\n",
              "      <td>0.408629</td>\n",
              "      <td>0.986546</td>\n",
              "      <td>0.443286</td>\n",
              "      <td>0.708314</td>\n",
              "      <td>0.708314</td>\n",
              "      <td>0.431472</td>\n",
              "      <td>0.985156</td>\n",
              "    </tr>\n",
              "    <tr>\n",
              "      <th>9</th>\n",
              "      <td>0.424411</td>\n",
              "      <td>0.692497</td>\n",
              "      <td>0.692497</td>\n",
              "      <td>0.398438</td>\n",
              "      <td>0.986556</td>\n",
              "      <td>0.484848</td>\n",
              "      <td>0.732605</td>\n",
              "      <td>0.732605</td>\n",
              "      <td>0.479167</td>\n",
              "      <td>0.986044</td>\n",
              "    </tr>\n",
              "  </tbody>\n",
              "</table>\n",
              "</div>"
            ],
            "text/plain": [
              "   F1_stratified_kfold_denorm_gini_balanced  \\\n",
              "0                                  0.427935   \n",
              "1                                  0.460870   \n",
              "2                                  0.389937   \n",
              "3                                  0.457300   \n",
              "4                                  0.422695   \n",
              "5                                  0.400602   \n",
              "6                                  0.450633   \n",
              "7                                  0.421199   \n",
              "8                                  0.435724   \n",
              "9                                  0.424411   \n",
              "\n",
              "   AUC_stratified_kfold_denorm_gini_balanced  \\\n",
              "0                                   0.708471   \n",
              "1                                   0.723029   \n",
              "2                                   0.688495   \n",
              "3                                   0.726330   \n",
              "4                                   0.700337   \n",
              "5                                   0.690818   \n",
              "6                                   0.707727   \n",
              "7                                   0.691405   \n",
              "8                                   0.697588   \n",
              "9                                   0.692497   \n",
              "\n",
              "   BACC_stratified_kfold_denorm_gini_balanced  \\\n",
              "0                                    0.708471   \n",
              "1                                    0.723029   \n",
              "2                                    0.688495   \n",
              "3                                    0.726330   \n",
              "4                                    0.700337   \n",
              "5                                    0.690818   \n",
              "6                                    0.707727   \n",
              "7                                    0.691405   \n",
              "8                                    0.697588   \n",
              "9                                    0.692497   \n",
              "\n",
              "   TPR_stratified_kfold_denorm_gini_balanced  \\\n",
              "0                                   0.431138   \n",
              "1                                   0.459538   \n",
              "2                                   0.391167   \n",
              "3                                   0.467606   \n",
              "4                                   0.415042   \n",
              "5                                   0.395833   \n",
              "6                                   0.429952   \n",
              "7                                   0.396325   \n",
              "8                                   0.408629   \n",
              "9                                   0.398438   \n",
              "\n",
              "   TNR_stratified_kfold_denorm_gini_balanced  \\\n",
              "0                                   0.985805   \n",
              "1                                   0.986521   \n",
              "2                                   0.985822   \n",
              "3                                   0.985054   \n",
              "4                                   0.985633   \n",
              "5                                   0.985803   \n",
              "6                                   0.985502   \n",
              "7                                   0.986485   \n",
              "8                                   0.986546   \n",
              "9                                   0.986556   \n",
              "\n",
              "   F1_stratified_kfold_denorm_entropy_balanced  \\\n",
              "0                                     0.418605   \n",
              "1                                     0.513966   \n",
              "2                                     0.407643   \n",
              "3                                     0.472185   \n",
              "4                                     0.421203   \n",
              "5                                     0.456036   \n",
              "6                                     0.462112   \n",
              "7                                     0.432935   \n",
              "8                                     0.443286   \n",
              "9                                     0.484848   \n",
              "\n",
              "   AUC_stratified_kfold_denorm_entropy_balanced  \\\n",
              "0                                      0.707925   \n",
              "1                                      0.759120   \n",
              "2                                      0.695240   \n",
              "3                                      0.737488   \n",
              "4                                      0.697734   \n",
              "5                                      0.721053   \n",
              "6                                      0.717132   \n",
              "7                                      0.706277   \n",
              "8                                      0.708314   \n",
              "9                                      0.732605   \n",
              "\n",
              "   BACC_stratified_kfold_denorm_entropy_balanced  \\\n",
              "0                                       0.707925   \n",
              "1                                       0.759120   \n",
              "2                                       0.695240   \n",
              "3                                       0.737488   \n",
              "4                                       0.697734   \n",
              "5                                       0.721053   \n",
              "6                                       0.717132   \n",
              "7                                       0.706277   \n",
              "8                                       0.708314   \n",
              "9                                       0.732605   \n",
              "\n",
              "   TPR_stratified_kfold_denorm_entropy_balanced  \\\n",
              "0                                      0.431138   \n",
              "1                                      0.531792   \n",
              "2                                      0.403785   \n",
              "3                                      0.490141   \n",
              "4                                      0.409471   \n",
              "5                                      0.455357   \n",
              "6                                      0.449275   \n",
              "7                                      0.427822   \n",
              "8                                      0.431472   \n",
              "9                                      0.479167   \n",
              "\n",
              "   TNR_stratified_kfold_denorm_entropy_balanced  \n",
              "0                                      0.984713  \n",
              "1                                      0.986448  \n",
              "2                                      0.986695  \n",
              "3                                      0.984835  \n",
              "4                                      0.985998  \n",
              "5                                      0.986749  \n",
              "6                                      0.984989  \n",
              "7                                      0.984732  \n",
              "8                                      0.985156  \n",
              "9                                      0.986044  "
            ]
          },
          "metadata": {
            "tags": []
          },
          "execution_count": 105
        }
      ]
    },
    {
      "metadata": {
        "id": "IbW95n6SNtSn",
        "colab_type": "text"
      },
      "cell_type": "markdown",
      "source": [
        "##### Normalized results"
      ]
    },
    {
      "metadata": {
        "id": "pKEMuh85U0na",
        "colab_type": "code",
        "colab": {}
      },
      "cell_type": "code",
      "source": [
        "data_X_norm = pd.DataFrame(normalize(data_X, axis=0, norm='l1'))#, pd.DataFrame(normalize(X_test, axis=0, norm='l2'))"
      ],
      "execution_count": 0,
      "outputs": []
    },
    {
      "metadata": {
        "id": "1zQ8eWckWBwB",
        "colab_type": "code",
        "outputId": "c3ed5786-f8f7-499b-e8fc-0811dc7dd682",
        "colab": {
          "base_uri": "https://localhost:8080/",
          "height": 346
        }
      },
      "cell_type": "code",
      "source": [
        "data_X_norm.describe()"
      ],
      "execution_count": 0,
      "outputs": [
        {
          "output_type": "execute_result",
          "data": {
            "text/html": [
              "<div>\n",
              "<style scoped>\n",
              "    .dataframe tbody tr th:only-of-type {\n",
              "        vertical-align: middle;\n",
              "    }\n",
              "\n",
              "    .dataframe tbody tr th {\n",
              "        vertical-align: top;\n",
              "    }\n",
              "\n",
              "    .dataframe thead th {\n",
              "        text-align: right;\n",
              "    }\n",
              "</style>\n",
              "<table border=\"1\" class=\"dataframe\">\n",
              "  <thead>\n",
              "    <tr style=\"text-align: right;\">\n",
              "      <th></th>\n",
              "      <th>0</th>\n",
              "      <th>1</th>\n",
              "      <th>2</th>\n",
              "      <th>3</th>\n",
              "      <th>4</th>\n",
              "      <th>5</th>\n",
              "      <th>6</th>\n",
              "      <th>7</th>\n",
              "      <th>8</th>\n",
              "      <th>9</th>\n",
              "      <th>...</th>\n",
              "      <th>67</th>\n",
              "      <th>68</th>\n",
              "      <th>69</th>\n",
              "      <th>70</th>\n",
              "      <th>71</th>\n",
              "      <th>72</th>\n",
              "      <th>73</th>\n",
              "      <th>74</th>\n",
              "      <th>75</th>\n",
              "      <th>76</th>\n",
              "    </tr>\n",
              "  </thead>\n",
              "  <tbody>\n",
              "    <tr>\n",
              "      <th>count</th>\n",
              "      <td>140707.000000</td>\n",
              "      <td>140707.000000</td>\n",
              "      <td>140707.000000</td>\n",
              "      <td>140707.000000</td>\n",
              "      <td>140707.000000</td>\n",
              "      <td>140707.000000</td>\n",
              "      <td>140707.000000</td>\n",
              "      <td>140707.000000</td>\n",
              "      <td>140707.000000</td>\n",
              "      <td>140707.000000</td>\n",
              "      <td>...</td>\n",
              "      <td>140707.000000</td>\n",
              "      <td>140707.000000</td>\n",
              "      <td>140707.000000</td>\n",
              "      <td>140707.000000</td>\n",
              "      <td>140707.000000</td>\n",
              "      <td>140707.000000</td>\n",
              "      <td>140707.000000</td>\n",
              "      <td>140707.000000</td>\n",
              "      <td>140707.000000</td>\n",
              "      <td>140707.000000</td>\n",
              "    </tr>\n",
              "    <tr>\n",
              "      <th>mean</th>\n",
              "      <td>0.007116</td>\n",
              "      <td>0.006775</td>\n",
              "      <td>0.008073</td>\n",
              "      <td>0.006547</td>\n",
              "      <td>0.006039</td>\n",
              "      <td>0.007559</td>\n",
              "      <td>0.006502</td>\n",
              "      <td>0.005763</td>\n",
              "      <td>0.004999</td>\n",
              "      <td>0.005142</td>\n",
              "      <td>...</td>\n",
              "      <td>0.003556</td>\n",
              "      <td>0.005997</td>\n",
              "      <td>0.004055</td>\n",
              "      <td>0.007112</td>\n",
              "      <td>0.006772</td>\n",
              "      <td>0.008097</td>\n",
              "      <td>0.006550</td>\n",
              "      <td>0.006042</td>\n",
              "      <td>0.007554</td>\n",
              "      <td>0.006519</td>\n",
              "    </tr>\n",
              "    <tr>\n",
              "      <th>std</th>\n",
              "      <td>0.021060</td>\n",
              "      <td>0.020594</td>\n",
              "      <td>0.024170</td>\n",
              "      <td>0.019563</td>\n",
              "      <td>0.018100</td>\n",
              "      <td>0.022102</td>\n",
              "      <td>0.018862</td>\n",
              "      <td>0.015540</td>\n",
              "      <td>0.013887</td>\n",
              "      <td>0.014250</td>\n",
              "      <td>...</td>\n",
              "      <td>0.005172</td>\n",
              "      <td>0.007402</td>\n",
              "      <td>0.006190</td>\n",
              "      <td>0.021025</td>\n",
              "      <td>0.020560</td>\n",
              "      <td>0.024212</td>\n",
              "      <td>0.019552</td>\n",
              "      <td>0.018090</td>\n",
              "      <td>0.022065</td>\n",
              "      <td>0.018889</td>\n",
              "    </tr>\n",
              "    <tr>\n",
              "      <th>min</th>\n",
              "      <td>0.000000</td>\n",
              "      <td>0.000000</td>\n",
              "      <td>0.000000</td>\n",
              "      <td>0.000000</td>\n",
              "      <td>0.000000</td>\n",
              "      <td>0.000000</td>\n",
              "      <td>0.000000</td>\n",
              "      <td>0.000000</td>\n",
              "      <td>0.000000</td>\n",
              "      <td>0.000000</td>\n",
              "      <td>...</td>\n",
              "      <td>0.000000</td>\n",
              "      <td>0.000000</td>\n",
              "      <td>0.000000</td>\n",
              "      <td>0.000000</td>\n",
              "      <td>0.000000</td>\n",
              "      <td>0.000000</td>\n",
              "      <td>0.000000</td>\n",
              "      <td>0.000000</td>\n",
              "      <td>0.000000</td>\n",
              "      <td>0.000000</td>\n",
              "    </tr>\n",
              "    <tr>\n",
              "      <th>25%</th>\n",
              "      <td>0.000124</td>\n",
              "      <td>0.000087</td>\n",
              "      <td>0.000146</td>\n",
              "      <td>0.000111</td>\n",
              "      <td>0.000097</td>\n",
              "      <td>0.000140</td>\n",
              "      <td>0.000133</td>\n",
              "      <td>0.000132</td>\n",
              "      <td>0.000127</td>\n",
              "      <td>0.000122</td>\n",
              "      <td>...</td>\n",
              "      <td>0.003401</td>\n",
              "      <td>0.005386</td>\n",
              "      <td>0.003390</td>\n",
              "      <td>0.000123</td>\n",
              "      <td>0.000087</td>\n",
              "      <td>0.000146</td>\n",
              "      <td>0.000111</td>\n",
              "      <td>0.000097</td>\n",
              "      <td>0.000139</td>\n",
              "      <td>0.000160</td>\n",
              "    </tr>\n",
              "    <tr>\n",
              "      <th>50%</th>\n",
              "      <td>0.000909</td>\n",
              "      <td>0.000830</td>\n",
              "      <td>0.000976</td>\n",
              "      <td>0.000815</td>\n",
              "      <td>0.000743</td>\n",
              "      <td>0.000979</td>\n",
              "      <td>0.000880</td>\n",
              "      <td>0.000861</td>\n",
              "      <td>0.000699</td>\n",
              "      <td>0.000793</td>\n",
              "      <td>...</td>\n",
              "      <td>0.003401</td>\n",
              "      <td>0.005386</td>\n",
              "      <td>0.003390</td>\n",
              "      <td>0.000905</td>\n",
              "      <td>0.000827</td>\n",
              "      <td>0.001025</td>\n",
              "      <td>0.000813</td>\n",
              "      <td>0.000741</td>\n",
              "      <td>0.000976</td>\n",
              "      <td>0.000880</td>\n",
              "    </tr>\n",
              "    <tr>\n",
              "      <th>75%</th>\n",
              "      <td>0.005163</td>\n",
              "      <td>0.004891</td>\n",
              "      <td>0.005806</td>\n",
              "      <td>0.004665</td>\n",
              "      <td>0.004296</td>\n",
              "      <td>0.005629</td>\n",
              "      <td>0.004959</td>\n",
              "      <td>0.004634</td>\n",
              "      <td>0.004069</td>\n",
              "      <td>0.004088</td>\n",
              "      <td>...</td>\n",
              "      <td>0.003685</td>\n",
              "      <td>0.005925</td>\n",
              "      <td>0.003793</td>\n",
              "      <td>0.005185</td>\n",
              "      <td>0.004917</td>\n",
              "      <td>0.005806</td>\n",
              "      <td>0.004691</td>\n",
              "      <td>0.004319</td>\n",
              "      <td>0.005645</td>\n",
              "      <td>0.004986</td>\n",
              "    </tr>\n",
              "    <tr>\n",
              "      <th>max</th>\n",
              "      <td>1.000000</td>\n",
              "      <td>1.000000</td>\n",
              "      <td>1.000000</td>\n",
              "      <td>1.000000</td>\n",
              "      <td>1.000000</td>\n",
              "      <td>1.000000</td>\n",
              "      <td>1.000000</td>\n",
              "      <td>1.000000</td>\n",
              "      <td>1.000000</td>\n",
              "      <td>1.000000</td>\n",
              "      <td>...</td>\n",
              "      <td>1.000000</td>\n",
              "      <td>1.000000</td>\n",
              "      <td>1.000000</td>\n",
              "      <td>1.000000</td>\n",
              "      <td>1.000000</td>\n",
              "      <td>1.000000</td>\n",
              "      <td>1.000000</td>\n",
              "      <td>1.000000</td>\n",
              "      <td>1.000000</td>\n",
              "      <td>1.000000</td>\n",
              "    </tr>\n",
              "  </tbody>\n",
              "</table>\n",
              "<p>8 rows × 77 columns</p>\n",
              "</div>"
            ],
            "text/plain": [
              "                  0              1              2              3   \\\n",
              "count  140707.000000  140707.000000  140707.000000  140707.000000   \n",
              "mean        0.007116       0.006775       0.008073       0.006547   \n",
              "std         0.021060       0.020594       0.024170       0.019563   \n",
              "min         0.000000       0.000000       0.000000       0.000000   \n",
              "25%         0.000124       0.000087       0.000146       0.000111   \n",
              "50%         0.000909       0.000830       0.000976       0.000815   \n",
              "75%         0.005163       0.004891       0.005806       0.004665   \n",
              "max         1.000000       1.000000       1.000000       1.000000   \n",
              "\n",
              "                  4              5              6              7   \\\n",
              "count  140707.000000  140707.000000  140707.000000  140707.000000   \n",
              "mean        0.006039       0.007559       0.006502       0.005763   \n",
              "std         0.018100       0.022102       0.018862       0.015540   \n",
              "min         0.000000       0.000000       0.000000       0.000000   \n",
              "25%         0.000097       0.000140       0.000133       0.000132   \n",
              "50%         0.000743       0.000979       0.000880       0.000861   \n",
              "75%         0.004296       0.005629       0.004959       0.004634   \n",
              "max         1.000000       1.000000       1.000000       1.000000   \n",
              "\n",
              "                  8              9       ...                   67  \\\n",
              "count  140707.000000  140707.000000      ...        140707.000000   \n",
              "mean        0.004999       0.005142      ...             0.003556   \n",
              "std         0.013887       0.014250      ...             0.005172   \n",
              "min         0.000000       0.000000      ...             0.000000   \n",
              "25%         0.000127       0.000122      ...             0.003401   \n",
              "50%         0.000699       0.000793      ...             0.003401   \n",
              "75%         0.004069       0.004088      ...             0.003685   \n",
              "max         1.000000       1.000000      ...             1.000000   \n",
              "\n",
              "                  68             69             70             71  \\\n",
              "count  140707.000000  140707.000000  140707.000000  140707.000000   \n",
              "mean        0.005997       0.004055       0.007112       0.006772   \n",
              "std         0.007402       0.006190       0.021025       0.020560   \n",
              "min         0.000000       0.000000       0.000000       0.000000   \n",
              "25%         0.005386       0.003390       0.000123       0.000087   \n",
              "50%         0.005386       0.003390       0.000905       0.000827   \n",
              "75%         0.005925       0.003793       0.005185       0.004917   \n",
              "max         1.000000       1.000000       1.000000       1.000000   \n",
              "\n",
              "                  72             73             74             75  \\\n",
              "count  140707.000000  140707.000000  140707.000000  140707.000000   \n",
              "mean        0.008097       0.006550       0.006042       0.007554   \n",
              "std         0.024212       0.019552       0.018090       0.022065   \n",
              "min         0.000000       0.000000       0.000000       0.000000   \n",
              "25%         0.000146       0.000111       0.000097       0.000139   \n",
              "50%         0.001025       0.000813       0.000741       0.000976   \n",
              "75%         0.005806       0.004691       0.004319       0.005645   \n",
              "max         1.000000       1.000000       1.000000       1.000000   \n",
              "\n",
              "                  76  \n",
              "count  140707.000000  \n",
              "mean        0.006519  \n",
              "std         0.018889  \n",
              "min         0.000000  \n",
              "25%         0.000160  \n",
              "50%         0.000880  \n",
              "75%         0.004986  \n",
              "max         1.000000  \n",
              "\n",
              "[8 rows x 77 columns]"
            ]
          },
          "metadata": {
            "tags": []
          },
          "execution_count": 21
        }
      ]
    },
    {
      "metadata": {
        "id": "kTw09lhPXM-U",
        "colab_type": "code",
        "colab": {}
      },
      "cell_type": "code",
      "source": [
        "data_X_norm = pd.DataFrame(normalize(data_X, axis=0, norm='l1'))#, pd.DataFrame(normalize(X_test, axis=0, norm='l2'))"
      ],
      "execution_count": 0,
      "outputs": []
    },
    {
      "metadata": {
        "id": "Wipp3tF8Nokl",
        "colab_type": "code",
        "outputId": "3027f349-49c1-43e6-9983-3b5e3e9c1332",
        "colab": {
          "base_uri": "https://localhost:8080/",
          "height": 391
        }
      },
      "cell_type": "code",
      "source": [
        "results = pd.DataFrame(index=range(10))\n",
        "criteria = [\"gini\", \"entropy\"]\n",
        "class_weights=[\"balanced\"]\n",
        "col_name = \"%s_stratified_kfold_norml1_%s_%s\"\n",
        "for criterion in criteria:\n",
        "  for class_weight in class_weights:\n",
        "    f1s, w_aucs, bacc, tpr, tnr = [], [], [], [], []\n",
        "    for train_idx, test_idx in stratified_kfold.split(data_X_norm):\n",
        "      print(len(f1s))\n",
        "      train_X = data_X_norm.iloc[train_idx]\n",
        "      test_X = data_X_norm.iloc[test_idx]\n",
        "      train_Y, test_Y = data_Y.iloc[train_idx], data_Y.iloc[test_idx]\n",
        "      clf = buildDT(train_X, train_Y, dt_criterion=criterion, dt_class_weight=class_weight)\n",
        "      pred_Y = clf.predict(test_X)\n",
        "      f1s.append(f1_score(test_Y, pred_Y))\n",
        "      w_aucs.append(roc_auc_score(test_Y, pred_Y, average=\"weighted\"))\n",
        "      tn, fp, fn, tp = confusion_matrix(test_Y, pred_Y).ravel()\n",
        "      bacc.append(balanced_accuracy_score(test_Y, pred_Y))\n",
        "      tpr.append(tp/(tp+fn))\n",
        "      tnr.append(tn/(fp+tn))\n",
        "    print(f'{criterion}')\n",
        "    f1_df = pd.DataFrame({col_name % (\"F1\", criterion, str(class_weight)): f1s})\n",
        "    auc_df = pd.DataFrame({col_name % (\"AUC\", criterion, str(class_weight)): w_aucs})\n",
        "    bacc_df = pd.DataFrame({col_name % (\"BACC\", criterion, str(class_weight)): bacc})\n",
        "    tpr_df = pd.DataFrame({col_name % (\"TPR\", criterion, str(class_weight)): tpr})\n",
        "    tnr_df = pd.DataFrame({col_name % (\"TNR\", criterion, str(class_weight)): tnr})\n",
        "    results = pd.concat([results, f1_df, auc_df, bacc_df, tpr_df, tnr_df], axis=1)"
      ],
      "execution_count": 0,
      "outputs": [
        {
          "output_type": "stream",
          "text": [
            "0\n",
            "1\n",
            "2\n",
            "3\n",
            "4\n",
            "5\n",
            "6\n",
            "7\n",
            "8\n",
            "9\n",
            "gini\n",
            "0\n",
            "1\n",
            "2\n",
            "3\n",
            "4\n",
            "5\n",
            "6\n",
            "7\n",
            "8\n",
            "9\n",
            "entropy\n"
          ],
          "name": "stdout"
        }
      ]
    },
    {
      "metadata": {
        "id": "ovke1s8CPBLI",
        "colab_type": "code",
        "outputId": "358ace00-f978-4fd5-9dc2-aaf37e30ee1f",
        "colab": {
          "base_uri": "https://localhost:8080/",
          "height": 204
        }
      },
      "cell_type": "code",
      "source": [
        "results.describe().iloc[1]"
      ],
      "execution_count": 0,
      "outputs": [
        {
          "output_type": "execute_result",
          "data": {
            "text/plain": [
              "F1_stratified_kfold_norml1_gini_balanced         0.423648\n",
              "AUC_stratified_kfold_norml1_gini_balanced        0.698122\n",
              "BACC_stratified_kfold_norml1_gini_balanced       0.698122\n",
              "TPR_stratified_kfold_norml1_gini_balanced        0.410061\n",
              "TNR_stratified_kfold_norml1_gini_balanced        0.986184\n",
              "F1_stratified_kfold_norml1_entropy_balanced      0.446607\n",
              "AUC_stratified_kfold_norml1_entropy_balanced     0.713138\n",
              "BACC_stratified_kfold_norml1_entropy_balanced    0.713138\n",
              "TPR_stratified_kfold_norml1_entropy_balanced     0.440261\n",
              "TNR_stratified_kfold_norml1_entropy_balanced     0.986016\n",
              "Name: mean, dtype: float64"
            ]
          },
          "metadata": {
            "tags": []
          },
          "execution_count": 35
        }
      ]
    },
    {
      "metadata": {
        "id": "gFMpui5dSzHa",
        "colab_type": "code",
        "outputId": "068db023-b3bc-4b29-85bb-e60e502741df",
        "colab": {
          "base_uri": "https://localhost:8080/",
          "height": 119
        }
      },
      "cell_type": "code",
      "source": [
        "results.filter(regex=\"stratified_kfold_denorm_en\").describe().iloc[1]"
      ],
      "execution_count": 0,
      "outputs": [
        {
          "output_type": "execute_result",
          "data": {
            "text/plain": [
              "F1_stratified_kfold_denorm_entropy_balanced      0.456540\n",
              "AUC_stratified_kfold_denorm_entropy_balanced     0.721000\n",
              "BACC_stratified_kfold_denorm_entropy_balanced    0.721000\n",
              "TPR_stratified_kfold_denorm_entropy_balanced     0.456233\n",
              "TNR_stratified_kfold_denorm_entropy_balanced     0.985767\n",
              "Name: mean, dtype: float64"
            ]
          },
          "metadata": {
            "tags": []
          },
          "execution_count": 23
        }
      ]
    },
    {
      "metadata": {
        "id": "LcwSgD5aGF85",
        "colab_type": "code",
        "colab": {}
      },
      "cell_type": "code",
      "source": [
        "results.describe().iloc[1].to_csv(PATH_PREFIX + \"DT_results_5metrics\")"
      ],
      "execution_count": 0,
      "outputs": []
    },
    {
      "metadata": {
        "id": "pUvptHhwcDom",
        "colab_type": "code",
        "colab": {}
      },
      "cell_type": "code",
      "source": [
        "res.to_csv(PATH_PREFIX + \"DT_results_str-kfold_denorm\")"
      ],
      "execution_count": 0,
      "outputs": []
    },
    {
      "metadata": {
        "id": "_jcAlTRyGBz5",
        "colab_type": "code",
        "colab": {}
      },
      "cell_type": "code",
      "source": [
        "r.to_csv(PATH_PREFIX + \"DT_results_str-kfold_norm\")"
      ],
      "execution_count": 0,
      "outputs": []
    },
    {
      "metadata": {
        "id": "SyjkCjBXyGIQ",
        "colab_type": "code",
        "colab": {}
      },
      "cell_type": "code",
      "source": [
        "res = pd.DataFrame()\n",
        "criteria = [\"gini\", \"entropy\"]\n",
        "class_weights=[\"balanced\"]\n",
        "col_name = \"%s_str-kfold_denorm_%s_%s\"\n",
        "for criterion in criteria:\n",
        "  for class_weight in class_weights:\n",
        "    f1s, w_aucs = [], []\n",
        "    for train_idx, test_idx in stratified_kfold.split(data_X):\n",
        "      train_X = data_X.iloc[train_idx]\n",
        "      test_X = data_X.iloc[test_idx]\n",
        "      train_Y, test_Y = data_Y.iloc[train_idx], data_Y.iloc[test_idx]\n",
        "      clf = buildDT(train_X, train_Y, dt_criterion=criterion, dt_class_weight=class_weight)\n",
        "      pred_Y = clf.predict(test_X)\n",
        "      f1s.append(f1_score(test_Y, pred_Y))\n",
        "      w_aucs.append(roc_auc_score(test_Y, pred_Y, average=\"weighted\"))\n",
        "      print(f'Fold {len(f1s)}')\n",
        "    f1_df = pd.DataFrame({col_name % (\"F1\", criterion, str(class_weight)): f1s})\n",
        "    auc_df = pd.DataFrame({col_name % (\"WAUC\", criterion, str(class_weight)): w_aucs})\n",
        "    res = pd.concat([res, f1_df, auc_df], axis=1)\n"
      ],
      "execution_count": 0,
      "outputs": []
    },
    {
      "metadata": {
        "id": "_LBeEj09Fs49",
        "colab_type": "code",
        "outputId": "d9bb4b1f-658c-4588-808c-d97e3d9887b1",
        "colab": {
          "base_uri": "https://localhost:8080/",
          "height": 357
        }
      },
      "cell_type": "code",
      "source": [
        "r = pd.DataFrame()\n",
        "criteria = [\"gini\", \"entropy\"]\n",
        "class_weights=[\"balanced\"]\n",
        "col_name = \"%s_str-kfold_norm_%s_%s\"\n",
        "for criterion in criteria:\n",
        "  for class_weight in class_weights:\n",
        "    f1s, w_aucs = [], []\n",
        "    for train_idx, test_idx in stratified_kfold.split(data_X):\n",
        "      train_X = normalize(data_X.iloc[train_idx], axis=0, norm='max')\n",
        "      test_X = normalize(data_X.iloc[test_idx], axis=0, norm='max')\n",
        "      train_Y, test_Y = data_Y.iloc[train_idx], data_Y.iloc[test_idx]\n",
        "      clf = buildDT(train_X, train_Y, dt_criterion=criterion, dt_class_weight=class_weight)\n",
        "      pred_Y = clf.predict(test_X)\n",
        "      f1s.append(f1_score(test_Y, pred_Y))\n",
        "      w_aucs.append(roc_auc_score(test_Y, pred_Y, average=\"weighted\"))\n",
        "      print(f'Fold {len(f1s)}')\n",
        "    f1_df = pd.DataFrame({col_name % (\"F1\", criterion, str(class_weight)): f1s})\n",
        "    auc_df = pd.DataFrame({col_name % (\"WAUC\", criterion, str(class_weight)): w_aucs})\n",
        "    r = pd.concat([r, f1_df, auc_df], axis=1)"
      ],
      "execution_count": 0,
      "outputs": [
        {
          "output_type": "stream",
          "text": [
            "Fold 1\n",
            "Fold 2\n",
            "Fold 3\n",
            "Fold 4\n",
            "Fold 5\n",
            "Fold 6\n",
            "Fold 7\n",
            "Fold 8\n",
            "Fold 9\n",
            "Fold 10\n",
            "Fold 1\n",
            "Fold 2\n",
            "Fold 3\n",
            "Fold 4\n",
            "Fold 5\n",
            "Fold 6\n",
            "Fold 7\n",
            "Fold 8\n",
            "Fold 9\n",
            "Fold 10\n"
          ],
          "name": "stdout"
        }
      ]
    },
    {
      "metadata": {
        "id": "cx1H9gMUKetB",
        "colab_type": "text"
      },
      "cell_type": "markdown",
      "source": [
        "#### Evaluation"
      ]
    },
    {
      "metadata": {
        "id": "AYXMdKNDKcWM",
        "colab_type": "code",
        "outputId": "0c7fd426-c0f3-456f-e589-fd8f7cf9995d",
        "colab": {
          "base_uri": "https://localhost:8080/",
          "height": 379
        }
      },
      "cell_type": "code",
      "source": [
        "(results[\"F1_kfold_denorm_gini_None\"]-results[\"WAUC_kfold_denorm_gini_None\"]).plot(kind='hist', title= 'Difference Histogram')"
      ],
      "execution_count": 0,
      "outputs": [
        {
          "output_type": "execute_result",
          "data": {
            "text/plain": [
              "<matplotlib.axes._subplots.AxesSubplot at 0x7f197cd61a58>"
            ]
          },
          "metadata": {
            "tags": []
          },
          "execution_count": 77
        },
        {
          "output_type": "display_data",
          "data": {
            "image/png": "[encoded data removed]",
            "text/plain": [
              "<Figure size 576x396 with 1 Axes>"
            ]
          },
          "metadata": {
            "tags": []
          }
        }
      ]
    },
    {
      "metadata": {
        "id": "9luL_gnktfWo",
        "colab_type": "code",
        "outputId": "69317250-19e6-4ebf-b14b-0172700fcdc3",
        "colab": {
          "base_uri": "https://localhost:8080/",
          "height": 34
        }
      },
      "cell_type": "code",
      "source": [
        "clf.score(X_test, Y_test) "
      ],
      "execution_count": 0,
      "outputs": [
        {
          "output_type": "execute_result",
          "data": {
            "text/plain": [
              "0.9710752611754673"
            ]
          },
          "metadata": {
            "tags": []
          },
          "execution_count": 26
        }
      ]
    },
    {
      "metadata": {
        "id": "5HqSK-aUuAAp",
        "colab_type": "code",
        "colab": {}
      },
      "cell_type": "code",
      "source": [
        "# from sklearn.model_selection import cross_val_score"
      ],
      "execution_count": 0,
      "outputs": []
    },
    {
      "metadata": {
        "id": "3iDFTo4ltY_A",
        "colab_type": "code",
        "colab": {}
      },
      "cell_type": "code",
      "source": [
        "clf = tree.DecisionTreeClassifier()\n",
        "clf = clf.fit(X_train, Y_train)"
      ],
      "execution_count": 0,
      "outputs": []
    },
    {
      "metadata": {
        "id": "8zyPMILht6hV",
        "colab_type": "code",
        "colab": {}
      },
      "cell_type": "code",
      "source": [
        "Y_pred = clf.predict(X_test)"
      ],
      "execution_count": 0,
      "outputs": []
    },
    {
      "metadata": {
        "id": "zs_CZuy_vINN",
        "colab_type": "code",
        "outputId": "6ade0c61-124b-4b69-c373-de20b0d24d8f",
        "colab": {
          "base_uri": "https://localhost:8080/",
          "height": 238
        }
      },
      "cell_type": "code",
      "source": [
        "f1 = f1_score(Y_test, Y_pred)\n",
        "f1_macro = f1_score(Y_test, Y_pred, average='macro')\n",
        "f1_micro = f1_score(Y_test, Y_pred, average='micro')\n",
        "f1_weighted = f1_score(Y_test, Y_pred, average='weighted')\n",
        "\n",
        "\n",
        "print(f\"\"\"F1 score: {f1}\n",
        "F1 macro: {f1_macro}\n",
        "F1 micro: {f1_micro}\n",
        "F1 weighted: {f1_weighted}\"\"\")\n",
        "# auc_score = auc(Y_test, Y_pred)\n",
        "acc = accuracy_score(Y_test, Y_pred)\n",
        "cm = confusion_matrix(Y_test, Y_pred)\n",
        "prec = precision_score(Y_test, Y_pred)\n",
        "rec = recall_score(Y_test, Y_pred)\n",
        "w_auc = roc_auc_score(Y_test, Y_pred, average=\"weighted\")\n",
        "auc = roc_auc_score(Y_test, Y_pred)\n",
        "\n",
        "w_acc = balanced_accuracy_score(Y_test, Y_pred)\n",
        "print(f\"\"\"\n",
        "Accuracy: {acc}\n",
        "confusion_matrix: {cm}\n",
        "Precision: {prec}\n",
        "Recall: {rec}\n",
        "Weighted auc: {w_auc}\n",
        "Auc: {auc}\n",
        "Weighted acc: {w_acc}\"\"\")"
      ],
      "execution_count": 0,
      "outputs": [
        {
          "output_type": "stream",
          "text": [
            "F1 score: 0.45387205387205387\n",
            "F1 macro: 0.7195362568672301\n",
            "F1 micro: 0.9711818634070073\n",
            "F1 weighted: 0.9723618799436571\n",
            "\n",
            "Accuracy: 0.9711818634070073\n",
            "confusion_matrix: [[26994   468]\n",
            " [  343   337]]\n",
            "Precision: 0.4186335403726708\n",
            "Recall: 0.49558823529411766\n",
            "Weighted auc: 0.7392732524515159\n",
            "Auc: 0.7392732524515159\n",
            "Weighted acc: 0.7392732524515159\n"
          ],
          "name": "stdout"
        }
      ]
    },
    {
      "metadata": {
        "id": "pRoGBWEwsE8r",
        "colab_type": "text"
      },
      "cell_type": "markdown",
      "source": [
        "## Distance-based"
      ]
    },
    {
      "metadata": {
        "id": "TGnrY0JzrnbZ",
        "colab_type": "code",
        "colab": {}
      },
      "cell_type": "code",
      "source": [
        ""
      ],
      "execution_count": 0,
      "outputs": []
    },
    {
      "metadata": {
        "id": "NdirSLbasIFR",
        "colab_type": "text"
      },
      "cell_type": "markdown",
      "source": [
        "## Rule-based"
      ]
    },
    {
      "metadata": {
        "id": "gzb7iy-qrnW5",
        "colab_type": "code",
        "colab": {}
      },
      "cell_type": "code",
      "source": [
        ""
      ],
      "execution_count": 0,
      "outputs": []
    },
    {
      "metadata": {
        "id": "fsaRhuz3sJ7p",
        "colab_type": "text"
      },
      "cell_type": "markdown",
      "source": [
        "## Ensemble"
      ]
    },
    {
      "metadata": {
        "id": "KmLYxDGIrnV-",
        "colab_type": "code",
        "colab": {}
      },
      "cell_type": "code",
      "source": [
        "X, Y = data_500[data_500.columns[:-1]], data_500[data_500.columns[-1]]\n",
        "X_train, X_test, Y_train, Y_test = train_test_split(X,Y, test_size=0.2, random_state=1)\n",
        "X_train, X_val, Y_train, Y_val = train_test_split(X_train, Y_train, test_size=0.2, random_state=1)"
      ],
      "execution_count": 0,
      "outputs": []
    },
    {
      "metadata": {
        "id": "j-Pti0DQrnDi",
        "colab_type": "code",
        "outputId": "232eda48-0fa2-47ff-979d-a956f405a07b",
        "colab": {
          "base_uri": "https://localhost:8080/",
          "height": 269
        }
      },
      "cell_type": "code",
      "source": [
        "plt.figure()\n",
        "plt.subplot(1,2,1)\n",
        "plt.plot(list(range(6)), np.random.random(6), label=\"val_loss\")\n",
        "plt.legend()\n",
        "plt.subplot(1,2,2)\n",
        "plt.plot(list(range(6)), np.random.random(6), label=\"f1_val \" )\n",
        "\n",
        "plt.legend(loc=0)\n",
        "\n",
        "plt.show();\n"
      ],
      "execution_count": 0,
      "outputs": [
        {
          "output_type": "display_data",
          "data": {
            "image/png": "[encoded data removed]",
            "text/plain": [
              "<Figure size 432x288 with 2 Axes>"
            ]
          },
          "metadata": {
            "tags": []
          }
        }
      ]
    }
  ]
}