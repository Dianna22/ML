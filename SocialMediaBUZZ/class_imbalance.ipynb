{
  "nbformat": 4,
  "nbformat_minor": 0,
  "metadata": {
    "colab": {
      "name": "class_imbalance.ipynb",
      "version": "0.3.2",
      "provenance": [],
      "collapsed_sections": [],
      "include_colab_link": true
    },
    "kernelspec": {
      "name": "python3",
      "display_name": "Python 3"
    }
  },
  "cells": [
    {
      "cell_type": "markdown",
      "metadata": {
        "id": "view-in-github",
        "colab_type": "text"
      },
      "source": [
        "<a href=\"https://colab.research.google.com/github/Dianna22/ML/blob/master/SocialMediaBUZZ/class_imbalance.ipynb\" target=\"_parent\"><img src=\"https://colab.research.google.com/assets/colab-badge.svg\" alt=\"Open In Colab\"/></a>"
      ]
    },
    {
      "metadata": {
        "id": "KS_-loIUv8wv",
        "colab_type": "code",
        "colab": {
          "base_uri": "https://localhost:8080/",
          "height": 401
        },
        "outputId": "a124a3fb-8a99-4bcd-c58b-9907f16001ba"
      },
      "cell_type": "code",
      "source": [
        "!pip install parfit"
      ],
      "execution_count": 16,
      "outputs": [
        {
          "output_type": "stream",
          "text": [
            "Collecting parfit\n",
            "  Downloading https://files.pythonhosted.org/packages/08/60/8090b25f914c91914e8bb5c87819bfe52cead06b6d1a557f20afbe62c1ec/parfit-0.220.tar.gz\n",
            "Requirement already satisfied: joblib in /usr/local/lib/python3.6/dist-packages (from parfit) (0.12.5)\n",
            "Requirement already satisfied: matplotlib in /usr/local/lib/python3.6/dist-packages (from parfit) (3.0.3)\n",
            "Requirement already satisfied: sklearn in /usr/local/lib/python3.6/dist-packages (from parfit) (0.0)\n",
            "Requirement already satisfied: numpy in /usr/local/lib/python3.6/dist-packages (from parfit) (1.16.2)\n",
            "Requirement already satisfied: pyparsing!=2.0.4,!=2.1.2,!=2.1.6,>=2.0.1 in /usr/local/lib/python3.6/dist-packages (from matplotlib->parfit) (2.4.0)\n",
            "Requirement already satisfied: python-dateutil>=2.1 in /usr/local/lib/python3.6/dist-packages (from matplotlib->parfit) (2.5.3)\n",
            "Requirement already satisfied: kiwisolver>=1.0.1 in /usr/local/lib/python3.6/dist-packages (from matplotlib->parfit) (1.0.1)\n",
            "Requirement already satisfied: cycler>=0.10 in /usr/local/lib/python3.6/dist-packages (from matplotlib->parfit) (0.10.0)\n",
            "Requirement already satisfied: scikit-learn in /usr/local/lib/python3.6/dist-packages (from sklearn->parfit) (0.20.3)\n",
            "Requirement already satisfied: six>=1.5 in /usr/local/lib/python3.6/dist-packages (from python-dateutil>=2.1->matplotlib->parfit) (1.11.0)\n",
            "Requirement already satisfied: setuptools in /usr/local/lib/python3.6/dist-packages (from kiwisolver>=1.0.1->matplotlib->parfit) (40.9.0)\n",
            "Requirement already satisfied: scipy>=0.13.3 in /usr/local/lib/python3.6/dist-packages (from scikit-learn->sklearn->parfit) (1.2.1)\n",
            "Building wheels for collected packages: parfit\n",
            "  Building wheel for parfit (setup.py) ... \u001b[?25ldone\n",
            "\u001b[?25h  Stored in directory: /root/.cache/pip/wheels/d9/8a/c9/ed86e85ad0cb41ce2fdcb6bc215902dc475bd3fb1fef7c742d\n",
            "Successfully built parfit\n",
            "Installing collected packages: parfit\n",
            "Successfully installed parfit-0.220\n"
          ],
          "name": "stdout"
        }
      ]
    },
    {
      "metadata": {
        "id": "kcRWLOshJs_F",
        "colab_type": "code",
        "colab": {}
      },
      "cell_type": "code",
      "source": [
        "import pandas as pd\n",
        "from sklearn.model_selection import train_test_split\n",
        "import numpy as np\n",
        "from sklearn.neighbors import KNeighborsClassifier\n",
        "from sklearn.preprocessing import StandardScaler\n",
        "from sklearn.linear_model import SGDClassifier, LogisticRegressionCV, LogisticRegression\n",
        "from sklearn.svm import LinearSVC\n",
        "from sklearn.metrics import f1_score, auc, accuracy_score, confusion_matrix, precision_score, balanced_accuracy_score, recall_score, roc_auc_score, roc_curve\n",
        "from sklearn.preprocessing import normalize\n",
        "import matplotlib.pyplot as plt\n"
      ],
      "execution_count": 0,
      "outputs": []
    },
    {
      "metadata": {
        "id": "klC-jSetJz3y",
        "colab_type": "code",
        "colab": {
          "base_uri": "https://localhost:8080/",
          "height": 128
        },
        "outputId": "149cb1c0-2db4-42ea-f771-314223c67f14"
      },
      "cell_type": "code",
      "source": [
        "from google.colab import drive\n",
        "drive.mount('/content/gdrive')"
      ],
      "execution_count": 1,
      "outputs": [
        {
          "output_type": "stream",
          "text": [
            "Go to this URL in a browser: https://accounts.google.com/o/oauth2/auth?client_id=947318989803-6bn6qk8qdgf4n4g3pfee6491hc0brc4i.apps.googleusercontent.com&redirect_uri=urn%3Aietf%3Awg%3Aoauth%3A2.0%3Aoob&scope=email%20https%3A%2F%2Fwww.googleapis.com%2Fauth%2Fdocs.test%20https%3A%2F%2Fwww.googleapis.com%2Fauth%2Fdrive%20https%3A%2F%2Fwww.googleapis.com%2Fauth%2Fdrive.photos.readonly%20https%3A%2F%2Fwww.googleapis.com%2Fauth%2Fpeopleapi.readonly&response_type=code\n",
            "\n",
            "Enter your authorization code:\n",
            "··········\n",
            "Mounted at /content/gdrive\n"
          ],
          "name": "stdout"
        }
      ]
    },
    {
      "metadata": {
        "id": "JMdKkNuTJz1M",
        "colab_type": "code",
        "colab": {
          "base_uri": "https://localhost:8080/",
          "height": 90
        },
        "outputId": "ee90dbf0-476e-41ed-971d-676a616d8baa"
      },
      "cell_type": "code",
      "source": [
        "PATH_PREFIX = '/content/gdrive/My Drive/ML/'\n",
        "TWITTER_RELATIVE_500 = PATH_PREFIX + \"data/Twitter-Relative-Sigma-500.data\"\n",
        "\n",
        "def load_data(path):\n",
        "  return pd.DataFrame(pd.read_csv(path))\n",
        "\n",
        "def load_dataset(path):\n",
        "\tdata = pd.read_csv(path)\n",
        "\treturn data[data.columns[:-1]], data[data.columns[-1]]\n",
        "\n",
        "# data = load_data(TWITTER_RELATIVE_500)\n",
        "\n",
        "data_X, data_Y = load_dataset(TWITTER_RELATIVE_500)\n",
        "data_X = data_X.astype(float)\n",
        "\n",
        "# scaler = StandardScaler()\n",
        "# data_X = scaler.fit_transform(data_X)\n",
        "# data_X = normalize(data_X)\n",
        "\n",
        "\n",
        "X_train, X_test, Y_train, Y_test = train_test_split(data_X, data_Y, test_size=0.025, random_state=1, stratify=data_Y)\n",
        "print(X_train.shape)\n",
        "print(Y_train.shape)\n",
        "train_set = pd.DataFrame(np.column_stack((X_train, Y_train)))\n",
        "print(train_set.shape)\n",
        "print(len(Y_test))"
      ],
      "execution_count": 64,
      "outputs": [
        {
          "output_type": "stream",
          "text": [
            "(137189, 77)\n",
            "(137189,)\n",
            "(137189, 78)\n",
            "3518\n"
          ],
          "name": "stdout"
        }
      ]
    },
    {
      "metadata": {
        "id": "qsibWp0xTVF8",
        "colab_type": "code",
        "colab": {
          "base_uri": "https://localhost:8080/",
          "height": 54
        },
        "outputId": "cfacc843-e5b8-4400-9f17-66e00c717ebf"
      },
      "cell_type": "code",
      "source": [
        "# print(pd.DataFrame(train_set).isnull().values.any())\n",
        "# print(train_set.describe())\n",
        "print(len(X_test))\n",
        "print(len(X_train))"
      ],
      "execution_count": 30,
      "outputs": [
        {
          "output_type": "stream",
          "text": [
            "14071\n",
            "126636\n"
          ],
          "name": "stdout"
        }
      ]
    },
    {
      "metadata": {
        "id": "wYlzVFnjJzyM",
        "colab_type": "code",
        "colab": {
          "base_uri": "https://localhost:8080/",
          "height": 108
        },
        "outputId": "e5487eae-50d6-4684-af1c-16effe23fb9d"
      },
      "cell_type": "code",
      "source": [
        "data = train_set\n",
        "label = data.columns[-1]\n",
        "buzz = data[label].value_counts()[1]\n",
        "instances = data.describe().iloc[0][0]\n",
        "# 38.86933701657458\n",
        "negatives = data.loc[data[label]==0]\n",
        "positives = data.loc[data[label]==1]\n",
        "print(len((positives)))\n",
        "print(len(negatives))\n",
        "print(len(negatives)/len(positives))\n",
        "print(len(negatives)/38)\n",
        "\n",
        "splits = round(len(negatives)/(round(len(negatives)/len(positives))))\n",
        "N = int(len(negatives)/splits)\n",
        "frames = [ negatives.iloc[i*splits:(i+1)*splits].copy() for i in range(N+1) ]\n",
        "\n",
        "frames[-2] = pd.concat([frames[-2],frames[-1]], axis=0)\n",
        "frames = frames[:-1]\n",
        "# for frame in frames:\n",
        "#   print(frame.shape)\n",
        "print(len(positives)+len(frames[0]))"
      ],
      "execution_count": 65,
      "outputs": [
        {
          "output_type": "stream",
          "text": [
            "3529\n",
            "133660\n",
            "37.87475205440635\n",
            "3517.3684210526317\n",
            "7046\n"
          ],
          "name": "stdout"
        }
      ]
    },
    {
      "metadata": {
        "id": "QymUpxoPkjMf",
        "colab_type": "code",
        "colab": {}
      },
      "cell_type": "code",
      "source": [
        "def print_scores(pred_Y):\n",
        "  print(f1_score(Y_test, pred_Y))\n",
        "  print(roc_auc_score(Y_test, pred_Y, average=\"weighted\"))\n",
        "  tn, fp, fn, tp = confusion_matrix(Y_test, pred_Y).ravel()\n",
        "  print(balanced_accuracy_score(Y_test, pred_Y))\n",
        "  print(tp/(tp+fn))\n",
        "  print(precision_score(Y_test, pred_Y))\n",
        "  print(tn/(fp+tn))"
      ],
      "execution_count": 0,
      "outputs": []
    },
    {
      "metadata": {
        "id": "Q6VegFOfGZj7",
        "colab_type": "code",
        "colab": {}
      },
      "cell_type": "code",
      "source": [
        "def plot_roc_curve(true_Y, scores, title = \"ROC curve\"):\n",
        "  plt.figure()\n",
        "  for i in range(np.shape(true_Y)[0]):\n",
        "    Y = true_Y[i]\n",
        "    pred = scores[i]\n",
        "    fpr, tpr, _ = roc_curve(Y, pred)\n",
        "    roc_auc = auc(fpr, tpr)\n",
        "    plt.plot(fpr, tpr,\n",
        "               lw=2, label='ROC curve (weighted_area = %0.2f)' % roc_auc)\n",
        "  plt.plot([0, 1], [0, 1], color='navy', lw=2, linestyle='--')\n",
        "  plt.xlim([0.0, 1.0])\n",
        "  plt.ylim([0.0, 1.05])\n",
        "  plt.xlabel('False Positive Rate')\n",
        "  plt.ylabel('True Positive Rate')\n",
        "  plt.title(title)\n",
        "  plt.legend()\n",
        "  plt.show()"
      ],
      "execution_count": 0,
      "outputs": []
    },
    {
      "metadata": {
        "id": "S3txCGnqNkQ_",
        "colab_type": "code",
        "colab": {}
      },
      "cell_type": "code",
      "source": [
        ""
      ],
      "execution_count": 0,
      "outputs": []
    },
    {
      "metadata": {
        "id": "H1j0GrOVacWH",
        "colab_type": "code",
        "colab": {}
      },
      "cell_type": "code",
      "source": [
        "def get_ensemble_predictions(model):\n",
        "  models = [model for i in range(len(frames))]\n",
        "  for idx,frame in enumerate(frames):\n",
        "    dataset = pd.concat([positives, frame], axis=0)\n",
        "    models[idx] = models[idx].fit(dataset[dataset.columns[:-1]].values,\n",
        "                                  dataset[dataset.columns[-1]].values)\n",
        "  predictions = []\n",
        "  for model in models:\n",
        "    pred = model.predict(X_test)\n",
        "#     print(pred)\n",
        "    predictions.append(pred)\n",
        "  # average predictions\n",
        "  predictions = np.matrix(predictions)\n",
        "  predictions = np.sum(predictions, axis=0)\n",
        "  predictions = np.divide(predictions,len(models))\n",
        "#   pred_Y = predictions.round()\n",
        "  pred_Y = np.array(predictions)[0]\n",
        "  plot_roc_curve([Y_test], [pred_Y])\n",
        "#   print_scores(pred_Y)"
      ],
      "execution_count": 0,
      "outputs": []
    },
    {
      "metadata": {
        "id": "aiyXcc_iRkUV",
        "colab_type": "code",
        "colab": {}
      },
      "cell_type": "code",
      "source": [
        "get_ensemble_predictions(SGDClassifier(alpha=0.0001, average=False, class_weight=None,\n",
        "      early_stopping=True, epsilon=0.1, eta0=0.001, fit_intercept=True,\n",
        "      l1_ratio=0.15, learning_rate='optimal', loss='modified_huber',\n",
        "      max_iter=None, n_iter=None, n_iter_no_change=5, n_jobs=None,\n",
        "      penalty='none', power_t=0.5, random_state=None, shuffle=True,\n",
        "      tol=0.0001, validation_fraction=0.2, verbose=0, warm_start=False)) # standard scaler\n",
        "# 0.22942148760330577\n",
        "# 0.8948117117883199\n",
        "# 0.8948117117883199\n",
        "# 0.9585635359116023\n",
        "# 0.13030416823131807\n",
        "# 0.8310598876650376"
      ],
      "execution_count": 0,
      "outputs": []
    },
    {
      "metadata": {
        "id": "ffbyDgPxp6Rb",
        "colab_type": "code",
        "colab": {}
      },
      "cell_type": "code",
      "source": [
        "get_ensemble_predictions(SGDClassifier(alpha=0.0001, average=False, class_weight=None,\n",
        "      early_stopping=True, epsilon=0.1, eta0=0.001, fit_intercept=True,\n",
        "      l1_ratio=0.15, learning_rate='optimal', loss='modified_huber',\n",
        "      max_iter=None, n_iter=None, n_iter_no_change=5, n_jobs=None,\n",
        "      penalty='none', power_t=0.5, random_state=None, shuffle=True,\n",
        "      tol=0.0001, validation_fraction=0.2, verbose=0, warm_start=False)) # standard scaler + norm\n",
        "# 0.2608695652173913\n",
        "# 0.8904719507167328\n",
        "# 0.8904719507167329\n",
        "# 0.9157458563535912\n",
        "# 0.1520991052993806\n",
        "# 0.8651980450798745\n",
        "\n",
        "# 0.2990990990990991\n",
        "# 0.900455978220787\n",
        "# 0.900455978220787\n",
        "# 0.9120879120879121\n",
        "# 0.1788793103448276\n",
        "# 0.8888240443536621"
      ],
      "execution_count": 0,
      "outputs": []
    },
    {
      "metadata": {
        "id": "Xr874XlkW6nY",
        "colab_type": "code",
        "colab": {}
      },
      "cell_type": "code",
      "source": [
        "get_ensemble_predictions(KNeighborsClassifier(n_neighbors=3, weights='distance', algorithm='kd_tree', p=1)) # standard scaler\n",
        "# 0.3156312625250501\n",
        "# 0.8869757899899611\n",
        "# 0.8869757899899611\n",
        "# 0.8701657458563536\n",
        "# 0.19277845777233782\n",
        "# 0.9037858341235685"
      ],
      "execution_count": 0,
      "outputs": []
    },
    {
      "metadata": {
        "id": "CBDu2Tssqk5p",
        "colab_type": "code",
        "colab": {}
      },
      "cell_type": "code",
      "source": [
        "get_ensemble_predictions(KNeighborsClassifier(n_neighbors=3, weights='distance', algorithm='kd_tree', p=1)) # standard scaler + norm\n",
        "# 0.2968036529680365\n",
        "# 0.8940770248524077\n",
        "# 0.8940770248524077\n",
        "# 0.8977900552486188\n",
        "# 0.17778993435448578\n",
        "# 0.8903639944561966"
      ],
      "execution_count": 0,
      "outputs": []
    },
    {
      "metadata": {
        "id": "zz1wjMUMrGuN",
        "colab_type": "code",
        "colab": {}
      },
      "cell_type": "code",
      "source": [
        "get_ensemble_predictions(KNeighborsClassifier(n_neighbors=3, weights='distance', algorithm='kd_tree', p=6)) # standard scaler + norm\n"
      ],
      "execution_count": 0,
      "outputs": []
    },
    {
      "metadata": {
        "id": "2V5XZx56jmZ_",
        "colab_type": "code",
        "colab": {
          "base_uri": "https://localhost:8080/",
          "height": 295
        },
        "outputId": "6acb2453-5763-4d4f-8896-1cb932245eb3"
      },
      "cell_type": "code",
      "source": [
        "get_ensemble_predictions(LinearSVC(C=1.0, class_weight='balanced', dual=True, fit_intercept=True,\n",
        "     intercept_scaling=1, loss='hinge', max_iter=1000, multi_class='ovr',\n",
        "     penalty='l2', random_state=None, tol=1e-05, verbose=0)) #standard scaler\n",
        "# 0.340506673930809\n",
        "# 0.8892853889992015\n",
        "# 0.8892853889992016\n",
        "# 0.8632596685082873\n",
        "# 0.21208008143875126\n",
        "# 0.915311109490116"
      ],
      "execution_count": 86,
      "outputs": [
        {
          "output_type": "display_data",
          "data": {
            "image/png": "[encoded data removed]",
            "text/plain": [
              "<Figure size 432x288 with 1 Axes>"
            ]
          },
          "metadata": {
            "tags": []
          }
        }
      ]
    },
    {
      "metadata": {
        "id": "_OGzRXyGqHjH",
        "colab_type": "code",
        "colab": {}
      },
      "cell_type": "code",
      "source": [
        "get_ensemble_predictions(LinearSVC(C=1.0, class_weight='balanced', dual=True, fit_intercept=True,\n",
        "     intercept_scaling=1, loss='hinge', max_iter=20000, multi_class='ovr',\n",
        "     penalty='l2', random_state=None, tol=1e-05, verbose=0)) #standard scaler + norm\n",
        "# 0.24508050089445438\n",
        "# 0.8968207662103654\n",
        "# 0.8968207662103655\n",
        "# 0.9461325966850829\n",
        "# 0.14077270859021784\n",
        "# 0.8475089357356481"
      ],
      "execution_count": 0,
      "outputs": []
    },
    {
      "metadata": {
        "id": "I0V-msyvi3XY",
        "colab_type": "code",
        "colab": {}
      },
      "cell_type": "code",
      "source": [
        "get_ensemble_predictions(LinearSVC(C=1.0, class_weight='balanced', dual=True, fit_intercept=True,\n",
        "     intercept_scaling=1, loss='hinge', max_iter=15000, multi_class='ovr',\n",
        "     penalty='l2', random_state=None, tol=1e-05, verbose=0)) #standard scaler\n",
        "# 0.34023991275899673\n",
        "# 0.8886312536547954\n",
        "# 0.8886312536547956\n",
        "# 0.861878453038674\n",
        "# 0.21195652173913043\n",
        "# 0.915384054270917"
      ],
      "execution_count": 0,
      "outputs": []
    },
    {
      "metadata": {
        "id": "OM0I4_EtjiW5",
        "colab_type": "code",
        "colab": {
          "base_uri": "https://localhost:8080/",
          "height": 126
        },
        "outputId": "c6fe85d0-81ec-498c-d267-0f9ececaeb5d"
      },
      "cell_type": "code",
      "source": [
        "get_ensemble_predictions(LinearSVC(C=1.0, class_weight='balanced', dual=True, fit_intercept=True,\n",
        "     intercept_scaling=1, loss='hinge', max_iter=15000, multi_class='ovr',\n",
        "     penalty='l2', random_state=None, tol=1e-05, verbose=0)) #standard scaler + norm\n",
        "# 0.24508050089445438\n",
        "# 0.8968207662103654\n",
        "# 0.8968207662103655\n",
        "# 0.9461325966850829\n",
        "# 0.14077270859021784\n",
        "# 0.8475089357356481\n",
        "\n",
        "# 0.29390681003584235\n",
        "# 0.7038273952484633\n",
        "# 0.7038273952484633\n",
        "# 0.45054945054945056\n",
        "# 0.21808510638297873\n",
        "# 0.9571053399474759"
      ],
      "execution_count": 76,
      "outputs": [
        {
          "output_type": "stream",
          "text": [
            "0.29390681003584235\n",
            "0.7038273952484633\n",
            "0.7038273952484633\n",
            "0.45054945054945056\n",
            "0.21808510638297873\n",
            "0.9571053399474759\n"
          ],
          "name": "stdout"
        }
      ]
    },
    {
      "metadata": {
        "id": "uLEFesmWXygp",
        "colab_type": "code",
        "colab": {}
      },
      "cell_type": "code",
      "source": [
        "get_ensemble_predictions(LogisticRegression(solver='warn',C=100, class_weight=None, dual=False,\n",
        "                                            fit_intercept=True,\n",
        "          intercept_scaling=1, max_iter=5000, multi_class='warn',\n",
        "          penalty='l2', random_state=None, tol=0.0001,\n",
        "          verbose=0, warm_start=False)) # standard+norm\n",
        "# 0.2508287292817679\n",
        "# 0.8969031817223754\n",
        "# 0.8969031817223754\n",
        "# 0.9406077348066298\n",
        "# 0.14470888227794304\n",
        "# 0.8531986286381209\n",
        "\n",
        "\n",
        "# 0.3611738148984198\n",
        "# 0.8998755840016417\n",
        "# 0.8998755840016417\n",
        "# 0.8791208791208791\n",
        "# 0.22727272727272727\n",
        "# 0.9206302888824044"
      ],
      "execution_count": 0,
      "outputs": []
    },
    {
      "metadata": {
        "id": "Bgh45TUHkd1q",
        "colab_type": "code",
        "colab": {
          "base_uri": "https://localhost:8080/",
          "height": 854
        },
        "outputId": "8b00f2be-5278-4d8a-d2af-3de951b9cbc1"
      },
      "cell_type": "code",
      "source": [
        "from sklearn.linear_model import LogisticRegression\n",
        "from sklearn.metrics import roc_auc_score\n",
        "from sklearn.model_selection import ParameterGrid\n",
        "import parfit.parfit as pf\n",
        "grid = {\n",
        "    'C': [ 1e-6,  1e-3, 1e-2, 1e-1, 1e0, 10, 100],\n",
        "    'penalty': ['l2'],\n",
        "    'solver':['newton-cg', 'lbfgs', 'liblinear', 'sag', 'saga'],\n",
        "    'max_iter': [1000, 5000, 10000],\n",
        "    'class_weight':['balanced', None],\n",
        "    'tol': [1e-4, 1e-5, 1e-2, 1e-1, 1, 10]\n",
        "}\n",
        "\n",
        "dataset = pd.concat([positives, frames[0]], axis=0)\n",
        "paramGrid = ParameterGrid(grid)\n",
        "bestModel, bestScore, allModels, allScores = pf.bestFit(LogisticRegression, paramGrid,\n",
        "           dataset[dataset.columns[:-1]], dataset[dataset.columns[-1]], X_test, Y_test, \n",
        "           metric = f1_score,\n",
        "           greater_is_better=True,\n",
        "           scoreLabel = \"F1\")\n",
        "print(bestModel, bestScore)"
      ],
      "execution_count": 22,
      "outputs": [
        {
          "output_type": "stream",
          "text": [
            "-------------FITTING MODELS-------------\n"
          ],
          "name": "stdout"
        },
        {
          "output_type": "stream",
          "text": [
            "[Parallel(n_jobs=-1)]: Using backend LokyBackend with 2 concurrent workers.\n",
            "[Parallel(n_jobs=-1)]: Done   1 tasks      | elapsed:    2.2s\n",
            "[Parallel(n_jobs=-1)]: Done   4 tasks      | elapsed:    2.4s\n",
            "[Parallel(n_jobs=-1)]: Done   9 tasks      | elapsed:    2.6s\n",
            "[Parallel(n_jobs=-1)]: Done  14 tasks      | elapsed:    2.7s\n",
            "[Parallel(n_jobs=-1)]: Batch computation too fast (0.1970s.) Setting batch_size=2.\n",
            "[Parallel(n_jobs=-1)]: Done  21 tasks      | elapsed:    3.0s\n",
            "[Parallel(n_jobs=-1)]: Batch computation too fast (0.1438s.) Setting batch_size=4.\n",
            "[Parallel(n_jobs=-1)]: Done  38 tasks      | elapsed:    3.5s\n",
            "[Parallel(n_jobs=-1)]: Done  74 tasks      | elapsed:    4.7s\n",
            "[Parallel(n_jobs=-1)]: Done 110 tasks      | elapsed:    5.9s\n",
            "[Parallel(n_jobs=-1)]: Done 154 tasks      | elapsed:    7.4s\n",
            "[Parallel(n_jobs=-1)]: Done 198 tasks      | elapsed:    8.8s\n",
            "[Parallel(n_jobs=-1)]: Done 250 tasks      | elapsed:   11.1s\n",
            "[Parallel(n_jobs=-1)]: Done 302 tasks      | elapsed:   13.3s\n",
            "[Parallel(n_jobs=-1)]: Done 362 tasks      | elapsed:   15.9s\n",
            "[Parallel(n_jobs=-1)]: Done 422 tasks      | elapsed:   18.6s\n",
            "[Parallel(n_jobs=-1)]: Done 490 tasks      | elapsed:   21.6s\n",
            "[Parallel(n_jobs=-1)]: Done 558 tasks      | elapsed:   24.7s\n",
            "[Parallel(n_jobs=-1)]: Done 634 tasks      | elapsed:   28.9s\n",
            "[Parallel(n_jobs=-1)]: Done 710 tasks      | elapsed:   33.0s\n",
            "[Parallel(n_jobs=-1)]: Done 794 tasks      | elapsed:   39.0s\n",
            "[Parallel(n_jobs=-1)]: Done 878 tasks      | elapsed:   44.5s\n",
            "[Parallel(n_jobs=-1)]: Done 970 tasks      | elapsed:   54.7s\n",
            "[Parallel(n_jobs=-1)]: Batch computation too slow (2.2022s.) Setting batch_size=2.\n",
            "[Parallel(n_jobs=-1)]: Done 1022 tasks      | elapsed:  1.0min\n",
            "[Parallel(n_jobs=-1)]: Done 1072 tasks      | elapsed:  1.1min\n",
            "[Parallel(n_jobs=-1)]: Batch computation too slow (2.1139s.) Setting batch_size=1.\n",
            "[Parallel(n_jobs=-1)]: Done 1115 tasks      | elapsed:  1.3min\n",
            "[Parallel(n_jobs=-1)]: Done 1143 tasks      | elapsed:  1.5min\n",
            "[Parallel(n_jobs=-1)]: Done 1170 tasks      | elapsed:  1.7min\n",
            "[Parallel(n_jobs=-1)]: Done 1199 tasks      | elapsed:  1.9min\n",
            "[Parallel(n_jobs=-1)]: Done 1228 tasks      | elapsed:  2.1min\n",
            "[Parallel(n_jobs=-1)]: Done 1260 out of 1260 | elapsed:  2.3min finished\n",
            "[Parallel(n_jobs=-1)]: Using backend LokyBackend with 2 concurrent workers.\n"
          ],
          "name": "stderr"
        },
        {
          "output_type": "stream",
          "text": [
            "-------------SCORING MODELS-------------\n"
          ],
          "name": "stdout"
        },
        {
          "output_type": "stream",
          "text": [
            "[Parallel(n_jobs=-1)]: Done  88 tasks      | elapsed:    3.7s\n",
            "[Parallel(n_jobs=-1)]: Done 388 tasks      | elapsed:   16.2s\n",
            "[Parallel(n_jobs=-1)]: Done 888 tasks      | elapsed:   36.8s\n"
          ],
          "name": "stderr"
        },
        {
          "output_type": "stream",
          "text": [
            "Too many dimensions to plot.\n",
            "LogisticRegression(C=10, class_weight='balanced', dual=False,\n",
            "          fit_intercept=True, intercept_scaling=1, max_iter=10000,\n",
            "          multi_class='warn', n_jobs=None, penalty='l2', random_state=None,\n",
            "          solver='sag', tol=10, verbose=0, warm_start=False) 0.3925155925155925\n"
          ],
          "name": "stdout"
        },
        {
          "output_type": "stream",
          "text": [
            "[Parallel(n_jobs=-1)]: Done 1260 out of 1260 | elapsed:   52.5s finished\n"
          ],
          "name": "stderr"
        }
      ]
    },
    {
      "metadata": {
        "id": "JUZiS4E_X17h",
        "colab_type": "code",
        "colab": {
          "base_uri": "https://localhost:8080/",
          "height": 126
        },
        "outputId": "9d9ef774-35b6-4e1a-ad0b-65c7ce6a47d9"
      },
      "cell_type": "code",
      "source": [
        "\n",
        "get_ensemble_predictions(LogisticRegression(C=10, class_weight='balanced', dual=False,\n",
        "          fit_intercept=True, intercept_scaling=1, max_iter=10000,\n",
        "          multi_class='warn', n_jobs=None, penalty='l2', random_state=None,\n",
        "          solver='sag', tol=10, verbose=0, warm_start=False))# 0.3925155925155925"
      ],
      "execution_count": 59,
      "outputs": [
        {
          "output_type": "stream",
          "text": [
            "0.21349693251533744\n",
            "0.8850835479081759\n",
            "0.8850835479081759\n",
            "0.9560439560439561\n",
            "0.12016574585635359\n",
            "0.8141231397723957\n"
          ],
          "name": "stdout"
        }
      ]
    }
  ]
}