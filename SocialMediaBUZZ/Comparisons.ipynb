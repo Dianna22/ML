{
  "nbformat": 4,
  "nbformat_minor": 0,
  "metadata": {
    "colab": {
      "name": "Untitled",
      "version": "0.3.2",
      "provenance": [],
      "collapsed_sections": [],
      "include_colab_link": true
    },
    "kernelspec": {
      "name": "python3",
      "display_name": "Python 3"
    }
  },
  "cells": [
    {
      "cell_type": "markdown",
      "metadata": {
        "id": "view-in-github",
        "colab_type": "text"
      },
      "source": [
        "<a href=\"https://colab.research.google.com/github/Dianna22/ML/blob/master/SocialMediaBUZZ/Comparisons.ipynb\" target=\"_parent\"><img src=\"https://colab.research.google.com/assets/colab-badge.svg\" alt=\"Open In Colab\"/></a>"
      ]
    },
    {
      "metadata": {
        "id": "xOLTHL1AxJ5t",
        "colab_type": "code",
        "colab": {}
      },
      "cell_type": "code",
      "source": [
        "DT = [0.7, 0.77, 0.71, 0.72, 0.71, 0.71, 0.72, 0.71, 0.72, 0.73]"
      ],
      "execution_count": 0,
      "outputs": []
    },
    {
      "metadata": {
        "id": "yUg2KFohxzw_",
        "colab_type": "code",
        "colab": {}
      },
      "cell_type": "code",
      "source": [
        "LinSVC = [0.91, 0.90, 0.90, 0.90, 0.89, 0.90, 0.9, 0.91, 0.9, 0.9]"
      ],
      "execution_count": 0,
      "outputs": []
    },
    {
      "metadata": {
        "id": "VRAFs6wEyV34",
        "colab_type": "code",
        "colab": {}
      },
      "cell_type": "code",
      "source": [
        "PCA_LinSVC = [0.72,0.78,0.75,0.71,0.68,0.70,0.69,0.62,0.60,0.62]\n"
      ],
      "execution_count": 0,
      "outputs": []
    },
    {
      "metadata": {
        "id": "OHa9MvCuywRW",
        "colab_type": "code",
        "colab": {}
      },
      "cell_type": "code",
      "source": [
        "bagging_rf = [0.73,0.73,0.69,0.69,0.69,0.7,0.7,0.73,0.69,0.72]"
      ],
      "execution_count": 0,
      "outputs": []
    },
    {
      "metadata": {
        "id": "fSV33HJ6zee-",
        "colab_type": "text"
      },
      "cell_type": "markdown",
      "source": [
        "#### t test"
      ]
    },
    {
      "metadata": {
        "id": "CP9PudVx0p7-",
        "colab_type": "code",
        "colab": {}
      },
      "cell_type": "code",
      "source": [
        "from scipy import stats"
      ],
      "execution_count": 0,
      "outputs": []
    },
    {
      "metadata": {
        "id": "fEpMvvkfzLx9",
        "colab_type": "code",
        "outputId": "7db88fcf-2273-4f6f-d511-2ae16c682132",
        "colab": {
          "base_uri": "https://localhost:8080/",
          "height": 35
        }
      },
      "cell_type": "code",
      "source": [
        "p_dt_linsvc = stats.ttest_rel(DT, LinSVC)[1]\n",
        "p_dt_linsvc"
      ],
      "execution_count": 0,
      "outputs": [
        {
          "output_type": "execute_result",
          "data": {
            "text/plain": [
              "6.67393850927128e-10"
            ]
          },
          "metadata": {
            "tags": []
          },
          "execution_count": 9
        }
      ]
    },
    {
      "metadata": {
        "id": "iE_muaLozQ67",
        "colab_type": "code",
        "outputId": "3fa1811d-e64b-49a1-b5a7-3ea59b4dc07b",
        "colab": {
          "base_uri": "https://localhost:8080/",
          "height": 35
        }
      },
      "cell_type": "code",
      "source": [
        "p_dt_pca_linsvc =  stats.ttest_rel(DT, PCA_LinSVC)[1]\n",
        "p_dt_pca_linsvc"
      ],
      "execution_count": 0,
      "outputs": [
        {
          "output_type": "execute_result",
          "data": {
            "text/plain": [
              "0.09320637160539963"
            ]
          },
          "metadata": {
            "tags": []
          },
          "execution_count": 10
        }
      ]
    },
    {
      "metadata": {
        "id": "Vt2tRi0PzYYP",
        "colab_type": "code",
        "outputId": "bdb04321-9c09-450f-d40c-2ce2207c2d1b",
        "colab": {
          "base_uri": "https://localhost:8080/",
          "height": 35
        }
      },
      "cell_type": "code",
      "source": [
        "p_dt_bag =  stats.ttest_rel(DT, bagging_rf)[1]\n",
        "p_dt_bag"
      ],
      "execution_count": 0,
      "outputs": [
        {
          "output_type": "execute_result",
          "data": {
            "text/plain": [
              "0.09625036251160317"
            ]
          },
          "metadata": {
            "tags": []
          },
          "execution_count": 11
        }
      ]
    },
    {
      "metadata": {
        "id": "JbNnf-p2zsad",
        "colab_type": "code",
        "outputId": "a0cedbcd-5aca-49af-a945-0ce6e2310c0d",
        "colab": {
          "base_uri": "https://localhost:8080/",
          "height": 35
        }
      },
      "cell_type": "code",
      "source": [
        "p_linsvc_pca_linsvc =  stats.ttest_rel(LinSVC, PCA_LinSVC)[1]\n",
        "p_linsvc_pca_linsvc"
      ],
      "execution_count": 0,
      "outputs": [
        {
          "output_type": "execute_result",
          "data": {
            "text/plain": [
              "1.2104839909884936e-06"
            ]
          },
          "metadata": {
            "tags": []
          },
          "execution_count": 12
        }
      ]
    },
    {
      "metadata": {
        "id": "RSpwQGiOzsWd",
        "colab_type": "code",
        "outputId": "d39d8ed6-1271-43f9-ea01-d607cf66f9c8",
        "colab": {
          "base_uri": "https://localhost:8080/",
          "height": 35
        }
      },
      "cell_type": "code",
      "source": [
        "p_lin_bag =  stats.ttest_rel(LinSVC, bagging_rf)[1]\n",
        "p_lin_bag"
      ],
      "execution_count": 0,
      "outputs": [
        {
          "output_type": "execute_result",
          "data": {
            "text/plain": [
              "1.608034135441561e-11"
            ]
          },
          "metadata": {
            "tags": []
          },
          "execution_count": 13
        }
      ]
    },
    {
      "metadata": {
        "id": "ktk2sc5NzsNd",
        "colab_type": "code",
        "outputId": "0ab8b7e9-ec12-435c-e795-a45d760aae1f",
        "colab": {
          "base_uri": "https://localhost:8080/",
          "height": 35
        }
      },
      "cell_type": "code",
      "source": [
        "p_pca_bag =  stats.ttest_rel(PCA_LinSVC, bagging_rf)[1]\n",
        "p_pca_bag"
      ],
      "execution_count": 0,
      "outputs": [
        {
          "output_type": "execute_result",
          "data": {
            "text/plain": [
              "0.3235109291662951"
            ]
          },
          "metadata": {
            "tags": []
          },
          "execution_count": 14
        }
      ]
    },
    {
      "metadata": {
        "id": "xKznzaH1z8kN",
        "colab_type": "code",
        "colab": {}
      },
      "cell_type": "code",
      "source": [
        ""
      ],
      "execution_count": 0,
      "outputs": []
    }
  ]
}