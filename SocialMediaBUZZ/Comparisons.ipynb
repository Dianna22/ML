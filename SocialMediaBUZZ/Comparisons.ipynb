{
  "nbformat": 4,
  "nbformat_minor": 0,
  "metadata": {
    "colab": {
      "name": "Untitled",
      "version": "0.3.2",
      "provenance": [],
      "collapsed_sections": [],
      "include_colab_link": true
    },
    "kernelspec": {
      "name": "python3",
      "display_name": "Python 3"
    }
  },
  "cells": [
    {
      "cell_type": "markdown",
      "metadata": {
        "id": "view-in-github",
        "colab_type": "text"
      },
      "source": [
        "<a href=\"https://colab.research.google.com/github/Dianna22/ML/blob/master/SocialMediaBUZZ/Comparisons.ipynb\" target=\"_parent\"><img src=\"https://colab.research.google.com/assets/colab-badge.svg\" alt=\"Open In Colab\"/></a>"
      ]
    },
    {
      "metadata": {
        "id": "xOLTHL1AxJ5t",
        "colab_type": "code",
        "colab": {}
      },
      "cell_type": "code",
      "source": [
        "DT = [0.7, 0.77, 0.71, 0.72, 0.71, 0.71, 0.72, 0.71, 0.72, 0.73]"
      ],
      "execution_count": 0,
      "outputs": []
    },
    {
      "metadata": {
        "id": "yUg2KFohxzw_",
        "colab_type": "code",
        "colab": {}
      },
      "cell_type": "code",
      "source": [
        "LinSVC = [0.91, 0.90, 0.90, 0.90, 0.89, 0.90, 0.9, 0.91, 0.9, 0.9]"
      ],
      "execution_count": 0,
      "outputs": []
    },
    {
      "metadata": {
        "id": "VRAFs6wEyV34",
        "colab_type": "code",
        "colab": {}
      },
      "cell_type": "code",
      "source": [
        "PCA_LinSVC = [0.72,0.78,0.75,0.71,0.68,0.70,0.69,0.62,0.60,0.62]\n"
      ],
      "execution_count": 0,
      "outputs": []
    },
    {
      "metadata": {
        "id": "OHa9MvCuywRW",
        "colab_type": "code",
        "colab": {}
      },
      "cell_type": "code",
      "source": [
        "bagging_rf = [0.73,0.73,0.69,0.69,0.69,0.7,0.7,0.73,0.69,0.72]"
      ],
      "execution_count": 0,
      "outputs": []
    },
    {
      "metadata": {
        "id": "fSV33HJ6zee-",
        "colab_type": "text"
      },
      "cell_type": "markdown",
      "source": [
        "#### t test"
      ]
    },
    {
      "metadata": {
        "id": "CP9PudVx0p7-",
        "colab_type": "code",
        "colab": {}
      },
      "cell_type": "code",
      "source": [
        "from scipy import stats"
      ],
      "execution_count": 0,
      "outputs": []
    },
    {
      "metadata": {
        "id": "fEpMvvkfzLx9",
        "colab_type": "code",
        "outputId": "7db88fcf-2273-4f6f-d511-2ae16c682132",
        "colab": {
          "base_uri": "https://localhost:8080/",
          "height": 35
        }
      },
      "cell_type": "code",
      "source": [
        "p_dt_linsvc = stats.ttest_rel(DT, LinSVC)[1]\n",
        "p_dt_linsvc"
      ],
      "execution_count": 0,
      "outputs": [
        {
          "output_type": "execute_result",
          "data": {
            "text/plain": [
              "6.67393850927128e-10"
            ]
          },
          "metadata": {
            "tags": []
          },
          "execution_count": 9
        }
      ]
    },
    {
      "metadata": {
        "id": "iE_muaLozQ67",
        "colab_type": "code",
        "outputId": "3fa1811d-e64b-49a1-b5a7-3ea59b4dc07b",
        "colab": {
          "base_uri": "https://localhost:8080/",
          "height": 35
        }
      },
      "cell_type": "code",
      "source": [
        "p_dt_pca_linsvc =  stats.ttest_rel(DT, PCA_LinSVC)[1]\n",
        "p_dt_pca_linsvc"
      ],
      "execution_count": 0,
      "outputs": [
        {
          "output_type": "execute_result",
          "data": {
            "text/plain": [
              "0.09320637160539963"
            ]
          },
          "metadata": {
            "tags": []
          },
          "execution_count": 10
        }
      ]
    },
    {
      "metadata": {
        "id": "Vt2tRi0PzYYP",
        "colab_type": "code",
        "outputId": "bdb04321-9c09-450f-d40c-2ce2207c2d1b",
        "colab": {
          "base_uri": "https://localhost:8080/",
          "height": 35
        }
      },
      "cell_type": "code",
      "source": [
        "p_dt_bag =  stats.ttest_rel(DT, bagging_rf)[1]\n",
        "p_dt_bag"
      ],
      "execution_count": 0,
      "outputs": [
        {
          "output_type": "execute_result",
          "data": {
            "text/plain": [
              "0.09625036251160317"
            ]
          },
          "metadata": {
            "tags": []
          },
          "execution_count": 11
        }
      ]
    },
    {
      "metadata": {
        "id": "JbNnf-p2zsad",
        "colab_type": "code",
        "outputId": "a0cedbcd-5aca-49af-a945-0ce6e2310c0d",
        "colab": {
          "base_uri": "https://localhost:8080/",
          "height": 35
        }
      },
      "cell_type": "code",
      "source": [
        "p_linsvc_pca_linsvc =  stats.ttest_rel(LinSVC, PCA_LinSVC)[1]\n",
        "p_linsvc_pca_linsvc"
      ],
      "execution_count": 0,
      "outputs": [
        {
          "output_type": "execute_result",
          "data": {
            "text/plain": [
              "1.2104839909884936e-06"
            ]
          },
          "metadata": {
            "tags": []
          },
          "execution_count": 12
        }
      ]
    },
    {
      "metadata": {
        "id": "RSpwQGiOzsWd",
        "colab_type": "code",
        "outputId": "d39d8ed6-1271-43f9-ea01-d607cf66f9c8",
        "colab": {
          "base_uri": "https://localhost:8080/",
          "height": 35
        }
      },
      "cell_type": "code",
      "source": [
        "p_lin_bag =  stats.ttest_rel(LinSVC, bagging_rf)[1]\n",
        "p_lin_bag"
      ],
      "execution_count": 0,
      "outputs": [
        {
          "output_type": "execute_result",
          "data": {
            "text/plain": [
              "1.608034135441561e-11"
            ]
          },
          "metadata": {
            "tags": []
          },
          "execution_count": 13
        }
      ]
    },
    {
      "metadata": {
        "id": "ktk2sc5NzsNd",
        "colab_type": "code",
        "outputId": "0ab8b7e9-ec12-435c-e795-a45d760aae1f",
        "colab": {
          "base_uri": "https://localhost:8080/",
          "height": 35
        }
      },
      "cell_type": "code",
      "source": [
        "p_pca_bag =  stats.ttest_rel(PCA_LinSVC, bagging_rf)[1]\n",
        "p_pca_bag"
      ],
      "execution_count": 0,
      "outputs": [
        {
          "output_type": "execute_result",
          "data": {
            "text/plain": [
              "0.3235109291662951"
            ]
          },
          "metadata": {
            "tags": []
          },
          "execution_count": 14
        }
      ]
    },
    {
      "metadata": {
        "id": "xKznzaH1z8kN",
        "colab_type": "code",
        "colab": {
          "base_uri": "https://localhost:8080/",
          "height": 35
        },
        "outputId": "62548681-2cf1-4a45-c845-d46f753d80ae"
      },
      "cell_type": "code",
      "source": [
        "bag_dt_f1s = [0.520674, 0.526678, 0.479860,\n",
        "0.451025,\n",
        "0.461017,\n",
        "0.483363,\n",
        "0.474227,\n",
        "0.512821,\n",
        "0.500956,\n",
        "0.539580]\n",
        "import numpy as np\n",
        "np.std(bag_dt_f1s)"
      ],
      "execution_count": 4,
      "outputs": [
        {
          "output_type": "execute_result",
          "data": {
            "text/plain": [
              "0.0280853807325092"
            ]
          },
          "metadata": {
            "tags": []
          },
          "execution_count": 4
        }
      ]
    },
    {
      "metadata": {
        "id": "cvgCZIzFlMDT",
        "colab_type": "code",
        "colab": {
          "base_uri": "https://localhost:8080/",
          "height": 35
        },
        "outputId": "682bcefd-cc86-4c45-ac18-6cd40718cbcf"
      },
      "cell_type": "code",
      "source": [
        "bag_knn=[0.542945,\n",
        "0.531034,\n",
        "0.526502,\n",
        "0.458716,\n",
        "0.475352,\n",
        "0.488971,\n",
        "0.480874,\n",
        "0.555891,\n",
        "0.495127,\n",
        "0.527211,]\n",
        "np.std(bag_knn)"
      ],
      "execution_count": 5,
      "outputs": [
        {
          "output_type": "execute_result",
          "data": {
            "text/plain": [
              "0.030845430747681257"
            ]
          },
          "metadata": {
            "tags": []
          },
          "execution_count": 5
        }
      ]
    },
    {
      "metadata": {
        "id": "dzaNcINsRx0m",
        "colab_type": "code",
        "colab": {
          "base_uri": "https://localhost:8080/",
          "height": 35
        },
        "outputId": "d3d94656-9d21-4276-bfcf-73f96cbb71e2"
      },
      "cell_type": "code",
      "source": [
        "bag_knn_norm = [\n",
        "    0.391026,\t0.418079\t, 0.429091,0.424107,\t0.362963,\t0.413043,0.379447,\t0.444444,\t0.395918\t,\t0.462094\t\n",
        "]\n",
        "np.std(bag_knn_norm)"
      ],
      "execution_count": 6,
      "outputs": [
        {
          "output_type": "execute_result",
          "data": {
            "text/plain": [
              "0.028638445969710026"
            ]
          },
          "metadata": {
            "tags": []
          },
          "execution_count": 6
        }
      ]
    },
    {
      "metadata": {
        "id": "4BjoDczqTQO4",
        "colab_type": "code",
        "colab": {
          "base_uri": "https://localhost:8080/",
          "height": 35
        },
        "outputId": "bdd34873-5fd0-4922-8365-e46ecf1d9909"
      },
      "cell_type": "code",
      "source": [
        "stats.ttest_rel(bag_dt_f1s, bag_knn)[1]\n"
      ],
      "execution_count": 9,
      "outputs": [
        {
          "output_type": "execute_result",
          "data": {
            "text/plain": [
              "0.05712268373629599"
            ]
          },
          "metadata": {
            "tags": []
          },
          "execution_count": 9
        }
      ]
    },
    {
      "metadata": {
        "id": "rlFg7Bf4UK-k",
        "colab_type": "code",
        "colab": {
          "base_uri": "https://localhost:8080/",
          "height": 35
        },
        "outputId": "71e25bbf-d845-4d40-d59f-5fae5cd9672e"
      },
      "cell_type": "code",
      "source": [
        "stats.ttest_rel(bag_dt_f1s, bag_knn_norm)[1]\n"
      ],
      "execution_count": 10,
      "outputs": [
        {
          "output_type": "execute_result",
          "data": {
            "text/plain": [
              "1.1711881066793424e-05"
            ]
          },
          "metadata": {
            "tags": []
          },
          "execution_count": 10
        }
      ]
    },
    {
      "metadata": {
        "id": "sOqhtIIxUbnq",
        "colab_type": "code",
        "colab": {
          "base_uri": "https://localhost:8080/",
          "height": 35
        },
        "outputId": "540b2dd9-dcd6-4973-a129-0b8e7666acc5"
      },
      "cell_type": "code",
      "source": [
        "stats.ttest_rel(bag_knn, bag_knn_norm)[1]\n"
      ],
      "execution_count": 11,
      "outputs": [
        {
          "output_type": "execute_result",
          "data": {
            "text/plain": [
              "5.120296800995599e-06"
            ]
          },
          "metadata": {
            "tags": []
          },
          "execution_count": 11
        }
      ]
    }
  ]
}