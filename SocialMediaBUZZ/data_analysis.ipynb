{
  "nbformat": 4,
  "nbformat_minor": 0,
  "metadata": {
    "colab": {
      "name": "data_analysis.ipynb",
      "version": "0.3.2",
      "provenance": [],
      "collapsed_sections": [],
      "include_colab_link": true
    },
    "kernelspec": {
      "name": "python3",
      "display_name": "Python 3"
    }
  },
  "cells": [
    {
      "cell_type": "markdown",
      "metadata": {
        "id": "view-in-github",
        "colab_type": "text"
      },
      "source": [
        "<a href=\"https://colab.research.google.com/github/Dianna22/ML/blob/master/SocialMediaBUZZ/data_analysis.ipynb\" target=\"_parent\"><img src=\"https://colab.research.google.com/assets/colab-badge.svg\" alt=\"Open In Colab\"/></a>"
      ]
    },
    {
      "metadata": {
        "id": "AKcncngoIQL-",
        "colab_type": "code",
        "colab": {}
      },
      "cell_type": "code",
      "source": [
        "import pandas as pd\n",
        "import numpy as np\n",
        "import matplotlib.pyplot as plt\n",
        "from sklearn.model_selection import train_test_split\n",
        "\n",
        "import matplotlib.pyplot as mat_plt"
      ],
      "execution_count": 0,
      "outputs": []
    },
    {
      "metadata": {
        "id": "XCHiDvUOIczU",
        "colab_type": "code",
        "outputId": "cf185606-5c36-4ac7-c694-90eb9d7b5c17",
        "colab": {
          "base_uri": "https://localhost:8080/",
          "height": 122
        }
      },
      "cell_type": "code",
      "source": [
        "from google.colab import drive\n",
        "drive.mount('/content/gdrive')"
      ],
      "execution_count": 0,
      "outputs": [
        {
          "output_type": "stream",
          "text": [
            "Go to this URL in a browser: https://accounts.google.com/o/oauth2/auth?client_id=947318989803-6bn6qk8qdgf4n4g3pfee6491hc0brc4i.apps.googleusercontent.com&redirect_uri=urn%3Aietf%3Awg%3Aoauth%3A2.0%3Aoob&scope=email%20https%3A%2F%2Fwww.googleapis.com%2Fauth%2Fdocs.test%20https%3A%2F%2Fwww.googleapis.com%2Fauth%2Fdrive%20https%3A%2F%2Fwww.googleapis.com%2Fauth%2Fdrive.photos.readonly%20https%3A%2F%2Fwww.googleapis.com%2Fauth%2Fpeopleapi.readonly&response_type=code\n",
            "\n",
            "Enter your authorization code:\n",
            "··········\n",
            "Mounted at /content/gdrive\n"
          ],
          "name": "stdout"
        }
      ]
    },
    {
      "metadata": {
        "id": "7DCy6ItMI4sP",
        "colab_type": "code",
        "colab": {}
      },
      "cell_type": "code",
      "source": [
        "PATH_PREFIX = '/content/gdrive/My Drive/ML/'"
      ],
      "execution_count": 0,
      "outputs": []
    },
    {
      "metadata": {
        "id": "Z3-L1H4c26TP",
        "colab_type": "code",
        "colab": {}
      },
      "cell_type": "code",
      "source": [
        "TWITTER_TRAIN = PATH_PREFIX + \"data/train_500\"\n",
        "TWITTER_TEST = PATH_PREFIX + \"data/test_500\"\n",
        "TWITTER_VAL = PATH_PREFIX + \"data/val_500\""
      ],
      "execution_count": 0,
      "outputs": []
    },
    {
      "metadata": {
        "id": "JmA6CY-bIV2v",
        "colab_type": "code",
        "colab": {}
      },
      "cell_type": "code",
      "source": [
        "TWITTER_RELATIVE_500 = PATH_PREFIX + \"data/Twitter-Relative-Sigma-500.data\"\n",
        "TWITTER_RELATIVE_1000 = PATH_PREFIX + \"data/Twitter-Relative-Sigma-1000.data\"\n",
        "TWITTER_RELATIVE_1500 = PATH_PREFIX + \"data/Twitter-Relative-Sigma-1500.data\""
      ],
      "execution_count": 0,
      "outputs": []
    },
    {
      "metadata": {
        "id": "jBONd5nvIV5i",
        "colab_type": "code",
        "colab": {}
      },
      "cell_type": "code",
      "source": [
        "def load_data(path):\n",
        "\tdata = pd.read_csv(path)\n",
        "\treturn data\n",
        "def load_dataset(path):\n",
        "\tdata = pd.read_csv(path)\n",
        "\treturn data[data.columns[:-1]], data[data.columns[-1]]"
      ],
      "execution_count": 0,
      "outputs": []
    },
    {
      "metadata": {
        "id": "FbVVAZrLJw-n",
        "colab_type": "code",
        "outputId": "7bf39a78-f540-49cc-f288-f5820d73fb46",
        "colab": {
          "base_uri": "https://localhost:8080/",
          "height": 253
        }
      },
      "cell_type": "code",
      "source": [
        "data_500 = load_data(TWITTER_RELATIVE_500)\n",
        "data_1000 = load_data(TWITTER_RELATIVE_1000)\n",
        "data_1500 = load_data(TWITTER_RELATIVE_1500)\n",
        "data.head()"
      ],
      "execution_count": 0,
      "outputs": [
        {
          "output_type": "execute_result",
          "data": {
            "text/html": [
              "<div>\n",
              "<style scoped>\n",
              "    .dataframe tbody tr th:only-of-type {\n",
              "        vertical-align: middle;\n",
              "    }\n",
              "\n",
              "    .dataframe tbody tr th {\n",
              "        vertical-align: top;\n",
              "    }\n",
              "\n",
              "    .dataframe thead th {\n",
              "        text-align: right;\n",
              "    }\n",
              "</style>\n",
              "<table border=\"1\" class=\"dataframe\">\n",
              "  <thead>\n",
              "    <tr style=\"text-align: right;\">\n",
              "      <th></th>\n",
              "      <th>NCD_0</th>\n",
              "      <th>NCD_1</th>\n",
              "      <th>NCD_2</th>\n",
              "      <th>NCD_3</th>\n",
              "      <th>NCD_4</th>\n",
              "      <th>NCD_5</th>\n",
              "      <th>NCD_6</th>\n",
              "      <th>AI_0</th>\n",
              "      <th>AI_1</th>\n",
              "      <th>AI_2</th>\n",
              "      <th>...</th>\n",
              "      <th>ADL_5</th>\n",
              "      <th>ADL_6</th>\n",
              "      <th>NAD_0</th>\n",
              "      <th>NAD_1</th>\n",
              "      <th>NAD_2</th>\n",
              "      <th>NAD_3</th>\n",
              "      <th>NAD_4</th>\n",
              "      <th>NAD_5</th>\n",
              "      <th>NAD_6</th>\n",
              "      <th>BUZZ</th>\n",
              "    </tr>\n",
              "  </thead>\n",
              "  <tbody>\n",
              "    <tr>\n",
              "      <th>0</th>\n",
              "      <td>889</td>\n",
              "      <td>939</td>\n",
              "      <td>960</td>\n",
              "      <td>805</td>\n",
              "      <td>805</td>\n",
              "      <td>1143</td>\n",
              "      <td>1121</td>\n",
              "      <td>549</td>\n",
              "      <td>613</td>\n",
              "      <td>587</td>\n",
              "      <td>...</td>\n",
              "      <td>1.0</td>\n",
              "      <td>1.0</td>\n",
              "      <td>889</td>\n",
              "      <td>939</td>\n",
              "      <td>960</td>\n",
              "      <td>805</td>\n",
              "      <td>805</td>\n",
              "      <td>1143</td>\n",
              "      <td>1121</td>\n",
              "      <td>0.0</td>\n",
              "    </tr>\n",
              "    <tr>\n",
              "      <th>1</th>\n",
              "      <td>542</td>\n",
              "      <td>473</td>\n",
              "      <td>504</td>\n",
              "      <td>626</td>\n",
              "      <td>647</td>\n",
              "      <td>795</td>\n",
              "      <td>832</td>\n",
              "      <td>366</td>\n",
              "      <td>288</td>\n",
              "      <td>318</td>\n",
              "      <td>...</td>\n",
              "      <td>1.0</td>\n",
              "      <td>1.0</td>\n",
              "      <td>542</td>\n",
              "      <td>473</td>\n",
              "      <td>504</td>\n",
              "      <td>626</td>\n",
              "      <td>647</td>\n",
              "      <td>795</td>\n",
              "      <td>832</td>\n",
              "      <td>0.0</td>\n",
              "    </tr>\n",
              "    <tr>\n",
              "      <th>2</th>\n",
              "      <td>92</td>\n",
              "      <td>99</td>\n",
              "      <td>196</td>\n",
              "      <td>100</td>\n",
              "      <td>184</td>\n",
              "      <td>79</td>\n",
              "      <td>162</td>\n",
              "      <td>66</td>\n",
              "      <td>59</td>\n",
              "      <td>118</td>\n",
              "      <td>...</td>\n",
              "      <td>1.0</td>\n",
              "      <td>1.0</td>\n",
              "      <td>92</td>\n",
              "      <td>99</td>\n",
              "      <td>196</td>\n",
              "      <td>100</td>\n",
              "      <td>184</td>\n",
              "      <td>79</td>\n",
              "      <td>162</td>\n",
              "      <td>0.0</td>\n",
              "    </tr>\n",
              "    <tr>\n",
              "      <th>3</th>\n",
              "      <td>90</td>\n",
              "      <td>87</td>\n",
              "      <td>92</td>\n",
              "      <td>344</td>\n",
              "      <td>184</td>\n",
              "      <td>848</td>\n",
              "      <td>184</td>\n",
              "      <td>83</td>\n",
              "      <td>78</td>\n",
              "      <td>76</td>\n",
              "      <td>...</td>\n",
              "      <td>1.0</td>\n",
              "      <td>1.0</td>\n",
              "      <td>90</td>\n",
              "      <td>87</td>\n",
              "      <td>92</td>\n",
              "      <td>344</td>\n",
              "      <td>184</td>\n",
              "      <td>848</td>\n",
              "      <td>184</td>\n",
              "      <td>0.0</td>\n",
              "    </tr>\n",
              "    <tr>\n",
              "      <th>4</th>\n",
              "      <td>169</td>\n",
              "      <td>98</td>\n",
              "      <td>101</td>\n",
              "      <td>90</td>\n",
              "      <td>96</td>\n",
              "      <td>95</td>\n",
              "      <td>185</td>\n",
              "      <td>141</td>\n",
              "      <td>68</td>\n",
              "      <td>85</td>\n",
              "      <td>...</td>\n",
              "      <td>1.0</td>\n",
              "      <td>1.0</td>\n",
              "      <td>169</td>\n",
              "      <td>98</td>\n",
              "      <td>101</td>\n",
              "      <td>90</td>\n",
              "      <td>96</td>\n",
              "      <td>95</td>\n",
              "      <td>185</td>\n",
              "      <td>0.0</td>\n",
              "    </tr>\n",
              "  </tbody>\n",
              "</table>\n",
              "<p>5 rows × 78 columns</p>\n",
              "</div>"
            ],
            "text/plain": [
              "   NCD_0  NCD_1  NCD_2  NCD_3  NCD_4  NCD_5  NCD_6  AI_0  AI_1  AI_2  ...   \\\n",
              "0    889    939    960    805    805   1143   1121   549   613   587  ...    \n",
              "1    542    473    504    626    647    795    832   366   288   318  ...    \n",
              "2     92     99    196    100    184     79    162    66    59   118  ...    \n",
              "3     90     87     92    344    184    848    184    83    78    76  ...    \n",
              "4    169     98    101     90     96     95    185   141    68    85  ...    \n",
              "\n",
              "   ADL_5  ADL_6  NAD_0  NAD_1  NAD_2  NAD_3  NAD_4  NAD_5  NAD_6  BUZZ  \n",
              "0    1.0    1.0    889    939    960    805    805   1143   1121   0.0  \n",
              "1    1.0    1.0    542    473    504    626    647    795    832   0.0  \n",
              "2    1.0    1.0     92     99    196    100    184     79    162   0.0  \n",
              "3    1.0    1.0     90     87     92    344    184    848    184   0.0  \n",
              "4    1.0    1.0    169     98    101     90     96     95    185   0.0  \n",
              "\n",
              "[5 rows x 78 columns]"
            ]
          },
          "metadata": {
            "tags": []
          },
          "execution_count": 26
        }
      ]
    },
    {
      "metadata": {
        "id": "b4X3UvxjPTlD",
        "colab_type": "code",
        "outputId": "6a7a76f1-86de-400b-d7a4-ac5321a2b0b6",
        "colab": {
          "base_uri": "https://localhost:8080/",
          "height": 221
        }
      },
      "cell_type": "code",
      "source": [
        "data.columns"
      ],
      "execution_count": 0,
      "outputs": [
        {
          "output_type": "execute_result",
          "data": {
            "text/plain": [
              "Index(['NCD_0', 'NCD_1', 'NCD_2', 'NCD_3', 'NCD_4', 'NCD_5', 'NCD_6', 'AI_0',\n",
              "       'AI_1', 'AI_2', 'AI_3', 'AI_4', 'AI_5', 'AI_6', 'AS(NA)_0', 'AS(NA)_1',\n",
              "       'AS(NA)_2', 'AS(NA)_3', 'AS(NA)_4', 'AS(NA)_5', 'AS(NA)_6', 'BL_0',\n",
              "       'BL_1', 'BL_2', 'BL_3', 'BL_4', 'BL_5', 'BL_6', 'NAC_0', 'NAC_1',\n",
              "       'NAC_2', 'NAC_3', 'NAC_4', 'NAC_5', 'NAC_6', 'AS(NAC)_0', 'AS(NAC)_1',\n",
              "       'AS(NAC)_2', 'AS(NAC)_3', 'AS(NAC)_4', 'AS(NAC)_5', 'AS(NAC)_6', 'CS_0',\n",
              "       'CS_1', 'CS_2', 'CS_3', 'CS_4', 'CS_5', 'CS_6', 'AT_0', 'AT_1', 'AT_2',\n",
              "       'AT_3', 'AT_4', 'AT_5', 'AT_6', 'NA_0', 'NA_1', 'NA_2', 'NA_3', 'NA_4',\n",
              "       'NA_5', 'NA_6', 'ADL_0', 'ADL_1', 'ADL_2', 'ADL_3', 'ADL_4', 'ADL_5',\n",
              "       'ADL_6', 'NAD_0', 'NAD_1', 'NAD_2', 'NAD_3', 'NAD_4', 'NAD_5', 'NAD_6',\n",
              "       'BUZZ'],\n",
              "      dtype='object')"
            ]
          },
          "metadata": {
            "tags": []
          },
          "execution_count": 18
        }
      ]
    },
    {
      "metadata": {
        "id": "e5dzYlGtPO02",
        "colab_type": "code",
        "outputId": "8c74bc03-bfe9-4cff-c886-e839c2e5c789",
        "colab": {
          "base_uri": "https://localhost:8080/",
          "height": 68
        }
      },
      "cell_type": "code",
      "source": [
        "pd.Series(data_500['BUZZ'].value_counts())\n",
        "pd.Series(data_1000['BUZZ'].value_counts())"
      ],
      "execution_count": 0,
      "outputs": [
        {
          "output_type": "execute_result",
          "data": {
            "text/plain": [
              "0.0    137087\n",
              "1.0      3620\n",
              "Name: BUZZ, dtype: int64"
            ]
          },
          "metadata": {
            "tags": []
          },
          "execution_count": 29
        }
      ]
    },
    {
      "metadata": {
        "id": "UqOmDc8_Tyqe",
        "colab_type": "code",
        "outputId": "eae639ae-7779-444b-8747-6dda070c7ab6",
        "colab": {
          "base_uri": "https://localhost:8080/",
          "height": 68
        }
      },
      "cell_type": "code",
      "source": [
        ""
      ],
      "execution_count": 0,
      "outputs": [
        {
          "output_type": "execute_result",
          "data": {
            "text/plain": [
              "0.0    139530\n",
              "1.0      1177\n",
              "Name: BUZZ, dtype: int64"
            ]
          },
          "metadata": {
            "tags": []
          },
          "execution_count": 30
        }
      ]
    },
    {
      "metadata": {
        "id": "ojZsSi9_T1Kq",
        "colab_type": "code",
        "outputId": "df6fc54f-aba5-4910-e348-ffe3f2747d4e",
        "colab": {
          "base_uri": "https://localhost:8080/",
          "height": 68
        }
      },
      "cell_type": "code",
      "source": [
        "pd.Series(data_1500['BUZZ'].value_counts())"
      ],
      "execution_count": 0,
      "outputs": [
        {
          "output_type": "execute_result",
          "data": {
            "text/plain": [
              "0.0    140219\n",
              "1.0       488\n",
              "Name: BUZZ, dtype: int64"
            ]
          },
          "metadata": {
            "tags": []
          },
          "execution_count": 31
        }
      ]
    },
    {
      "metadata": {
        "id": "4hDQB6X9IV8K",
        "colab_type": "code",
        "outputId": "922c317d-9abc-4677-e9cb-be26a61b5c3c",
        "colab": {
          "base_uri": "https://localhost:8080/",
          "height": 446
        }
      },
      "cell_type": "code",
      "source": [
        "df=data_500['BUZZ'].value_counts()\n",
        "df.index = ['non-buzz', 'buzz']\n",
        "print(df)\n",
        "ax=df.plot(kind='bar')\n",
        "x_offset = -0.03\n",
        "y_offset = 0.02\n",
        "vals = list(df)\n",
        "for i,p in enumerate(ax.patches):\n",
        "    b = p.get_bbox()\n",
        "    val = vals[i]\n",
        "    ax.annotate(val, ((b.x0 + b.x1)/2 + x_offset, b.y1 + y_offset))"
      ],
      "execution_count": 0,
      "outputs": [
        {
          "output_type": "stream",
          "text": [
            "non-buzz    137087\n",
            "buzz          3620\n",
            "Name: BUZZ, dtype: int64\n",
            "137087\n"
          ],
          "name": "stdout"
        },
        {
          "output_type": "display_data",
          "data": {
            "image/png": "[encoded data removed]",
            "text/plain": [
              "<Figure size 576x396 with 1 Axes>"
            ]
          },
          "metadata": {
            "tags": []
          }
        }
      ]
    },
    {
      "metadata": {
        "id": "bg7w9F2Dxsll",
        "colab_type": "code",
        "outputId": "b719ac9d-9b9b-46df-b678-37f33883dbec",
        "colab": {
          "base_uri": "https://localhost:8080/",
          "height": 119
        }
      },
      "cell_type": "code",
      "source": [
        "data_500[data_500.columns[-1]].head()"
      ],
      "execution_count": 0,
      "outputs": [
        {
          "output_type": "execute_result",
          "data": {
            "text/plain": [
              "0    0.0\n",
              "1    1.0\n",
              "2    0.0\n",
              "3    0.0\n",
              "4    1.0\n",
              "Name: BUZZ, dtype: float64"
            ]
          },
          "metadata": {
            "tags": []
          },
          "execution_count": 32
        }
      ]
    },
    {
      "metadata": {
        "id": "VNxJb4Qy6Dp1",
        "colab_type": "text"
      },
      "cell_type": "markdown",
      "source": [
        "1. Number of created discussions"
      ]
    },
    {
      "metadata": {
        "id": "GhMg_UgO6DdS",
        "colab_type": "code",
        "outputId": "d6fda80c-e814-4caa-9ee5-f71b911fdf5d",
        "colab": {
          "base_uri": "https://localhost:8080/",
          "height": 346
        }
      },
      "cell_type": "code",
      "source": [
        "data_500.describe()"
      ],
      "execution_count": 0,
      "outputs": [
        {
          "output_type": "execute_result",
          "data": {
            "text/html": [
              "<div>\n",
              "<style scoped>\n",
              "    .dataframe tbody tr th:only-of-type {\n",
              "        vertical-align: middle;\n",
              "    }\n",
              "\n",
              "    .dataframe tbody tr th {\n",
              "        vertical-align: top;\n",
              "    }\n",
              "\n",
              "    .dataframe thead th {\n",
              "        text-align: right;\n",
              "    }\n",
              "</style>\n",
              "<table border=\"1\" class=\"dataframe\">\n",
              "  <thead>\n",
              "    <tr style=\"text-align: right;\">\n",
              "      <th></th>\n",
              "      <th>NCD_0</th>\n",
              "      <th>NCD_1</th>\n",
              "      <th>NCD_2</th>\n",
              "      <th>NCD_3</th>\n",
              "      <th>NCD_4</th>\n",
              "      <th>NCD_5</th>\n",
              "      <th>NCD_6</th>\n",
              "      <th>AI_0</th>\n",
              "      <th>AI_1</th>\n",
              "      <th>AI_2</th>\n",
              "      <th>...</th>\n",
              "      <th>ADL_5</th>\n",
              "      <th>ADL_6</th>\n",
              "      <th>NAD_0</th>\n",
              "      <th>NAD_1</th>\n",
              "      <th>NAD_2</th>\n",
              "      <th>NAD_3</th>\n",
              "      <th>NAD_4</th>\n",
              "      <th>NAD_5</th>\n",
              "      <th>NAD_6</th>\n",
              "      <th>BUZZ</th>\n",
              "    </tr>\n",
              "  </thead>\n",
              "  <tbody>\n",
              "    <tr>\n",
              "      <th>count</th>\n",
              "      <td>140707.000000</td>\n",
              "      <td>140707.000000</td>\n",
              "      <td>140707.000000</td>\n",
              "      <td>140707.000000</td>\n",
              "      <td>140707.000000</td>\n",
              "      <td>140707.000000</td>\n",
              "      <td>140707.000000</td>\n",
              "      <td>140707.000000</td>\n",
              "      <td>140707.000000</td>\n",
              "      <td>140707.000000</td>\n",
              "      <td>...</td>\n",
              "      <td>140707.000000</td>\n",
              "      <td>140707.000000</td>\n",
              "      <td>140707.000000</td>\n",
              "      <td>140707.000000</td>\n",
              "      <td>140707.000000</td>\n",
              "      <td>140707.000000</td>\n",
              "      <td>140707.000000</td>\n",
              "      <td>140707.000000</td>\n",
              "      <td>140707.000000</td>\n",
              "      <td>140707.000000</td>\n",
              "    </tr>\n",
              "    <tr>\n",
              "      <th>mean</th>\n",
              "      <td>172.279823</td>\n",
              "      <td>155.150625</td>\n",
              "      <td>165.464476</td>\n",
              "      <td>176.820549</td>\n",
              "      <td>186.937700</td>\n",
              "      <td>216.209208</td>\n",
              "      <td>243.866510</td>\n",
              "      <td>87.050154</td>\n",
              "      <td>78.639236</td>\n",
              "      <td>84.269574</td>\n",
              "      <td>...</td>\n",
              "      <td>1.113444</td>\n",
              "      <td>1.196131</td>\n",
              "      <td>172.838807</td>\n",
              "      <td>155.630878</td>\n",
              "      <td>165.938674</td>\n",
              "      <td>177.314810</td>\n",
              "      <td>187.463794</td>\n",
              "      <td>216.776294</td>\n",
              "      <td>244.479194</td>\n",
              "      <td>0.025727</td>\n",
              "    </tr>\n",
              "    <tr>\n",
              "      <th>std</th>\n",
              "      <td>509.872276</td>\n",
              "      <td>471.573236</td>\n",
              "      <td>495.360236</td>\n",
              "      <td>528.351277</td>\n",
              "      <td>560.331281</td>\n",
              "      <td>632.188378</td>\n",
              "      <td>707.402192</td>\n",
              "      <td>234.731748</td>\n",
              "      <td>218.448179</td>\n",
              "      <td>233.536510</td>\n",
              "      <td>...</td>\n",
              "      <td>1.374287</td>\n",
              "      <td>1.826150</td>\n",
              "      <td>510.937549</td>\n",
              "      <td>472.462733</td>\n",
              "      <td>496.233557</td>\n",
              "      <td>529.286514</td>\n",
              "      <td>561.309487</td>\n",
              "      <td>633.203935</td>\n",
              "      <td>708.436795</td>\n",
              "      <td>0.158321</td>\n",
              "    </tr>\n",
              "    <tr>\n",
              "      <th>min</th>\n",
              "      <td>0.000000</td>\n",
              "      <td>0.000000</td>\n",
              "      <td>0.000000</td>\n",
              "      <td>0.000000</td>\n",
              "      <td>0.000000</td>\n",
              "      <td>0.000000</td>\n",
              "      <td>0.000000</td>\n",
              "      <td>0.000000</td>\n",
              "      <td>0.000000</td>\n",
              "      <td>0.000000</td>\n",
              "      <td>...</td>\n",
              "      <td>0.000000</td>\n",
              "      <td>0.000000</td>\n",
              "      <td>0.000000</td>\n",
              "      <td>0.000000</td>\n",
              "      <td>0.000000</td>\n",
              "      <td>0.000000</td>\n",
              "      <td>0.000000</td>\n",
              "      <td>0.000000</td>\n",
              "      <td>0.000000</td>\n",
              "      <td>0.000000</td>\n",
              "    </tr>\n",
              "    <tr>\n",
              "      <th>25%</th>\n",
              "      <td>3.000000</td>\n",
              "      <td>2.000000</td>\n",
              "      <td>3.000000</td>\n",
              "      <td>3.000000</td>\n",
              "      <td>3.000000</td>\n",
              "      <td>4.000000</td>\n",
              "      <td>5.000000</td>\n",
              "      <td>2.000000</td>\n",
              "      <td>2.000000</td>\n",
              "      <td>2.000000</td>\n",
              "      <td>...</td>\n",
              "      <td>1.000000</td>\n",
              "      <td>1.000000</td>\n",
              "      <td>3.000000</td>\n",
              "      <td>2.000000</td>\n",
              "      <td>3.000000</td>\n",
              "      <td>3.000000</td>\n",
              "      <td>3.000000</td>\n",
              "      <td>4.000000</td>\n",
              "      <td>6.000000</td>\n",
              "      <td>0.000000</td>\n",
              "    </tr>\n",
              "    <tr>\n",
              "      <th>50%</th>\n",
              "      <td>22.000000</td>\n",
              "      <td>19.000000</td>\n",
              "      <td>20.000000</td>\n",
              "      <td>22.000000</td>\n",
              "      <td>23.000000</td>\n",
              "      <td>28.000000</td>\n",
              "      <td>33.000000</td>\n",
              "      <td>13.000000</td>\n",
              "      <td>11.000000</td>\n",
              "      <td>13.000000</td>\n",
              "      <td>...</td>\n",
              "      <td>1.000000</td>\n",
              "      <td>1.000000</td>\n",
              "      <td>22.000000</td>\n",
              "      <td>19.000000</td>\n",
              "      <td>21.000000</td>\n",
              "      <td>22.000000</td>\n",
              "      <td>23.000000</td>\n",
              "      <td>28.000000</td>\n",
              "      <td>33.000000</td>\n",
              "      <td>0.000000</td>\n",
              "    </tr>\n",
              "    <tr>\n",
              "      <th>75%</th>\n",
              "      <td>125.000000</td>\n",
              "      <td>112.000000</td>\n",
              "      <td>119.000000</td>\n",
              "      <td>126.000000</td>\n",
              "      <td>133.000000</td>\n",
              "      <td>161.000000</td>\n",
              "      <td>186.000000</td>\n",
              "      <td>70.000000</td>\n",
              "      <td>64.000000</td>\n",
              "      <td>67.000000</td>\n",
              "      <td>...</td>\n",
              "      <td>1.100000</td>\n",
              "      <td>1.119048</td>\n",
              "      <td>126.000000</td>\n",
              "      <td>113.000000</td>\n",
              "      <td>119.000000</td>\n",
              "      <td>127.000000</td>\n",
              "      <td>134.000000</td>\n",
              "      <td>162.000000</td>\n",
              "      <td>187.000000</td>\n",
              "      <td>0.000000</td>\n",
              "    </tr>\n",
              "    <tr>\n",
              "      <th>max</th>\n",
              "      <td>24210.000000</td>\n",
              "      <td>22899.000000</td>\n",
              "      <td>20495.000000</td>\n",
              "      <td>27007.000000</td>\n",
              "      <td>30957.000000</td>\n",
              "      <td>28603.000000</td>\n",
              "      <td>37505.000000</td>\n",
              "      <td>15105.000000</td>\n",
              "      <td>15730.000000</td>\n",
              "      <td>16389.000000</td>\n",
              "      <td>...</td>\n",
              "      <td>185.666672</td>\n",
              "      <td>295.000000</td>\n",
              "      <td>24301.000000</td>\n",
              "      <td>22980.000000</td>\n",
              "      <td>20495.000000</td>\n",
              "      <td>27071.000000</td>\n",
              "      <td>31028.000000</td>\n",
              "      <td>28697.000000</td>\n",
              "      <td>37505.000000</td>\n",
              "      <td>1.000000</td>\n",
              "    </tr>\n",
              "  </tbody>\n",
              "</table>\n",
              "<p>8 rows × 78 columns</p>\n",
              "</div>"
            ],
            "text/plain": [
              "               NCD_0          NCD_1          NCD_2          NCD_3  \\\n",
              "count  140707.000000  140707.000000  140707.000000  140707.000000   \n",
              "mean      172.279823     155.150625     165.464476     176.820549   \n",
              "std       509.872276     471.573236     495.360236     528.351277   \n",
              "min         0.000000       0.000000       0.000000       0.000000   \n",
              "25%         3.000000       2.000000       3.000000       3.000000   \n",
              "50%        22.000000      19.000000      20.000000      22.000000   \n",
              "75%       125.000000     112.000000     119.000000     126.000000   \n",
              "max     24210.000000   22899.000000   20495.000000   27007.000000   \n",
              "\n",
              "               NCD_4          NCD_5          NCD_6           AI_0  \\\n",
              "count  140707.000000  140707.000000  140707.000000  140707.000000   \n",
              "mean      186.937700     216.209208     243.866510      87.050154   \n",
              "std       560.331281     632.188378     707.402192     234.731748   \n",
              "min         0.000000       0.000000       0.000000       0.000000   \n",
              "25%         3.000000       4.000000       5.000000       2.000000   \n",
              "50%        23.000000      28.000000      33.000000      13.000000   \n",
              "75%       133.000000     161.000000     186.000000      70.000000   \n",
              "max     30957.000000   28603.000000   37505.000000   15105.000000   \n",
              "\n",
              "                AI_1           AI_2      ...                ADL_5  \\\n",
              "count  140707.000000  140707.000000      ...        140707.000000   \n",
              "mean       78.639236      84.269574      ...             1.113444   \n",
              "std       218.448179     233.536510      ...             1.374287   \n",
              "min         0.000000       0.000000      ...             0.000000   \n",
              "25%         2.000000       2.000000      ...             1.000000   \n",
              "50%        11.000000      13.000000      ...             1.000000   \n",
              "75%        64.000000      67.000000      ...             1.100000   \n",
              "max     15730.000000   16389.000000      ...           185.666672   \n",
              "\n",
              "               ADL_6          NAD_0          NAD_1          NAD_2  \\\n",
              "count  140707.000000  140707.000000  140707.000000  140707.000000   \n",
              "mean        1.196131     172.838807     155.630878     165.938674   \n",
              "std         1.826150     510.937549     472.462733     496.233557   \n",
              "min         0.000000       0.000000       0.000000       0.000000   \n",
              "25%         1.000000       3.000000       2.000000       3.000000   \n",
              "50%         1.000000      22.000000      19.000000      21.000000   \n",
              "75%         1.119048     126.000000     113.000000     119.000000   \n",
              "max       295.000000   24301.000000   22980.000000   20495.000000   \n",
              "\n",
              "               NAD_3          NAD_4          NAD_5          NAD_6  \\\n",
              "count  140707.000000  140707.000000  140707.000000  140707.000000   \n",
              "mean      177.314810     187.463794     216.776294     244.479194   \n",
              "std       529.286514     561.309487     633.203935     708.436795   \n",
              "min         0.000000       0.000000       0.000000       0.000000   \n",
              "25%         3.000000       3.000000       4.000000       6.000000   \n",
              "50%        22.000000      23.000000      28.000000      33.000000   \n",
              "75%       127.000000     134.000000     162.000000     187.000000   \n",
              "max     27071.000000   31028.000000   28697.000000   37505.000000   \n",
              "\n",
              "                BUZZ  \n",
              "count  140707.000000  \n",
              "mean        0.025727  \n",
              "std         0.158321  \n",
              "min         0.000000  \n",
              "25%         0.000000  \n",
              "50%         0.000000  \n",
              "75%         0.000000  \n",
              "max         1.000000  \n",
              "\n",
              "[8 rows x 78 columns]"
            ]
          },
          "metadata": {
            "tags": []
          },
          "execution_count": 78
        }
      ]
    },
    {
      "metadata": {
        "id": "xUvfQtmI4yCn",
        "colab_type": "code",
        "outputId": "e66bb3b2-00a2-41dc-e7ac-d1601d086e7c",
        "colab": {
          "base_uri": "https://localhost:8080/",
          "height": 153
        }
      },
      "cell_type": "code",
      "source": [
        "data_500.filter(regex='NCD_?').loc[data_500['BUZZ']==1].describe().diff(axis=1).fillna(0).iloc[1]"
      ],
      "execution_count": 0,
      "outputs": [
        {
          "output_type": "execute_result",
          "data": {
            "text/plain": [
              "NCD_0      0.000000\n",
              "NCD_1   -193.096409\n",
              "NCD_2     58.176796\n",
              "NCD_3    111.170166\n",
              "NCD_4    166.343646\n",
              "NCD_5    259.040055\n",
              "NCD_6    436.054144\n",
              "Name: mean, dtype: float64"
            ]
          },
          "metadata": {
            "tags": []
          },
          "execution_count": 136
        }
      ]
    },
    {
      "metadata": {
        "id": "7VYWOACOIn51",
        "colab_type": "code",
        "outputId": "44919868-60b5-4fae-b3c7-dc7108153d2e",
        "colab": {
          "base_uri": "https://localhost:8080/",
          "height": 163
        }
      },
      "cell_type": "code",
      "source": [
        "data_500.filter(regex='NCD_?').loc[data_500['BUZZ']==1].diff(axis=1).fillna(0).describe().iloc[1]\n"
      ],
      "execution_count": 0,
      "outputs": [
        {
          "output_type": "execute_result",
          "data": {
            "text/plain": [
              "NCD_0      0.000000\n",
              "NCD_1   -193.096409\n",
              "NCD_2     58.176796\n",
              "NCD_3    111.170166\n",
              "NCD_4    166.343646\n",
              "NCD_5    259.040055\n",
              "NCD_6    436.054144\n",
              "Name: mean, dtype: float64"
            ]
          },
          "metadata": {
            "tags": []
          },
          "execution_count": 137
        }
      ]
    },
    {
      "metadata": {
        "id": "_zNlEQPp6hiN",
        "colab_type": "code",
        "outputId": "cda40446-aa42-477c-dddd-fca09cefb2df",
        "colab": {
          "base_uri": "https://localhost:8080/",
          "height": 308
        }
      },
      "cell_type": "code",
      "source": [
        "data_500.filter(regex='NCD_?').loc[data_500['BUZZ']==0].describe()"
      ],
      "execution_count": 0,
      "outputs": [
        {
          "output_type": "execute_result",
          "data": {
            "text/html": [
              "<div>\n",
              "<style scoped>\n",
              "    .dataframe tbody tr th:only-of-type {\n",
              "        vertical-align: middle;\n",
              "    }\n",
              "\n",
              "    .dataframe tbody tr th {\n",
              "        vertical-align: top;\n",
              "    }\n",
              "\n",
              "    .dataframe thead th {\n",
              "        text-align: right;\n",
              "    }\n",
              "</style>\n",
              "<table border=\"1\" class=\"dataframe\">\n",
              "  <thead>\n",
              "    <tr style=\"text-align: right;\">\n",
              "      <th></th>\n",
              "      <th>NCD_0</th>\n",
              "      <th>NCD_1</th>\n",
              "      <th>NCD_2</th>\n",
              "      <th>NCD_3</th>\n",
              "      <th>NCD_4</th>\n",
              "      <th>NCD_5</th>\n",
              "      <th>NCD_6</th>\n",
              "    </tr>\n",
              "  </thead>\n",
              "  <tbody>\n",
              "    <tr>\n",
              "      <th>count</th>\n",
              "      <td>137087.000000</td>\n",
              "      <td>137087.000000</td>\n",
              "      <td>137087.000000</td>\n",
              "      <td>137087.000000</td>\n",
              "      <td>137087.000000</td>\n",
              "      <td>137087.000000</td>\n",
              "      <td>137087.000000</td>\n",
              "    </tr>\n",
              "    <tr>\n",
              "      <th>mean</th>\n",
              "      <td>137.617287</td>\n",
              "      <td>125.134783</td>\n",
              "      <td>134.184737</td>\n",
              "      <td>142.905060</td>\n",
              "      <td>148.896803</td>\n",
              "      <td>172.100907</td>\n",
              "      <td>188.973841</td>\n",
              "    </tr>\n",
              "    <tr>\n",
              "      <th>std</th>\n",
              "      <td>343.654789</td>\n",
              "      <td>319.870275</td>\n",
              "      <td>349.008823</td>\n",
              "      <td>373.117213</td>\n",
              "      <td>384.658300</td>\n",
              "      <td>428.280696</td>\n",
              "      <td>441.119340</td>\n",
              "    </tr>\n",
              "    <tr>\n",
              "      <th>min</th>\n",
              "      <td>0.000000</td>\n",
              "      <td>0.000000</td>\n",
              "      <td>0.000000</td>\n",
              "      <td>0.000000</td>\n",
              "      <td>0.000000</td>\n",
              "      <td>0.000000</td>\n",
              "      <td>0.000000</td>\n",
              "    </tr>\n",
              "    <tr>\n",
              "      <th>25%</th>\n",
              "      <td>3.000000</td>\n",
              "      <td>2.000000</td>\n",
              "      <td>3.000000</td>\n",
              "      <td>3.000000</td>\n",
              "      <td>3.000000</td>\n",
              "      <td>4.000000</td>\n",
              "      <td>5.000000</td>\n",
              "    </tr>\n",
              "    <tr>\n",
              "      <th>50%</th>\n",
              "      <td>20.000000</td>\n",
              "      <td>17.000000</td>\n",
              "      <td>19.000000</td>\n",
              "      <td>20.000000</td>\n",
              "      <td>21.000000</td>\n",
              "      <td>26.000000</td>\n",
              "      <td>30.000000</td>\n",
              "    </tr>\n",
              "    <tr>\n",
              "      <th>75%</th>\n",
              "      <td>110.000000</td>\n",
              "      <td>100.000000</td>\n",
              "      <td>106.000000</td>\n",
              "      <td>111.000000</td>\n",
              "      <td>117.000000</td>\n",
              "      <td>141.000000</td>\n",
              "      <td>163.000000</td>\n",
              "    </tr>\n",
              "    <tr>\n",
              "      <th>max</th>\n",
              "      <td>13055.000000</td>\n",
              "      <td>13799.000000</td>\n",
              "      <td>15313.000000</td>\n",
              "      <td>15445.000000</td>\n",
              "      <td>19710.000000</td>\n",
              "      <td>17257.000000</td>\n",
              "      <td>16973.000000</td>\n",
              "    </tr>\n",
              "  </tbody>\n",
              "</table>\n",
              "</div>"
            ],
            "text/plain": [
              "               NCD_0          NCD_1          NCD_2          NCD_3  \\\n",
              "count  137087.000000  137087.000000  137087.000000  137087.000000   \n",
              "mean      137.617287     125.134783     134.184737     142.905060   \n",
              "std       343.654789     319.870275     349.008823     373.117213   \n",
              "min         0.000000       0.000000       0.000000       0.000000   \n",
              "25%         3.000000       2.000000       3.000000       3.000000   \n",
              "50%        20.000000      17.000000      19.000000      20.000000   \n",
              "75%       110.000000     100.000000     106.000000     111.000000   \n",
              "max     13055.000000   13799.000000   15313.000000   15445.000000   \n",
              "\n",
              "               NCD_4          NCD_5          NCD_6  \n",
              "count  137087.000000  137087.000000  137087.000000  \n",
              "mean      148.896803     172.100907     188.973841  \n",
              "std       384.658300     428.280696     441.119340  \n",
              "min         0.000000       0.000000       0.000000  \n",
              "25%         3.000000       4.000000       5.000000  \n",
              "50%        21.000000      26.000000      30.000000  \n",
              "75%       117.000000     141.000000     163.000000  \n",
              "max     19710.000000   17257.000000   16973.000000  "
            ]
          },
          "metadata": {
            "tags": []
          },
          "execution_count": 82
        }
      ]
    },
    {
      "metadata": {
        "id": "asuKp5VsM1uq",
        "colab_type": "code",
        "outputId": "ea389da4-b7c2-4c74-e87d-7f17d0846a7b",
        "colab": {
          "base_uri": "https://localhost:8080/",
          "height": 365
        }
      },
      "cell_type": "code",
      "source": [
        "data_500.filter(regex='AS\\(NA\\)_?').loc[data_500['BUZZ']==1].describe().iloc[-1].plot(xticks=list(range(7)))"
      ],
      "execution_count": 0,
      "outputs": [
        {
          "output_type": "execute_result",
          "data": {
            "text/plain": [
              "<matplotlib.axes._subplots.AxesSubplot at 0x7fa8b4f09978>"
            ]
          },
          "metadata": {
            "tags": []
          },
          "execution_count": 179
        },
        {
          "output_type": "display_data",
          "data": {
            "image/png": "[encoded data removed]",
            "text/plain": [
              "<Figure size 576x396 with 1 Axes>"
            ]
          },
          "metadata": {
            "tags": []
          }
        }
      ]
    },
    {
      "metadata": {
        "id": "P7NxtwCekl-x",
        "colab_type": "code",
        "outputId": "655a2645-a1a1-4401-d6af-55f91e4bec84",
        "colab": {
          "base_uri": "https://localhost:8080/",
          "height": 638
        }
      },
      "cell_type": "code",
      "source": [
        "bl = data_500.filter(regex='BL_?').loc[data_500['BUZZ']==1].describe()\n",
        "# bl_diffs = ai.diff(axis=1).fillna(0).iloc[1]\n",
        "bl.iloc[1].plot(xticks=list(range(7)))\n",
        "bl"
      ],
      "execution_count": 0,
      "outputs": [
        {
          "output_type": "execute_result",
          "data": {
            "text/html": [
              "<div>\n",
              "<style scoped>\n",
              "    .dataframe tbody tr th:only-of-type {\n",
              "        vertical-align: middle;\n",
              "    }\n",
              "\n",
              "    .dataframe tbody tr th {\n",
              "        vertical-align: top;\n",
              "    }\n",
              "\n",
              "    .dataframe thead th {\n",
              "        text-align: right;\n",
              "    }\n",
              "</style>\n",
              "<table border=\"1\" class=\"dataframe\">\n",
              "  <thead>\n",
              "    <tr style=\"text-align: right;\">\n",
              "      <th></th>\n",
              "      <th>BL_0</th>\n",
              "      <th>BL_1</th>\n",
              "      <th>BL_2</th>\n",
              "      <th>BL_3</th>\n",
              "      <th>BL_4</th>\n",
              "      <th>BL_5</th>\n",
              "      <th>BL_6</th>\n",
              "    </tr>\n",
              "  </thead>\n",
              "  <tbody>\n",
              "    <tr>\n",
              "      <th>count</th>\n",
              "      <td>3620.000000</td>\n",
              "      <td>3620.000000</td>\n",
              "      <td>3620.000000</td>\n",
              "      <td>3620.000000</td>\n",
              "      <td>3620.000000</td>\n",
              "      <td>3620.000000</td>\n",
              "      <td>3620.000000</td>\n",
              "    </tr>\n",
              "    <tr>\n",
              "      <th>mean</th>\n",
              "      <td>0.997464</td>\n",
              "      <td>0.962152</td>\n",
              "      <td>0.979230</td>\n",
              "      <td>0.987960</td>\n",
              "      <td>0.993211</td>\n",
              "      <td>0.996282</td>\n",
              "      <td>0.997835</td>\n",
              "    </tr>\n",
              "    <tr>\n",
              "      <th>std</th>\n",
              "      <td>0.005045</td>\n",
              "      <td>0.184319</td>\n",
              "      <td>0.133016</td>\n",
              "      <td>0.096758</td>\n",
              "      <td>0.066464</td>\n",
              "      <td>0.040757</td>\n",
              "      <td>0.017053</td>\n",
              "    </tr>\n",
              "    <tr>\n",
              "      <th>min</th>\n",
              "      <td>0.903382</td>\n",
              "      <td>0.000000</td>\n",
              "      <td>0.000000</td>\n",
              "      <td>0.000000</td>\n",
              "      <td>0.000000</td>\n",
              "      <td>0.000000</td>\n",
              "      <td>0.000000</td>\n",
              "    </tr>\n",
              "    <tr>\n",
              "      <th>25%</th>\n",
              "      <td>0.996412</td>\n",
              "      <td>0.995973</td>\n",
              "      <td>0.996972</td>\n",
              "      <td>0.997010</td>\n",
              "      <td>0.997086</td>\n",
              "      <td>0.996970</td>\n",
              "      <td>0.997447</td>\n",
              "    </tr>\n",
              "    <tr>\n",
              "      <th>50%</th>\n",
              "      <td>1.000000</td>\n",
              "      <td>1.000000</td>\n",
              "      <td>1.000000</td>\n",
              "      <td>1.000000</td>\n",
              "      <td>1.000000</td>\n",
              "      <td>1.000000</td>\n",
              "      <td>0.999871</td>\n",
              "    </tr>\n",
              "    <tr>\n",
              "      <th>75%</th>\n",
              "      <td>1.000000</td>\n",
              "      <td>1.000000</td>\n",
              "      <td>1.000000</td>\n",
              "      <td>1.000000</td>\n",
              "      <td>1.000000</td>\n",
              "      <td>1.000000</td>\n",
              "      <td>1.000000</td>\n",
              "    </tr>\n",
              "    <tr>\n",
              "      <th>max</th>\n",
              "      <td>1.000000</td>\n",
              "      <td>1.000000</td>\n",
              "      <td>1.000000</td>\n",
              "      <td>1.000000</td>\n",
              "      <td>1.000000</td>\n",
              "      <td>1.000000</td>\n",
              "      <td>1.000000</td>\n",
              "    </tr>\n",
              "  </tbody>\n",
              "</table>\n",
              "</div>"
            ],
            "text/plain": [
              "              BL_0         BL_1         BL_2         BL_3         BL_4  \\\n",
              "count  3620.000000  3620.000000  3620.000000  3620.000000  3620.000000   \n",
              "mean      0.997464     0.962152     0.979230     0.987960     0.993211   \n",
              "std       0.005045     0.184319     0.133016     0.096758     0.066464   \n",
              "min       0.903382     0.000000     0.000000     0.000000     0.000000   \n",
              "25%       0.996412     0.995973     0.996972     0.997010     0.997086   \n",
              "50%       1.000000     1.000000     1.000000     1.000000     1.000000   \n",
              "75%       1.000000     1.000000     1.000000     1.000000     1.000000   \n",
              "max       1.000000     1.000000     1.000000     1.000000     1.000000   \n",
              "\n",
              "              BL_5         BL_6  \n",
              "count  3620.000000  3620.000000  \n",
              "mean      0.996282     0.997835  \n",
              "std       0.040757     0.017053  \n",
              "min       0.000000     0.000000  \n",
              "25%       0.996970     0.997447  \n",
              "50%       1.000000     0.999871  \n",
              "75%       1.000000     1.000000  \n",
              "max       1.000000     1.000000  "
            ]
          },
          "metadata": {
            "tags": []
          },
          "execution_count": 185
        },
        {
          "output_type": "display_data",
          "data": {
            "image/png": "[encoded data removed]",
            "text/plain": [
              "<Figure size 576x396 with 1 Axes>"
            ]
          },
          "metadata": {
            "tags": []
          }
        }
      ]
    },
    {
      "metadata": {
        "id": "ILulSP4pASvk",
        "colab_type": "code",
        "colab": {}
      },
      "cell_type": "code",
      "source": [
        "ncd = data_500.filter(regex='NCD_?').loc[data_500['BUZZ']==1].describe()\n",
        "ncd_diffs = ncd.diff(axis=1).fillna(0).iloc[1]\n",
        "ai = data_500.filter(regex='AI_?').loc[data_500['BUZZ']==1].describe()\n",
        "ai_diffs = ai.diff(axis=1).fillna(0).iloc[1]\n",
        "# asna = data_500.filter(regex='AS\\(NA\\)_?').loc[data_500['BUZZ']==1].describe()\n",
        "# asna_diffs = asna.diff(axis=1).fillna(0).iloc[1]\n",
        "ai = data_500.filter(regex='AI_?').loc[data_500['BUZZ']==1].describe()\n",
        "ai_diffs = ai.diff(axis=1).fillna(0).iloc[1]\n"
      ],
      "execution_count": 0,
      "outputs": []
    },
    {
      "metadata": {
        "id": "pBu7VxMhDrMA",
        "colab_type": "code",
        "outputId": "435d2895-dcb4-44ea-b867-7a4a443fd222",
        "colab": {
          "base_uri": "https://localhost:8080/",
          "height": 347
        }
      },
      "cell_type": "code",
      "source": [
        "lines = [mat_plt.plot(list(range(7)), ncd_diffs, label=\"NCD's means relative differences\")[0],\n",
        "         mat_plt.plot(list(range(7)), ai_diffs, label=\"AI's means relative differences\")[0],\n",
        "        ]\n",
        "\n",
        "mat_plt.legend(handles=lines)\n",
        "mat_plt.show()"
      ],
      "execution_count": 0,
      "outputs": [
        {
          "output_type": "display_data",
          "data": {
            "image/png": "[encoded data removed]",
            "text/plain": [
              "<Figure size 576x396 with 1 Axes>"
            ]
          },
          "metadata": {
            "tags": []
          }
        }
      ]
    },
    {
      "metadata": {
        "id": "cT31scLqIV-k",
        "colab_type": "code",
        "colab": {}
      },
      "cell_type": "code",
      "source": [
        "X, Y = data_500[data_500.columns[:-1]], data_500[data_500.columns[-1]]\n",
        "X_train, X_test, Y_train, Y_test = train_test_split(X,Y, test_size=0.2, random_state=1)\n",
        "X_train, X_val, Y_train, Y_val = train_test_split(X_train, Y_train, test_size=0.2, random_state=1)"
      ],
      "execution_count": 0,
      "outputs": []
    },
    {
      "metadata": {
        "id": "buSDi7U83NJo",
        "colab_type": "code",
        "colab": {}
      },
      "cell_type": "code",
      "source": [
        ""
      ],
      "execution_count": 0,
      "outputs": []
    },
    {
      "metadata": {
        "id": "6iUxz0Ku3c0p",
        "colab_type": "code",
        "outputId": "cb171781-e570-4b2e-e095-f683e4096b71",
        "colab": {
          "base_uri": "https://localhost:8080/",
          "height": 35
        }
      },
      "cell_type": "code",
      "source": [
        ""
      ],
      "execution_count": 0,
      "outputs": [
        {
          "output_type": "stream",
          "text": [
            "40.38529411764706\n"
          ],
          "name": "stdout"
        }
      ]
    },
    {
      "metadata": {
        "id": "WpCF_FZB1HA8",
        "colab_type": "code",
        "outputId": "b4395804-75ce-49dd-cb48-594faa81e968",
        "colab": {
          "base_uri": "https://localhost:8080/",
          "height": 68
        }
      },
      "cell_type": "code",
      "source": [
        "print(Y_test.value_counts()[0]/Y_test.value_counts()[1])\n",
        "print(Y_train.value_counts()[0]/Y_train.value_counts()[1])\n",
        "print(Y_val.value_counts()[0]/Y_val.value_counts()[1])"
      ],
      "execution_count": 0,
      "outputs": [
        {
          "output_type": "stream",
          "text": [
            "40.38529411764706\n",
            "37.076955602537\n",
            "38.15304347826087\n"
          ],
          "name": "stdout"
        }
      ]
    },
    {
      "metadata": {
        "id": "NwdBysxK1prK",
        "colab_type": "code",
        "outputId": "fffa075b-8a7e-4fe5-dc29-4eb01407abb6",
        "colab": {
          "base_uri": "https://localhost:8080/",
          "height": 282
        }
      },
      "cell_type": "code",
      "source": [
        ""
      ],
      "execution_count": 0,
      "outputs": [
        {
          "output_type": "error",
          "ename": "AttributeError",
          "evalue": "ignored",
          "traceback": [
            "\u001b[0;31m---------------------------------------------------------------------------\u001b[0m",
            "\u001b[0;31mAttributeError\u001b[0m                            Traceback (most recent call last)",
            "\u001b[0;32m<ipython-input-66-309869d77edf>\u001b[0m in \u001b[0;36m<module>\u001b[0;34m()\u001b[0m\n\u001b[0;32m----> 1\u001b[0;31m \u001b[0mprint\u001b[0m\u001b[0;34m(\u001b[0m\u001b[0mY_train\u001b[0m\u001b[0;34m.\u001b[0m\u001b[0mcolumns\u001b[0m\u001b[0;34m)\u001b[0m\u001b[0;34m\u001b[0m\u001b[0;34m\u001b[0m\u001b[0m\n\u001b[0m",
            "\u001b[0;32m/usr/local/lib/python3.6/dist-packages/pandas/core/generic.py\u001b[0m in \u001b[0;36m__getattr__\u001b[0;34m(self, name)\u001b[0m\n\u001b[1;32m   3608\u001b[0m         if (name in self._internal_names_set or name in self._metadata or\n\u001b[1;32m   3609\u001b[0m                 name in self._accessors):\n\u001b[0;32m-> 3610\u001b[0;31m             \u001b[0;32mreturn\u001b[0m \u001b[0mobject\u001b[0m\u001b[0;34m.\u001b[0m\u001b[0m__getattribute__\u001b[0m\u001b[0;34m(\u001b[0m\u001b[0mself\u001b[0m\u001b[0;34m,\u001b[0m \u001b[0mname\u001b[0m\u001b[0;34m)\u001b[0m\u001b[0;34m\u001b[0m\u001b[0;34m\u001b[0m\u001b[0m\n\u001b[0m\u001b[1;32m   3611\u001b[0m         \u001b[0;32melse\u001b[0m\u001b[0;34m:\u001b[0m\u001b[0;34m\u001b[0m\u001b[0;34m\u001b[0m\u001b[0m\n\u001b[1;32m   3612\u001b[0m             \u001b[0;32mif\u001b[0m \u001b[0mname\u001b[0m \u001b[0;32min\u001b[0m \u001b[0mself\u001b[0m\u001b[0;34m.\u001b[0m\u001b[0m_info_axis\u001b[0m\u001b[0;34m:\u001b[0m\u001b[0;34m\u001b[0m\u001b[0;34m\u001b[0m\u001b[0m\n",
            "\u001b[0;31mAttributeError\u001b[0m: 'Series' object has no attribute 'columns'"
          ]
        }
      ]
    },
    {
      "metadata": {
        "id": "pqsZZfPV1GXh",
        "colab_type": "code",
        "outputId": "d4b3d15e-d492-473a-d98f-85a4230f84e7",
        "colab": {
          "base_uri": "https://localhost:8080/",
          "height": 391
        }
      },
      "cell_type": "code",
      "source": [
        "X_train['BUZZ'] = Y_train\n",
        "X_train.to_csv(PATH_PREFIX+'data/train_500', sep=',')"
      ],
      "execution_count": 0,
      "outputs": [
        {
          "output_type": "stream",
          "text": [
            "        NCD_0  NCD_1  NCD_2  NCD_3  NCD_4  NCD_5  NCD_6  AI_0  AI_1  AI_2  \\\n",
            "117580     39     37     42     58     37     47     63    24    30    30   \n",
            "75985       2      2      3      5      0      5      5     0     1     3   \n",
            "26003      20     24     22     21     22     21     50    15    18    13   \n",
            "42407      24     13     19     17     25     21     28     7     8    11   \n",
            "96432     563    451    312    384    463    565    565   232   205   154   \n",
            "\n",
            "        ...      ADL_5     ADL_6  NAD_0  NAD_1  NAD_2  NAD_3  NAD_4  NAD_5  \\\n",
            "117580  ...   1.021277  1.079365     39     37     42     58     37     47   \n",
            "75985   ...   1.000000  1.000000      2      2      3      5      0      5   \n",
            "26003   ...   1.000000  1.000000     20     24     22     21     22     21   \n",
            "42407   ...   1.000000  1.392857     24     13     20     17     25     21   \n",
            "96432   ...   1.035273  1.021201    564    453    312    386    463    567   \n",
            "\n",
            "        NAD_6  BUZZ  \n",
            "117580     63   0.0  \n",
            "75985       5   0.0  \n",
            "26003      50   0.0  \n",
            "42407      28   0.0  \n",
            "96432     566   0.0  \n",
            "\n",
            "[5 rows x 78 columns]\n"
          ],
          "name": "stdout"
        }
      ]
    },
    {
      "metadata": {
        "id": "-B4DGgPv2eCZ",
        "colab_type": "code",
        "outputId": "1a1c7c90-33c9-4fd5-fec6-e9a0817d6e20",
        "colab": {
          "base_uri": "https://localhost:8080/",
          "height": 139
        }
      },
      "cell_type": "code",
      "source": [
        "X_test['BUZZ'] = Y_test\n",
        "X_test.to_csv(PATH_PREFIX+'data/test_500', sep=',')"
      ],
      "execution_count": 0,
      "outputs": [
        {
          "output_type": "stream",
          "text": [
            "/usr/local/lib/python3.6/dist-packages/ipykernel_launcher.py:1: SettingWithCopyWarning: \n",
            "A value is trying to be set on a copy of a slice from a DataFrame.\n",
            "Try using .loc[row_indexer,col_indexer] = value instead\n",
            "\n",
            "See the caveats in the documentation: http://pandas.pydata.org/pandas-docs/stable/indexing.html#indexing-view-versus-copy\n",
            "  \"\"\"Entry point for launching an IPython kernel.\n"
          ],
          "name": "stderr"
        }
      ]
    },
    {
      "metadata": {
        "id": "m6hOXWPD2jKx",
        "colab_type": "code",
        "colab": {}
      },
      "cell_type": "code",
      "source": [
        "X_val['BUZZ'] = Y_val\n",
        "X_val.to_csv(PATH_PREFIX+'data/val_500', sep=',')"
      ],
      "execution_count": 0,
      "outputs": []
    },
    {
      "metadata": {
        "id": "DiMzSJ7JzX_Q",
        "colab_type": "code",
        "outputId": "e3d4def8-3813-48b3-f950-e943173480c3",
        "colab": {
          "base_uri": "https://localhost:8080/",
          "height": 85
        }
      },
      "cell_type": "code",
      "source": [
        "print(y_train.value_counts())\n",
        "print(y_train.value_counts()[0]/y_train.value_counts()[1])"
      ],
      "execution_count": 0,
      "outputs": [
        {
          "output_type": "stream",
          "text": [
            "0.0    102844\n",
            "1.0      2686\n",
            "Name: BUZZ, dtype: int64\n",
            "38.28890543559196\n"
          ],
          "name": "stdout"
        }
      ]
    },
    {
      "metadata": {
        "id": "nwx1yRY2x7lh",
        "colab_type": "code",
        "outputId": "25714752-e532-480c-abcd-096b0c8394e4",
        "colab": {
          "base_uri": "https://localhost:8080/",
          "height": 51
        }
      },
      "cell_type": "code",
      "source": [
        "X,Y = np.array(X), np.array(Y)\n",
        "for train_index, test_index in skf.split(X, Y):\n",
        "   print(\"TRAIN:\", train_index, \"TEST:\", test_index)\n",
        "   X_train, X_test = X[train_index], X[test_index]\n",
        "   y_train, y_test = Y[train_index], Y[test_index]\n"
      ],
      "execution_count": 0,
      "outputs": [
        {
          "output_type": "stream",
          "text": [
            "TRAIN: [ 70320  70321  70322 ... 140704 140705 140706] TEST: [    0     1     2 ... 71572 71721 71797]\n",
            "TRAIN: [    0     1     2 ... 71572 71721 71797] TEST: [ 70320  70321  70322 ... 140704 140705 140706]\n"
          ],
          "name": "stdout"
        }
      ]
    },
    {
      "metadata": {
        "id": "nouBPEc0IWBL",
        "colab_type": "code",
        "outputId": "35916e7e-d969-41f2-df9c-f7d5d28c8718",
        "colab": {
          "base_uri": "https://localhost:8080/",
          "height": 68
        }
      },
      "cell_type": "code",
      "source": [
        "Y.value_counts()"
      ],
      "execution_count": 0,
      "outputs": [
        {
          "output_type": "execute_result",
          "data": {
            "text/plain": [
              "0.0    137087\n",
              "1.0      3620\n",
              "Name: BUZZ, dtype: int64"
            ]
          },
          "metadata": {
            "tags": []
          },
          "execution_count": 38
        }
      ]
    },
    {
      "metadata": {
        "id": "a0W8rzNeIWDk",
        "colab_type": "code",
        "colab": {}
      },
      "cell_type": "code",
      "source": [
        ""
      ],
      "execution_count": 0,
      "outputs": []
    },
    {
      "metadata": {
        "id": "qqYgbgXrIWIq",
        "colab_type": "code",
        "colab": {}
      },
      "cell_type": "code",
      "source": [
        ""
      ],
      "execution_count": 0,
      "outputs": []
    },
    {
      "metadata": {
        "id": "xY19-qIoIWLL",
        "colab_type": "code",
        "colab": {}
      },
      "cell_type": "code",
      "source": [
        ""
      ],
      "execution_count": 0,
      "outputs": []
    }
  ]
}