{
  "nbformat": 4,
  "nbformat_minor": 0,
  "metadata": {
    "colab": {
      "name": "data_analysis.ipynb",
      "version": "0.3.2",
      "provenance": [],
      "collapsed_sections": [
        "ZbparqpKACR_",
        "bdEJMhC5yFp0",
        "9GLvwa0hw643",
        "bIj7SQVuqGVy",
        "VNxJb4Qy6Dp1",
        "jTrMQ4iSovwp",
        "MpcoHySbo-bE",
        "Drcpgq47pNhn",
        "m-iQtY295CEA",
        "3CWyQaFoB0WL",
        "WiXC97aYp8-M",
        "ezpakrQKkWKp"
      ],
      "include_colab_link": true
    },
    "kernelspec": {
      "name": "python3",
      "display_name": "Python 3"
    },
    "accelerator": "GPU"
  },
  "cells": [
    {
      "cell_type": "markdown",
      "metadata": {
        "id": "view-in-github",
        "colab_type": "text"
      },
      "source": [
        "<a href=\"https://colab.research.google.com/github/Dianna22/ML/blob/master/SocialMediaBUZZ/data_analysis.ipynb\" target=\"_parent\"><img src=\"https://colab.research.google.com/assets/colab-badge.svg\" alt=\"Open In Colab\"/></a>"
      ]
    },
    {
      "metadata": {
        "id": "AKcncngoIQL-",
        "colab_type": "code",
        "colab": {}
      },
      "cell_type": "code",
      "source": [
        "import pandas as pd\n",
        "import numpy as np\n",
        "import matplotlib.pyplot as plt\n",
        "from sklearn.model_selection import train_test_split\n",
        "from sklearn.decomposition import PCA\n",
        "\n",
        "import matplotlib.pyplot as plt"
      ],
      "execution_count": 0,
      "outputs": []
    },
    {
      "metadata": {
        "id": "XCHiDvUOIczU",
        "colab_type": "code",
        "outputId": "a7b54aec-400c-40d5-de68-f5bd1db70f08",
        "colab": {
          "base_uri": "https://localhost:8080/",
          "height": 121
        }
      },
      "cell_type": "code",
      "source": [
        "from google.colab import drive\n",
        "drive.mount('/content/gdrive')"
      ],
      "execution_count": 0,
      "outputs": [
        {
          "output_type": "stream",
          "text": [
            "Go to this URL in a browser: https://accounts.google.com/o/oauth2/auth?client_id=947318989803-6bn6qk8qdgf4n4g3pfee6491hc0brc4i.apps.googleusercontent.com&redirect_uri=urn%3Aietf%3Awg%3Aoauth%3A2.0%3Aoob&scope=email%20https%3A%2F%2Fwww.googleapis.com%2Fauth%2Fdocs.test%20https%3A%2F%2Fwww.googleapis.com%2Fauth%2Fdrive%20https%3A%2F%2Fwww.googleapis.com%2Fauth%2Fdrive.photos.readonly%20https%3A%2F%2Fwww.googleapis.com%2Fauth%2Fpeopleapi.readonly&response_type=code\n",
            "\n",
            "Enter your authorization code:\n",
            "··········\n",
            "Mounted at /content/gdrive\n"
          ],
          "name": "stdout"
        }
      ]
    },
    {
      "metadata": {
        "id": "7DCy6ItMI4sP",
        "colab_type": "code",
        "colab": {}
      },
      "cell_type": "code",
      "source": [
        "PATH_PREFIX = '/content/gdrive/My Drive/ML/'"
      ],
      "execution_count": 0,
      "outputs": []
    },
    {
      "metadata": {
        "id": "Z3-L1H4c26TP",
        "colab_type": "code",
        "colab": {}
      },
      "cell_type": "code",
      "source": [
        "TWITTER_TRAIN = PATH_PREFIX + \"data/train_500\"\n",
        "TWITTER_TEST = PATH_PREFIX + \"data/test_500\"\n",
        "TWITTER_VAL = PATH_PREFIX + \"data/val_500\""
      ],
      "execution_count": 0,
      "outputs": []
    },
    {
      "metadata": {
        "id": "JmA6CY-bIV2v",
        "colab_type": "code",
        "colab": {}
      },
      "cell_type": "code",
      "source": [
        "TWITTER_RELATIVE_500 = PATH_PREFIX + \"data/Twitter-Relative-Sigma-500.data\"\n",
        "TWITTER_RELATIVE_1000 = PATH_PREFIX + \"data/Twitter-Relative-Sigma-1000.data\"\n",
        "TWITTER_RELATIVE_1500 = PATH_PREFIX + \"data/Twitter-Relative-Sigma-1500.data\""
      ],
      "execution_count": 0,
      "outputs": []
    },
    {
      "metadata": {
        "id": "jBONd5nvIV5i",
        "colab_type": "code",
        "colab": {}
      },
      "cell_type": "code",
      "source": [
        "def load_data(path):\n",
        "\tdata = pd.read_csv(path)\n",
        "\treturn data\n",
        "def load_dataset(path):\n",
        "\tdata = pd.read_csv(path)\n",
        "\treturn data[data.columns[:-1]], data[data.columns[-1]]"
      ],
      "execution_count": 0,
      "outputs": []
    },
    {
      "metadata": {
        "id": "FbVVAZrLJw-n",
        "colab_type": "code",
        "colab": {}
      },
      "cell_type": "code",
      "source": [
        "data = load_data(TWITTER_RELATIVE_500)\n",
        "# data_1000 = load_data(TWITTER_RELATIVE_1000)\n",
        "# data_1500 = load_data(TWITTER_RELATIVE_1500)\n",
        "# data.head()"
      ],
      "execution_count": 0,
      "outputs": []
    },
    {
      "metadata": {
        "id": "NHpXu_u-BWzg",
        "colab_type": "code",
        "colab": {}
      },
      "cell_type": "code",
      "source": [
        "from sklearn.preprocessing import MinMaxScaler, StandardScaler, RobustScaler\n",
        "import seaborn as sns"
      ],
      "execution_count": 0,
      "outputs": []
    },
    {
      "metadata": {
        "id": "ZbparqpKACR_",
        "colab_type": "text"
      },
      "cell_type": "markdown",
      "source": [
        "### Plots of dta distribution"
      ]
    },
    {
      "metadata": {
        "id": "mOG2jLRjBZyC",
        "colab_type": "code",
        "outputId": "11919e3c-c533-489c-8796-b8c97bc74372",
        "colab": {
          "base_uri": "https://localhost:8080/",
          "height": 411
        }
      },
      "cell_type": "code",
      "source": [
        "col =data[data.columns[13]]\n",
        "\n",
        "for col in data.columns[:7]:\n",
        "  sns.distplot(data[col]);"
      ],
      "execution_count": 0,
      "outputs": [
        {
          "output_type": "stream",
          "text": [
            "/usr/local/lib/python3.6/dist-packages/matplotlib/axes/_axes.py:6521: MatplotlibDeprecationWarning: \n",
            "The 'normed' kwarg was deprecated in Matplotlib 2.1 and will be removed in 3.1. Use 'density' instead.\n",
            "  alternative=\"'density'\", removal=\"3.1\")\n"
          ],
          "name": "stderr"
        },
        {
          "output_type": "display_data",
          "data": {
            "image/png": "[encoded data removed]",
            "text/plain": [
              "<Figure size 576x396 with 1 Axes>"
            ]
          },
          "metadata": {
            "tags": []
          }
        }
      ]
    },
    {
      "metadata": {
        "id": "OCn8jje6DI1a",
        "colab_type": "code",
        "outputId": "1482dd02-9781-4c08-fede-e3f27934e7cb",
        "colab": {
          "base_uri": "https://localhost:8080/",
          "height": 411
        }
      },
      "cell_type": "code",
      "source": [
        "col =data[data.columns[13]]\n",
        "\n",
        "for col in data.columns[7:14]:\n",
        "  sns.distplot(data[col]);"
      ],
      "execution_count": 0,
      "outputs": [
        {
          "output_type": "stream",
          "text": [
            "/usr/local/lib/python3.6/dist-packages/matplotlib/axes/_axes.py:6521: MatplotlibDeprecationWarning: \n",
            "The 'normed' kwarg was deprecated in Matplotlib 2.1 and will be removed in 3.1. Use 'density' instead.\n",
            "  alternative=\"'density'\", removal=\"3.1\")\n"
          ],
          "name": "stderr"
        },
        {
          "output_type": "display_data",
          "data": {
            "image/png": "[encoded data removed]",
            "text/plain": [
              "<Figure size 576x396 with 1 Axes>"
            ]
          },
          "metadata": {
            "tags": []
          }
        }
      ]
    },
    {
      "metadata": {
        "id": "jyJmYJEDDOOC",
        "colab_type": "code",
        "outputId": "3442e7ff-97c6-4d97-ab47-b789c23bc2af",
        "colab": {
          "base_uri": "https://localhost:8080/",
          "height": 411
        }
      },
      "cell_type": "code",
      "source": [
        "col =data[data.columns[13]]\n",
        "\n",
        "for col in data.columns[14:21]:\n",
        "  sns.distplot(data[col]);"
      ],
      "execution_count": 0,
      "outputs": [
        {
          "output_type": "stream",
          "text": [
            "/usr/local/lib/python3.6/dist-packages/matplotlib/axes/_axes.py:6521: MatplotlibDeprecationWarning: \n",
            "The 'normed' kwarg was deprecated in Matplotlib 2.1 and will be removed in 3.1. Use 'density' instead.\n",
            "  alternative=\"'density'\", removal=\"3.1\")\n"
          ],
          "name": "stderr"
        },
        {
          "output_type": "display_data",
          "data": {
            "image/png": "[encoded data removed]",
            "text/plain": [
              "<Figure size 576x396 with 1 Axes>"
            ]
          },
          "metadata": {
            "tags": []
          }
        }
      ]
    },
    {
      "metadata": {
        "id": "dlxvuILeDQ-6",
        "colab_type": "code",
        "outputId": "d5287eca-446b-45fa-b287-5e322c796d5b",
        "colab": {
          "base_uri": "https://localhost:8080/",
          "height": 411
        }
      },
      "cell_type": "code",
      "source": [
        "col =data[data.columns[13]]\n",
        "\n",
        "for col in data.columns[21:28]:\n",
        "  sns.distplot(data[col]);"
      ],
      "execution_count": 0,
      "outputs": [
        {
          "output_type": "stream",
          "text": [
            "/usr/local/lib/python3.6/dist-packages/matplotlib/axes/_axes.py:6521: MatplotlibDeprecationWarning: \n",
            "The 'normed' kwarg was deprecated in Matplotlib 2.1 and will be removed in 3.1. Use 'density' instead.\n",
            "  alternative=\"'density'\", removal=\"3.1\")\n"
          ],
          "name": "stderr"
        },
        {
          "output_type": "display_data",
          "data": {
            "image/png": "[encoded data removed]",
            "text/plain": [
              "<Figure size 576x396 with 1 Axes>"
            ]
          },
          "metadata": {
            "tags": []
          }
        }
      ]
    },
    {
      "metadata": {
        "id": "MnuuRvKBDTt6",
        "colab_type": "code",
        "outputId": "8d4d9059-4408-4425-f5f7-c32bc33646c6",
        "colab": {
          "base_uri": "https://localhost:8080/",
          "height": 411
        }
      },
      "cell_type": "code",
      "source": [
        "col =data[data.columns[13]]\n",
        "\n",
        "for col in data.columns[28:35]:\n",
        "  sns.distplot(data[col]);"
      ],
      "execution_count": 0,
      "outputs": [
        {
          "output_type": "stream",
          "text": [
            "/usr/local/lib/python3.6/dist-packages/matplotlib/axes/_axes.py:6521: MatplotlibDeprecationWarning: \n",
            "The 'normed' kwarg was deprecated in Matplotlib 2.1 and will be removed in 3.1. Use 'density' instead.\n",
            "  alternative=\"'density'\", removal=\"3.1\")\n"
          ],
          "name": "stderr"
        },
        {
          "output_type": "display_data",
          "data": {
            "image/png": "[encoded data removed]",
            "text/plain": [
              "<Figure size 576x396 with 1 Axes>"
            ]
          },
          "metadata": {
            "tags": []
          }
        }
      ]
    },
    {
      "metadata": {
        "id": "I3JeRO9aNvBo",
        "colab_type": "code",
        "outputId": "bef8a98a-50ad-404f-a5cf-17a6887583e8",
        "colab": {
          "base_uri": "https://localhost:8080/",
          "height": 34
        }
      },
      "cell_type": "code",
      "source": [
        "col =data[data.columns[13]]\n",
        "\n",
        "scaler = RobustScaler()\n",
        "t = scaler.fit_transform([data[data.columns[35]]])\n",
        "print(t)\n",
        "# for col in data.columns[35:42]:\n",
        "#   sns.distplot(t);\n",
        "  \n",
        "\n",
        "#   print(pd.DataFrame(X_test).describe())"
      ],
      "execution_count": 0,
      "outputs": [
        {
          "output_type": "stream",
          "text": [
            "[[0. 0. 0. ... 0. 0. 0.]]\n"
          ],
          "name": "stdout"
        }
      ]
    },
    {
      "metadata": {
        "id": "KFVzUChXDXc_",
        "colab_type": "code",
        "outputId": "e238bee5-50e3-43b8-e0ca-fe7e74908e5a",
        "colab": {
          "base_uri": "https://localhost:8080/",
          "height": 411
        }
      },
      "cell_type": "code",
      "source": [
        "col =data[data.columns[13]]\n",
        "\n",
        "for col in data.columns[35:42]:\n",
        "  scaler = RobustScaler()\n",
        "  t = scaler.fit_transform(data[col])\n",
        "  sns.distplot(data[col]);\n",
        "  \n",
        "\n",
        "#   print(pd.DataFrame(X_test).describe())"
      ],
      "execution_count": 0,
      "outputs": [
        {
          "output_type": "stream",
          "text": [
            "/usr/local/lib/python3.6/dist-packages/matplotlib/axes/_axes.py:6521: MatplotlibDeprecationWarning: \n",
            "The 'normed' kwarg was deprecated in Matplotlib 2.1 and will be removed in 3.1. Use 'density' instead.\n",
            "  alternative=\"'density'\", removal=\"3.1\")\n"
          ],
          "name": "stderr"
        },
        {
          "output_type": "display_data",
          "data": {
            "image/png": "[encoded data removed]",
            "text/plain": [
              "<Figure size 576x396 with 1 Axes>"
            ]
          },
          "metadata": {
            "tags": []
          }
        }
      ]
    },
    {
      "metadata": {
        "id": "-8tzPwVRDaQG",
        "colab_type": "code",
        "outputId": "2f41cc7d-e5e8-492c-bcfb-a01ae8718641",
        "colab": {
          "base_uri": "https://localhost:8080/",
          "height": 411
        }
      },
      "cell_type": "code",
      "source": [
        "col =data[data.columns[13]]\n",
        "\n",
        "for col in data.columns[42:49]:\n",
        "  sns.distplot(data[col]);"
      ],
      "execution_count": 0,
      "outputs": [
        {
          "output_type": "stream",
          "text": [
            "/usr/local/lib/python3.6/dist-packages/matplotlib/axes/_axes.py:6521: MatplotlibDeprecationWarning: \n",
            "The 'normed' kwarg was deprecated in Matplotlib 2.1 and will be removed in 3.1. Use 'density' instead.\n",
            "  alternative=\"'density'\", removal=\"3.1\")\n"
          ],
          "name": "stderr"
        },
        {
          "output_type": "display_data",
          "data": {
            "image/png": "[encoded data removed]",
            "text/plain": [
              "<Figure size 576x396 with 1 Axes>"
            ]
          },
          "metadata": {
            "tags": []
          }
        }
      ]
    },
    {
      "metadata": {
        "id": "EW6J3XJPDc9M",
        "colab_type": "code",
        "outputId": "81c3c49a-cbfe-4aa0-da67-28e0955eaaa6",
        "colab": {
          "base_uri": "https://localhost:8080/",
          "height": 411
        }
      },
      "cell_type": "code",
      "source": [
        "col =data[data.columns[13]]\n",
        "\n",
        "for col in data.columns[70:]:\n",
        "  sns.distplot(data[col]);"
      ],
      "execution_count": 0,
      "outputs": [
        {
          "output_type": "stream",
          "text": [
            "/usr/local/lib/python3.6/dist-packages/matplotlib/axes/_axes.py:6521: MatplotlibDeprecationWarning: \n",
            "The 'normed' kwarg was deprecated in Matplotlib 2.1 and will be removed in 3.1. Use 'density' instead.\n",
            "  alternative=\"'density'\", removal=\"3.1\")\n"
          ],
          "name": "stderr"
        },
        {
          "output_type": "display_data",
          "data": {
            "image/png": "[encoded data removed]",
            "text/plain": [
              "<Figure size 576x396 with 1 Axes>"
            ]
          },
          "metadata": {
            "tags": []
          }
        }
      ]
    },
    {
      "metadata": {
        "id": "wWgCCZWzA5Lz",
        "colab_type": "code",
        "outputId": "c6934682-419a-4441-c782-a0669caab714",
        "colab": {
          "base_uri": "https://localhost:8080/",
          "height": 286
        }
      },
      "cell_type": "code",
      "source": [
        "col =data[data.columns[13]]\n",
        "plt.plot(range(len(np.array(col))), col)"
      ],
      "execution_count": 0,
      "outputs": [
        {
          "output_type": "execute_result",
          "data": {
            "text/plain": [
              "[<matplotlib.lines.Line2D at 0x7f7fd3eae390>]"
            ]
          },
          "metadata": {
            "tags": []
          },
          "execution_count": 20
        },
        {
          "output_type": "display_data",
          "data": {
            "image/png": "[encoded data removed]",
            "text/plain": [
              "<Figure size 432x288 with 1 Axes>"
            ]
          },
          "metadata": {
            "tags": []
          }
        }
      ]
    },
    {
      "metadata": {
        "id": "JUKkRSc5ABs-",
        "colab_type": "code",
        "outputId": "deaaacac-5018-4dd4-d1da-3dd9b8131a5a",
        "colab": {
          "base_uri": "https://localhost:8080/",
          "height": 269
        }
      },
      "cell_type": "code",
      "source": [
        "plt.figure()\n",
        "plt.hist(data[data.columns[3]], bins=10)\n",
        "plt.show()"
      ],
      "execution_count": 0,
      "outputs": [
        {
          "output_type": "display_data",
          "data": {
            "image/png": "[encoded data removed]",
            "text/plain": [
              "<Figure size 432x288 with 1 Axes>"
            ]
          },
          "metadata": {
            "tags": []
          }
        }
      ]
    },
    {
      "metadata": {
        "id": "bdEJMhC5yFp0",
        "colab_type": "text"
      },
      "cell_type": "markdown",
      "source": [
        "### PCA\n"
      ]
    },
    {
      "metadata": {
        "id": "coM9Jufhyg1l",
        "colab_type": "code",
        "colab": {}
      },
      "cell_type": "code",
      "source": [
        "data_X, data_Y  = data[data.columns[:-1]], data[data.columns[-1]]\n",
        "X_train, X_test, Y_train, Y_test = train_test_split(data_X, data_Y, test_size=0.2, random_state=1)"
      ],
      "execution_count": 0,
      "outputs": []
    },
    {
      "metadata": {
        "id": "MieHfyBxy96f",
        "colab_type": "code",
        "colab": {}
      },
      "cell_type": "code",
      "source": [
        "from sklearn.preprocessing import StandardScaler"
      ],
      "execution_count": 0,
      "outputs": []
    },
    {
      "metadata": {
        "id": "w8A7Ua41y-1B",
        "colab_type": "code",
        "outputId": "0f3331b9-7670-463c-c7a3-5894d5ba9af7",
        "colab": {
          "base_uri": "https://localhost:8080/",
          "height": 138
        }
      },
      "cell_type": "code",
      "source": [
        "scaler = StandardScaler().fit(X_train)\n",
        "X_train = scaler.transform(X_train)\n",
        "X_test = scaler.transform(X_test)"
      ],
      "execution_count": 0,
      "outputs": [
        {
          "output_type": "stream",
          "text": [
            "/usr/local/lib/python3.6/dist-packages/sklearn/preprocessing/data.py:645: DataConversionWarning: Data with input dtype int64, float64 were all converted to float64 by StandardScaler.\n",
            "  return self.partial_fit(X, y)\n",
            "/usr/local/lib/python3.6/dist-packages/ipykernel_launcher.py:2: DataConversionWarning: Data with input dtype int64, float64 were all converted to float64 by StandardScaler.\n",
            "  \n",
            "/usr/local/lib/python3.6/dist-packages/ipykernel_launcher.py:3: DataConversionWarning: Data with input dtype int64, float64 were all converted to float64 by StandardScaler.\n",
            "  This is separate from the ipykernel package so we can avoid doing imports until\n"
          ],
          "name": "stderr"
        }
      ]
    },
    {
      "metadata": {
        "id": "VuQa9MPFyEPg",
        "colab_type": "code",
        "colab": {}
      },
      "cell_type": "code",
      "source": [
        "pca = PCA(n_components='mle', svd_solver='full')"
      ],
      "execution_count": 0,
      "outputs": []
    },
    {
      "metadata": {
        "id": "JqdTtkL8Fmol",
        "colab_type": "code",
        "colab": {}
      },
      "cell_type": "code",
      "source": [
        "pca = PCA(0.95)"
      ],
      "execution_count": 0,
      "outputs": []
    },
    {
      "metadata": {
        "id": "M8wN6pX5yXdB",
        "colab_type": "code",
        "colab": {}
      },
      "cell_type": "code",
      "source": [
        "pca_fitted = pca.fit(X_train)"
      ],
      "execution_count": 0,
      "outputs": []
    },
    {
      "metadata": {
        "id": "kAiZWpeIGyUM",
        "colab_type": "code",
        "outputId": "dd7c69ed-b82d-4dae-f684-fbaf639be26b",
        "colab": {
          "base_uri": "https://localhost:8080/",
          "height": 34
        }
      },
      "cell_type": "code",
      "source": [
        "pca.components_.shape"
      ],
      "execution_count": 0,
      "outputs": [
        {
          "output_type": "execute_result",
          "data": {
            "text/plain": [
              "(17, 77)"
            ]
          },
          "metadata": {
            "tags": []
          },
          "execution_count": 32
        }
      ]
    },
    {
      "metadata": {
        "id": "1_aBIYpXFuG5",
        "colab_type": "code",
        "colab": {}
      },
      "cell_type": "code",
      "source": [
        "transf = pca.transform(X_train)"
      ],
      "execution_count": 0,
      "outputs": []
    },
    {
      "metadata": {
        "id": "rSC2KmX8ty9N",
        "colab_type": "code",
        "outputId": "3817e58c-e4b4-4929-8e02-db1e54c460fa",
        "colab": {
          "base_uri": "https://localhost:8080/",
          "height": 374
        }
      },
      "cell_type": "code",
      "source": [
        "sns.heatmap(np.log(pca_fitted.inverse_transform(np.eye(pca.components_.shape[0]))), cmap=\"hot\", cbar=True,\n",
        "...                  cbar_kws={\"orientation\": \"horizontal\"})"
      ],
      "execution_count": 0,
      "outputs": [
        {
          "output_type": "stream",
          "text": [
            "/usr/local/lib/python3.6/dist-packages/ipykernel_launcher.py:1: RuntimeWarning: invalid value encountered in log\n",
            "  \"\"\"Entry point for launching an IPython kernel.\n"
          ],
          "name": "stderr"
        },
        {
          "output_type": "execute_result",
          "data": {
            "text/plain": [
              "<matplotlib.axes._subplots.AxesSubplot at 0x7f67a9f3fb38>"
            ]
          },
          "metadata": {
            "tags": []
          },
          "execution_count": 35
        },
        {
          "output_type": "display_data",
          "data": {
            "image/png": "[encoded data removed]",
            "text/plain": [
              "<Figure size 576x396 with 2 Axes>"
            ]
          },
          "metadata": {
            "tags": []
          }
        }
      ]
    },
    {
      "metadata": {
        "id": "kb7c3ktuHLCg",
        "colab_type": "code",
        "outputId": "fc1aa5ee-f42c-4865-f0f6-9aaaee8a31f7",
        "colab": {
          "base_uri": "https://localhost:8080/",
          "height": 238
        }
      },
      "cell_type": "code",
      "source": [
        "pca.inverse_transform(transf)"
      ],
      "execution_count": 0,
      "outputs": [
        {
          "output_type": "execute_result",
          "data": {
            "text/plain": [
              "array([[ 0.0965034 ,  0.09894401,  0.26535005, ...,  0.11669592,\n",
              "         0.1389806 ,  0.08629981],\n",
              "       [-0.32193529, -0.30402139, -0.38905518, ..., -0.37063678,\n",
              "        -0.32848771, -0.32177272],\n",
              "       [-0.3404437 , -0.32723134, -0.20270396, ..., -0.38821955,\n",
              "        -0.35035065, -0.3110656 ],\n",
              "       ...,\n",
              "       [-0.05762025, -0.05499595, -0.05631413, ..., -0.05541686,\n",
              "        -0.05479437, -0.053575  ],\n",
              "       [ 0.35981441,  0.35983442,  0.43032001, ...,  0.4253839 ,\n",
              "         0.39925867,  0.31568663],\n",
              "       [-0.31674676, -0.27097064, -0.31550238, ..., -0.41664588,\n",
              "        -0.31867726, -0.27525398]])"
            ]
          },
          "metadata": {
            "tags": []
          },
          "execution_count": 96
        }
      ]
    },
    {
      "metadata": {
        "id": "45z32YMBImfD",
        "colab_type": "code",
        "colab": {}
      },
      "cell_type": "code",
      "source": [
        "import math\n",
        "\n",
        "def get_important_features(transformed_features, components_, columns):\n",
        "    \"\"\"\n",
        "    This function will return the most \"important\" \n",
        "    features so we can determine which have the most\n",
        "    effect on multi-dimensional scaling\n",
        "    \"\"\"\n",
        "    num_columns = len(columns)\n",
        "    vect = []\n",
        "    for indx, comp in enumerate(components_):\n",
        "      vect.append(comp*max(transformed_features[:, indx]))\n",
        "    # Scale the principal components by the max value in\n",
        "    # the transformed set belonging to that component\n",
        "#     xvector = components_[0] * max(transformed_features[:,0])\n",
        "#     yvector = components_[1] * max(transformed_features[:,1])\n",
        "\n",
        "    # Sort each column by it's length. These are your *original*\n",
        "    # columns, not the principal components.\n",
        "#     important_features = { columns[i] : math.sqrt(xvector[i]**2 + yvector[i]**2) for i in range(num_columns) }\n",
        "    \n",
        "    important_features = { columns[i] + \"(\"+ str(i) + \")\" : math.sqrt(sum([vect[inx][i]**2 for inx in range(len(components_))])) for i in range(num_columns) }\n",
        "\n",
        "    important_features = sorted(zip(important_features.values(), important_features.keys()), reverse=True)\n",
        "    print(\"Features by importance:\\n\", important_features)\n",
        "    return important_features"
      ],
      "execution_count": 0,
      "outputs": []
    },
    {
      "metadata": {
        "id": "EOcAK1ALJ9dq",
        "colab_type": "code",
        "colab": {}
      },
      "cell_type": "code",
      "source": [
        "# get_important_features(transf, pca.components_, X_train.columns.values)"
      ],
      "execution_count": 0,
      "outputs": []
    },
    {
      "metadata": {
        "id": "W0qkvhWXIrai",
        "colab_type": "code",
        "outputId": "cdf514f2-5dfe-44ce-a3a5-5915379e80b0",
        "colab": {
          "base_uri": "https://localhost:8080/",
          "height": 182
        }
      },
      "cell_type": "code",
      "source": [
        "imp_f = get_important_features(transf, pca.components_, X_train.columns.values)"
      ],
      "execution_count": 0,
      "outputs": [
        {
          "output_type": "error",
          "ename": "NameError",
          "evalue": "ignored",
          "traceback": [
            "\u001b[0;31m---------------------------------------------------------------------------\u001b[0m",
            "\u001b[0;31mNameError\u001b[0m                                 Traceback (most recent call last)",
            "\u001b[0;32m<ipython-input-3-a91d514c960a>\u001b[0m in \u001b[0;36m<module>\u001b[0;34m()\u001b[0m\n\u001b[0;32m----> 1\u001b[0;31m \u001b[0mimp_f\u001b[0m \u001b[0;34m=\u001b[0m \u001b[0mget_important_features\u001b[0m\u001b[0;34m(\u001b[0m\u001b[0mtransf\u001b[0m\u001b[0;34m,\u001b[0m \u001b[0mpca\u001b[0m\u001b[0;34m.\u001b[0m\u001b[0mcomponents_\u001b[0m\u001b[0;34m,\u001b[0m \u001b[0mX_train\u001b[0m\u001b[0;34m.\u001b[0m\u001b[0mcolumns\u001b[0m\u001b[0;34m.\u001b[0m\u001b[0mvalues\u001b[0m\u001b[0;34m)\u001b[0m\u001b[0;34m\u001b[0m\u001b[0;34m\u001b[0m\u001b[0m\n\u001b[0m",
            "\u001b[0;31mNameError\u001b[0m: name 'transf' is not defined"
          ]
        }
      ]
    },
    {
      "metadata": {
        "id": "AvtV0D4MKMOk",
        "colab_type": "code",
        "colab": {}
      },
      "cell_type": "code",
      "source": [
        "y,x = zip(*imp_f)"
      ],
      "execution_count": 0,
      "outputs": []
    },
    {
      "metadata": {
        "id": "I7bSj3NXL9lH",
        "colab_type": "code",
        "colab": {}
      },
      "cell_type": "code",
      "source": [
        "from matplotlib.pyplot import xticks, yticks"
      ],
      "execution_count": 0,
      "outputs": []
    },
    {
      "metadata": {
        "id": "Qqyb9r_3K180",
        "colab_type": "code",
        "outputId": "78c63e26-4c0d-43e5-8abe-f1b14f227117",
        "colab": {
          "base_uri": "https://localhost:8080/",
          "height": 1139
        }
      },
      "cell_type": "code",
      "source": [
        "plt.figure(figsize=(4,20))\n",
        "plt.plot(y,x)\n",
        "# locs, labels = xticks()           # Get locations and labels\n",
        "\n",
        "# xticks(np.arange(0,77*2,2), x, rotation=45)\n",
        "# locs, labels = xticks()\n",
        "# xticks(np.arange(0, 10, step=2))\n",
        "# yticks(np.arange(0, 10, step=2))\n",
        "\n",
        "# xticks(np.arange(5),x)\n",
        "# yticks(np.arange(5),x)\n",
        "# plt.set_xticklabels(rotation = (45), fontsize = 10, va='bottom', ha='left')\n",
        "# plt.xticks(range(len(x)))\n",
        "plt.plot([max(y), min(y)], ['AI_1','AI_1'], linestyle='--', color='r')\n",
        "\n",
        "plt.xlim(max(y),-1)\n",
        "plt.show()"
      ],
      "execution_count": 0,
      "outputs": [
        {
          "output_type": "display_data",
          "data": {
            "image/png": "[encoded data removed]",
            "text/plain": [
              "<Figure size 288x1440 with 1 Axes>"
            ]
          },
          "metadata": {
            "tags": []
          }
        }
      ]
    },
    {
      "metadata": {
        "id": "DbIzM-2hyrs7",
        "colab_type": "code",
        "outputId": "49d1bd5e-714d-4051-816f-d5599ad89391",
        "colab": {
          "base_uri": "https://localhost:8080/",
          "height": 204
        }
      },
      "cell_type": "code",
      "source": [
        "pd.DataFrame(transf).head()"
      ],
      "execution_count": 0,
      "outputs": [
        {
          "output_type": "execute_result",
          "data": {
            "text/html": [
              "<div>\n",
              "<style scoped>\n",
              "    .dataframe tbody tr th:only-of-type {\n",
              "        vertical-align: middle;\n",
              "    }\n",
              "\n",
              "    .dataframe tbody tr th {\n",
              "        vertical-align: top;\n",
              "    }\n",
              "\n",
              "    .dataframe thead th {\n",
              "        text-align: right;\n",
              "    }\n",
              "</style>\n",
              "<table border=\"1\" class=\"dataframe\">\n",
              "  <thead>\n",
              "    <tr style=\"text-align: right;\">\n",
              "      <th></th>\n",
              "      <th>0</th>\n",
              "      <th>1</th>\n",
              "      <th>2</th>\n",
              "    </tr>\n",
              "  </thead>\n",
              "  <tbody>\n",
              "    <tr>\n",
              "      <th>0</th>\n",
              "      <td>423.401396</td>\n",
              "      <td>-182.260682</td>\n",
              "      <td>-83.758389</td>\n",
              "    </tr>\n",
              "    <tr>\n",
              "      <th>1</th>\n",
              "      <td>-1025.718698</td>\n",
              "      <td>-14.526210</td>\n",
              "      <td>43.462708</td>\n",
              "    </tr>\n",
              "    <tr>\n",
              "      <th>2</th>\n",
              "      <td>-1027.071890</td>\n",
              "      <td>-9.353648</td>\n",
              "      <td>40.977186</td>\n",
              "    </tr>\n",
              "    <tr>\n",
              "      <th>3</th>\n",
              "      <td>384.567983</td>\n",
              "      <td>11.893937</td>\n",
              "      <td>-22.261151</td>\n",
              "    </tr>\n",
              "    <tr>\n",
              "      <th>4</th>\n",
              "      <td>-311.961671</td>\n",
              "      <td>-135.015729</td>\n",
              "      <td>99.245398</td>\n",
              "    </tr>\n",
              "  </tbody>\n",
              "</table>\n",
              "</div>"
            ],
            "text/plain": [
              "             0           1          2\n",
              "0   423.401396 -182.260682 -83.758389\n",
              "1 -1025.718698  -14.526210  43.462708\n",
              "2 -1027.071890   -9.353648  40.977186\n",
              "3   384.567983   11.893937 -22.261151\n",
              "4  -311.961671 -135.015729  99.245398"
            ]
          },
          "metadata": {
            "tags": []
          },
          "execution_count": 208
        }
      ]
    },
    {
      "metadata": {
        "id": "nh6TX5x00NN7",
        "colab_type": "code",
        "colab": {}
      },
      "cell_type": "code",
      "source": [
        "X_train = pca.transform(X_train)"
      ],
      "execution_count": 0,
      "outputs": []
    },
    {
      "metadata": {
        "id": "QYp_1AF80sel",
        "colab_type": "code",
        "outputId": "ea7fa3b3-6ff1-40d2-d0b9-09e82ecaaeba",
        "colab": {
          "base_uri": "https://localhost:8080/",
          "height": 338
        }
      },
      "cell_type": "code",
      "source": [
        "pd.DataFrame(X_train).head()"
      ],
      "execution_count": 0,
      "outputs": [
        {
          "output_type": "execute_result",
          "data": {
            "text/html": [
              "<div>\n",
              "<style scoped>\n",
              "    .dataframe tbody tr th:only-of-type {\n",
              "        vertical-align: middle;\n",
              "    }\n",
              "\n",
              "    .dataframe tbody tr th {\n",
              "        vertical-align: top;\n",
              "    }\n",
              "\n",
              "    .dataframe thead th {\n",
              "        text-align: right;\n",
              "    }\n",
              "</style>\n",
              "<table border=\"1\" class=\"dataframe\">\n",
              "  <thead>\n",
              "    <tr style=\"text-align: right;\">\n",
              "      <th></th>\n",
              "      <th>0</th>\n",
              "      <th>1</th>\n",
              "      <th>2</th>\n",
              "      <th>3</th>\n",
              "      <th>4</th>\n",
              "      <th>5</th>\n",
              "      <th>6</th>\n",
              "      <th>7</th>\n",
              "      <th>8</th>\n",
              "      <th>9</th>\n",
              "      <th>...</th>\n",
              "      <th>65</th>\n",
              "      <th>66</th>\n",
              "      <th>67</th>\n",
              "      <th>68</th>\n",
              "      <th>69</th>\n",
              "      <th>70</th>\n",
              "      <th>71</th>\n",
              "      <th>72</th>\n",
              "      <th>73</th>\n",
              "      <th>74</th>\n",
              "    </tr>\n",
              "  </thead>\n",
              "  <tbody>\n",
              "    <tr>\n",
              "      <th>0</th>\n",
              "      <td>0.944309</td>\n",
              "      <td>-0.969824</td>\n",
              "      <td>0.135032</td>\n",
              "      <td>0.375094</td>\n",
              "      <td>0.936801</td>\n",
              "      <td>0.145128</td>\n",
              "      <td>-0.719932</td>\n",
              "      <td>-2.299265</td>\n",
              "      <td>0.342068</td>\n",
              "      <td>0.029399</td>\n",
              "      <td>...</td>\n",
              "      <td>-0.013732</td>\n",
              "      <td>0.014512</td>\n",
              "      <td>0.004528</td>\n",
              "      <td>-0.009472</td>\n",
              "      <td>-0.007360</td>\n",
              "      <td>0.001594</td>\n",
              "      <td>0.000274</td>\n",
              "      <td>6.871964e-04</td>\n",
              "      <td>0.000220</td>\n",
              "      <td>0.001695</td>\n",
              "    </tr>\n",
              "    <tr>\n",
              "      <th>1</th>\n",
              "      <td>-2.922515</td>\n",
              "      <td>-6.100827</td>\n",
              "      <td>1.612923</td>\n",
              "      <td>-5.420192</td>\n",
              "      <td>0.345898</td>\n",
              "      <td>3.696470</td>\n",
              "      <td>-0.963231</td>\n",
              "      <td>-1.167729</td>\n",
              "      <td>-0.008099</td>\n",
              "      <td>0.480320</td>\n",
              "      <td>...</td>\n",
              "      <td>0.000746</td>\n",
              "      <td>0.000024</td>\n",
              "      <td>0.000391</td>\n",
              "      <td>0.000242</td>\n",
              "      <td>0.000063</td>\n",
              "      <td>0.000097</td>\n",
              "      <td>0.000014</td>\n",
              "      <td>-9.386306e-07</td>\n",
              "      <td>0.000039</td>\n",
              "      <td>0.000013</td>\n",
              "    </tr>\n",
              "    <tr>\n",
              "      <th>2</th>\n",
              "      <td>-2.912378</td>\n",
              "      <td>-6.060121</td>\n",
              "      <td>1.177363</td>\n",
              "      <td>5.169888</td>\n",
              "      <td>1.421165</td>\n",
              "      <td>-0.348078</td>\n",
              "      <td>0.523085</td>\n",
              "      <td>0.017562</td>\n",
              "      <td>-0.061073</td>\n",
              "      <td>-0.401991</td>\n",
              "      <td>...</td>\n",
              "      <td>-0.000684</td>\n",
              "      <td>0.000010</td>\n",
              "      <td>-0.000182</td>\n",
              "      <td>0.000615</td>\n",
              "      <td>-0.000260</td>\n",
              "      <td>0.000074</td>\n",
              "      <td>0.000013</td>\n",
              "      <td>-4.218237e-05</td>\n",
              "      <td>0.000015</td>\n",
              "      <td>-0.000066</td>\n",
              "    </tr>\n",
              "    <tr>\n",
              "      <th>3</th>\n",
              "      <td>1.264940</td>\n",
              "      <td>1.021405</td>\n",
              "      <td>-0.414696</td>\n",
              "      <td>-0.084142</td>\n",
              "      <td>0.064231</td>\n",
              "      <td>-0.104446</td>\n",
              "      <td>-0.053183</td>\n",
              "      <td>-0.023678</td>\n",
              "      <td>0.245235</td>\n",
              "      <td>-0.023296</td>\n",
              "      <td>...</td>\n",
              "      <td>-0.005065</td>\n",
              "      <td>0.007040</td>\n",
              "      <td>0.006234</td>\n",
              "      <td>-0.003990</td>\n",
              "      <td>0.002419</td>\n",
              "      <td>-0.000214</td>\n",
              "      <td>0.001004</td>\n",
              "      <td>1.366404e-03</td>\n",
              "      <td>-0.001388</td>\n",
              "      <td>0.001705</td>\n",
              "    </tr>\n",
              "    <tr>\n",
              "      <th>4</th>\n",
              "      <td>-0.460729</td>\n",
              "      <td>1.047115</td>\n",
              "      <td>-0.651524</td>\n",
              "      <td>-0.076755</td>\n",
              "      <td>-0.014866</td>\n",
              "      <td>-0.131185</td>\n",
              "      <td>-0.035446</td>\n",
              "      <td>-0.024636</td>\n",
              "      <td>-0.046226</td>\n",
              "      <td>0.015820</td>\n",
              "      <td>...</td>\n",
              "      <td>0.010141</td>\n",
              "      <td>0.002995</td>\n",
              "      <td>-0.000578</td>\n",
              "      <td>-0.004348</td>\n",
              "      <td>-0.004316</td>\n",
              "      <td>0.000014</td>\n",
              "      <td>0.000036</td>\n",
              "      <td>-9.169595e-04</td>\n",
              "      <td>-0.000615</td>\n",
              "      <td>0.000541</td>\n",
              "    </tr>\n",
              "  </tbody>\n",
              "</table>\n",
              "<p>5 rows × 75 columns</p>\n",
              "</div>"
            ],
            "text/plain": [
              "         0         1         2         3         4         5         6   \\\n",
              "0  0.944309 -0.969824  0.135032  0.375094  0.936801  0.145128 -0.719932   \n",
              "1 -2.922515 -6.100827  1.612923 -5.420192  0.345898  3.696470 -0.963231   \n",
              "2 -2.912378 -6.060121  1.177363  5.169888  1.421165 -0.348078  0.523085   \n",
              "3  1.264940  1.021405 -0.414696 -0.084142  0.064231 -0.104446 -0.053183   \n",
              "4 -0.460729  1.047115 -0.651524 -0.076755 -0.014866 -0.131185 -0.035446   \n",
              "\n",
              "         7         8         9     ...           65        66        67  \\\n",
              "0 -2.299265  0.342068  0.029399    ...    -0.013732  0.014512  0.004528   \n",
              "1 -1.167729 -0.008099  0.480320    ...     0.000746  0.000024  0.000391   \n",
              "2  0.017562 -0.061073 -0.401991    ...    -0.000684  0.000010 -0.000182   \n",
              "3 -0.023678  0.245235 -0.023296    ...    -0.005065  0.007040  0.006234   \n",
              "4 -0.024636 -0.046226  0.015820    ...     0.010141  0.002995 -0.000578   \n",
              "\n",
              "         68        69        70        71            72        73        74  \n",
              "0 -0.009472 -0.007360  0.001594  0.000274  6.871964e-04  0.000220  0.001695  \n",
              "1  0.000242  0.000063  0.000097  0.000014 -9.386306e-07  0.000039  0.000013  \n",
              "2  0.000615 -0.000260  0.000074  0.000013 -4.218237e-05  0.000015 -0.000066  \n",
              "3 -0.003990  0.002419 -0.000214  0.001004  1.366404e-03 -0.001388  0.001705  \n",
              "4 -0.004348 -0.004316  0.000014  0.000036 -9.169595e-04 -0.000615  0.000541  \n",
              "\n",
              "[5 rows x 75 columns]"
            ]
          },
          "metadata": {
            "tags": []
          },
          "execution_count": 44
        }
      ]
    },
    {
      "metadata": {
        "id": "9GLvwa0hw643",
        "colab_type": "text"
      },
      "cell_type": "markdown",
      "source": [
        "## Attributes"
      ]
    },
    {
      "metadata": {
        "id": "bIj7SQVuqGVy",
        "colab_type": "text"
      },
      "cell_type": "markdown",
      "source": [
        "##### Data column and frame head"
      ]
    },
    {
      "metadata": {
        "id": "b4X3UvxjPTlD",
        "colab_type": "code",
        "outputId": "6a7a76f1-86de-400b-d7a4-ac5321a2b0b6",
        "colab": {
          "base_uri": "https://localhost:8080/",
          "height": 221
        }
      },
      "cell_type": "code",
      "source": [
        "data.columns"
      ],
      "execution_count": 0,
      "outputs": [
        {
          "output_type": "execute_result",
          "data": {
            "text/plain": [
              "Index(['NCD_0', 'NCD_1', 'NCD_2', 'NCD_3', 'NCD_4', 'NCD_5', 'NCD_6', 'AI_0',\n",
              "       'AI_1', 'AI_2', 'AI_3', 'AI_4', 'AI_5', 'AI_6', 'AS(NA)_0', 'AS(NA)_1',\n",
              "       'AS(NA)_2', 'AS(NA)_3', 'AS(NA)_4', 'AS(NA)_5', 'AS(NA)_6', 'BL_0',\n",
              "       'BL_1', 'BL_2', 'BL_3', 'BL_4', 'BL_5', 'BL_6', 'NAC_0', 'NAC_1',\n",
              "       'NAC_2', 'NAC_3', 'NAC_4', 'NAC_5', 'NAC_6', 'AS(NAC)_0', 'AS(NAC)_1',\n",
              "       'AS(NAC)_2', 'AS(NAC)_3', 'AS(NAC)_4', 'AS(NAC)_5', 'AS(NAC)_6', 'CS_0',\n",
              "       'CS_1', 'CS_2', 'CS_3', 'CS_4', 'CS_5', 'CS_6', 'AT_0', 'AT_1', 'AT_2',\n",
              "       'AT_3', 'AT_4', 'AT_5', 'AT_6', 'NA_0', 'NA_1', 'NA_2', 'NA_3', 'NA_4',\n",
              "       'NA_5', 'NA_6', 'ADL_0', 'ADL_1', 'ADL_2', 'ADL_3', 'ADL_4', 'ADL_5',\n",
              "       'ADL_6', 'NAD_0', 'NAD_1', 'NAD_2', 'NAD_3', 'NAD_4', 'NAD_5', 'NAD_6',\n",
              "       'BUZZ'],\n",
              "      dtype='object')"
            ]
          },
          "metadata": {
            "tags": []
          },
          "execution_count": 18
        }
      ]
    },
    {
      "metadata": {
        "id": "e5dzYlGtPO02",
        "colab_type": "code",
        "outputId": "8c74bc03-bfe9-4cff-c886-e839c2e5c789",
        "colab": {
          "base_uri": "https://localhost:8080/",
          "height": 68
        }
      },
      "cell_type": "code",
      "source": [
        "pd.Series(data_500['BUZZ'].value_counts())\n",
        "pd.Series(data_1000['BUZZ'].value_counts())"
      ],
      "execution_count": 0,
      "outputs": [
        {
          "output_type": "execute_result",
          "data": {
            "text/plain": [
              "0.0    137087\n",
              "1.0      3620\n",
              "Name: BUZZ, dtype: int64"
            ]
          },
          "metadata": {
            "tags": []
          },
          "execution_count": 29
        }
      ]
    },
    {
      "metadata": {
        "id": "UqOmDc8_Tyqe",
        "colab_type": "code",
        "outputId": "eae639ae-7779-444b-8747-6dda070c7ab6",
        "colab": {
          "base_uri": "https://localhost:8080/",
          "height": 68
        }
      },
      "cell_type": "code",
      "source": [
        ""
      ],
      "execution_count": 0,
      "outputs": [
        {
          "output_type": "execute_result",
          "data": {
            "text/plain": [
              "0.0    139530\n",
              "1.0      1177\n",
              "Name: BUZZ, dtype: int64"
            ]
          },
          "metadata": {
            "tags": []
          },
          "execution_count": 30
        }
      ]
    },
    {
      "metadata": {
        "id": "ojZsSi9_T1Kq",
        "colab_type": "code",
        "outputId": "df6fc54f-aba5-4910-e348-ffe3f2747d4e",
        "colab": {
          "base_uri": "https://localhost:8080/",
          "height": 68
        }
      },
      "cell_type": "code",
      "source": [
        "pd.Series(data_1500['BUZZ'].value_counts())"
      ],
      "execution_count": 0,
      "outputs": [
        {
          "output_type": "execute_result",
          "data": {
            "text/plain": [
              "0.0    140219\n",
              "1.0       488\n",
              "Name: BUZZ, dtype: int64"
            ]
          },
          "metadata": {
            "tags": []
          },
          "execution_count": 31
        }
      ]
    },
    {
      "metadata": {
        "id": "4hDQB6X9IV8K",
        "colab_type": "code",
        "outputId": "922c317d-9abc-4677-e9cb-be26a61b5c3c",
        "colab": {
          "base_uri": "https://localhost:8080/",
          "height": 446
        }
      },
      "cell_type": "code",
      "source": [
        "df=data_500['BUZZ'].value_counts()\n",
        "df.index = ['non-buzz', 'buzz']\n",
        "print(df)\n",
        "ax=df.plot(kind='bar')\n",
        "x_offset = -0.03\n",
        "y_offset = 0.02\n",
        "vals = list(df)\n",
        "for i,p in enumerate(ax.patches):\n",
        "    b = p.get_bbox()\n",
        "    val = vals[i]\n",
        "    ax.annotate(val, ((b.x0 + b.x1)/2 + x_offset, b.y1 + y_offset))"
      ],
      "execution_count": 0,
      "outputs": [
        {
          "output_type": "stream",
          "text": [
            "non-buzz    137087\n",
            "buzz          3620\n",
            "Name: BUZZ, dtype: int64\n",
            "137087\n"
          ],
          "name": "stdout"
        },
        {
          "output_type": "display_data",
          "data": {
            "image/png": "[encoded data removed]",
            "text/plain": [
              "<Figure size 576x396 with 1 Axes>"
            ]
          },
          "metadata": {
            "tags": []
          }
        }
      ]
    },
    {
      "metadata": {
        "id": "bg7w9F2Dxsll",
        "colab_type": "code",
        "outputId": "b719ac9d-9b9b-46df-b678-37f33883dbec",
        "colab": {
          "base_uri": "https://localhost:8080/",
          "height": 119
        }
      },
      "cell_type": "code",
      "source": [
        "data_500[data_500.columns[-1]].head()"
      ],
      "execution_count": 0,
      "outputs": [
        {
          "output_type": "execute_result",
          "data": {
            "text/plain": [
              "0    0.0\n",
              "1    1.0\n",
              "2    0.0\n",
              "3    0.0\n",
              "4    1.0\n",
              "Name: BUZZ, dtype: float64"
            ]
          },
          "metadata": {
            "tags": []
          },
          "execution_count": 32
        }
      ]
    },
    {
      "metadata": {
        "id": "GhMg_UgO6DdS",
        "colab_type": "code",
        "outputId": "d6fda80c-e814-4caa-9ee5-f71b911fdf5d",
        "colab": {
          "base_uri": "https://localhost:8080/",
          "height": 346
        }
      },
      "cell_type": "code",
      "source": [
        "data_500.describe()"
      ],
      "execution_count": 0,
      "outputs": [
        {
          "output_type": "execute_result",
          "data": {
            "text/html": [
              "<div>\n",
              "<style scoped>\n",
              "    .dataframe tbody tr th:only-of-type {\n",
              "        vertical-align: middle;\n",
              "    }\n",
              "\n",
              "    .dataframe tbody tr th {\n",
              "        vertical-align: top;\n",
              "    }\n",
              "\n",
              "    .dataframe thead th {\n",
              "        text-align: right;\n",
              "    }\n",
              "</style>\n",
              "<table border=\"1\" class=\"dataframe\">\n",
              "  <thead>\n",
              "    <tr style=\"text-align: right;\">\n",
              "      <th></th>\n",
              "      <th>NCD_0</th>\n",
              "      <th>NCD_1</th>\n",
              "      <th>NCD_2</th>\n",
              "      <th>NCD_3</th>\n",
              "      <th>NCD_4</th>\n",
              "      <th>NCD_5</th>\n",
              "      <th>NCD_6</th>\n",
              "      <th>AI_0</th>\n",
              "      <th>AI_1</th>\n",
              "      <th>AI_2</th>\n",
              "      <th>...</th>\n",
              "      <th>ADL_5</th>\n",
              "      <th>ADL_6</th>\n",
              "      <th>NAD_0</th>\n",
              "      <th>NAD_1</th>\n",
              "      <th>NAD_2</th>\n",
              "      <th>NAD_3</th>\n",
              "      <th>NAD_4</th>\n",
              "      <th>NAD_5</th>\n",
              "      <th>NAD_6</th>\n",
              "      <th>BUZZ</th>\n",
              "    </tr>\n",
              "  </thead>\n",
              "  <tbody>\n",
              "    <tr>\n",
              "      <th>count</th>\n",
              "      <td>140707.000000</td>\n",
              "      <td>140707.000000</td>\n",
              "      <td>140707.000000</td>\n",
              "      <td>140707.000000</td>\n",
              "      <td>140707.000000</td>\n",
              "      <td>140707.000000</td>\n",
              "      <td>140707.000000</td>\n",
              "      <td>140707.000000</td>\n",
              "      <td>140707.000000</td>\n",
              "      <td>140707.000000</td>\n",
              "      <td>...</td>\n",
              "      <td>140707.000000</td>\n",
              "      <td>140707.000000</td>\n",
              "      <td>140707.000000</td>\n",
              "      <td>140707.000000</td>\n",
              "      <td>140707.000000</td>\n",
              "      <td>140707.000000</td>\n",
              "      <td>140707.000000</td>\n",
              "      <td>140707.000000</td>\n",
              "      <td>140707.000000</td>\n",
              "      <td>140707.000000</td>\n",
              "    </tr>\n",
              "    <tr>\n",
              "      <th>mean</th>\n",
              "      <td>172.279823</td>\n",
              "      <td>155.150625</td>\n",
              "      <td>165.464476</td>\n",
              "      <td>176.820549</td>\n",
              "      <td>186.937700</td>\n",
              "      <td>216.209208</td>\n",
              "      <td>243.866510</td>\n",
              "      <td>87.050154</td>\n",
              "      <td>78.639236</td>\n",
              "      <td>84.269574</td>\n",
              "      <td>...</td>\n",
              "      <td>1.113444</td>\n",
              "      <td>1.196131</td>\n",
              "      <td>172.838807</td>\n",
              "      <td>155.630878</td>\n",
              "      <td>165.938674</td>\n",
              "      <td>177.314810</td>\n",
              "      <td>187.463794</td>\n",
              "      <td>216.776294</td>\n",
              "      <td>244.479194</td>\n",
              "      <td>0.025727</td>\n",
              "    </tr>\n",
              "    <tr>\n",
              "      <th>std</th>\n",
              "      <td>509.872276</td>\n",
              "      <td>471.573236</td>\n",
              "      <td>495.360236</td>\n",
              "      <td>528.351277</td>\n",
              "      <td>560.331281</td>\n",
              "      <td>632.188378</td>\n",
              "      <td>707.402192</td>\n",
              "      <td>234.731748</td>\n",
              "      <td>218.448179</td>\n",
              "      <td>233.536510</td>\n",
              "      <td>...</td>\n",
              "      <td>1.374287</td>\n",
              "      <td>1.826150</td>\n",
              "      <td>510.937549</td>\n",
              "      <td>472.462733</td>\n",
              "      <td>496.233557</td>\n",
              "      <td>529.286514</td>\n",
              "      <td>561.309487</td>\n",
              "      <td>633.203935</td>\n",
              "      <td>708.436795</td>\n",
              "      <td>0.158321</td>\n",
              "    </tr>\n",
              "    <tr>\n",
              "      <th>min</th>\n",
              "      <td>0.000000</td>\n",
              "      <td>0.000000</td>\n",
              "      <td>0.000000</td>\n",
              "      <td>0.000000</td>\n",
              "      <td>0.000000</td>\n",
              "      <td>0.000000</td>\n",
              "      <td>0.000000</td>\n",
              "      <td>0.000000</td>\n",
              "      <td>0.000000</td>\n",
              "      <td>0.000000</td>\n",
              "      <td>...</td>\n",
              "      <td>0.000000</td>\n",
              "      <td>0.000000</td>\n",
              "      <td>0.000000</td>\n",
              "      <td>0.000000</td>\n",
              "      <td>0.000000</td>\n",
              "      <td>0.000000</td>\n",
              "      <td>0.000000</td>\n",
              "      <td>0.000000</td>\n",
              "      <td>0.000000</td>\n",
              "      <td>0.000000</td>\n",
              "    </tr>\n",
              "    <tr>\n",
              "      <th>25%</th>\n",
              "      <td>3.000000</td>\n",
              "      <td>2.000000</td>\n",
              "      <td>3.000000</td>\n",
              "      <td>3.000000</td>\n",
              "      <td>3.000000</td>\n",
              "      <td>4.000000</td>\n",
              "      <td>5.000000</td>\n",
              "      <td>2.000000</td>\n",
              "      <td>2.000000</td>\n",
              "      <td>2.000000</td>\n",
              "      <td>...</td>\n",
              "      <td>1.000000</td>\n",
              "      <td>1.000000</td>\n",
              "      <td>3.000000</td>\n",
              "      <td>2.000000</td>\n",
              "      <td>3.000000</td>\n",
              "      <td>3.000000</td>\n",
              "      <td>3.000000</td>\n",
              "      <td>4.000000</td>\n",
              "      <td>6.000000</td>\n",
              "      <td>0.000000</td>\n",
              "    </tr>\n",
              "    <tr>\n",
              "      <th>50%</th>\n",
              "      <td>22.000000</td>\n",
              "      <td>19.000000</td>\n",
              "      <td>20.000000</td>\n",
              "      <td>22.000000</td>\n",
              "      <td>23.000000</td>\n",
              "      <td>28.000000</td>\n",
              "      <td>33.000000</td>\n",
              "      <td>13.000000</td>\n",
              "      <td>11.000000</td>\n",
              "      <td>13.000000</td>\n",
              "      <td>...</td>\n",
              "      <td>1.000000</td>\n",
              "      <td>1.000000</td>\n",
              "      <td>22.000000</td>\n",
              "      <td>19.000000</td>\n",
              "      <td>21.000000</td>\n",
              "      <td>22.000000</td>\n",
              "      <td>23.000000</td>\n",
              "      <td>28.000000</td>\n",
              "      <td>33.000000</td>\n",
              "      <td>0.000000</td>\n",
              "    </tr>\n",
              "    <tr>\n",
              "      <th>75%</th>\n",
              "      <td>125.000000</td>\n",
              "      <td>112.000000</td>\n",
              "      <td>119.000000</td>\n",
              "      <td>126.000000</td>\n",
              "      <td>133.000000</td>\n",
              "      <td>161.000000</td>\n",
              "      <td>186.000000</td>\n",
              "      <td>70.000000</td>\n",
              "      <td>64.000000</td>\n",
              "      <td>67.000000</td>\n",
              "      <td>...</td>\n",
              "      <td>1.100000</td>\n",
              "      <td>1.119048</td>\n",
              "      <td>126.000000</td>\n",
              "      <td>113.000000</td>\n",
              "      <td>119.000000</td>\n",
              "      <td>127.000000</td>\n",
              "      <td>134.000000</td>\n",
              "      <td>162.000000</td>\n",
              "      <td>187.000000</td>\n",
              "      <td>0.000000</td>\n",
              "    </tr>\n",
              "    <tr>\n",
              "      <th>max</th>\n",
              "      <td>24210.000000</td>\n",
              "      <td>22899.000000</td>\n",
              "      <td>20495.000000</td>\n",
              "      <td>27007.000000</td>\n",
              "      <td>30957.000000</td>\n",
              "      <td>28603.000000</td>\n",
              "      <td>37505.000000</td>\n",
              "      <td>15105.000000</td>\n",
              "      <td>15730.000000</td>\n",
              "      <td>16389.000000</td>\n",
              "      <td>...</td>\n",
              "      <td>185.666672</td>\n",
              "      <td>295.000000</td>\n",
              "      <td>24301.000000</td>\n",
              "      <td>22980.000000</td>\n",
              "      <td>20495.000000</td>\n",
              "      <td>27071.000000</td>\n",
              "      <td>31028.000000</td>\n",
              "      <td>28697.000000</td>\n",
              "      <td>37505.000000</td>\n",
              "      <td>1.000000</td>\n",
              "    </tr>\n",
              "  </tbody>\n",
              "</table>\n",
              "<p>8 rows × 78 columns</p>\n",
              "</div>"
            ],
            "text/plain": [
              "               NCD_0          NCD_1          NCD_2          NCD_3  \\\n",
              "count  140707.000000  140707.000000  140707.000000  140707.000000   \n",
              "mean      172.279823     155.150625     165.464476     176.820549   \n",
              "std       509.872276     471.573236     495.360236     528.351277   \n",
              "min         0.000000       0.000000       0.000000       0.000000   \n",
              "25%         3.000000       2.000000       3.000000       3.000000   \n",
              "50%        22.000000      19.000000      20.000000      22.000000   \n",
              "75%       125.000000     112.000000     119.000000     126.000000   \n",
              "max     24210.000000   22899.000000   20495.000000   27007.000000   \n",
              "\n",
              "               NCD_4          NCD_5          NCD_6           AI_0  \\\n",
              "count  140707.000000  140707.000000  140707.000000  140707.000000   \n",
              "mean      186.937700     216.209208     243.866510      87.050154   \n",
              "std       560.331281     632.188378     707.402192     234.731748   \n",
              "min         0.000000       0.000000       0.000000       0.000000   \n",
              "25%         3.000000       4.000000       5.000000       2.000000   \n",
              "50%        23.000000      28.000000      33.000000      13.000000   \n",
              "75%       133.000000     161.000000     186.000000      70.000000   \n",
              "max     30957.000000   28603.000000   37505.000000   15105.000000   \n",
              "\n",
              "                AI_1           AI_2      ...                ADL_5  \\\n",
              "count  140707.000000  140707.000000      ...        140707.000000   \n",
              "mean       78.639236      84.269574      ...             1.113444   \n",
              "std       218.448179     233.536510      ...             1.374287   \n",
              "min         0.000000       0.000000      ...             0.000000   \n",
              "25%         2.000000       2.000000      ...             1.000000   \n",
              "50%        11.000000      13.000000      ...             1.000000   \n",
              "75%        64.000000      67.000000      ...             1.100000   \n",
              "max     15730.000000   16389.000000      ...           185.666672   \n",
              "\n",
              "               ADL_6          NAD_0          NAD_1          NAD_2  \\\n",
              "count  140707.000000  140707.000000  140707.000000  140707.000000   \n",
              "mean        1.196131     172.838807     155.630878     165.938674   \n",
              "std         1.826150     510.937549     472.462733     496.233557   \n",
              "min         0.000000       0.000000       0.000000       0.000000   \n",
              "25%         1.000000       3.000000       2.000000       3.000000   \n",
              "50%         1.000000      22.000000      19.000000      21.000000   \n",
              "75%         1.119048     126.000000     113.000000     119.000000   \n",
              "max       295.000000   24301.000000   22980.000000   20495.000000   \n",
              "\n",
              "               NAD_3          NAD_4          NAD_5          NAD_6  \\\n",
              "count  140707.000000  140707.000000  140707.000000  140707.000000   \n",
              "mean      177.314810     187.463794     216.776294     244.479194   \n",
              "std       529.286514     561.309487     633.203935     708.436795   \n",
              "min         0.000000       0.000000       0.000000       0.000000   \n",
              "25%         3.000000       3.000000       4.000000       6.000000   \n",
              "50%        22.000000      23.000000      28.000000      33.000000   \n",
              "75%       127.000000     134.000000     162.000000     187.000000   \n",
              "max     27071.000000   31028.000000   28697.000000   37505.000000   \n",
              "\n",
              "                BUZZ  \n",
              "count  140707.000000  \n",
              "mean        0.025727  \n",
              "std         0.158321  \n",
              "min         0.000000  \n",
              "25%         0.000000  \n",
              "50%         0.000000  \n",
              "75%         0.000000  \n",
              "max         1.000000  \n",
              "\n",
              "[8 rows x 78 columns]"
            ]
          },
          "metadata": {
            "tags": []
          },
          "execution_count": 78
        }
      ]
    },
    {
      "metadata": {
        "id": "VNxJb4Qy6Dp1",
        "colab_type": "text"
      },
      "cell_type": "markdown",
      "source": [
        "##### Number of created discussions\n"
      ]
    },
    {
      "metadata": {
        "id": "xUvfQtmI4yCn",
        "colab_type": "code",
        "outputId": "e66bb3b2-00a2-41dc-e7ac-d1601d086e7c",
        "colab": {
          "base_uri": "https://localhost:8080/",
          "height": 153
        }
      },
      "cell_type": "code",
      "source": [
        "data_500.filter(regex='NCD_?').loc[data_500['BUZZ']==1].describe().diff(axis=1).fillna(0).iloc[1]"
      ],
      "execution_count": 0,
      "outputs": [
        {
          "output_type": "execute_result",
          "data": {
            "text/plain": [
              "NCD_0      0.000000\n",
              "NCD_1   -193.096409\n",
              "NCD_2     58.176796\n",
              "NCD_3    111.170166\n",
              "NCD_4    166.343646\n",
              "NCD_5    259.040055\n",
              "NCD_6    436.054144\n",
              "Name: mean, dtype: float64"
            ]
          },
          "metadata": {
            "tags": []
          },
          "execution_count": 136
        }
      ]
    },
    {
      "metadata": {
        "id": "7VYWOACOIn51",
        "colab_type": "code",
        "outputId": "44919868-60b5-4fae-b3c7-dc7108153d2e",
        "colab": {
          "base_uri": "https://localhost:8080/",
          "height": 163
        }
      },
      "cell_type": "code",
      "source": [
        "data_500.filter(regex='NCD_?').loc[data_500['BUZZ']==1].diff(axis=1).fillna(0).describe().iloc[1]\n"
      ],
      "execution_count": 0,
      "outputs": [
        {
          "output_type": "execute_result",
          "data": {
            "text/plain": [
              "NCD_0      0.000000\n",
              "NCD_1   -193.096409\n",
              "NCD_2     58.176796\n",
              "NCD_3    111.170166\n",
              "NCD_4    166.343646\n",
              "NCD_5    259.040055\n",
              "NCD_6    436.054144\n",
              "Name: mean, dtype: float64"
            ]
          },
          "metadata": {
            "tags": []
          },
          "execution_count": 137
        }
      ]
    },
    {
      "metadata": {
        "id": "_zNlEQPp6hiN",
        "colab_type": "code",
        "outputId": "cda40446-aa42-477c-dddd-fca09cefb2df",
        "colab": {
          "base_uri": "https://localhost:8080/",
          "height": 308
        }
      },
      "cell_type": "code",
      "source": [
        "data_500.filter(regex='NCD_?').loc[data_500['BUZZ']==0].describe()"
      ],
      "execution_count": 0,
      "outputs": [
        {
          "output_type": "execute_result",
          "data": {
            "text/html": [
              "<div>\n",
              "<style scoped>\n",
              "    .dataframe tbody tr th:only-of-type {\n",
              "        vertical-align: middle;\n",
              "    }\n",
              "\n",
              "    .dataframe tbody tr th {\n",
              "        vertical-align: top;\n",
              "    }\n",
              "\n",
              "    .dataframe thead th {\n",
              "        text-align: right;\n",
              "    }\n",
              "</style>\n",
              "<table border=\"1\" class=\"dataframe\">\n",
              "  <thead>\n",
              "    <tr style=\"text-align: right;\">\n",
              "      <th></th>\n",
              "      <th>NCD_0</th>\n",
              "      <th>NCD_1</th>\n",
              "      <th>NCD_2</th>\n",
              "      <th>NCD_3</th>\n",
              "      <th>NCD_4</th>\n",
              "      <th>NCD_5</th>\n",
              "      <th>NCD_6</th>\n",
              "    </tr>\n",
              "  </thead>\n",
              "  <tbody>\n",
              "    <tr>\n",
              "      <th>count</th>\n",
              "      <td>137087.000000</td>\n",
              "      <td>137087.000000</td>\n",
              "      <td>137087.000000</td>\n",
              "      <td>137087.000000</td>\n",
              "      <td>137087.000000</td>\n",
              "      <td>137087.000000</td>\n",
              "      <td>137087.000000</td>\n",
              "    </tr>\n",
              "    <tr>\n",
              "      <th>mean</th>\n",
              "      <td>137.617287</td>\n",
              "      <td>125.134783</td>\n",
              "      <td>134.184737</td>\n",
              "      <td>142.905060</td>\n",
              "      <td>148.896803</td>\n",
              "      <td>172.100907</td>\n",
              "      <td>188.973841</td>\n",
              "    </tr>\n",
              "    <tr>\n",
              "      <th>std</th>\n",
              "      <td>343.654789</td>\n",
              "      <td>319.870275</td>\n",
              "      <td>349.008823</td>\n",
              "      <td>373.117213</td>\n",
              "      <td>384.658300</td>\n",
              "      <td>428.280696</td>\n",
              "      <td>441.119340</td>\n",
              "    </tr>\n",
              "    <tr>\n",
              "      <th>min</th>\n",
              "      <td>0.000000</td>\n",
              "      <td>0.000000</td>\n",
              "      <td>0.000000</td>\n",
              "      <td>0.000000</td>\n",
              "      <td>0.000000</td>\n",
              "      <td>0.000000</td>\n",
              "      <td>0.000000</td>\n",
              "    </tr>\n",
              "    <tr>\n",
              "      <th>25%</th>\n",
              "      <td>3.000000</td>\n",
              "      <td>2.000000</td>\n",
              "      <td>3.000000</td>\n",
              "      <td>3.000000</td>\n",
              "      <td>3.000000</td>\n",
              "      <td>4.000000</td>\n",
              "      <td>5.000000</td>\n",
              "    </tr>\n",
              "    <tr>\n",
              "      <th>50%</th>\n",
              "      <td>20.000000</td>\n",
              "      <td>17.000000</td>\n",
              "      <td>19.000000</td>\n",
              "      <td>20.000000</td>\n",
              "      <td>21.000000</td>\n",
              "      <td>26.000000</td>\n",
              "      <td>30.000000</td>\n",
              "    </tr>\n",
              "    <tr>\n",
              "      <th>75%</th>\n",
              "      <td>110.000000</td>\n",
              "      <td>100.000000</td>\n",
              "      <td>106.000000</td>\n",
              "      <td>111.000000</td>\n",
              "      <td>117.000000</td>\n",
              "      <td>141.000000</td>\n",
              "      <td>163.000000</td>\n",
              "    </tr>\n",
              "    <tr>\n",
              "      <th>max</th>\n",
              "      <td>13055.000000</td>\n",
              "      <td>13799.000000</td>\n",
              "      <td>15313.000000</td>\n",
              "      <td>15445.000000</td>\n",
              "      <td>19710.000000</td>\n",
              "      <td>17257.000000</td>\n",
              "      <td>16973.000000</td>\n",
              "    </tr>\n",
              "  </tbody>\n",
              "</table>\n",
              "</div>"
            ],
            "text/plain": [
              "               NCD_0          NCD_1          NCD_2          NCD_3  \\\n",
              "count  137087.000000  137087.000000  137087.000000  137087.000000   \n",
              "mean      137.617287     125.134783     134.184737     142.905060   \n",
              "std       343.654789     319.870275     349.008823     373.117213   \n",
              "min         0.000000       0.000000       0.000000       0.000000   \n",
              "25%         3.000000       2.000000       3.000000       3.000000   \n",
              "50%        20.000000      17.000000      19.000000      20.000000   \n",
              "75%       110.000000     100.000000     106.000000     111.000000   \n",
              "max     13055.000000   13799.000000   15313.000000   15445.000000   \n",
              "\n",
              "               NCD_4          NCD_5          NCD_6  \n",
              "count  137087.000000  137087.000000  137087.000000  \n",
              "mean      148.896803     172.100907     188.973841  \n",
              "std       384.658300     428.280696     441.119340  \n",
              "min         0.000000       0.000000       0.000000  \n",
              "25%         3.000000       4.000000       5.000000  \n",
              "50%        21.000000      26.000000      30.000000  \n",
              "75%       117.000000     141.000000     163.000000  \n",
              "max     19710.000000   17257.000000   16973.000000  "
            ]
          },
          "metadata": {
            "tags": []
          },
          "execution_count": 82
        }
      ]
    },
    {
      "metadata": {
        "id": "jTrMQ4iSovwp",
        "colab_type": "text"
      },
      "cell_type": "markdown",
      "source": [
        "#####Burstiness Level and Contribution Sparseness - means[0,1]"
      ]
    },
    {
      "metadata": {
        "id": "-KC6o2p1aBv-",
        "colab_type": "code",
        "outputId": "b41f736b-d0a8-4b00-8182-32d9b0723c9c",
        "colab": {
          "base_uri": "https://localhost:8080/",
          "height": 347
        }
      },
      "cell_type": "code",
      "source": [
        "cs = data_500.filter(regex='CS_?').loc[data_500['BUZZ']==1].describe().iloc[1]#.plot(xticks=list(range(7)))\n",
        "\n",
        "bl = data_500.filter(regex='BL_?').loc[data_500['BUZZ']==1].describe().iloc[1]\n",
        "\n",
        "lines = [mat_plt.plot(list(range(7)), cs, label=\"CS average values evolution for BUZZ class\")[0],\n",
        "       mat_plt.plot(list(range(7)), bl, label=\"BL average values evolution for BUZZ class\")[0],\n",
        "#          mat_plt.plot(list(range(7)), ai_diffs, label=\"AI's means relative differences\")[0],\n",
        "#          mat_plt.plot(list(range(7)), nac_diffs, label=\"NAC's means relative differences\")[0],\n",
        "        ]\n",
        "\n",
        "mat_plt.legend(handles=lines)\n",
        "mat_plt.show()"
      ],
      "execution_count": 0,
      "outputs": [
        {
          "output_type": "display_data",
          "data": {
            "image/png": "[encoded data removed]",
            "text/plain": [
              "<Figure size 576x396 with 1 Axes>"
            ]
          },
          "metadata": {
            "tags": []
          }
        }
      ]
    },
    {
      "metadata": {
        "id": "FTIzxSzGTkRi",
        "colab_type": "code",
        "colab": {}
      },
      "cell_type": "code",
      "source": [
        "cs = data_500.filter(regex='CS_?').loc[data_500['BUZZ']==1].describe().iloc[1].plot(xticks=list(range(7)))\n"
      ],
      "execution_count": 0,
      "outputs": []
    },
    {
      "metadata": {
        "id": "P7NxtwCekl-x",
        "colab_type": "code",
        "outputId": "655a2645-a1a1-4401-d6af-55f91e4bec84",
        "colab": {
          "base_uri": "https://localhost:8080/",
          "height": 638
        }
      },
      "cell_type": "code",
      "source": [
        "bl = data_500.filter(regex='BL_?').loc[data_500['BUZZ']==1].describe()\n",
        "# bl_diffs = ai.diff(axis=1).fillna(0).iloc[1]\n",
        "bl.iloc[1].plot(xticks=list(range(7)))\n",
        "bl"
      ],
      "execution_count": 0,
      "outputs": [
        {
          "output_type": "execute_result",
          "data": {
            "text/html": [
              "<div>\n",
              "<style scoped>\n",
              "    .dataframe tbody tr th:only-of-type {\n",
              "        vertical-align: middle;\n",
              "    }\n",
              "\n",
              "    .dataframe tbody tr th {\n",
              "        vertical-align: top;\n",
              "    }\n",
              "\n",
              "    .dataframe thead th {\n",
              "        text-align: right;\n",
              "    }\n",
              "</style>\n",
              "<table border=\"1\" class=\"dataframe\">\n",
              "  <thead>\n",
              "    <tr style=\"text-align: right;\">\n",
              "      <th></th>\n",
              "      <th>BL_0</th>\n",
              "      <th>BL_1</th>\n",
              "      <th>BL_2</th>\n",
              "      <th>BL_3</th>\n",
              "      <th>BL_4</th>\n",
              "      <th>BL_5</th>\n",
              "      <th>BL_6</th>\n",
              "    </tr>\n",
              "  </thead>\n",
              "  <tbody>\n",
              "    <tr>\n",
              "      <th>count</th>\n",
              "      <td>3620.000000</td>\n",
              "      <td>3620.000000</td>\n",
              "      <td>3620.000000</td>\n",
              "      <td>3620.000000</td>\n",
              "      <td>3620.000000</td>\n",
              "      <td>3620.000000</td>\n",
              "      <td>3620.000000</td>\n",
              "    </tr>\n",
              "    <tr>\n",
              "      <th>mean</th>\n",
              "      <td>0.997464</td>\n",
              "      <td>0.962152</td>\n",
              "      <td>0.979230</td>\n",
              "      <td>0.987960</td>\n",
              "      <td>0.993211</td>\n",
              "      <td>0.996282</td>\n",
              "      <td>0.997835</td>\n",
              "    </tr>\n",
              "    <tr>\n",
              "      <th>std</th>\n",
              "      <td>0.005045</td>\n",
              "      <td>0.184319</td>\n",
              "      <td>0.133016</td>\n",
              "      <td>0.096758</td>\n",
              "      <td>0.066464</td>\n",
              "      <td>0.040757</td>\n",
              "      <td>0.017053</td>\n",
              "    </tr>\n",
              "    <tr>\n",
              "      <th>min</th>\n",
              "      <td>0.903382</td>\n",
              "      <td>0.000000</td>\n",
              "      <td>0.000000</td>\n",
              "      <td>0.000000</td>\n",
              "      <td>0.000000</td>\n",
              "      <td>0.000000</td>\n",
              "      <td>0.000000</td>\n",
              "    </tr>\n",
              "    <tr>\n",
              "      <th>25%</th>\n",
              "      <td>0.996412</td>\n",
              "      <td>0.995973</td>\n",
              "      <td>0.996972</td>\n",
              "      <td>0.997010</td>\n",
              "      <td>0.997086</td>\n",
              "      <td>0.996970</td>\n",
              "      <td>0.997447</td>\n",
              "    </tr>\n",
              "    <tr>\n",
              "      <th>50%</th>\n",
              "      <td>1.000000</td>\n",
              "      <td>1.000000</td>\n",
              "      <td>1.000000</td>\n",
              "      <td>1.000000</td>\n",
              "      <td>1.000000</td>\n",
              "      <td>1.000000</td>\n",
              "      <td>0.999871</td>\n",
              "    </tr>\n",
              "    <tr>\n",
              "      <th>75%</th>\n",
              "      <td>1.000000</td>\n",
              "      <td>1.000000</td>\n",
              "      <td>1.000000</td>\n",
              "      <td>1.000000</td>\n",
              "      <td>1.000000</td>\n",
              "      <td>1.000000</td>\n",
              "      <td>1.000000</td>\n",
              "    </tr>\n",
              "    <tr>\n",
              "      <th>max</th>\n",
              "      <td>1.000000</td>\n",
              "      <td>1.000000</td>\n",
              "      <td>1.000000</td>\n",
              "      <td>1.000000</td>\n",
              "      <td>1.000000</td>\n",
              "      <td>1.000000</td>\n",
              "      <td>1.000000</td>\n",
              "    </tr>\n",
              "  </tbody>\n",
              "</table>\n",
              "</div>"
            ],
            "text/plain": [
              "              BL_0         BL_1         BL_2         BL_3         BL_4  \\\n",
              "count  3620.000000  3620.000000  3620.000000  3620.000000  3620.000000   \n",
              "mean      0.997464     0.962152     0.979230     0.987960     0.993211   \n",
              "std       0.005045     0.184319     0.133016     0.096758     0.066464   \n",
              "min       0.903382     0.000000     0.000000     0.000000     0.000000   \n",
              "25%       0.996412     0.995973     0.996972     0.997010     0.997086   \n",
              "50%       1.000000     1.000000     1.000000     1.000000     1.000000   \n",
              "75%       1.000000     1.000000     1.000000     1.000000     1.000000   \n",
              "max       1.000000     1.000000     1.000000     1.000000     1.000000   \n",
              "\n",
              "              BL_5         BL_6  \n",
              "count  3620.000000  3620.000000  \n",
              "mean      0.996282     0.997835  \n",
              "std       0.040757     0.017053  \n",
              "min       0.000000     0.000000  \n",
              "25%       0.996970     0.997447  \n",
              "50%       1.000000     0.999871  \n",
              "75%       1.000000     1.000000  \n",
              "max       1.000000     1.000000  "
            ]
          },
          "metadata": {
            "tags": []
          },
          "execution_count": 185
        },
        {
          "output_type": "display_data",
          "data": {
            "image/png": "[encoded data removed]",
            "text/plain": [
              "<Figure size 576x396 with 1 Axes>"
            ]
          },
          "metadata": {
            "tags": []
          }
        }
      ]
    },
    {
      "metadata": {
        "id": "IiyTR44kZFwD",
        "colab_type": "code",
        "colab": {}
      },
      "cell_type": "code",
      "source": [
        ""
      ],
      "execution_count": 0,
      "outputs": []
    },
    {
      "metadata": {
        "id": "MpcoHySbo-bE",
        "colab_type": "text"
      },
      "cell_type": "markdown",
      "source": [
        "##### Attention level * 2"
      ]
    },
    {
      "metadata": {
        "id": "asuKp5VsM1uq",
        "colab_type": "code",
        "outputId": "db74b1c7-aec3-4216-9e03-6510d8447ed0",
        "colab": {
          "base_uri": "https://localhost:8080/",
          "height": 308
        }
      },
      "cell_type": "code",
      "source": [
        "asna = data_500.filter(regex='AS\\(NA\\)_?').loc[data_500['BUZZ']==1].describe().iloc[-1]\n",
        "asnac = data_500.filter(regex='AS\\(NAC\\)_?').loc[data_500['BUZZ']==1].describe().iloc[-1]\n",
        "data_500.filter(regex='AS\\(NAC\\)_?').loc[data_500['BUZZ']==1].describe()"
      ],
      "execution_count": 0,
      "outputs": [
        {
          "output_type": "execute_result",
          "data": {
            "text/html": [
              "<div>\n",
              "<style scoped>\n",
              "    .dataframe tbody tr th:only-of-type {\n",
              "        vertical-align: middle;\n",
              "    }\n",
              "\n",
              "    .dataframe tbody tr th {\n",
              "        vertical-align: top;\n",
              "    }\n",
              "\n",
              "    .dataframe thead th {\n",
              "        text-align: right;\n",
              "    }\n",
              "</style>\n",
              "<table border=\"1\" class=\"dataframe\">\n",
              "  <thead>\n",
              "    <tr style=\"text-align: right;\">\n",
              "      <th></th>\n",
              "      <th>AS(NAC)_0</th>\n",
              "      <th>AS(NAC)_1</th>\n",
              "      <th>AS(NAC)_2</th>\n",
              "      <th>AS(NAC)_3</th>\n",
              "      <th>AS(NAC)_4</th>\n",
              "      <th>AS(NAC)_5</th>\n",
              "      <th>AS(NAC)_6</th>\n",
              "    </tr>\n",
              "  </thead>\n",
              "  <tbody>\n",
              "    <tr>\n",
              "      <th>count</th>\n",
              "      <td>3620.000000</td>\n",
              "      <td>3620.000000</td>\n",
              "      <td>3620.000000</td>\n",
              "      <td>3620.000000</td>\n",
              "      <td>3620.000000</td>\n",
              "      <td>3620.000000</td>\n",
              "      <td>3620.000000</td>\n",
              "    </tr>\n",
              "    <tr>\n",
              "      <th>mean</th>\n",
              "      <td>0.001147</td>\n",
              "      <td>0.001035</td>\n",
              "      <td>0.001084</td>\n",
              "      <td>0.001102</td>\n",
              "      <td>0.001171</td>\n",
              "      <td>0.001291</td>\n",
              "      <td>0.001452</td>\n",
              "    </tr>\n",
              "    <tr>\n",
              "      <th>std</th>\n",
              "      <td>0.001450</td>\n",
              "      <td>0.001456</td>\n",
              "      <td>0.001455</td>\n",
              "      <td>0.001427</td>\n",
              "      <td>0.001450</td>\n",
              "      <td>0.001567</td>\n",
              "      <td>0.001658</td>\n",
              "    </tr>\n",
              "    <tr>\n",
              "      <th>min</th>\n",
              "      <td>0.000001</td>\n",
              "      <td>0.000000</td>\n",
              "      <td>0.000000</td>\n",
              "      <td>0.000000</td>\n",
              "      <td>0.000000</td>\n",
              "      <td>0.000000</td>\n",
              "      <td>0.000000</td>\n",
              "    </tr>\n",
              "    <tr>\n",
              "      <th>25%</th>\n",
              "      <td>0.000339</td>\n",
              "      <td>0.000263</td>\n",
              "      <td>0.000299</td>\n",
              "      <td>0.000318</td>\n",
              "      <td>0.000363</td>\n",
              "      <td>0.000465</td>\n",
              "      <td>0.000639</td>\n",
              "    </tr>\n",
              "    <tr>\n",
              "      <th>50%</th>\n",
              "      <td>0.000737</td>\n",
              "      <td>0.000575</td>\n",
              "      <td>0.000671</td>\n",
              "      <td>0.000701</td>\n",
              "      <td>0.000759</td>\n",
              "      <td>0.000829</td>\n",
              "      <td>0.000950</td>\n",
              "    </tr>\n",
              "    <tr>\n",
              "      <th>75%</th>\n",
              "      <td>0.001323</td>\n",
              "      <td>0.001198</td>\n",
              "      <td>0.001259</td>\n",
              "      <td>0.001268</td>\n",
              "      <td>0.001345</td>\n",
              "      <td>0.001420</td>\n",
              "      <td>0.001556</td>\n",
              "    </tr>\n",
              "    <tr>\n",
              "      <th>max</th>\n",
              "      <td>0.021422</td>\n",
              "      <td>0.022498</td>\n",
              "      <td>0.014694</td>\n",
              "      <td>0.014062</td>\n",
              "      <td>0.015133</td>\n",
              "      <td>0.021327</td>\n",
              "      <td>0.022478</td>\n",
              "    </tr>\n",
              "  </tbody>\n",
              "</table>\n",
              "</div>"
            ],
            "text/plain": [
              "         AS(NAC)_0    AS(NAC)_1    AS(NAC)_2    AS(NAC)_3    AS(NAC)_4  \\\n",
              "count  3620.000000  3620.000000  3620.000000  3620.000000  3620.000000   \n",
              "mean      0.001147     0.001035     0.001084     0.001102     0.001171   \n",
              "std       0.001450     0.001456     0.001455     0.001427     0.001450   \n",
              "min       0.000001     0.000000     0.000000     0.000000     0.000000   \n",
              "25%       0.000339     0.000263     0.000299     0.000318     0.000363   \n",
              "50%       0.000737     0.000575     0.000671     0.000701     0.000759   \n",
              "75%       0.001323     0.001198     0.001259     0.001268     0.001345   \n",
              "max       0.021422     0.022498     0.014694     0.014062     0.015133   \n",
              "\n",
              "         AS(NAC)_5    AS(NAC)_6  \n",
              "count  3620.000000  3620.000000  \n",
              "mean      0.001291     0.001452  \n",
              "std       0.001567     0.001658  \n",
              "min       0.000000     0.000000  \n",
              "25%       0.000465     0.000639  \n",
              "50%       0.000829     0.000950  \n",
              "75%       0.001420     0.001556  \n",
              "max       0.021327     0.022478  "
            ]
          },
          "metadata": {
            "tags": []
          },
          "execution_count": 25
        }
      ]
    },
    {
      "metadata": {
        "id": "YoGQBqymTsSE",
        "colab_type": "code",
        "outputId": "980be6a2-5d62-4ad1-b097-ea395216a9f4",
        "colab": {
          "base_uri": "https://localhost:8080/",
          "height": 347
        }
      },
      "cell_type": "code",
      "source": [
        "lines = [mat_plt.plot(list(range(7)), asna, label=\"AS(NA)'s maximum values evolution for BUZZ class\")[0],\n",
        "       mat_plt.plot(list(range(7)), asnac, label=\"AS(NAC)'s maximum values evolution for BUZZ class\")[0],\n",
        "#          mat_plt.plot(list(range(7)), ai_diffs, label=\"AI's means relative differences\")[0],\n",
        "#          mat_plt.plot(list(range(7)), nac_diffs, label=\"NAC's means relative differences\")[0],\n",
        "        ]\n",
        "\n",
        "mat_plt.legend(handles=lines)\n",
        "mat_plt.show()"
      ],
      "execution_count": 0,
      "outputs": [
        {
          "output_type": "display_data",
          "data": {
            "image/png": "[encoded data removed]",
            "text/plain": [
              "<Figure size 576x396 with 1 Axes>"
            ]
          },
          "metadata": {
            "tags": []
          }
        }
      ]
    },
    {
      "metadata": {
        "id": "Drcpgq47pNhn",
        "colab_type": "text"
      },
      "cell_type": "markdown",
      "source": [
        "##### #Created Discussions & Author increase & # atomic containers & N Authors- relative diffs\n"
      ]
    },
    {
      "metadata": {
        "id": "ILulSP4pASvk",
        "colab_type": "code",
        "colab": {}
      },
      "cell_type": "code",
      "source": [
        "ncd = data_500.filter(regex='NCD_?').loc[data_500['BUZZ']==1].describe()\n",
        "ncd_diffs = ncd.diff(axis=1).fillna(0).iloc[1]\n",
        "ai = data_500.filter(regex='AI_?').loc[data_500['BUZZ']==1].describe()\n",
        "ai_diffs = ai.diff(axis=1).fillna(0).iloc[1]\n",
        "nac = data_500.filter(regex='^NAC_?').loc[data_500['BUZZ']==1].describe()\n",
        "nac_diffs = nac.diff(axis=1).fillna(0).iloc[1]\n",
        "na = data_500.filter(regex='^NA_').loc[data_500['BUZZ']==1].describe()\n",
        "na_diffs = na.diff(axis=1).fillna(0).iloc[1]\n",
        "nad = data_500.filter(regex='^NAD_').loc[data_500['BUZZ']==1].describe()\n",
        "nad_diffs = nad.diff(axis=1).fillna(0).iloc[1]"
      ],
      "execution_count": 0,
      "outputs": []
    },
    {
      "metadata": {
        "id": "r-mcjwv8xWX4",
        "colab_type": "code",
        "colab": {}
      },
      "cell_type": "code",
      "source": [
        "# ncd"
      ],
      "execution_count": 0,
      "outputs": []
    },
    {
      "metadata": {
        "id": "fkEQC_L9FFmb",
        "colab_type": "code",
        "colab": {}
      },
      "cell_type": "code",
      "source": [
        "# nad"
      ],
      "execution_count": 0,
      "outputs": []
    },
    {
      "metadata": {
        "id": "pBu7VxMhDrMA",
        "colab_type": "code",
        "outputId": "59e47361-99d6-4377-f279-03440f85dd98",
        "colab": {
          "base_uri": "https://localhost:8080/",
          "height": 347
        }
      },
      "cell_type": "code",
      "source": [
        "lines = [mat_plt.plot(list(range(7)), ncd_diffs, label=\"NCD's means relative differences\", ls='--')[0],\n",
        "         mat_plt.plot(list(range(7)), ai_diffs, label=\"AI's means relative differences\")[0],\n",
        "         mat_plt.plot(list(range(7)), nac_diffs, label=\"NAC's means relative differences\")[0],\n",
        "         mat_plt.plot(list(range(7)), na_diffs, label=\"NA's means relative differences\")[0],\n",
        "         mat_plt.plot(list(range(7)), nad_diffs, label=\"NAD's means relative differences\")[0],\n",
        "        ]\n",
        "\n",
        "mat_plt.legend(handles=lines)\n",
        "mat_plt.show()"
      ],
      "execution_count": 0,
      "outputs": [
        {
          "output_type": "display_data",
          "data": {
            "image/png": "[encoded data removed]",
            "text/plain": [
              "<Figure size 576x396 with 1 Axes>"
            ]
          },
          "metadata": {
            "tags": []
          }
        }
      ]
    },
    {
      "metadata": {
        "id": "6S2S7TUdqTV5",
        "colab_type": "text"
      },
      "cell_type": "markdown",
      "source": [
        "N Authors"
      ]
    },
    {
      "metadata": {
        "id": "dJo5n8XUqYG_",
        "colab_type": "code",
        "outputId": "b9accec8-82f9-46ca-e06e-988dc7295b02",
        "colab": {
          "base_uri": "https://localhost:8080/",
          "height": 347
        }
      },
      "cell_type": "code",
      "source": [
        "#na = \n",
        "data_500.filter(regex='^NA_').loc[data_500['BUZZ']==1].describe().iloc[1].plot()\n",
        "\n",
        "\n",
        "#na_diffs = na.diff(axis=1).fillna(0).iloc[1]\n",
        "# na_diffs"
      ],
      "execution_count": 0,
      "outputs": [
        {
          "output_type": "execute_result",
          "data": {
            "text/plain": [
              "<matplotlib.axes._subplots.AxesSubplot at 0x7f183a2c41d0>"
            ]
          },
          "metadata": {
            "tags": []
          },
          "execution_count": 23
        },
        {
          "output_type": "display_data",
          "data": {
            "image/png": "[encoded data removed]",
            "text/plain": [
              "<Figure size 576x396 with 1 Axes>"
            ]
          },
          "metadata": {
            "tags": []
          }
        }
      ]
    },
    {
      "metadata": {
        "id": "CiQQTl5Nskvp",
        "colab_type": "code",
        "outputId": "3737b82d-6b80-4746-a577-0beedff41a9c",
        "colab": {
          "base_uri": "https://localhost:8080/",
          "height": 330
        }
      },
      "cell_type": "code",
      "source": [
        "na = data_500.filter(regex='^NA_').loc[data_500['BUZZ']==1].describe()\n",
        "na_diffs = na.diff(axis=1).fillna(0).iloc[1].plot()\n",
        "# na_diffs"
      ],
      "execution_count": 0,
      "outputs": [
        {
          "output_type": "display_data",
          "data": {
            "image/png": "[encoded data removed]",
            "text/plain": [
              "<Figure size 576x396 with 1 Axes>"
            ]
          },
          "metadata": {
            "tags": []
          }
        }
      ]
    },
    {
      "metadata": {
        "id": "1TLnJbEcpyV7",
        "colab_type": "code",
        "outputId": "66b6f556-3803-45b7-e6c8-e638094705b2",
        "colab": {
          "base_uri": "https://localhost:8080/",
          "height": 231
        }
      },
      "cell_type": "code",
      "source": [
        "lines = [mat_plt.plot(list(range(7)), ncd_diffs, label=\"NCD's means relative differences\")[0],\n",
        "         mat_plt.plot(list(range(7)), ai_diffs, label=\"AI's means relative differences\")[0],\n",
        "         mat_plt.plot(list(range(7)), nac_diffs, label=\"NAC's means relative differences\")[0],\n",
        "         \n",
        "         mat_plt.plot(list(range(7)), na_diffs, label=\"NA's means relative differences\")[0],\n",
        "        ]\n",
        "\n",
        "mat_plt.legend(handles=lines)\n",
        "mat_plt.show()"
      ],
      "execution_count": 0,
      "outputs": [
        {
          "output_type": "error",
          "ename": "NameError",
          "evalue": "ignored",
          "traceback": [
            "\u001b[0;31m---------------------------------------------------------------------------\u001b[0m",
            "\u001b[0;31mNameError\u001b[0m                                 Traceback (most recent call last)",
            "\u001b[0;32m<ipython-input-27-3fd3182199a1>\u001b[0m in \u001b[0;36m<module>\u001b[0;34m()\u001b[0m\n\u001b[0;32m----> 1\u001b[0;31m lines = [mat_plt.plot(list(range(7)), ncd_diffs, label=\"NCD's means relative differences\")[0],\n\u001b[0m\u001b[1;32m      2\u001b[0m          \u001b[0mmat_plt\u001b[0m\u001b[0;34m.\u001b[0m\u001b[0mplot\u001b[0m\u001b[0;34m(\u001b[0m\u001b[0mlist\u001b[0m\u001b[0;34m(\u001b[0m\u001b[0mrange\u001b[0m\u001b[0;34m(\u001b[0m\u001b[0;36m7\u001b[0m\u001b[0;34m)\u001b[0m\u001b[0;34m)\u001b[0m\u001b[0;34m,\u001b[0m \u001b[0mai_diffs\u001b[0m\u001b[0;34m,\u001b[0m \u001b[0mlabel\u001b[0m\u001b[0;34m=\u001b[0m\u001b[0;34m\"AI's means relative differences\"\u001b[0m\u001b[0;34m)\u001b[0m\u001b[0;34m[\u001b[0m\u001b[0;36m0\u001b[0m\u001b[0;34m]\u001b[0m\u001b[0;34m,\u001b[0m\u001b[0;34m\u001b[0m\u001b[0;34m\u001b[0m\u001b[0m\n\u001b[1;32m      3\u001b[0m          \u001b[0mmat_plt\u001b[0m\u001b[0;34m.\u001b[0m\u001b[0mplot\u001b[0m\u001b[0;34m(\u001b[0m\u001b[0mlist\u001b[0m\u001b[0;34m(\u001b[0m\u001b[0mrange\u001b[0m\u001b[0;34m(\u001b[0m\u001b[0;36m7\u001b[0m\u001b[0;34m)\u001b[0m\u001b[0;34m)\u001b[0m\u001b[0;34m,\u001b[0m \u001b[0mnac_diffs\u001b[0m\u001b[0;34m,\u001b[0m \u001b[0mlabel\u001b[0m\u001b[0;34m=\u001b[0m\u001b[0;34m\"NAC's means relative differences\"\u001b[0m\u001b[0;34m)\u001b[0m\u001b[0;34m[\u001b[0m\u001b[0;36m0\u001b[0m\u001b[0;34m]\u001b[0m\u001b[0;34m,\u001b[0m\u001b[0;34m\u001b[0m\u001b[0;34m\u001b[0m\u001b[0m\n\u001b[1;32m      4\u001b[0m \u001b[0;34m\u001b[0m\u001b[0m\n\u001b[1;32m      5\u001b[0m          \u001b[0mmat_plt\u001b[0m\u001b[0;34m.\u001b[0m\u001b[0mplot\u001b[0m\u001b[0;34m(\u001b[0m\u001b[0mlist\u001b[0m\u001b[0;34m(\u001b[0m\u001b[0mrange\u001b[0m\u001b[0;34m(\u001b[0m\u001b[0;36m7\u001b[0m\u001b[0;34m)\u001b[0m\u001b[0;34m)\u001b[0m\u001b[0;34m,\u001b[0m \u001b[0mna_diffs\u001b[0m\u001b[0;34m,\u001b[0m \u001b[0mlabel\u001b[0m\u001b[0;34m=\u001b[0m\u001b[0;34m\"NA's means relative differences\"\u001b[0m\u001b[0;34m)\u001b[0m\u001b[0;34m[\u001b[0m\u001b[0;36m0\u001b[0m\u001b[0;34m]\u001b[0m\u001b[0;34m,\u001b[0m\u001b[0;34m\u001b[0m\u001b[0;34m\u001b[0m\u001b[0m\n",
            "\u001b[0;31mNameError\u001b[0m: name 'ncd_diffs' is not defined"
          ]
        }
      ]
    },
    {
      "metadata": {
        "id": "m-iQtY295CEA",
        "colab_type": "text"
      },
      "cell_type": "markdown",
      "source": [
        "##### Author interaction\n"
      ]
    },
    {
      "metadata": {
        "id": "GBinU70MpyC2",
        "colab_type": "code",
        "outputId": "edbad7cb-27b4-4c31-b5a5-f243e59b65dd",
        "colab": {
          "base_uri": "https://localhost:8080/",
          "height": 297
        }
      },
      "cell_type": "code",
      "source": [
        "at_1 = data_500.filter(regex='^AT_').loc[data_500['BUZZ']==1].describe()\n",
        "at_1\n",
        "# at_diffs = at.diff(axis=1).fillna(0).iloc[1].plot()\n",
        "# na_diffs"
      ],
      "execution_count": 0,
      "outputs": [
        {
          "output_type": "execute_result",
          "data": {
            "text/html": [
              "<div>\n",
              "<style scoped>\n",
              "    .dataframe tbody tr th:only-of-type {\n",
              "        vertical-align: middle;\n",
              "    }\n",
              "\n",
              "    .dataframe tbody tr th {\n",
              "        vertical-align: top;\n",
              "    }\n",
              "\n",
              "    .dataframe thead th {\n",
              "        text-align: right;\n",
              "    }\n",
              "</style>\n",
              "<table border=\"1\" class=\"dataframe\">\n",
              "  <thead>\n",
              "    <tr style=\"text-align: right;\">\n",
              "      <th></th>\n",
              "      <th>AT_0</th>\n",
              "      <th>AT_1</th>\n",
              "      <th>AT_2</th>\n",
              "      <th>AT_3</th>\n",
              "      <th>AT_4</th>\n",
              "      <th>AT_5</th>\n",
              "      <th>AT_6</th>\n",
              "    </tr>\n",
              "  </thead>\n",
              "  <tbody>\n",
              "    <tr>\n",
              "      <th>count</th>\n",
              "      <td>3620.000000</td>\n",
              "      <td>3620.000000</td>\n",
              "      <td>3620.000000</td>\n",
              "      <td>3620.000000</td>\n",
              "      <td>3620.000000</td>\n",
              "      <td>3620.000000</td>\n",
              "      <td>3620.000000</td>\n",
              "    </tr>\n",
              "    <tr>\n",
              "      <th>mean</th>\n",
              "      <td>1.081691</td>\n",
              "      <td>1.052664</td>\n",
              "      <td>1.074367</td>\n",
              "      <td>1.089207</td>\n",
              "      <td>1.086087</td>\n",
              "      <td>1.078074</td>\n",
              "      <td>1.080832</td>\n",
              "    </tr>\n",
              "    <tr>\n",
              "      <th>std</th>\n",
              "      <td>0.278789</td>\n",
              "      <td>0.482941</td>\n",
              "      <td>0.546022</td>\n",
              "      <td>0.874383</td>\n",
              "      <td>0.359988</td>\n",
              "      <td>0.279243</td>\n",
              "      <td>0.363083</td>\n",
              "    </tr>\n",
              "    <tr>\n",
              "      <th>min</th>\n",
              "      <td>1.000000</td>\n",
              "      <td>0.000000</td>\n",
              "      <td>0.000000</td>\n",
              "      <td>0.000000</td>\n",
              "      <td>0.000000</td>\n",
              "      <td>0.000000</td>\n",
              "      <td>0.000000</td>\n",
              "    </tr>\n",
              "    <tr>\n",
              "      <th>25%</th>\n",
              "      <td>1.000000</td>\n",
              "      <td>1.000000</td>\n",
              "      <td>1.000000</td>\n",
              "      <td>1.000000</td>\n",
              "      <td>1.000000</td>\n",
              "      <td>1.000000</td>\n",
              "      <td>1.000000</td>\n",
              "    </tr>\n",
              "    <tr>\n",
              "      <th>50%</th>\n",
              "      <td>1.009542</td>\n",
              "      <td>1.000000</td>\n",
              "      <td>1.000460</td>\n",
              "      <td>1.003789</td>\n",
              "      <td>1.008959</td>\n",
              "      <td>1.013919</td>\n",
              "      <td>1.013277</td>\n",
              "    </tr>\n",
              "    <tr>\n",
              "      <th>75%</th>\n",
              "      <td>1.080414</td>\n",
              "      <td>1.074866</td>\n",
              "      <td>1.070464</td>\n",
              "      <td>1.073555</td>\n",
              "      <td>1.077348</td>\n",
              "      <td>1.076295</td>\n",
              "      <td>1.073865</td>\n",
              "    </tr>\n",
              "    <tr>\n",
              "      <th>max</th>\n",
              "      <td>10.312500</td>\n",
              "      <td>18.720238</td>\n",
              "      <td>22.446043</td>\n",
              "      <td>49.000000</td>\n",
              "      <td>8.686801</td>\n",
              "      <td>7.784616</td>\n",
              "      <td>12.595555</td>\n",
              "    </tr>\n",
              "  </tbody>\n",
              "</table>\n",
              "</div>"
            ],
            "text/plain": [
              "              AT_0         AT_1         AT_2         AT_3         AT_4  \\\n",
              "count  3620.000000  3620.000000  3620.000000  3620.000000  3620.000000   \n",
              "mean      1.081691     1.052664     1.074367     1.089207     1.086087   \n",
              "std       0.278789     0.482941     0.546022     0.874383     0.359988   \n",
              "min       1.000000     0.000000     0.000000     0.000000     0.000000   \n",
              "25%       1.000000     1.000000     1.000000     1.000000     1.000000   \n",
              "50%       1.009542     1.000000     1.000460     1.003789     1.008959   \n",
              "75%       1.080414     1.074866     1.070464     1.073555     1.077348   \n",
              "max      10.312500    18.720238    22.446043    49.000000     8.686801   \n",
              "\n",
              "              AT_5         AT_6  \n",
              "count  3620.000000  3620.000000  \n",
              "mean      1.078074     1.080832  \n",
              "std       0.279243     0.363083  \n",
              "min       0.000000     0.000000  \n",
              "25%       1.000000     1.000000  \n",
              "50%       1.013919     1.013277  \n",
              "75%       1.076295     1.073865  \n",
              "max       7.784616    12.595555  "
            ]
          },
          "metadata": {
            "tags": []
          },
          "execution_count": 68
        }
      ]
    },
    {
      "metadata": {
        "id": "RhklzJLg6rd7",
        "colab_type": "code",
        "outputId": "0105dcc2-bef9-4d64-d605-85a6e85d9b2a",
        "colab": {
          "base_uri": "https://localhost:8080/",
          "height": 347
        }
      },
      "cell_type": "code",
      "source": [
        "at_0 = data_500.filter(regex='^AT_').loc[data_500['BUZZ']==0]\n",
        "instances = [at_0[at_0[\"AT_0\"] > 40].head(n=10).iloc[0],\n",
        "             at_0[at_0[\"AT_0\"] > 40].head(n=10).iloc[-2],\n",
        "             at_0[at_0[\"AT_0\"] > 40].head(n=10).iloc[-3],\n",
        "             at_0[at_0[\"AT_0\"] > 40].head(n=10).iloc[-4]]\n",
        "lines = []\n",
        "for instance in instances:\n",
        "  lines.append(mat_plt.plot(list(range(7)), instance)[0])\n",
        " \n",
        "# mat_plt.legend()\n",
        "mat_plt.show()"
      ],
      "execution_count": 0,
      "outputs": [
        {
          "output_type": "display_data",
          "data": {
            "image/png": "[encoded data removed]",
            "text/plain": [
              "<Figure size 576x396 with 1 Axes>"
            ]
          },
          "metadata": {
            "tags": []
          }
        }
      ]
    },
    {
      "metadata": {
        "id": "WPGRgg6f66fN",
        "colab_type": "code",
        "outputId": "4ded3406-18c1-4427-f4bb-baf1b34c4916",
        "colab": {
          "base_uri": "https://localhost:8080/",
          "height": 348
        }
      },
      "cell_type": "code",
      "source": [
        "lines = [mat_plt.plot(list(range(7)), at_1.iloc[1], label=\"AT's means for BUZZ class\")[0],\n",
        "         mat_plt.plot(list(range(7)), at_0.iloc[1], label=\"AT's means for non-BUZZ class\")[0],         ]\n",
        "\n",
        "mat_plt.legend(handles=lines)\n",
        "mat_plt.show()"
      ],
      "execution_count": 0,
      "outputs": [
        {
          "output_type": "display_data",
          "data": {
            "image/png": "[encoded data removed]",
            "text/plain": [
              "<Figure size 576x396 with 1 Axes>"
            ]
          },
          "metadata": {
            "tags": []
          }
        }
      ]
    },
    {
      "metadata": {
        "id": "3CWyQaFoB0WL",
        "colab_type": "text"
      },
      "cell_type": "markdown",
      "source": [
        "##### Avg discussions length"
      ]
    },
    {
      "metadata": {
        "id": "N154jup0CBsx",
        "colab_type": "code",
        "colab": {}
      },
      "cell_type": "code",
      "source": [
        "adl_0 = data_500.filter(regex='^ADL_').loc[data_500['BUZZ']==0].describe()\n",
        "adl_1 = data_500.filter(regex='^ADL_').loc[data_500['BUZZ']==1].describe()"
      ],
      "execution_count": 0,
      "outputs": []
    },
    {
      "metadata": {
        "id": "qh-_XajDB3ZX",
        "colab_type": "code",
        "outputId": "dc7e96e8-b197-43d8-b5ca-85b878942d0a",
        "colab": {
          "base_uri": "https://localhost:8080/",
          "height": 347
        }
      },
      "cell_type": "code",
      "source": [
        "lines = [mat_plt.plot(list(range(7)), adl_0.iloc[1], label=\"ADL's means for BUZZ class\")[0],\n",
        "         mat_plt.plot(list(range(7)), adl_1.iloc[1], label=\"ADL's means for non-BUZZ class\")[0],         ]\n",
        "\n",
        "mat_plt.legend(handles=lines)\n",
        "mat_plt.show()"
      ],
      "execution_count": 0,
      "outputs": [
        {
          "output_type": "display_data",
          "data": {
            "image/png": "[encoded data removed]",
            "text/plain": [
              "<Figure size 576x396 with 1 Axes>"
            ]
          },
          "metadata": {
            "tags": []
          }
        }
      ]
    },
    {
      "metadata": {
        "id": "WiXC97aYp8-M",
        "colab_type": "text"
      },
      "cell_type": "markdown",
      "source": [
        "## Training split"
      ]
    },
    {
      "metadata": {
        "id": "cT31scLqIV-k",
        "colab_type": "code",
        "colab": {}
      },
      "cell_type": "code",
      "source": [
        "X, Y = data_500[data_500.columns[:-1]], data_500[data_500.columns[-1]]\n",
        "X_train, X_test, Y_train, Y_test = train_test_split(X,Y, test_size=0.2, random_state=1)\n",
        "X_train, X_val, Y_train, Y_val = train_test_split(X_train, Y_train, test_size=0.2, random_state=1)"
      ],
      "execution_count": 0,
      "outputs": []
    },
    {
      "metadata": {
        "id": "buSDi7U83NJo",
        "colab_type": "code",
        "colab": {}
      },
      "cell_type": "code",
      "source": [
        ""
      ],
      "execution_count": 0,
      "outputs": []
    },
    {
      "metadata": {
        "id": "6iUxz0Ku3c0p",
        "colab_type": "code",
        "outputId": "cb171781-e570-4b2e-e095-f683e4096b71",
        "colab": {
          "base_uri": "https://localhost:8080/",
          "height": 35
        }
      },
      "cell_type": "code",
      "source": [
        ""
      ],
      "execution_count": 0,
      "outputs": [
        {
          "output_type": "stream",
          "text": [
            "40.38529411764706\n"
          ],
          "name": "stdout"
        }
      ]
    },
    {
      "metadata": {
        "id": "WpCF_FZB1HA8",
        "colab_type": "code",
        "outputId": "b4395804-75ce-49dd-cb48-594faa81e968",
        "colab": {
          "base_uri": "https://localhost:8080/",
          "height": 68
        }
      },
      "cell_type": "code",
      "source": [
        "print(Y_test.value_counts()[0]/Y_test.value_counts()[1])\n",
        "print(Y_train.value_counts()[0]/Y_train.value_counts()[1])\n",
        "print(Y_val.value_counts()[0]/Y_val.value_counts()[1])"
      ],
      "execution_count": 0,
      "outputs": [
        {
          "output_type": "stream",
          "text": [
            "40.38529411764706\n",
            "37.076955602537\n",
            "38.15304347826087\n"
          ],
          "name": "stdout"
        }
      ]
    },
    {
      "metadata": {
        "id": "NwdBysxK1prK",
        "colab_type": "code",
        "outputId": "fffa075b-8a7e-4fe5-dc29-4eb01407abb6",
        "colab": {
          "base_uri": "https://localhost:8080/",
          "height": 282
        }
      },
      "cell_type": "code",
      "source": [
        ""
      ],
      "execution_count": 0,
      "outputs": [
        {
          "output_type": "error",
          "ename": "AttributeError",
          "evalue": "ignored",
          "traceback": [
            "\u001b[0;31m---------------------------------------------------------------------------\u001b[0m",
            "\u001b[0;31mAttributeError\u001b[0m                            Traceback (most recent call last)",
            "\u001b[0;32m<ipython-input-66-309869d77edf>\u001b[0m in \u001b[0;36m<module>\u001b[0;34m()\u001b[0m\n\u001b[0;32m----> 1\u001b[0;31m \u001b[0mprint\u001b[0m\u001b[0;34m(\u001b[0m\u001b[0mY_train\u001b[0m\u001b[0;34m.\u001b[0m\u001b[0mcolumns\u001b[0m\u001b[0;34m)\u001b[0m\u001b[0;34m\u001b[0m\u001b[0;34m\u001b[0m\u001b[0m\n\u001b[0m",
            "\u001b[0;32m/usr/local/lib/python3.6/dist-packages/pandas/core/generic.py\u001b[0m in \u001b[0;36m__getattr__\u001b[0;34m(self, name)\u001b[0m\n\u001b[1;32m   3608\u001b[0m         if (name in self._internal_names_set or name in self._metadata or\n\u001b[1;32m   3609\u001b[0m                 name in self._accessors):\n\u001b[0;32m-> 3610\u001b[0;31m             \u001b[0;32mreturn\u001b[0m \u001b[0mobject\u001b[0m\u001b[0;34m.\u001b[0m\u001b[0m__getattribute__\u001b[0m\u001b[0;34m(\u001b[0m\u001b[0mself\u001b[0m\u001b[0;34m,\u001b[0m \u001b[0mname\u001b[0m\u001b[0;34m)\u001b[0m\u001b[0;34m\u001b[0m\u001b[0;34m\u001b[0m\u001b[0m\n\u001b[0m\u001b[1;32m   3611\u001b[0m         \u001b[0;32melse\u001b[0m\u001b[0;34m:\u001b[0m\u001b[0;34m\u001b[0m\u001b[0;34m\u001b[0m\u001b[0m\n\u001b[1;32m   3612\u001b[0m             \u001b[0;32mif\u001b[0m \u001b[0mname\u001b[0m \u001b[0;32min\u001b[0m \u001b[0mself\u001b[0m\u001b[0;34m.\u001b[0m\u001b[0m_info_axis\u001b[0m\u001b[0;34m:\u001b[0m\u001b[0;34m\u001b[0m\u001b[0;34m\u001b[0m\u001b[0m\n",
            "\u001b[0;31mAttributeError\u001b[0m: 'Series' object has no attribute 'columns'"
          ]
        }
      ]
    },
    {
      "metadata": {
        "id": "pqsZZfPV1GXh",
        "colab_type": "code",
        "outputId": "d4b3d15e-d492-473a-d98f-85a4230f84e7",
        "colab": {
          "base_uri": "https://localhost:8080/",
          "height": 391
        }
      },
      "cell_type": "code",
      "source": [
        "X_train['BUZZ'] = Y_train\n",
        "X_train.to_csv(PATH_PREFIX+'data/train_500', sep=',', index=False)"
      ],
      "execution_count": 0,
      "outputs": [
        {
          "output_type": "stream",
          "text": [
            "        NCD_0  NCD_1  NCD_2  NCD_3  NCD_4  NCD_5  NCD_6  AI_0  AI_1  AI_2  \\\n",
            "117580     39     37     42     58     37     47     63    24    30    30   \n",
            "75985       2      2      3      5      0      5      5     0     1     3   \n",
            "26003      20     24     22     21     22     21     50    15    18    13   \n",
            "42407      24     13     19     17     25     21     28     7     8    11   \n",
            "96432     563    451    312    384    463    565    565   232   205   154   \n",
            "\n",
            "        ...      ADL_5     ADL_6  NAD_0  NAD_1  NAD_2  NAD_3  NAD_4  NAD_5  \\\n",
            "117580  ...   1.021277  1.079365     39     37     42     58     37     47   \n",
            "75985   ...   1.000000  1.000000      2      2      3      5      0      5   \n",
            "26003   ...   1.000000  1.000000     20     24     22     21     22     21   \n",
            "42407   ...   1.000000  1.392857     24     13     20     17     25     21   \n",
            "96432   ...   1.035273  1.021201    564    453    312    386    463    567   \n",
            "\n",
            "        NAD_6  BUZZ  \n",
            "117580     63   0.0  \n",
            "75985       5   0.0  \n",
            "26003      50   0.0  \n",
            "42407      28   0.0  \n",
            "96432     566   0.0  \n",
            "\n",
            "[5 rows x 78 columns]\n"
          ],
          "name": "stdout"
        }
      ]
    },
    {
      "metadata": {
        "id": "-B4DGgPv2eCZ",
        "colab_type": "code",
        "outputId": "1a1c7c90-33c9-4fd5-fec6-e9a0817d6e20",
        "colab": {
          "base_uri": "https://localhost:8080/",
          "height": 139
        }
      },
      "cell_type": "code",
      "source": [
        "X_test['BUZZ'] = Y_test\n",
        "X_test.to_csv(PATH_PREFIX+'data/test_500', sep=',')"
      ],
      "execution_count": 0,
      "outputs": [
        {
          "output_type": "stream",
          "text": [
            "/usr/local/lib/python3.6/dist-packages/ipykernel_launcher.py:1: SettingWithCopyWarning: \n",
            "A value is trying to be set on a copy of a slice from a DataFrame.\n",
            "Try using .loc[row_indexer,col_indexer] = value instead\n",
            "\n",
            "See the caveats in the documentation: http://pandas.pydata.org/pandas-docs/stable/indexing.html#indexing-view-versus-copy\n",
            "  \"\"\"Entry point for launching an IPython kernel.\n"
          ],
          "name": "stderr"
        }
      ]
    },
    {
      "metadata": {
        "id": "m6hOXWPD2jKx",
        "colab_type": "code",
        "colab": {}
      },
      "cell_type": "code",
      "source": [
        "X_val['BUZZ'] = Y_val\n",
        "X_val.to_csv(PATH_PREFIX+'data/val_500', sep=',', index=False)"
      ],
      "execution_count": 0,
      "outputs": []
    },
    {
      "metadata": {
        "id": "DiMzSJ7JzX_Q",
        "colab_type": "code",
        "outputId": "e3d4def8-3813-48b3-f950-e943173480c3",
        "colab": {
          "base_uri": "https://localhost:8080/",
          "height": 85
        }
      },
      "cell_type": "code",
      "source": [
        "print(y_train.value_counts())\n",
        "print(y_train.value_counts()[0]/y_train.value_counts()[1])"
      ],
      "execution_count": 0,
      "outputs": [
        {
          "output_type": "stream",
          "text": [
            "0.0    102844\n",
            "1.0      2686\n",
            "Name: BUZZ, dtype: int64\n",
            "38.28890543559196\n"
          ],
          "name": "stdout"
        }
      ]
    },
    {
      "metadata": {
        "id": "nwx1yRY2x7lh",
        "colab_type": "code",
        "outputId": "25714752-e532-480c-abcd-096b0c8394e4",
        "colab": {
          "base_uri": "https://localhost:8080/",
          "height": 51
        }
      },
      "cell_type": "code",
      "source": [
        "X,Y = np.array(X), np.array(Y)\n",
        "for train_index, test_index in skf.split(X, Y):\n",
        "   print(\"TRAIN:\", train_index, \"TEST:\", test_index)\n",
        "   X_train, X_test = X[train_index], X[test_index]\n",
        "   y_train, y_test = Y[train_index], Y[test_index]\n"
      ],
      "execution_count": 0,
      "outputs": [
        {
          "output_type": "stream",
          "text": [
            "TRAIN: [ 70320  70321  70322 ... 140704 140705 140706] TEST: [    0     1     2 ... 71572 71721 71797]\n",
            "TRAIN: [    0     1     2 ... 71572 71721 71797] TEST: [ 70320  70321  70322 ... 140704 140705 140706]\n"
          ],
          "name": "stdout"
        }
      ]
    },
    {
      "metadata": {
        "id": "nouBPEc0IWBL",
        "colab_type": "code",
        "outputId": "35916e7e-d969-41f2-df9c-f7d5d28c8718",
        "colab": {
          "base_uri": "https://localhost:8080/",
          "height": 68
        }
      },
      "cell_type": "code",
      "source": [
        "Y.value_counts()"
      ],
      "execution_count": 0,
      "outputs": [
        {
          "output_type": "execute_result",
          "data": {
            "text/plain": [
              "0.0    137087\n",
              "1.0      3620\n",
              "Name: BUZZ, dtype: int64"
            ]
          },
          "metadata": {
            "tags": []
          },
          "execution_count": 38
        }
      ]
    },
    {
      "metadata": {
        "id": "a0W8rzNeIWDk",
        "colab_type": "code",
        "colab": {}
      },
      "cell_type": "code",
      "source": [
        ""
      ],
      "execution_count": 0,
      "outputs": []
    },
    {
      "metadata": {
        "id": "qqYgbgXrIWIq",
        "colab_type": "code",
        "colab": {}
      },
      "cell_type": "code",
      "source": [
        "# Trials"
      ],
      "execution_count": 0,
      "outputs": []
    },
    {
      "metadata": {
        "id": "ezpakrQKkWKp",
        "colab_type": "text"
      },
      "cell_type": "markdown",
      "source": [
        "## trials\n"
      ]
    },
    {
      "metadata": {
        "id": "8OJbhaZflEXs",
        "colab_type": "code",
        "colab": {}
      },
      "cell_type": "code",
      "source": [
        "data_X, data_Y = load_dataset(TWITTER_RELATIVE_500)\n",
        "X_train, X_test, Y_train, Y_test = train_test_split(data_X, data_Y, test_size=0.2, random_state=1)"
      ],
      "execution_count": 0,
      "outputs": []
    },
    {
      "metadata": {
        "id": "rlt17MN3oCoO",
        "colab_type": "code",
        "outputId": "189ab509-54eb-4aea-c56e-6f626dc5ec8d",
        "colab": {
          "base_uri": "https://localhost:8080/",
          "height": 253
        }
      },
      "cell_type": "code",
      "source": [
        "data_X.head()"
      ],
      "execution_count": 0,
      "outputs": [
        {
          "output_type": "execute_result",
          "data": {
            "text/html": [
              "<div>\n",
              "<style scoped>\n",
              "    .dataframe tbody tr th:only-of-type {\n",
              "        vertical-align: middle;\n",
              "    }\n",
              "\n",
              "    .dataframe tbody tr th {\n",
              "        vertical-align: top;\n",
              "    }\n",
              "\n",
              "    .dataframe thead th {\n",
              "        text-align: right;\n",
              "    }\n",
              "</style>\n",
              "<table border=\"1\" class=\"dataframe\">\n",
              "  <thead>\n",
              "    <tr style=\"text-align: right;\">\n",
              "      <th></th>\n",
              "      <th>NCD_0</th>\n",
              "      <th>NCD_1</th>\n",
              "      <th>NCD_2</th>\n",
              "      <th>NCD_3</th>\n",
              "      <th>NCD_4</th>\n",
              "      <th>NCD_5</th>\n",
              "      <th>NCD_6</th>\n",
              "      <th>AI_0</th>\n",
              "      <th>AI_1</th>\n",
              "      <th>AI_2</th>\n",
              "      <th>...</th>\n",
              "      <th>ADL_4</th>\n",
              "      <th>ADL_5</th>\n",
              "      <th>ADL_6</th>\n",
              "      <th>NAD_0</th>\n",
              "      <th>NAD_1</th>\n",
              "      <th>NAD_2</th>\n",
              "      <th>NAD_3</th>\n",
              "      <th>NAD_4</th>\n",
              "      <th>NAD_5</th>\n",
              "      <th>NAD_6</th>\n",
              "    </tr>\n",
              "  </thead>\n",
              "  <tbody>\n",
              "    <tr>\n",
              "      <th>0</th>\n",
              "      <td>889.0</td>\n",
              "      <td>939.0</td>\n",
              "      <td>960.0</td>\n",
              "      <td>805.0</td>\n",
              "      <td>805.0</td>\n",
              "      <td>1143.0</td>\n",
              "      <td>1121.0</td>\n",
              "      <td>549.0</td>\n",
              "      <td>613.0</td>\n",
              "      <td>587.0</td>\n",
              "      <td>...</td>\n",
              "      <td>1.0</td>\n",
              "      <td>1.0</td>\n",
              "      <td>1.0</td>\n",
              "      <td>889.0</td>\n",
              "      <td>939.0</td>\n",
              "      <td>960.0</td>\n",
              "      <td>805.0</td>\n",
              "      <td>805.0</td>\n",
              "      <td>1143.0</td>\n",
              "      <td>1121.0</td>\n",
              "    </tr>\n",
              "    <tr>\n",
              "      <th>1</th>\n",
              "      <td>542.0</td>\n",
              "      <td>473.0</td>\n",
              "      <td>504.0</td>\n",
              "      <td>626.0</td>\n",
              "      <td>647.0</td>\n",
              "      <td>795.0</td>\n",
              "      <td>832.0</td>\n",
              "      <td>366.0</td>\n",
              "      <td>288.0</td>\n",
              "      <td>318.0</td>\n",
              "      <td>...</td>\n",
              "      <td>1.0</td>\n",
              "      <td>1.0</td>\n",
              "      <td>1.0</td>\n",
              "      <td>542.0</td>\n",
              "      <td>473.0</td>\n",
              "      <td>504.0</td>\n",
              "      <td>626.0</td>\n",
              "      <td>647.0</td>\n",
              "      <td>795.0</td>\n",
              "      <td>832.0</td>\n",
              "    </tr>\n",
              "    <tr>\n",
              "      <th>2</th>\n",
              "      <td>92.0</td>\n",
              "      <td>99.0</td>\n",
              "      <td>196.0</td>\n",
              "      <td>100.0</td>\n",
              "      <td>184.0</td>\n",
              "      <td>79.0</td>\n",
              "      <td>162.0</td>\n",
              "      <td>66.0</td>\n",
              "      <td>59.0</td>\n",
              "      <td>118.0</td>\n",
              "      <td>...</td>\n",
              "      <td>1.0</td>\n",
              "      <td>1.0</td>\n",
              "      <td>1.0</td>\n",
              "      <td>92.0</td>\n",
              "      <td>99.0</td>\n",
              "      <td>196.0</td>\n",
              "      <td>100.0</td>\n",
              "      <td>184.0</td>\n",
              "      <td>79.0</td>\n",
              "      <td>162.0</td>\n",
              "    </tr>\n",
              "    <tr>\n",
              "      <th>3</th>\n",
              "      <td>90.0</td>\n",
              "      <td>87.0</td>\n",
              "      <td>92.0</td>\n",
              "      <td>344.0</td>\n",
              "      <td>184.0</td>\n",
              "      <td>848.0</td>\n",
              "      <td>184.0</td>\n",
              "      <td>83.0</td>\n",
              "      <td>78.0</td>\n",
              "      <td>76.0</td>\n",
              "      <td>...</td>\n",
              "      <td>1.0</td>\n",
              "      <td>1.0</td>\n",
              "      <td>1.0</td>\n",
              "      <td>90.0</td>\n",
              "      <td>87.0</td>\n",
              "      <td>92.0</td>\n",
              "      <td>344.0</td>\n",
              "      <td>184.0</td>\n",
              "      <td>848.0</td>\n",
              "      <td>184.0</td>\n",
              "    </tr>\n",
              "    <tr>\n",
              "      <th>4</th>\n",
              "      <td>169.0</td>\n",
              "      <td>98.0</td>\n",
              "      <td>101.0</td>\n",
              "      <td>90.0</td>\n",
              "      <td>96.0</td>\n",
              "      <td>95.0</td>\n",
              "      <td>185.0</td>\n",
              "      <td>141.0</td>\n",
              "      <td>68.0</td>\n",
              "      <td>85.0</td>\n",
              "      <td>...</td>\n",
              "      <td>1.0</td>\n",
              "      <td>1.0</td>\n",
              "      <td>1.0</td>\n",
              "      <td>169.0</td>\n",
              "      <td>98.0</td>\n",
              "      <td>101.0</td>\n",
              "      <td>90.0</td>\n",
              "      <td>96.0</td>\n",
              "      <td>95.0</td>\n",
              "      <td>185.0</td>\n",
              "    </tr>\n",
              "  </tbody>\n",
              "</table>\n",
              "<p>5 rows × 77 columns</p>\n",
              "</div>"
            ],
            "text/plain": [
              "   NCD_0  NCD_1  NCD_2  NCD_3  NCD_4   NCD_5   NCD_6   AI_0   AI_1   AI_2  \\\n",
              "0  889.0  939.0  960.0  805.0  805.0  1143.0  1121.0  549.0  613.0  587.0   \n",
              "1  542.0  473.0  504.0  626.0  647.0   795.0   832.0  366.0  288.0  318.0   \n",
              "2   92.0   99.0  196.0  100.0  184.0    79.0   162.0   66.0   59.0  118.0   \n",
              "3   90.0   87.0   92.0  344.0  184.0   848.0   184.0   83.0   78.0   76.0   \n",
              "4  169.0   98.0  101.0   90.0   96.0    95.0   185.0  141.0   68.0   85.0   \n",
              "\n",
              "    ...    ADL_4  ADL_5  ADL_6  NAD_0  NAD_1  NAD_2  NAD_3  NAD_4   NAD_5  \\\n",
              "0   ...      1.0    1.0    1.0  889.0  939.0  960.0  805.0  805.0  1143.0   \n",
              "1   ...      1.0    1.0    1.0  542.0  473.0  504.0  626.0  647.0   795.0   \n",
              "2   ...      1.0    1.0    1.0   92.0   99.0  196.0  100.0  184.0    79.0   \n",
              "3   ...      1.0    1.0    1.0   90.0   87.0   92.0  344.0  184.0   848.0   \n",
              "4   ...      1.0    1.0    1.0  169.0   98.0  101.0   90.0   96.0    95.0   \n",
              "\n",
              "    NAD_6  \n",
              "0  1121.0  \n",
              "1   832.0  \n",
              "2   162.0  \n",
              "3   184.0  \n",
              "4   185.0  \n",
              "\n",
              "[5 rows x 77 columns]"
            ]
          },
          "metadata": {
            "tags": []
          },
          "execution_count": 8
        }
      ]
    },
    {
      "metadata": {
        "id": "HW3fxroao_yr",
        "colab_type": "code",
        "outputId": "7c04012e-3a70-4373-932e-2dc9618a45ec",
        "colab": {
          "base_uri": "https://localhost:8080/",
          "height": 88
        }
      },
      "cell_type": "code",
      "source": [
        "scaler= MinMaxScaler()\n",
        "scaler.fit(X_train)"
      ],
      "execution_count": 0,
      "outputs": [
        {
          "output_type": "stream",
          "text": [
            "/usr/local/lib/python3.6/dist-packages/sklearn/preprocessing/data.py:334: DataConversionWarning: Data with input dtype int64, float64 were all converted to float64 by MinMaxScaler.\n",
            "  return self.partial_fit(X, y)\n"
          ],
          "name": "stderr"
        },
        {
          "output_type": "execute_result",
          "data": {
            "text/plain": [
              "MinMaxScaler(copy=True, feature_range=(0, 1))"
            ]
          },
          "metadata": {
            "tags": []
          },
          "execution_count": 12
        }
      ]
    },
    {
      "metadata": {
        "id": "xWMhhVKVpJHA",
        "colab_type": "code",
        "outputId": "5d052719-b36d-4c77-bc81-304190bf9869",
        "colab": {
          "base_uri": "https://localhost:8080/",
          "height": 238
        }
      },
      "cell_type": "code",
      "source": [
        "scaler.transform(X_train)"
      ],
      "execution_count": 0,
      "outputs": [
        {
          "output_type": "execute_result",
          "data": {
            "text/plain": [
              "array([[7.88930194e-03, 7.77326521e-03, 1.93705782e-02, ...,\n",
              "        0.00000000e+00, 1.44265951e-02, 8.34555393e-03],\n",
              "       [0.00000000e+00, 4.36700293e-05, 0.00000000e+00, ...,\n",
              "        0.00000000e+00, 1.04540544e-04, 0.00000000e+00],\n",
              "       [4.13052458e-05, 0.00000000e+00, 4.87923884e-05, ...,\n",
              "        0.00000000e+00, 0.00000000e+00, 5.33262232e-05],\n",
              "       ...,\n",
              "       [4.70879802e-03, 6.24481418e-03, 6.24542571e-03, ...,\n",
              "        4.41536677e-03, 9.75711747e-03, 3.65284629e-03],\n",
              "       [2.18091698e-02, 4.49801301e-03, 2.44937790e-02, ...,\n",
              "        1.43418847e-02, 1.85036763e-02, 1.21583789e-02],\n",
              "       [2.06526229e-04, 1.74680117e-04, 4.87923884e-05, ...,\n",
              "        0.00000000e+00, 2.09081089e-04, 2.13304893e-04]])"
            ]
          },
          "metadata": {
            "tags": []
          },
          "execution_count": 13
        }
      ]
    },
    {
      "metadata": {
        "id": "6IdyKai_lzLq",
        "colab_type": "code",
        "colab": {}
      },
      "cell_type": "code",
      "source": [
        "data_X = data_X.astype(float)"
      ],
      "execution_count": 0,
      "outputs": []
    },
    {
      "metadata": {
        "id": "0tFUcu1PkgMk",
        "colab_type": "code",
        "colab": {}
      },
      "cell_type": "code",
      "source": [
        "from sklearn.svm import *\n",
        "from sklearn.model_selection import GridSearchCV\n",
        "from sklearn.preprocessing import MinMaxScaler, StandardScaler\n",
        "from sklearn.model_selection import KFold\n",
        "import pandas as pd\n",
        "import numpy as np\n",
        "from sklearn.preprocessing import normalize\n",
        "from sklearn.metrics import f1_score, auc, accuracy_score, confusion_matrix, precision_score, balanced_accuracy_score, recall_score, roc_auc_score, roc_curve\n",
        "from sklearn import tree, metrics\n",
        "from sklearn.model_selection import KFold\n",
        "\n",
        "import matplotlib.pyplot as plt\n",
        "\n",
        "import seaborn as sns\n"
      ],
      "execution_count": 0,
      "outputs": []
    },
    {
      "metadata": {
        "id": "ggkDiuj-mzR1",
        "colab_type": "code",
        "colab": {}
      },
      "cell_type": "code",
      "source": [
        "def plot_stuff(df, scaled_df):\n",
        "  fig, (ax1, ax2) = plt.subplots(ncols=2, figsize=(6, 5))\n",
        "\n",
        "  ax1.set_title('Before Scaling')\n",
        "  sns.kdeplot(df[df.columns[0]], ax=ax1)\n",
        "  ax2.set_title('After Standard Scaler')\n",
        "  sns.kdeplot(scaled_df[scaled_df.columns[0]], ax=ax2)\n",
        "#   sns.kdeplot(scaled_df['x2'], ax=ax2)\n",
        "#   sns.kdeplot(scaled_df['x3'], ax=ax2)\n",
        "  plt.show()"
      ],
      "execution_count": 0,
      "outputs": []
    },
    {
      "metadata": {
        "id": "xY19-qIoIWLL",
        "colab_type": "code",
        "outputId": "1f3cd674-e3b3-422b-a710-abba6e493119",
        "colab": {
          "base_uri": "https://localhost:8080/",
          "height": 1674
        }
      },
      "cell_type": "code",
      "source": [
        "stratified_kfold = KFold(10, False, 1)\n",
        "\n",
        "\n",
        "results = pd.DataFrame(index=range(10))\n",
        "col_name = f\"svc_stratified_kfold_%s\"\n",
        "predictions, Y = [], []\n",
        "f1s, w_aucs, bacc, tpr, tnr = [], [], [], [], []\n",
        "for train_idx, test_idx in stratified_kfold.split(data_X):\n",
        "  print(\"Fold %s\" % str(len(f1s)))\n",
        "  train_X = data_X.iloc[train_idx]\n",
        "  test_X = data_X.iloc[test_idx]\n",
        "  train_Y, test_Y = data_Y.iloc[train_idx], data_Y.iloc[test_idx]\n",
        "  print(sum(train_Y))\n",
        "  print(sum(test_Y))\n",
        "\n",
        "  scaler = StandardScaler()\n",
        "  scaler.fit(train_X)\n",
        "  train_X_scaled, test_X = scaler.transform(train_X), scaler.transform(test_X)\n",
        "  \n",
        "  plot_stuff(pd.DataFrame(train_X), pd.DataFrame(train_X_scaled))\n",
        "  \n",
        "  print(pd.DataFrame(train_X).head())\n",
        "  print(pd.DataFrame(train_X_scaled).head())\n",
        "  model = LinearSVC(C=1e-06, class_weight=None, dual=True, fit_intercept=True,\n",
        "     intercept_scaling=1, loss='squared_hinge', max_iter=1000,\n",
        "     multi_class='ovr', penalty='l2', random_state=None, tol=0.0001,\n",
        "     verbose=0)\n",
        "  model = model.fit(train_X,train_Y)\n",
        "  \n",
        "#   pred = model.predict(test_X)\n",
        "  \n",
        "  Y.append([test_Y])\n",
        "#     pred_Y = np.asarray(np.clip(pred,0,1)).round()\n",
        "  pred_Y = model.predict(test_X)\n",
        "#     print(sum(pred_Y))\n",
        "  predictions.append([pred_Y])\n",
        "  print(sum(pred_Y))\n",
        "  \n",
        "#     pred_Y = np.vectorize(lambda x: 0 if x < 0.5 else 1)(pred_Y)\n",
        "  f1s.append(f1_score(test_Y, pred_Y))\n",
        "  w_aucs.append(roc_auc_score(test_Y, pred_Y, average=\"weighted\"))\n",
        "  tn, fp, fn, tp = confusion_matrix(test_Y, pred_Y).ravel()\n",
        "  bacc.append(balanced_accuracy_score(test_Y, pred_Y))\n",
        "  tpr.append(tp/(tp+fn))\n",
        "  tnr.append(tn/(fp+tn))\n",
        "f1_df = pd.DataFrame({col_name % (\"F1\"): f1s})\n",
        "auc_df = pd.DataFrame({col_name % (\"AUC\"): w_aucs})\n",
        "bacc_df = pd.DataFrame({col_name % (\"BACC\"): bacc})\n",
        "tpr_df = pd.DataFrame({col_name % (\"TPR\"): tpr})\n",
        "tnr_df = pd.DataFrame({col_name % (\"TNR\"): tnr})\n",
        "results = pd.concat([results, f1_df, auc_df, bacc_df, tpr_df, tnr_df], axis=1)"
      ],
      "execution_count": 0,
      "outputs": [
        {
          "output_type": "stream",
          "text": [
            "Fold 0\n",
            "3214.0\n",
            "406.0\n"
          ],
          "name": "stdout"
        },
        {
          "output_type": "stream",
          "text": [
            "/usr/local/lib/python3.6/dist-packages/sklearn/preprocessing/data.py:645: DataConversionWarning: Data with input dtype int64, float64 were all converted to float64 by StandardScaler.\n",
            "  return self.partial_fit(X, y)\n",
            "/usr/local/lib/python3.6/dist-packages/ipykernel_launcher.py:18: DataConversionWarning: Data with input dtype int64, float64 were all converted to float64 by StandardScaler.\n",
            "/usr/local/lib/python3.6/dist-packages/ipykernel_launcher.py:18: DataConversionWarning: Data with input dtype int64, float64 were all converted to float64 by StandardScaler.\n"
          ],
          "name": "stderr"
        },
        {
          "output_type": "display_data",
          "data": {
            "image/png": "[encoded data removed]",
            "text/plain": [
              "<Figure size 432x360 with 2 Axes>"
            ]
          },
          "metadata": {
            "tags": []
          }
        },
        {
          "output_type": "stream",
          "text": [
            "       NCD_0  NCD_1  NCD_2  NCD_3  NCD_4  NCD_5  NCD_6  AI_0  AI_1  AI_2  \\\n",
            "14071      2      1      3      2      1      2      3     0     0     3   \n",
            "14072     27     24     37     38     41     39     36    20    15    28   \n",
            "14073     33     23     41     33     39     37     29    17    11    17   \n",
            "14074     43     35     39     39     62     30     66    24    14    18   \n",
            "14075     45     30     50     27     39     39    106    21    17     7   \n",
            "\n",
            "       ...    ADL_4  ADL_5  ADL_6  NAD_0  NAD_1  NAD_2  NAD_3  NAD_4  NAD_5  \\\n",
            "14071  ...      1.0    1.0    1.0      2      1      3      2      1      2   \n",
            "14072  ...      1.0    1.0    1.0     27     24     37     38     41     39   \n",
            "14073  ...      1.0    1.0    1.0     33     23     41     33     39     37   \n",
            "14074  ...      1.0    1.0    1.0     43     35     39     39     62     30   \n",
            "14075  ...      1.0    1.0    1.0     45     30     50     27     39     39   \n",
            "\n",
            "       NAD_6  \n",
            "14071      3  \n",
            "14072     36  \n",
            "14073     29  \n",
            "14074     66  \n",
            "14075    106  \n",
            "\n",
            "[5 rows x 77 columns]\n",
            "         0         1         2         3         4         5         6   \\\n",
            "0 -0.350652 -0.344384 -0.343816 -0.345730 -0.348045 -0.358344 -0.362261   \n",
            "1 -0.298190 -0.291936 -0.270431 -0.273239 -0.271744 -0.295188 -0.311621   \n",
            "2 -0.285599 -0.294217 -0.261797 -0.283307 -0.275559 -0.298601 -0.322363   \n",
            "3 -0.264615 -0.266853 -0.266114 -0.271225 -0.231685 -0.310550 -0.265585   \n",
            "4 -0.260418 -0.278254 -0.242371 -0.295389 -0.275559 -0.295188 -0.204204   \n",
            "\n",
            "         7         8         9     ...           67        68        69  \\\n",
            "0 -0.382941 -0.374882 -0.360410    ...    -0.029419 -0.082144 -0.106111   \n",
            "1 -0.293977 -0.302475 -0.248211    ...    -0.029419 -0.082144 -0.106111   \n",
            "2 -0.307322 -0.321784 -0.297579    ...    -0.029419 -0.082144 -0.106111   \n",
            "3 -0.276185 -0.307302 -0.293091    ...    -0.029419 -0.082144 -0.106111   \n",
            "4 -0.289529 -0.292821 -0.342458    ...    -0.029419 -0.082144 -0.106111   \n",
            "\n",
            "         70        71        72        73        74        75        76  \n",
            "0 -0.351053 -0.344791 -0.344205 -0.346083 -0.348396 -0.358691 -0.362624  \n",
            "1 -0.298705 -0.292447 -0.270953 -0.273725 -0.272237 -0.295644 -0.312065  \n",
            "2 -0.286142 -0.294722 -0.262335 -0.283775 -0.276045 -0.299052 -0.322789  \n",
            "3 -0.265203 -0.267412 -0.266644 -0.271715 -0.232254 -0.310980 -0.266101  \n",
            "4 -0.261015 -0.278792 -0.242945 -0.295834 -0.276045 -0.295644 -0.204817  \n",
            "\n",
            "[5 rows x 77 columns]\n"
          ],
          "name": "stdout"
        },
        {
          "output_type": "error",
          "ename": "KeyboardInterrupt",
          "evalue": "ignored",
          "traceback": [
            "\u001b[0;31m---------------------------------------------------------------------------\u001b[0m",
            "\u001b[0;31mKeyboardInterrupt\u001b[0m                         Traceback (most recent call last)",
            "\u001b[0;32m<ipython-input-18-b5345156465f>\u001b[0m in \u001b[0;36m<module>\u001b[0;34m()\u001b[0m\n\u001b[1;32m     26\u001b[0m      \u001b[0mmulti_class\u001b[0m\u001b[0;34m=\u001b[0m\u001b[0;34m'ovr'\u001b[0m\u001b[0;34m,\u001b[0m \u001b[0mpenalty\u001b[0m\u001b[0;34m=\u001b[0m\u001b[0;34m'l2'\u001b[0m\u001b[0;34m,\u001b[0m \u001b[0mrandom_state\u001b[0m\u001b[0;34m=\u001b[0m\u001b[0;32mNone\u001b[0m\u001b[0;34m,\u001b[0m \u001b[0mtol\u001b[0m\u001b[0;34m=\u001b[0m\u001b[0;36m0.0001\u001b[0m\u001b[0;34m,\u001b[0m\u001b[0;34m\u001b[0m\u001b[0;34m\u001b[0m\u001b[0m\n\u001b[1;32m     27\u001b[0m      verbose=0)\n\u001b[0;32m---> 28\u001b[0;31m   \u001b[0mmodel\u001b[0m \u001b[0;34m=\u001b[0m \u001b[0mmodel\u001b[0m\u001b[0;34m.\u001b[0m\u001b[0mfit\u001b[0m\u001b[0;34m(\u001b[0m\u001b[0mtrain_X\u001b[0m\u001b[0;34m,\u001b[0m\u001b[0mtrain_Y\u001b[0m\u001b[0;34m)\u001b[0m\u001b[0;34m\u001b[0m\u001b[0;34m\u001b[0m\u001b[0m\n\u001b[0m\u001b[1;32m     29\u001b[0m \u001b[0;34m\u001b[0m\u001b[0m\n\u001b[1;32m     30\u001b[0m \u001b[0;31m#   pred = model.predict(test_X)\u001b[0m\u001b[0;34m\u001b[0m\u001b[0;34m\u001b[0m\u001b[0;34m\u001b[0m\u001b[0m\n",
            "\u001b[0;32m/usr/local/lib/python3.6/dist-packages/sklearn/svm/classes.py\u001b[0m in \u001b[0;36mfit\u001b[0;34m(self, X, y, sample_weight)\u001b[0m\n\u001b[1;32m    235\u001b[0m             \u001b[0mself\u001b[0m\u001b[0;34m.\u001b[0m\u001b[0mclass_weight\u001b[0m\u001b[0;34m,\u001b[0m \u001b[0mself\u001b[0m\u001b[0;34m.\u001b[0m\u001b[0mpenalty\u001b[0m\u001b[0;34m,\u001b[0m \u001b[0mself\u001b[0m\u001b[0;34m.\u001b[0m\u001b[0mdual\u001b[0m\u001b[0;34m,\u001b[0m \u001b[0mself\u001b[0m\u001b[0;34m.\u001b[0m\u001b[0mverbose\u001b[0m\u001b[0;34m,\u001b[0m\u001b[0;34m\u001b[0m\u001b[0;34m\u001b[0m\u001b[0m\n\u001b[1;32m    236\u001b[0m             \u001b[0mself\u001b[0m\u001b[0;34m.\u001b[0m\u001b[0mmax_iter\u001b[0m\u001b[0;34m,\u001b[0m \u001b[0mself\u001b[0m\u001b[0;34m.\u001b[0m\u001b[0mtol\u001b[0m\u001b[0;34m,\u001b[0m \u001b[0mself\u001b[0m\u001b[0;34m.\u001b[0m\u001b[0mrandom_state\u001b[0m\u001b[0;34m,\u001b[0m \u001b[0mself\u001b[0m\u001b[0;34m.\u001b[0m\u001b[0mmulti_class\u001b[0m\u001b[0;34m,\u001b[0m\u001b[0;34m\u001b[0m\u001b[0;34m\u001b[0m\u001b[0m\n\u001b[0;32m--> 237\u001b[0;31m             self.loss, sample_weight=sample_weight)\n\u001b[0m\u001b[1;32m    238\u001b[0m \u001b[0;34m\u001b[0m\u001b[0m\n\u001b[1;32m    239\u001b[0m         \u001b[0;32mif\u001b[0m \u001b[0mself\u001b[0m\u001b[0;34m.\u001b[0m\u001b[0mmulti_class\u001b[0m \u001b[0;34m==\u001b[0m \u001b[0;34m\"crammer_singer\"\u001b[0m \u001b[0;32mand\u001b[0m \u001b[0mlen\u001b[0m\u001b[0;34m(\u001b[0m\u001b[0mself\u001b[0m\u001b[0;34m.\u001b[0m\u001b[0mclasses_\u001b[0m\u001b[0;34m)\u001b[0m \u001b[0;34m==\u001b[0m \u001b[0;36m2\u001b[0m\u001b[0;34m:\u001b[0m\u001b[0;34m\u001b[0m\u001b[0;34m\u001b[0m\u001b[0m\n",
            "\u001b[0;32m/usr/local/lib/python3.6/dist-packages/sklearn/svm/base.py\u001b[0m in \u001b[0;36m_fit_liblinear\u001b[0;34m(X, y, C, fit_intercept, intercept_scaling, class_weight, penalty, dual, verbose, max_iter, tol, random_state, multi_class, loss, epsilon, sample_weight)\u001b[0m\n\u001b[1;32m    921\u001b[0m         \u001b[0mX\u001b[0m\u001b[0;34m,\u001b[0m \u001b[0my_ind\u001b[0m\u001b[0;34m,\u001b[0m \u001b[0msp\u001b[0m\u001b[0;34m.\u001b[0m\u001b[0misspmatrix\u001b[0m\u001b[0;34m(\u001b[0m\u001b[0mX\u001b[0m\u001b[0;34m)\u001b[0m\u001b[0;34m,\u001b[0m \u001b[0msolver_type\u001b[0m\u001b[0;34m,\u001b[0m \u001b[0mtol\u001b[0m\u001b[0;34m,\u001b[0m \u001b[0mbias\u001b[0m\u001b[0;34m,\u001b[0m \u001b[0mC\u001b[0m\u001b[0;34m,\u001b[0m\u001b[0;34m\u001b[0m\u001b[0;34m\u001b[0m\u001b[0m\n\u001b[1;32m    922\u001b[0m         \u001b[0mclass_weight_\u001b[0m\u001b[0;34m,\u001b[0m \u001b[0mmax_iter\u001b[0m\u001b[0;34m,\u001b[0m \u001b[0mrnd\u001b[0m\u001b[0;34m.\u001b[0m\u001b[0mrandint\u001b[0m\u001b[0;34m(\u001b[0m\u001b[0mnp\u001b[0m\u001b[0;34m.\u001b[0m\u001b[0miinfo\u001b[0m\u001b[0;34m(\u001b[0m\u001b[0;34m'i'\u001b[0m\u001b[0;34m)\u001b[0m\u001b[0;34m.\u001b[0m\u001b[0mmax\u001b[0m\u001b[0;34m)\u001b[0m\u001b[0;34m,\u001b[0m\u001b[0;34m\u001b[0m\u001b[0;34m\u001b[0m\u001b[0m\n\u001b[0;32m--> 923\u001b[0;31m         epsilon, sample_weight)\n\u001b[0m\u001b[1;32m    924\u001b[0m     \u001b[0;31m# Regarding rnd.randint(..) in the above signature:\u001b[0m\u001b[0;34m\u001b[0m\u001b[0;34m\u001b[0m\u001b[0;34m\u001b[0m\u001b[0m\n\u001b[1;32m    925\u001b[0m     \u001b[0;31m# seed for srand in range [0..INT_MAX); due to limitations in Numpy\u001b[0m\u001b[0;34m\u001b[0m\u001b[0;34m\u001b[0m\u001b[0;34m\u001b[0m\u001b[0m\n",
            "\u001b[0;31mKeyboardInterrupt\u001b[0m: "
          ]
        }
      ]
    },
    {
      "metadata": {
        "id": "ROJLQI5XOhGU",
        "colab_type": "text"
      },
      "cell_type": "markdown",
      "source": [
        "## Rule based"
      ]
    },
    {
      "metadata": {
        "id": "eYYpUx1jOxs-",
        "colab_type": "code",
        "colab": {}
      },
      "cell_type": "code",
      "source": [
        "import pandas as pd\n",
        "import numpy as np\n",
        "from sklearn.preprocessing import normalize\n",
        "from sklearn.metrics import f1_score, auc, accuracy_score, confusion_matrix, precision_score, balanced_accuracy_score, recall_score, roc_auc_score, roc_curve\n",
        "from sklearn import tree, metrics\n",
        "from sklearn.model_selection import KFold\n",
        "from sklearn.model_selection import train_test_split\n",
        "\n",
        "import seaborn as sns\n",
        "from sklearn.decomposition import PCA\n",
        "\n",
        "import matplotlib.pyplot as plt\n",
        "\n",
        "\n",
        "from sklearn.model_selection import ParameterGrid\n",
        "import parfit.parfit as pf\n",
        "from sklearn.svm import *\n",
        "from sklearn.model_selection import GridSearchCV\n",
        "from sklearn.preprocessing import MinMaxScaler, StandardScaler, RobustScaler\n",
        "\n",
        "\n",
        "from sklearn.linear_model import LogisticRegressionCV, LogisticRegression\n"
      ],
      "execution_count": 0,
      "outputs": []
    },
    {
      "metadata": {
        "id": "Xc7vBHkBOzlL",
        "colab_type": "code",
        "outputId": "fd7a912e-dd84-473a-a3cf-502a7b5ec3a2",
        "colab": {
          "base_uri": "https://localhost:8080/",
          "height": 33
        }
      },
      "cell_type": "code",
      "source": [
        "from google.colab import drive\n",
        "drive.mount('/content/gdrive')"
      ],
      "execution_count": 0,
      "outputs": [
        {
          "output_type": "stream",
          "text": [
            "Drive already mounted at /content/gdrive; to attempt to forcibly remount, call drive.mount(\"/content/gdrive\", force_remount=True).\n"
          ],
          "name": "stdout"
        }
      ]
    },
    {
      "metadata": {
        "id": "AOE5ktULO07Y",
        "colab_type": "code",
        "colab": {}
      },
      "cell_type": "code",
      "source": [
        "PATH_PREFIX = '/content/gdrive/My Drive/ML/'\n",
        "TWITTER_RELATIVE_500 = PATH_PREFIX + \"data/Twitter-Relative-Sigma-500.data\"\n",
        "\n",
        "def load_data(path):\n",
        "  return pd.DataFrame(pd.read_csv(path))\n",
        "\n",
        "def load_dataset(path):\n",
        "\tdata = pd.read_csv(path)\n",
        "\treturn data[data.columns[:-1]], data[data.columns[-1]]\n",
        "\n",
        "data = load_data(TWITTER_RELATIVE_500)\n",
        "\n",
        "# data_X, data_Y = load_dataset(TWITTER_RELATIVE_500)\n",
        "# data_X = data_X.astype(float)\n",
        "\n",
        "# X_train, X_test, Y_train, Y_test = train_test_split(data_X, data_Y, test_size=0.2, random_state=1)\n",
        "# # X_train, X_val, Y_train, Y_val = train_test_split(X_train, Y_train, test_size=0.2, random_state=1)"
      ],
      "execution_count": 0,
      "outputs": []
    },
    {
      "metadata": {
        "id": "v9D6nc4cOs-y",
        "colab_type": "code",
        "colab": {}
      },
      "cell_type": "code",
      "source": [
        "import numpy as np\n",
        "from Orange.data import Table, Domain, ContinuousVariable, DiscreteVariable\n",
        "\n",
        "\n",
        "def series2descriptor(d):\n",
        "    if d.dtype is np.dtype(\"float\") or d.dtype is np.dtype(\"int\"):\n",
        "        return ContinuousVariable(str(d.name))\n",
        "    else:\n",
        "      t = d.unique()\n",
        "      t.sort()\n",
        "      return DiscreteVariable(str(d.name), list(t.astype(\"str\")))\n",
        "\n",
        "def df2domain(df):\n",
        "    featurelist = [series2descriptor(df.iloc[:,col]) for col in range(len(df.columns)-1)]\n",
        "    return Domain(featurelist, class_vars = DiscreteVariable(\"BUZZ\", [\"0\",\"1\"]))\n",
        "\n",
        "def df2table(df):\n",
        "    tdomain = df2domain(df)\n",
        "#     tdomain =  Orange.data.Domain((Orange.data.DiscreteVariable(name) for name in data.columns))\n",
        "    ttables = [series2table(df.iloc[:,i], tdomain[i]) for i in range(len(df.columns))]\n",
        "    ttables = np.array(ttables).reshape((len(df.columns),-1)).transpose()\n",
        "    return Table(tdomain , ttables)\n",
        "\n",
        "def series2table(series, variable):\n",
        "    if series.dtype is np.dtype(\"int\") or series.dtype is np.dtype(\"float\"):\n",
        "        series = series.values[:, np.newaxis]\n",
        "        return Table(series)\n",
        "    else:\n",
        "        series = series.astype('category').cat.codes.reshape((-1,1))\n",
        "        return Table(series)"
      ],
      "execution_count": 0,
      "outputs": []
    },
    {
      "metadata": {
        "id": "0A0dJvcLOr6o",
        "colab_type": "code",
        "colab": {}
      },
      "cell_type": "code",
      "source": [
        "import Orange\n",
        "\n",
        "tbl2 = df2table(data)"
      ],
      "execution_count": 0,
      "outputs": []
    },
    {
      "metadata": {
        "id": "CrXjacYtOeUQ",
        "colab_type": "code",
        "colab": {}
      },
      "cell_type": "code",
      "source": [
        "# from Orange.preprocess import DomainDiscretizer\n",
        "# discretizer = DomainDiscretizer()\n",
        "# domain = Orange.data.Domain([Orange.data.DiscreteVariable(name) for name in data.columns])\n",
        "# print(dir(tbl))\n",
        "# print(tbl)\n",
        "\n",
        "\n",
        "# tbl = Orange.data.Table(data.as_matrix())\n",
        "# tbl = discretizer(tbl)\n",
        "# print(tbl.class_var)\n",
        "# tbl = Orange.data.Table.from_file(PATH_PREFIX + \"data/Twitter-Relative-Sigma-500_rule.txt\")\n",
        "learner = Orange.classification.CN2Learner()\n",
        "print(\"learner\")\n",
        "\n",
        "# learner = Orange.classification.CN2UnorderedLearner()\n",
        "\n",
        "# learner = Orange.classification.CN2SDLearner()\n",
        "# learner = Orange.classification.CN2SDUnorderedLearner()\n",
        "# consider up to 10 solution streams at one time\n",
        "learner.rule_finder.search_algorithm.beam_width = 10\n",
        "\n",
        "# continuous value space is constrained to reduce computation time\n",
        "learner.rule_finder.search_strategy.constrain_continuous = True\n",
        "\n",
        "# found rules must cover at least 15 examples\n",
        "learner.rule_finder.general_validator.min_covered_examples = 1000\n",
        "\n",
        "# found rules may combine at most 2 selectors (conditions)\n",
        "learner.rule_finder.general_validator.max_rule_length = 50\n",
        "print(\"learning\")\n",
        "\n",
        "clss = learner(tbl2)\n",
        "print(\"learnt\")\n",
        "\n",
        "# learner.rule_finder.complexity_evaluator = Orange.classification.rules.WeightedRelativeAccuracyEvaluator#LaplaceAccuracyEvaluator\n",
        "# learner.rule_finder.significance_validator = Orange.classification.rules.GuardianValidator\n",
        "print(\"learner\")\n",
        "# classifier = learner(tbl)\n",
        "# learner.fit(tbl)\n",
        "# Cross validating results\n",
        "# res = Orange.evaluation.testing.CrossValidation(tbl, [learner], k=10)"
      ],
      "execution_count": 0,
      "outputs": []
    },
    {
      "metadata": {
        "id": "KP7v_aBNPWE6",
        "colab_type": "code",
        "colab": {}
      },
      "cell_type": "code",
      "source": [
        "for r in clss.rules:\n",
        "    print(Orange.classification.rules.rule_to_string(r))"
      ],
      "execution_count": 0,
      "outputs": []
    }
  ]
}